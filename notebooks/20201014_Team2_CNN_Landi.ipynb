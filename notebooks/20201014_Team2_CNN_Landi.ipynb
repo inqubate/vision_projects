{
 "cells": [
  {
   "cell_type": "markdown",
   "metadata": {},
   "source": [
    "# Import"
   ]
  },
  {
   "cell_type": "code",
   "execution_count": 1,
   "metadata": {},
   "outputs": [],
   "source": [
    "import tensorflow as tf\n",
    "import numpy as np\n",
    "import matplotlib.pyplot as plt"
   ]
  },
  {
   "cell_type": "markdown",
   "metadata": {},
   "source": [
    "# Load"
   ]
  },
  {
   "cell_type": "code",
   "execution_count": 2,
   "metadata": {},
   "outputs": [],
   "source": [
    "# load dataset\n",
    "(x_train, y_train), (x_test, y_test) = tf.keras.datasets.mnist.load_data(path=\"mnist.npz\")"
   ]
  },
  {
   "cell_type": "markdown",
   "metadata": {},
   "source": [
    "# Assess"
   ]
  },
  {
   "cell_type": "code",
   "execution_count": 3,
   "metadata": {},
   "outputs": [
    {
     "name": "stdout",
     "output_type": "stream",
     "text": [
      "(60000, 28, 28)\n",
      "(60000,)\n",
      "(10000, 28, 28)\n",
      "(10000,)\n"
     ]
    }
   ],
   "source": [
    "# check object shape\n",
    "for i in (x_train, y_train, x_test, y_test):\n",
    "    print(i.shape)"
   ]
  },
  {
   "cell_type": "code",
   "execution_count": 4,
   "metadata": {
    "scrolled": true
   },
   "outputs": [
    {
     "name": "stdout",
     "output_type": "stream",
     "text": [
      "uint8\n",
      "uint8\n",
      "uint8\n",
      "uint8\n"
     ]
    }
   ],
   "source": [
    "# check object type\n",
    "for i in (x_train, y_train, x_test, y_test):\n",
    "    print(i.dtype)"
   ]
  },
  {
   "cell_type": "code",
   "execution_count": 5,
   "metadata": {},
   "outputs": [
    {
     "data": {
      "text/plain": [
       "<matplotlib.image.AxesImage at 0x2a6254b0b00>"
      ]
     },
     "execution_count": 5,
     "metadata": {},
     "output_type": "execute_result"
    },
    {
     "data": {
      "image/png": "[encoded data removed]",
      "text/plain": [
       "<Figure size 432x288 with 1 Axes>"
      ]
     },
     "metadata": {
      "needs_background": "light"
     },
     "output_type": "display_data"
    }
   ],
   "source": [
    "# plot first image in dataset\n",
    "plt.imshow(x_train[0])"
   ]
  },
  {
   "cell_type": "markdown",
   "metadata": {},
   "source": [
    "# Prepare"
   ]
  },
  {
   "cell_type": "code",
   "execution_count": 6,
   "metadata": {},
   "outputs": [],
   "source": [
    "# convert uint8 to float32\n",
    "(x_train, y_train, x_test, y_test) = [np.float32(x) for x in (x_train, y_train, x_test, y_test)]"
   ]
  },
  {
   "cell_type": "code",
   "execution_count": 7,
   "metadata": {
    "scrolled": true
   },
   "outputs": [
    {
     "name": "stdout",
     "output_type": "stream",
     "text": [
      "float32\n",
      "float32\n",
      "float32\n",
      "float32\n"
     ]
    }
   ],
   "source": [
    "# check object type after conversion\n",
    "for i in (x_train, y_train, x_test, y_test): print(i.dtype)"
   ]
  },
  {
   "cell_type": "code",
   "execution_count": 8,
   "metadata": {},
   "outputs": [],
   "source": [
    "# reshape images for CNN model\n",
    "x_train = x_train.reshape(60000, 28, 28, 1)\n",
    "x_test = x_test.reshape(10000, 28, 28, 1)"
   ]
  },
  {
   "cell_type": "code",
   "execution_count": 9,
   "metadata": {},
   "outputs": [
    {
     "name": "stdout",
     "output_type": "stream",
     "text": [
      "(60000, 28, 28, 1)\n",
      "(10000, 28, 28, 1)\n"
     ]
    }
   ],
   "source": [
    "# check object shape after reshaping\n",
    "for i in (x_train, x_test):\n",
    "    print(i.shape)"
   ]
  },
  {
   "cell_type": "code",
   "execution_count": 10,
   "metadata": {},
   "outputs": [],
   "source": [
    "# normalize images and center around zero\n",
    "x_train = (x_train / 255) - 0.5\n",
    "x_test = (x_test / 255) - 0.5"
   ]
  },
  {
   "cell_type": "markdown",
   "metadata": {},
   "source": [
    "# Task 1\n",
    "## Implement simple CNN with fixed parameters\n",
    "- A Convolutional layer will have 32 neurons (feature maps) and a 5x5 feature detector.\n",
    "\n",
    "### Reasoning\n",
    "**Hypothesis:** I expect this model to perform better than the model I used in the pre-work assignment, which was a fully connected neural network with one hidden layer made up of 8 units. The reason why I expect this is that - although simple - the model I am about to test is better suited for image processing problems, as it has been confirmed by the scientific community. The previous model yielded 84% accuracy on test set after 5 epochs with 128 batch size."
   ]
  },
  {
   "cell_type": "markdown",
   "metadata": {},
   "source": [
    "### Build"
   ]
  },
  {
   "cell_type": "code",
   "execution_count": 11,
   "metadata": {},
   "outputs": [
    {
     "name": "stdout",
     "output_type": "stream",
     "text": [
      "WARNING:tensorflow:From C:\\Users\\AlexandreLANDI\\Anaconda3\\envs\\capstone\\lib\\site-packages\\tensorflow\\python\\ops\\init_ops.py:1251: calling VarianceScaling.__init__ (from tensorflow.python.ops.init_ops) with dtype is deprecated and will be removed in a future version.\n",
      "Instructions for updating:\n",
      "Call initializer instance with the dtype argument instead of passing it to the constructor\n"
     ]
    }
   ],
   "source": [
    "# build model\n",
    "model = tf.keras.Sequential([\n",
    "  tf.keras.layers.Conv2D(32, kernel_size=5, activation='sigmoid'),\n",
    "  tf.keras.layers.Flatten(),  \n",
    "  tf.keras.layers.Dense(10, activation='softmax'),\n",
    "])"
   ]
  },
  {
   "cell_type": "markdown",
   "metadata": {},
   "source": [
    "### Compile"
   ]
  },
  {
   "cell_type": "code",
   "execution_count": 12,
   "metadata": {},
   "outputs": [],
   "source": [
    "# compile model\n",
    "model.compile(\n",
    "    optimizer='sgd',\n",
    "    loss='categorical_crossentropy',\n",
    "    metrics=['accuracy'],\n",
    ")"
   ]
  },
  {
   "cell_type": "markdown",
   "metadata": {},
   "source": [
    "### Train"
   ]
  },
  {
   "cell_type": "code",
   "execution_count": 13,
   "metadata": {},
   "outputs": [],
   "source": [
    "# # train model\n",
    "# model.fit(\n",
    "#   x_train,\n",
    "#   tf.keras.utils.to_categorical(y_train),\n",
    "#   epochs=5,\n",
    "#   batch_size=128,\n",
    "# )"
   ]
  },
  {
   "cell_type": "markdown",
   "metadata": {},
   "source": [
    "### Evaluate"
   ]
  },
  {
   "cell_type": "code",
   "execution_count": 26,
   "metadata": {},
   "outputs": [],
   "source": [
    "# # evaluate model\n",
    "# model.evaluate(\n",
    "#   x_test,\n",
    "#   tf.keras.utils.to_categorical(y_test)\n",
    "# )"
   ]
  },
  {
   "cell_type": "code",
   "execution_count": 28,
   "metadata": {},
   "outputs": [
    {
     "name": "stdout",
     "output_type": "stream",
     "text": [
      "Training set accuracy: 0.8904\n",
      "Test set accuracy: 0.9008\n"
     ]
    }
   ],
   "source": [
    "print(\"Training set accuracy: 0.8904\")\n",
    "print(\"Test set accuracy: 0.9008\")"
   ]
  },
  {
   "cell_type": "markdown",
   "metadata": {},
   "source": [
    "**Observation:** The result confirms my hypothesis."
   ]
  },
  {
   "cell_type": "markdown",
   "metadata": {},
   "source": [
    "# Task 2\n",
    "## Increase complexity by adding multiple convolution and dense layers\n",
    "- Add one more convolutional layer with 32 neurons (feature maps) and a 5x5 feature detector. \n",
    "- Add a dense layer with 128 nodes.\n",
    "\n",
    "### Reasoning\n",
    "**Hypothesis:** Given that I am increasing the complexity of the model, I expect the performance to improve, at least over the training set. If the model doesn't overfit the dataset, then I expect the performance to improve on the test set as well."
   ]
  },
  {
   "cell_type": "markdown",
   "metadata": {},
   "source": [
    "### Build - 2nd iteration"
   ]
  },
  {
   "cell_type": "code",
   "execution_count": 15,
   "metadata": {},
   "outputs": [],
   "source": [
    "# increase model complexity\n",
    "model = tf.keras.Sequential([\n",
    "  tf.keras.layers.Conv2D(32, kernel_size=5, activation='sigmoid'),\n",
    "  tf.keras.layers.Conv2D(32, kernel_size=5, activation='sigmoid'),\n",
    "  tf.keras.layers.Flatten(),\n",
    "  tf.keras.layers.Dense(128, activation='sigmoid'),\n",
    "  tf.keras.layers.Dense(10, activation='softmax'),\n",
    "])"
   ]
  },
  {
   "cell_type": "markdown",
   "metadata": {},
   "source": [
    "### Compile - 2nd iteration"
   ]
  },
  {
   "cell_type": "code",
   "execution_count": 16,
   "metadata": {},
   "outputs": [],
   "source": [
    "# compile model\n",
    "model.compile(\n",
    "    optimizer='sgd',\n",
    "    loss='categorical_crossentropy',\n",
    "    metrics=['accuracy'],\n",
    ")"
   ]
  },
  {
   "cell_type": "markdown",
   "metadata": {},
   "source": [
    "### Train - 2nd iteration"
   ]
  },
  {
   "cell_type": "code",
   "execution_count": 17,
   "metadata": {},
   "outputs": [],
   "source": [
    "# # train model\n",
    "# model.fit(\n",
    "#   x_train,\n",
    "#   tf.keras.utils.to_categorical(y_train),\n",
    "#   epochs=5,\n",
    "#   batch_size=128,\n",
    "# )"
   ]
  },
  {
   "cell_type": "markdown",
   "metadata": {},
   "source": [
    "### Evaluate - 2nd iteration"
   ]
  },
  {
   "cell_type": "code",
   "execution_count": 25,
   "metadata": {},
   "outputs": [],
   "source": [
    "# # evaluate model\n",
    "# model.evaluate(\n",
    "#   x_test,\n",
    "#   tf.keras.utils.to_categorical(y_test)\n",
    "# )"
   ]
  },
  {
   "cell_type": "code",
   "execution_count": 29,
   "metadata": {},
   "outputs": [
    {
     "name": "stdout",
     "output_type": "stream",
     "text": [
      "Training set accuracy: 0.4533\n",
      "Test set accuracy: 0.6748\n"
     ]
    }
   ],
   "source": [
    "print(\"Training set accuracy: 0.4533\")\n",
    "print(\"Test set accuracy: 0.6748\")"
   ]
  },
  {
   "cell_type": "markdown",
   "metadata": {},
   "source": [
    "**Observation:** The result does not confirm my hypothesis. Nonetheless, as opposed to the previous iteration - where returns were diminishing quickly - returns are increasing remarkably. For this reason, I suspect that the underperformance is due to the fact that I have not trained the model for enough epochs."
   ]
  },
  {
   "cell_type": "markdown",
   "metadata": {},
   "source": [
    "# Task 3\n",
    "## How can you improve the models built in Tasks 1 & 2?\n",
    "### Reasoning"
   ]
  },
  {
   "cell_type": "markdown",
   "metadata": {},
   "source": [
    "**Observation**: In the first iteration, accuracy improves after every epoch but returns are diminishing. In the second iteration, accuracy at the end of the 5th epoch is lower than in the first iteration, but at every epoch performance improves more than in the previous epoch.\n",
    "\n",
    "**Hypothesis**: My hypothesis is that the second model - which is more complex - can perform better the first one provided that it is trained for enough epochs."
   ]
  },
  {
   "cell_type": "code",
   "execution_count": 19,
   "metadata": {},
   "outputs": [],
   "source": [
    "# # train model\n",
    "# model.fit(\n",
    "#   x_train,\n",
    "#   tf.keras.utils.to_categorical(y_train),\n",
    "#   epochs=10,\n",
    "#   batch_size=128,\n",
    "# )"
   ]
  },
  {
   "cell_type": "markdown",
   "metadata": {},
   "source": [
    "### Evaluate - 3nd iteration"
   ]
  },
  {
   "cell_type": "code",
   "execution_count": 27,
   "metadata": {},
   "outputs": [],
   "source": [
    "# # evaluate model\n",
    "# model.evaluate(\n",
    "#   x_test,\n",
    "#   tf.keras.utils.to_categorical(y_test)\n",
    "# )"
   ]
  },
  {
   "cell_type": "code",
   "execution_count": 30,
   "metadata": {},
   "outputs": [
    {
     "name": "stdout",
     "output_type": "stream",
     "text": [
      "Training set accuracy: 0.9050\n",
      "Test set accuracy: 0.9132\n"
     ]
    }
   ],
   "source": [
    "print(\"Training set accuracy: 0.9050\")\n",
    "print(\"Test set accuracy: 0.9132\")"
   ]
  },
  {
   "cell_type": "markdown",
   "metadata": {},
   "source": [
    "**Observation**: By adding epochs, test set accuracy improves slightly - from 90% to 91% - yet with diminishing returns. I suspect that this is due to the following consideration found on Quora (https://www.quora.com/What-should-I-do-when-adding-more-hidden-layers-to-a-deep-neural-network-causes-performance-to-decrease):\n",
    "\n",
    "> [...] because you have so much output from layer n, layer n+1’s weighted input (just before the activation function) will be more extreme. Depending on your activation function this problem can go from bad to worse: sigmoid units are completely saturated and significantly slow down training because the sigmoid derivative gets smaller as its input gets farther from 0. [...]"
   ]
  },
  {
   "cell_type": "markdown",
   "metadata": {},
   "source": [
    "# Task 4\n",
    "## Change parameters/architecture to improve  quality metrics\n",
    "**Hypothesis**: Assuming that diminishing returns were caused by the sigmoid derivatives getting smaller as their input got farther from zero, my hypothesis is that using ReLU activation instead of sigmoid will improve test set performance and training speed."
   ]
  },
  {
   "cell_type": "markdown",
   "metadata": {},
   "source": [
    "### Build"
   ]
  },
  {
   "cell_type": "code",
   "execution_count": 21,
   "metadata": {},
   "outputs": [],
   "source": [
    "# increase model complexity\n",
    "model = tf.keras.Sequential([\n",
    "  tf.keras.layers.Conv2D(32, kernel_size=5, activation='relu'),\n",
    "  tf.keras.layers.Conv2D(32, kernel_size=5, activation='relu'),\n",
    "  tf.keras.layers.Flatten(),\n",
    "  tf.keras.layers.Dense(128, activation='relu'),\n",
    "  tf.keras.layers.Dense(10, activation='softmax'),\n",
    "])"
   ]
  },
  {
   "cell_type": "markdown",
   "metadata": {},
   "source": [
    "### Compile"
   ]
  },
  {
   "cell_type": "code",
   "execution_count": 22,
   "metadata": {},
   "outputs": [],
   "source": [
    "# compile model\n",
    "model.compile(\n",
    "    optimizer='sgd',\n",
    "    loss='categorical_crossentropy',\n",
    "    metrics=['accuracy'],\n",
    ")"
   ]
  },
  {
   "cell_type": "markdown",
   "metadata": {},
   "source": [
    "### Train"
   ]
  },
  {
   "cell_type": "code",
   "execution_count": 23,
   "metadata": {},
   "outputs": [
    {
     "name": "stdout",
     "output_type": "stream",
     "text": [
      "Epoch 1/15\n",
      "60000/60000 [==============================] - 125s 2ms/sample - loss: 0.6958 - acc: 0.7823\n",
      "Epoch 2/15\n",
      "60000/60000 [==============================] - 112s 2ms/sample - loss: 0.2532 - acc: 0.9229\n",
      "Epoch 3/15\n",
      "60000/60000 [==============================] - 110s 2ms/sample - loss: 0.1836 - acc: 0.9445\n",
      "Epoch 4/15\n",
      "60000/60000 [==============================] - 138s 2ms/sample - loss: 0.1425 - acc: 0.9569\n",
      "Epoch 5/15\n",
      "60000/60000 [==============================] - 127s 2ms/sample - loss: 0.1146 - acc: 0.9655\n",
      "Epoch 6/15\n",
      "60000/60000 [==============================] - 121s 2ms/sample - loss: 0.0956 - acc: 0.9720\n",
      "Epoch 7/15\n",
      "60000/60000 [==============================] - 118s 2ms/sample - loss: 0.0821 - acc: 0.9757\n",
      "Epoch 8/15\n",
      "60000/60000 [==============================] - 148s 2ms/sample - loss: 0.0717 - acc: 0.9788\n",
      "Epoch 9/15\n",
      "60000/60000 [==============================] - 119s 2ms/sample - loss: 0.0637 - acc: 0.9807\n",
      "Epoch 10/15\n",
      "60000/60000 [==============================] - 120s 2ms/sample - loss: 0.0572 - acc: 0.9830\n",
      "Epoch 11/15\n",
      "60000/60000 [==============================] - 120s 2ms/sample - loss: 0.0519 - acc: 0.9847\n",
      "Epoch 12/15\n",
      "60000/60000 [==============================] - 133s 2ms/sample - loss: 0.0476 - acc: 0.9855\n",
      "Epoch 13/15\n",
      "60000/60000 [==============================] - 123s 2ms/sample - loss: 0.0434 - acc: 0.9873\n",
      "Epoch 14/15\n",
      "60000/60000 [==============================] - 130s 2ms/sample - loss: 0.0396 - acc: 0.9883\n",
      "Epoch 15/15\n",
      "60000/60000 [==============================] - 134s 2ms/sample - loss: 0.0373 - acc: 0.9889\n"
     ]
    },
    {
     "data": {
      "text/plain": [
       "<tensorflow.python.keras.callbacks.History at 0x2a62195c9e8>"
      ]
     },
     "execution_count": 23,
     "metadata": {},
     "output_type": "execute_result"
    }
   ],
   "source": [
    "# train model\n",
    "model.fit(\n",
    "  x_train,\n",
    "  tf.keras.utils.to_categorical(y_train),\n",
    "  epochs=15,\n",
    "  batch_size=128,\n",
    ")"
   ]
  },
  {
   "cell_type": "markdown",
   "metadata": {},
   "source": [
    "### Evaluate"
   ]
  },
  {
   "cell_type": "code",
   "execution_count": 24,
   "metadata": {},
   "outputs": [
    {
     "name": "stdout",
     "output_type": "stream",
     "text": [
      "10000/10000 [==============================] - 10s 959us/sample - loss: 0.0529 - acc: 0.9830\n"
     ]
    },
    {
     "data": {
      "text/plain": [
       "[0.05291181025342084, 0.983]"
      ]
     },
     "execution_count": 24,
     "metadata": {},
     "output_type": "execute_result"
    }
   ],
   "source": [
    "# evaluate model\n",
    "model.evaluate(\n",
    "  x_test,\n",
    "  tf.keras.utils.to_categorical(y_test)\n",
    ")"
   ]
  },
  {
   "cell_type": "code",
   "execution_count": 31,
   "metadata": {},
   "outputs": [
    {
     "name": "stdout",
     "output_type": "stream",
     "text": [
      "Training set accuracy: 0.9889\n",
      "Test set accuracy: 0.9830\n"
     ]
    }
   ],
   "source": [
    "print(\"Training set accuracy: 0.9889\")\n",
    "print(\"Test set accuracy: 0.9830\")"
   ]
  }
 ],
 "metadata": {
  "kernelspec": {
   "display_name": "Python 3",
   "language": "python",
   "name": "python3"
  },
  "language_info": {
   "codemirror_mode": {
    "name": "ipython",
    "version": 3
   },
   "file_extension": ".py",
   "mimetype": "text/x-python",
   "name": "python",
   "nbconvert_exporter": "python",
   "pygments_lexer": "ipython3",
   "version": "3.6.12"
  }
 },
 "nbformat": 4,
 "nbformat_minor": 4
}
