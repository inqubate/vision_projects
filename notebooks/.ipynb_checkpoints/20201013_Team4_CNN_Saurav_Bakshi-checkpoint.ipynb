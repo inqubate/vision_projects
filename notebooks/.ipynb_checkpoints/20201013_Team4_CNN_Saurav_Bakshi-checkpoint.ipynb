{
 "cells": [
  {
   "cell_type": "markdown",
   "metadata": {},
   "source": [
    "#### MNIST Convolutional Neural network Capstone Project\n",
    "            Saurav Bakshi (Team 4)\n",
    "            \n"
   ]
  },
  {
   "cell_type": "markdown",
   "metadata": {},
   "source": [
    "**Task 1**\n",
    "\n",
    "Implement a simple CNN with the following parameters fixed. \n",
    "A Convolutional layer will have 32 neurons (feature maps) and a 5x5 feature detector.\n",
    "\n",
    "**Key hyperparameters**\n",
    "1. Learning Rate = 0.01\n",
    "2. Activation = **Sigmoid** for Neural Network layers and **Softmax** for output layer\n",
    "3. Optimizer = Stochastic Gradient Descent (SGD)\n",
    "4. Epochs = 5\n",
    "5. Batch Size = 128\n",
    "6. Metrics = Accuracy\n",
    "7. Loss Function = Categorical Cross Entropy\n",
    "\n",
    "Assumption - The dataset will be split into Train, Validation and Test. However for the task 1, validation data will not be used."
   ]
  },
  {
   "cell_type": "markdown",
   "metadata": {},
   "source": [
    "**Hypothesis 1 - The CNNs model should still result in a high accuracy even with basic hyperparameters**"
   ]
  },
  {
   "cell_type": "code",
   "execution_count": 69,
   "metadata": {},
   "outputs": [
    {
     "name": "stdout",
     "output_type": "stream",
     "text": [
      "2.3.0\n"
     ]
    }
   ],
   "source": [
    "import numpy as np\n",
    "import random as python_random\n",
    "import os\n",
    "import tensorflow as tf\n",
    "print(tf.__version__)\n",
    "os.environ[\"PYTHONHASHSEED\"] = \"0\"\n",
    "np.random.seed(123)\n",
    "python_random.seed(123)\n",
    "tf.random.set_seed(123)\n",
    "\n",
    "\n",
    "import matplotlib.pyplot as plt\n",
    "import pandas as pd\n",
    "import seaborn as sns\n",
    "from mlxtend.evaluate import confusion_matrix\n",
    "from sklearn.metrics import classification_report\n",
    "from sklearn.model_selection import train_test_split\n",
    "from sklearn.preprocessing import LabelBinarizer\n",
    "from sklearn.metrics import auc, roc_auc_score, roc_curve, accuracy_score\n",
    "\n",
    "\n",
    "from tensorflow.keras.datasets import mnist\n",
    "from tensorflow.keras.optimizers import SGD, Adam\n",
    "from tensorflow.keras.layers import Activation\n",
    "from tensorflow.keras.layers import BatchNormalization\n",
    "from tensorflow.keras.layers import Conv2D\n",
    "from tensorflow.keras.layers import Dense\n",
    "from tensorflow.keras.layers import MaxPooling2D\n",
    "from tensorflow.keras.layers import Dropout\n",
    "from tensorflow.keras.layers import Flatten\n",
    "from tensorflow.keras.models import Sequential\n",
    "\n",
    "import warnings\n",
    "warnings.filterwarnings('ignore')\n",
    "tf.get_logger().setLevel('ERROR')\n",
    "\n"
   ]
  },
  {
   "cell_type": "markdown",
   "metadata": {},
   "source": [
    "#### Data Capture and preprocessing"
   ]
  },
  {
   "cell_type": "code",
   "execution_count": 2,
   "metadata": {},
   "outputs": [],
   "source": [
    "# utility function to build any model\n",
    "def build_model(build_fn, activation, n_classes, filter_size, hidden_dense_units=None):\n",
    "    if hidden_dense_units is None:\n",
    "        model = build_fn(activation, n_classes, filter_size)\n",
    "    else:\n",
    "        model = build_fn(activation, n_classes, filter_size, hidden_dense_units)\n",
    "        \n",
    "    return model"
   ]
  },
  {
   "cell_type": "code",
   "execution_count": 3,
   "metadata": {},
   "outputs": [],
   "source": [
    "# utility function to run any model\n",
    "def run_model(model, loss, opt, metrics, n_epochs, batch_size, validation_data=None):\n",
    "    \n",
    "    model.compile(loss=loss, optimizer=opt,\n",
    "            metrics=metrics)\n",
    "    if validation_data is not None:\n",
    "        model_training_history = model.fit(trainX, trainY, \n",
    "                                           validation_data=(valX, valY),\n",
    "                                            epochs=n_epochs, \n",
    "                                           batch_size=batch_size)\n",
    "    else:\n",
    "        model_training_history = model.fit(trainX, trainY, \n",
    "                                           epochs=n_epochs, \n",
    "                                           batch_size=batch_size)\n",
    "        \n",
    "    \n",
    "    \n",
    "    \n",
    "       \n",
    "    return model_training_history, model\n"
   ]
  },
  {
   "cell_type": "code",
   "execution_count": 34,
   "metadata": {},
   "outputs": [],
   "source": [
    "def plot_summary(model_training_history, n_epochs, valid=False):\n",
    "    H = model_training_history\n",
    "    # plot the training loss and accuracy\n",
    "    plt.style.use(\"seaborn\")\n",
    "    plt.figure(figsize=(8, 6))\n",
    "    plt.plot(np.arange(0, n_epochs), H.history[\"loss\"], label=\"train_loss\")\n",
    "    plt.plot(np.arange(0, n_epochs), H.history[\"accuracy\"], label=\"train_acc\")\n",
    "    if valid:\n",
    "        plt.plot(np.arange(0, n_epochs), H.history[\"val_loss\"], label=\"val_loss\")\n",
    "        plt.plot(np.arange(0, n_epochs), H.history[\"val_accuracy\"], label=\"val_acc\")\n",
    "        \n",
    "    plt.title(\"Training Loss and Accuracy\")\n",
    "    plt.xlabel(\"Epoch #\")\n",
    "    plt.ylabel(\"Loss/Accuracy\")\n",
    "    plt.legend()\n"
   ]
  },
  {
   "cell_type": "code",
   "execution_count": 12,
   "metadata": {},
   "outputs": [
    {
     "name": "stdout",
     "output_type": "stream",
     "text": [
      "[INFO] Reading MNIST...\n"
     ]
    }
   ],
   "source": [
    "print(\"[INFO] Reading MNIST...\")\n",
    "((train_images, train_labels), (testX, testY)) = mnist.load_data()\n"
   ]
  },
  {
   "cell_type": "code",
   "execution_count": 13,
   "metadata": {},
   "outputs": [],
   "source": [
    "class_types = [\"0\", \"1\", \"2\", \"3\", \"4\", \"5\", \"6\", \"7\", \"8\", \"9\"]"
   ]
  },
  {
   "cell_type": "code",
   "execution_count": 14,
   "metadata": {},
   "outputs": [],
   "source": [
    "# scale data to the range of [0, 1]\n",
    "train_images = train_images.astype(\"float32\") / 255.0\n",
    "testX = testX.astype(\"float32\") / 255.0"
   ]
  },
  {
   "cell_type": "code",
   "execution_count": 15,
   "metadata": {},
   "outputs": [],
   "source": [
    "# sample out validation data from trainX\n",
    "(trainX, valX, trainY, valY) = train_test_split(train_images, train_labels,\n",
    "                                                test_size=0.2, stratify=train_labels, random_state=42)"
   ]
  },
  {
   "cell_type": "code",
   "execution_count": 16,
   "metadata": {},
   "outputs": [],
   "source": [
    "# reshape data for input to the convolutional models\n",
    "trainX = trainX.reshape((trainX.shape[0], 28, 28, 1))\n",
    "valX = valX.reshape((valX.shape[0], 28, 28, 1))\n",
    "testX = testX.reshape((testX.shape[0], 28, 28 , 1))"
   ]
  },
  {
   "cell_type": "code",
   "execution_count": 17,
   "metadata": {},
   "outputs": [],
   "source": [
    "# convert the labels from integers to vectors\n",
    "lb = LabelBinarizer()\n",
    "trainY = lb.fit_transform(trainY)\n",
    "valY = lb.transform(valY)\n",
    "testY = lb.transform(testY)"
   ]
  },
  {
   "cell_type": "code",
   "execution_count": 11,
   "metadata": {},
   "outputs": [],
   "source": [
    "def build_task1_model(activation, n_classes, filter_size):\n",
    "    # Task 1\n",
    "    model = Sequential()\n",
    "    model.add(Conv2D(32, filter_size, input_shape=(28, 28, 1), activation=activation))\n",
    "    model.add(Flatten())\n",
    "    model.add(Dense(n_classes,activation=\"softmax\"))\n",
    "    return model"
   ]
  },
  {
   "cell_type": "code",
   "execution_count": 12,
   "metadata": {},
   "outputs": [],
   "source": [
    "filter_size =(5, 5)\n",
    "activation = \"sigmoid\"\n",
    "learning_rate = 0.01\n",
    "opt = SGD(learning_rate)\n",
    "batch_size = 128\n",
    "n_epochs = 5\n",
    "n_classes = len(class_types)\n",
    "metrics = [\"accuracy\"]\n",
    "loss = \"categorical_crossentropy\""
   ]
  },
  {
   "cell_type": "code",
   "execution_count": 13,
   "metadata": {},
   "outputs": [
    {
     "name": "stdout",
     "output_type": "stream",
     "text": [
      "(48000, 28, 28, 1) (48000, 10)\n"
     ]
    }
   ],
   "source": [
    "print(trainX.shape, trainY.shape)"
   ]
  },
  {
   "cell_type": "code",
   "execution_count": 14,
   "metadata": {},
   "outputs": [
    {
     "name": "stdout",
     "output_type": "stream",
     "text": [
      "------------------------------------------------------------------------------------\n",
      "Epoch 1/5\n",
      "375/375 [==============================] - 1s 3ms/step - loss: 4.4999 - accuracy: 0.3514\n",
      "Epoch 2/5\n",
      "375/375 [==============================] - 1s 3ms/step - loss: 0.6625 - accuracy: 0.8024\n",
      "Epoch 3/5\n",
      "375/375 [==============================] - 1s 3ms/step - loss: 0.4810 - accuracy: 0.8586\n",
      "Epoch 4/5\n",
      "375/375 [==============================] - 1s 3ms/step - loss: 0.4286 - accuracy: 0.8722\n",
      "Epoch 5/5\n",
      "375/375 [==============================] - 1s 3ms/step - loss: 0.3984 - accuracy: 0.8825\n",
      "------------------------------------------------------------------------------------\n",
      "Epoch 1/5\n",
      "375/375 [==============================] - 1s 3ms/step - loss: 4.5454 - accuracy: 0.3532\n",
      "Epoch 2/5\n",
      "375/375 [==============================] - 1s 3ms/step - loss: 0.6652 - accuracy: 0.8023\n",
      "Epoch 3/5\n",
      "375/375 [==============================] - 1s 3ms/step - loss: 0.4815 - accuracy: 0.8586\n",
      "Epoch 4/5\n",
      "375/375 [==============================] - 1s 3ms/step - loss: 0.4291 - accuracy: 0.8719\n",
      "Epoch 5/5\n",
      "375/375 [==============================] - 1s 3ms/step - loss: 0.3988 - accuracy: 0.8822\n",
      "------------------------------------------------------------------------------------\n",
      "Epoch 1/5\n",
      "375/375 [==============================] - 1s 3ms/step - loss: 4.5931 - accuracy: 0.3506\n",
      "Epoch 2/5\n",
      "375/375 [==============================] - 1s 3ms/step - loss: 0.6578 - accuracy: 0.8045\n",
      "Epoch 3/5\n",
      "375/375 [==============================] - 1s 3ms/step - loss: 0.4790 - accuracy: 0.8590\n",
      "Epoch 4/5\n",
      "375/375 [==============================] - 1s 3ms/step - loss: 0.4275 - accuracy: 0.8721\n",
      "Epoch 5/5\n",
      "375/375 [==============================] - 1s 3ms/step - loss: 0.3975 - accuracy: 0.8828\n",
      "------------------------------------------------------------------------------------\n",
      "Epoch 1/5\n",
      "375/375 [==============================] - 1s 3ms/step - loss: 4.4886 - accuracy: 0.3682\n",
      "Epoch 2/5\n",
      "375/375 [==============================] - 1s 3ms/step - loss: 0.6563 - accuracy: 0.8041\n",
      "Epoch 3/5\n",
      "375/375 [==============================] - 1s 3ms/step - loss: 0.4800 - accuracy: 0.8585\n",
      "Epoch 4/5\n",
      "375/375 [==============================] - 1s 3ms/step - loss: 0.4286 - accuracy: 0.8714\n",
      "Epoch 5/5\n",
      "375/375 [==============================] - 1s 3ms/step - loss: 0.3987 - accuracy: 0.8824\n",
      "------------------------------------------------------------------------------------\n",
      "Epoch 1/5\n",
      "375/375 [==============================] - 1s 3ms/step - loss: 4.5487 - accuracy: 0.3510\n",
      "Epoch 2/5\n",
      "375/375 [==============================] - 1s 3ms/step - loss: 0.6652 - accuracy: 0.8015\n",
      "Epoch 3/5\n",
      "375/375 [==============================] - 1s 3ms/step - loss: 0.4822 - accuracy: 0.8580\n",
      "Epoch 4/5\n",
      "375/375 [==============================] - 1s 3ms/step - loss: 0.4296 - accuracy: 0.8716\n",
      "Epoch 5/5\n",
      "375/375 [==============================] - 1s 3ms/step - loss: 0.3989 - accuracy: 0.8822\n",
      "------------------------------------------------------------------------------------\n",
      "Epoch 1/5\n",
      "375/375 [==============================] - 1s 3ms/step - loss: 4.5167 - accuracy: 0.3603\n",
      "Epoch 2/5\n",
      "375/375 [==============================] - 1s 3ms/step - loss: 0.6679 - accuracy: 0.8007\n",
      "Epoch 3/5\n",
      "375/375 [==============================] - 1s 3ms/step - loss: 0.4822 - accuracy: 0.8580\n",
      "Epoch 4/5\n",
      "375/375 [==============================] - 1s 3ms/step - loss: 0.4292 - accuracy: 0.8717\n",
      "Epoch 5/5\n",
      "375/375 [==============================] - 1s 3ms/step - loss: 0.3984 - accuracy: 0.8827\n",
      "------------------------------------------------------------------------------------\n",
      "Epoch 1/5\n",
      "375/375 [==============================] - 1s 3ms/step - loss: 4.5117 - accuracy: 0.3533\n",
      "Epoch 2/5\n",
      "375/375 [==============================] - 1s 3ms/step - loss: 0.6692 - accuracy: 0.8009\n",
      "Epoch 3/5\n",
      "375/375 [==============================] - 1s 3ms/step - loss: 0.4817 - accuracy: 0.8578\n",
      "Epoch 4/5\n",
      "375/375 [==============================] - 1s 3ms/step - loss: 0.4286 - accuracy: 0.8719\n",
      "Epoch 5/5\n",
      "375/375 [==============================] - 1s 3ms/step - loss: 0.3980 - accuracy: 0.8828\n",
      "------------------------------------------------------------------------------------\n",
      "Epoch 1/5\n",
      "375/375 [==============================] - 1s 3ms/step - loss: 4.4884 - accuracy: 0.3564\n",
      "Epoch 2/5\n",
      "375/375 [==============================] - 1s 3ms/step - loss: 0.6557 - accuracy: 0.8045\n",
      "Epoch 3/5\n",
      "375/375 [==============================] - 1s 3ms/step - loss: 0.4804 - accuracy: 0.8580\n",
      "Epoch 4/5\n",
      "375/375 [==============================] - 1s 3ms/step - loss: 0.4289 - accuracy: 0.8719\n",
      "Epoch 5/5\n",
      "375/375 [==============================] - 1s 3ms/step - loss: 0.3989 - accuracy: 0.8826\n",
      "5.12 s ± 118 ms per loop (mean ± std. dev. of 7 runs, 1 loop each)\n"
     ]
    }
   ],
   "source": [
    "%%timeit\n",
    "\n",
    "print(\"------------------------------------------------------------------------------------\")\n",
    "t1_model = build_model(build_task1_model, activation, n_classes, filter_size)\n",
    "t1_model_hist, t1_model = run_model(t1_model, loss, \n",
    "                                              opt, metrics, n_epochs, \n",
    "                                              batch_size, validation_data=None)\n",
    "\n"
   ]
  },
  {
   "cell_type": "code",
   "execution_count": 15,
   "metadata": {},
   "outputs": [
    {
     "name": "stdout",
     "output_type": "stream",
     "text": [
      "Epoch 1/5\n",
      "375/375 [==============================] - 1s 3ms/step - loss: 4.3292 - accuracy: 0.3624\n",
      "Epoch 2/5\n",
      "375/375 [==============================] - 1s 3ms/step - loss: 0.6554 - accuracy: 0.8050\n",
      "Epoch 3/5\n",
      "375/375 [==============================] - 1s 3ms/step - loss: 0.4774 - accuracy: 0.8596\n",
      "Epoch 4/5\n",
      "375/375 [==============================] - 1s 3ms/step - loss: 0.4263 - accuracy: 0.8727\n",
      "Epoch 5/5\n",
      "375/375 [==============================] - 1s 3ms/step - loss: 0.3965 - accuracy: 0.8826\n"
     ]
    }
   ],
   "source": [
    "t1_model = build_model(build_task1_model, activation, n_classes, filter_size)\n",
    "t1_model_hist, t1_model = run_model(t1_model, loss, \n",
    "                                              opt, metrics, n_epochs, \n",
    "                                              batch_size, validation_data=None)\n",
    "\n"
   ]
  },
  {
   "cell_type": "code",
   "execution_count": 16,
   "metadata": {},
   "outputs": [
    {
     "name": "stdout",
     "output_type": "stream",
     "text": [
      "Model: \"sequential_8\"\n",
      "_________________________________________________________________\n",
      "Layer (type)                 Output Shape              Param #   \n",
      "=================================================================\n",
      "conv2d_8 (Conv2D)            (None, 24, 24, 32)        832       \n",
      "_________________________________________________________________\n",
      "flatten_8 (Flatten)          (None, 18432)             0         \n",
      "_________________________________________________________________\n",
      "dense_8 (Dense)              (None, 10)                184330    \n",
      "=================================================================\n",
      "Total params: 185,162\n",
      "Trainable params: 185,162\n",
      "Non-trainable params: 0\n",
      "_________________________________________________________________\n"
     ]
    }
   ],
   "source": [
    "t1_model.summary()"
   ]
  },
  {
   "cell_type": "code",
   "execution_count": 17,
   "metadata": {},
   "outputs": [
    {
     "name": "stdout",
     "output_type": "stream",
     "text": [
      "Model Accuracy 0.8926\n"
     ]
    }
   ],
   "source": [
    "# evaluate the network\n",
    "predictions = t1_model.predict(testX, batch_size=batch_size)\n",
    "acc_score = accuracy_score(testY.argmax(axis=1),\n",
    "                           predictions.argmax(axis=1))\n",
    "print(f\"Model Accuracy {acc_score}\")"
   ]
  },
  {
   "cell_type": "code",
   "execution_count": 19,
   "metadata": {},
   "outputs": [
    {
     "data": {
      "image/png": "[encoded data removed]",
      "text/plain": [
       "<Figure size 576x432 with 1 Axes>"
      ]
     },
     "metadata": {},
     "output_type": "display_data"
    }
   ],
   "source": [
    "plot_summary(t1_model_hist, n_epochs)"
   ]
  },
  {
   "cell_type": "markdown",
   "metadata": {},
   "source": [
    "#### Task 1 Findings\n",
    "\n",
    "1. Model Accuracy is 89.26%\n",
    "2. The average time taken to train the model is - 5.12 s on MNIST data"
   ]
  },
  {
   "cell_type": "markdown",
   "metadata": {},
   "source": [
    "### Task 2\n",
    "- Increase the complexity of the CNN by adding multiple convolution and dense layers. \n",
    "- Add one more convolutional layer with 32 neurons (feature maps) and a 5x5 feature detector. \n",
    "- Add a dense layer with 128 nodes.\n",
    "\n",
    "**Key hyperparameters**\n",
    "1. Learning Rate = 0.01\n",
    "2. Activation = **Sigmoid** for Neural Network layers and **Softmax** for output layer\n",
    "3. Optimizer = Stochastic Gradient Descent (SGD)\n",
    "4. Epochs = 5\n",
    "5. Batch Size = 128\n",
    "6. Metrics = Accuracy\n",
    "7. Loss Function = Categorical Cross Entropy\n",
    "\n",
    "Assumption - The dataset will be split into Train, Validation and Test. However for the task 1, validation data will not be used."
   ]
  },
  {
   "cell_type": "markdown",
   "metadata": {},
   "source": [
    "**Hypothesis 2 - When we increase the complexity of the Convolutional Neural Network, the time to train increases but the accuracy improves.**"
   ]
  },
  {
   "cell_type": "code",
   "execution_count": 20,
   "metadata": {},
   "outputs": [],
   "source": [
    "def build_task2_model(activation, n_classes, filter_size, hidden_dense_units):\n",
    "    # Task 2\n",
    "    model = Sequential()\n",
    "    model.add(Conv2D(32, filter_size, input_shape=(28, 28, 1), activation=activation))\n",
    "    model.add(Conv2D(32, filter_size, activation=activation))\n",
    "    model.add(Flatten())\n",
    "    model.add(Dense(units=hidden_dense_units, activation=activation))\n",
    "    model.add(Flatten())\n",
    "    model.add(Dense(n_classes))\n",
    "    model.add(Activation(\"softmax\"))\n",
    "    return model"
   ]
  },
  {
   "cell_type": "code",
   "execution_count": 21,
   "metadata": {},
   "outputs": [],
   "source": [
    "filter_size = (5, 5)\n",
    "activation = \"sigmoid\"\n",
    "learning_rate = 0.01\n",
    "opt = SGD(learning_rate)\n",
    "hidden_dense_units = 128\n",
    "batch_size = 128\n",
    "n_epochs = 5\n",
    "n_classes = len(class_types)\n",
    "metrics = [\"accuracy\"]\n",
    "loss = \"categorical_crossentropy\""
   ]
  },
  {
   "cell_type": "code",
   "execution_count": 23,
   "metadata": {},
   "outputs": [
    {
     "name": "stdout",
     "output_type": "stream",
     "text": [
      "------------------------------------------------------------------------------------\n",
      "Epoch 1/5\n",
      "375/375 [==============================] - 2s 5ms/step - loss: 2.3065 - accuracy: 0.1033\n",
      "Epoch 2/5\n",
      "375/375 [==============================] - 2s 5ms/step - loss: 2.3005 - accuracy: 0.1135\n",
      "Epoch 3/5\n",
      "375/375 [==============================] - 2s 5ms/step - loss: 2.2916 - accuracy: 0.1239\n",
      "Epoch 4/5\n",
      "375/375 [==============================] - 2s 5ms/step - loss: 2.2589 - accuracy: 0.1938\n",
      "Epoch 5/5\n",
      "375/375 [==============================] - 2s 5ms/step - loss: 1.9907 - accuracy: 0.4934\n",
      "------------------------------------------------------------------------------------\n",
      "Epoch 1/5\n",
      "375/375 [==============================] - 2s 5ms/step - loss: 2.3079 - accuracy: 0.1051\n",
      "Epoch 2/5\n",
      "375/375 [==============================] - 2s 5ms/step - loss: 2.3020 - accuracy: 0.1112\n",
      "Epoch 3/5\n",
      "375/375 [==============================] - 2s 5ms/step - loss: 2.2962 - accuracy: 0.1208\n",
      "Epoch 4/5\n",
      "375/375 [==============================] - 2s 5ms/step - loss: 2.2815 - accuracy: 0.1521\n",
      "Epoch 5/5\n",
      "375/375 [==============================] - 2s 5ms/step - loss: 2.1951 - accuracy: 0.3136\n",
      "------------------------------------------------------------------------------------\n",
      "Epoch 1/5\n",
      "375/375 [==============================] - 2s 5ms/step - loss: 2.3086 - accuracy: 0.1040\n",
      "Epoch 2/5\n",
      "375/375 [==============================] - 2s 5ms/step - loss: 2.3023 - accuracy: 0.1125\n",
      "Epoch 3/5\n",
      "375/375 [==============================] - 2s 5ms/step - loss: 2.2964 - accuracy: 0.1198\n",
      "Epoch 4/5\n",
      "375/375 [==============================] - 2s 5ms/step - loss: 2.2821 - accuracy: 0.1496\n",
      "Epoch 5/5\n",
      "375/375 [==============================] - 2s 5ms/step - loss: 2.2037 - accuracy: 0.3211\n",
      "------------------------------------------------------------------------------------\n",
      "Epoch 1/5\n",
      "375/375 [==============================] - 2s 5ms/step - loss: 2.3088 - accuracy: 0.1069\n",
      "Epoch 2/5\n",
      "375/375 [==============================] - 2s 5ms/step - loss: 2.3022 - accuracy: 0.1124\n",
      "Epoch 3/5\n",
      "375/375 [==============================] - 2s 5ms/step - loss: 2.2980 - accuracy: 0.1169\n",
      "Epoch 4/5\n",
      "375/375 [==============================] - 2s 5ms/step - loss: 2.2893 - accuracy: 0.1383\n",
      "Epoch 5/5\n",
      "375/375 [==============================] - 2s 5ms/step - loss: 2.2559 - accuracy: 0.2120\n",
      "------------------------------------------------------------------------------------\n",
      "Epoch 1/5\n",
      "375/375 [==============================] - 2s 5ms/step - loss: 2.3064 - accuracy: 0.1060\n",
      "Epoch 2/5\n",
      "375/375 [==============================] - 2s 5ms/step - loss: 2.3015 - accuracy: 0.1131\n",
      "Epoch 3/5\n",
      "375/375 [==============================] - 2s 5ms/step - loss: 2.2952 - accuracy: 0.1257\n",
      "Epoch 4/5\n",
      "375/375 [==============================] - 2s 5ms/step - loss: 2.2793 - accuracy: 0.1604\n",
      "Epoch 5/5\n",
      "375/375 [==============================] - 2s 5ms/step - loss: 2.1933 - accuracy: 0.3187\n",
      "------------------------------------------------------------------------------------\n",
      "Epoch 1/5\n",
      "375/375 [==============================] - 2s 5ms/step - loss: 2.3065 - accuracy: 0.1080\n",
      "Epoch 2/5\n",
      "375/375 [==============================] - 2s 5ms/step - loss: 2.3001 - accuracy: 0.1145\n",
      "Epoch 3/5\n",
      "375/375 [==============================] - 2s 5ms/step - loss: 2.2911 - accuracy: 0.1281\n",
      "Epoch 4/5\n",
      "375/375 [==============================] - 2s 5ms/step - loss: 2.2578 - accuracy: 0.1995\n",
      "Epoch 5/5\n",
      "375/375 [==============================] - 2s 5ms/step - loss: 1.9898 - accuracy: 0.4830\n",
      "------------------------------------------------------------------------------------\n",
      "Epoch 1/5\n",
      "375/375 [==============================] - 2s 5ms/step - loss: 2.3084 - accuracy: 0.1051\n",
      "Epoch 2/5\n",
      "375/375 [==============================] - 2s 5ms/step - loss: 2.3026 - accuracy: 0.1096\n",
      "Epoch 3/5\n",
      "375/375 [==============================] - 2s 5ms/step - loss: 2.2982 - accuracy: 0.1173\n",
      "Epoch 4/5\n",
      "375/375 [==============================] - 2s 5ms/step - loss: 2.2896 - accuracy: 0.1359\n",
      "Epoch 5/5\n",
      "375/375 [==============================] - 2s 5ms/step - loss: 2.2556 - accuracy: 0.2198\n",
      "------------------------------------------------------------------------------------\n",
      "Epoch 1/5\n",
      "375/375 [==============================] - 2s 5ms/step - loss: 2.3074 - accuracy: 0.1052\n",
      "Epoch 2/5\n",
      "375/375 [==============================] - 2s 5ms/step - loss: 2.3021 - accuracy: 0.1133\n",
      "Epoch 3/5\n",
      "375/375 [==============================] - 2s 5ms/step - loss: 2.2961 - accuracy: 0.1254\n",
      "Epoch 4/5\n",
      "375/375 [==============================] - 2s 5ms/step - loss: 2.2818 - accuracy: 0.1552\n",
      "Epoch 5/5\n",
      "375/375 [==============================] - 2s 5ms/step - loss: 2.2093 - accuracy: 0.2992\n",
      "10 s ± 94.8 ms per loop (mean ± std. dev. of 7 runs, 1 loop each)\n"
     ]
    }
   ],
   "source": [
    "%%timeit\n",
    "\n",
    "print(\"------------------------------------------------------------------------------------\")\n",
    "t2_model = build_model(build_task2_model, activation, n_classes, filter_size, hidden_dense_units)\n",
    "t2_model_hist, t2_model = run_model(t2_model, loss, \n",
    "                                              opt, metrics, n_epochs, \n",
    "                                              batch_size, validation_data=None)"
   ]
  },
  {
   "cell_type": "code",
   "execution_count": 24,
   "metadata": {},
   "outputs": [
    {
     "name": "stdout",
     "output_type": "stream",
     "text": [
      "Epoch 1/5\n",
      "375/375 [==============================] - 2s 5ms/step - loss: 2.3070 - accuracy: 0.1051\n",
      "Epoch 2/5\n",
      "375/375 [==============================] - 2s 5ms/step - loss: 2.3013 - accuracy: 0.1124\n",
      "Epoch 3/5\n",
      "375/375 [==============================] - 2s 5ms/step - loss: 2.2944 - accuracy: 0.1274\n",
      "Epoch 4/5\n",
      "375/375 [==============================] - 2s 5ms/step - loss: 2.2750 - accuracy: 0.1666\n",
      "Epoch 5/5\n",
      "375/375 [==============================] - 2s 5ms/step - loss: 2.1582 - accuracy: 0.3544\n"
     ]
    }
   ],
   "source": [
    "# recompile the model for training at epoch = 5\n",
    "t2_model = build_model(build_task2_model, activation, n_classes, filter_size, hidden_dense_units)\n",
    "t2_model_hist, t2_model = run_model(t2_model, loss, \n",
    "                                              opt, metrics, n_epochs, \n",
    "                                              batch_size, validation_data=None)"
   ]
  },
  {
   "cell_type": "code",
   "execution_count": 25,
   "metadata": {},
   "outputs": [
    {
     "name": "stdout",
     "output_type": "stream",
     "text": [
      "Model: \"sequential_25\"\n",
      "_________________________________________________________________\n",
      "Layer (type)                 Output Shape              Param #   \n",
      "=================================================================\n",
      "conv2d_41 (Conv2D)           (None, 24, 24, 32)        832       \n",
      "_________________________________________________________________\n",
      "conv2d_42 (Conv2D)           (None, 20, 20, 32)        25632     \n",
      "_________________________________________________________________\n",
      "flatten_41 (Flatten)         (None, 12800)             0         \n",
      "_________________________________________________________________\n",
      "dense_41 (Dense)             (None, 128)               1638528   \n",
      "_________________________________________________________________\n",
      "flatten_42 (Flatten)         (None, 128)               0         \n",
      "_________________________________________________________________\n",
      "dense_42 (Dense)             (None, 10)                1290      \n",
      "_________________________________________________________________\n",
      "activation_16 (Activation)   (None, 10)                0         \n",
      "=================================================================\n",
      "Total params: 1,666,282\n",
      "Trainable params: 1,666,282\n",
      "Non-trainable params: 0\n",
      "_________________________________________________________________\n"
     ]
    }
   ],
   "source": [
    "t2_model.summary()"
   ]
  },
  {
   "cell_type": "code",
   "execution_count": 26,
   "metadata": {},
   "outputs": [
    {
     "name": "stdout",
     "output_type": "stream",
     "text": [
      "Model Accuracy 0.521\n"
     ]
    }
   ],
   "source": [
    "# evaluate the network\n",
    "predictions = t2_model.predict(testX, batch_size=batch_size)\n",
    "acc_score = accuracy_score(testY.argmax(axis=1),\n",
    "                           predictions.argmax(axis=1))\n",
    "print(f\"Model Accuracy {acc_score}\")"
   ]
  },
  {
   "cell_type": "code",
   "execution_count": 27,
   "metadata": {},
   "outputs": [
    {
     "data": {
      "image/png": "[encoded data removed]",
      "text/plain": [
       "<Figure size 576x432 with 1 Axes>"
      ]
     },
     "metadata": {},
     "output_type": "display_data"
    }
   ],
   "source": [
    "plot_summary(t2_model_hist, n_epochs)"
   ]
  },
  {
   "cell_type": "markdown",
   "metadata": {},
   "source": [
    "#### Task 2 Findings\n",
    "\n",
    "1. Model Accuracy is 52.1% - This proves that the hypothesis to be **False** as the prediction performance has degraded drastically. Deeper networks are slow learners and I guess that could be the reason why the accuracy has been low.\n",
    "2. The average time taken to train the model is - 10 s on MNIST data which 2 times more than the Task 1 training time."
   ]
  },
  {
   "cell_type": "markdown",
   "metadata": {},
   "source": [
    "#### Task 3 "
   ]
  },
  {
   "cell_type": "markdown",
   "metadata": {},
   "source": [
    "#### Improving the models built in Task 1 and Task 2\n",
    "**Hypothesis T3_H1 - Increasing number of epochs can increase accuracy?**"
   ]
  },
  {
   "cell_type": "code",
   "execution_count": 28,
   "metadata": {},
   "outputs": [],
   "source": [
    "# Hyperparameters for Hypothesis T3_H1\n",
    "filter_size = (5, 5)\n",
    "activation = \"sigmoid\"\n",
    "learning_rate = 0.01\n",
    "opt = SGD(learning_rate)\n",
    "hidden_dense_units = 128\n",
    "batch_size = 128\n",
    "n_epochs = 5\n",
    "n_classes = len(class_types)\n",
    "metrics = [\"accuracy\"]\n",
    "loss = \"categorical_crossentropy\"\n",
    "# n_epochs = 5 initial number of epochs\n",
    "# all other hyperparameters remaining the same , number of epochs is increased to 10\n",
    "n_epochs = 10"
   ]
  },
  {
   "cell_type": "code",
   "execution_count": 29,
   "metadata": {},
   "outputs": [
    {
     "name": "stdout",
     "output_type": "stream",
     "text": [
      "Epoch 1/10\n",
      "375/375 [==============================] - 1s 3ms/step - loss: 4.4208 - accuracy: 0.3496\n",
      "Epoch 2/10\n",
      "375/375 [==============================] - 1s 3ms/step - loss: 0.6559 - accuracy: 0.8046\n",
      "Epoch 3/10\n",
      "375/375 [==============================] - 1s 3ms/step - loss: 0.4799 - accuracy: 0.8590\n",
      "Epoch 4/10\n",
      "375/375 [==============================] - 1s 3ms/step - loss: 0.4287 - accuracy: 0.8720\n",
      "Epoch 5/10\n",
      "375/375 [==============================] - 1s 3ms/step - loss: 0.3988 - accuracy: 0.8824\n",
      "Epoch 6/10\n",
      "375/375 [==============================] - 1s 3ms/step - loss: 0.3812 - accuracy: 0.8868\n",
      "Epoch 7/10\n",
      "375/375 [==============================] - 1s 3ms/step - loss: 0.3696 - accuracy: 0.8896\n",
      "Epoch 8/10\n",
      "375/375 [==============================] - 1s 3ms/step - loss: 0.3577 - accuracy: 0.8931\n",
      "Epoch 9/10\n",
      "375/375 [==============================] - 1s 3ms/step - loss: 0.3516 - accuracy: 0.8958\n",
      "Epoch 10/10\n",
      "375/375 [==============================] - 1s 3ms/step - loss: 0.3435 - accuracy: 0.8985\n"
     ]
    }
   ],
   "source": [
    "# train the task 1 model for the epoch = 10\n",
    "t1_model = build_model(build_task1_model, activation, n_classes, filter_size)\n",
    "t1_model_hist, t1_model = run_model(t1_model, loss, \n",
    "                                              opt, metrics, n_epochs, \n",
    "                                              batch_size, validation_data=None)"
   ]
  },
  {
   "cell_type": "code",
   "execution_count": 30,
   "metadata": {},
   "outputs": [
    {
     "name": "stdout",
     "output_type": "stream",
     "text": [
      "Model Accuracy 0.9064\n"
     ]
    }
   ],
   "source": [
    "# evaluate the network\n",
    "predictions = t1_model.predict(testX, batch_size=batch_size)\n",
    "acc_score = accuracy_score(testY.argmax(axis=1),\n",
    "                           predictions.argmax(axis=1))\n",
    "print(f\"Model Accuracy {acc_score}\")"
   ]
  },
  {
   "cell_type": "code",
   "execution_count": 31,
   "metadata": {},
   "outputs": [
    {
     "name": "stdout",
     "output_type": "stream",
     "text": [
      "Epoch 1/10\n",
      "375/375 [==============================] - 2s 5ms/step - loss: 2.3065 - accuracy: 0.1067\n",
      "Epoch 2/10\n",
      "375/375 [==============================] - 2s 5ms/step - loss: 2.3006 - accuracy: 0.1172\n",
      "Epoch 3/10\n",
      "375/375 [==============================] - 2s 5ms/step - loss: 2.2931 - accuracy: 0.1252\n",
      "Epoch 4/10\n",
      "375/375 [==============================] - 2s 5ms/step - loss: 2.2720 - accuracy: 0.1685\n",
      "Epoch 5/10\n",
      "375/375 [==============================] - 2s 5ms/step - loss: 2.1389 - accuracy: 0.3916\n",
      "Epoch 6/10\n",
      "375/375 [==============================] - 2s 5ms/step - loss: 1.4016 - accuracy: 0.7122\n",
      "Epoch 7/10\n",
      "375/375 [==============================] - 2s 5ms/step - loss: 0.7985 - accuracy: 0.8154\n",
      "Epoch 8/10\n",
      "375/375 [==============================] - 2s 5ms/step - loss: 0.6058 - accuracy: 0.8473\n",
      "Epoch 9/10\n",
      "375/375 [==============================] - 2s 5ms/step - loss: 0.5184 - accuracy: 0.8625\n",
      "Epoch 10/10\n",
      "375/375 [==============================] - 2s 5ms/step - loss: 0.4667 - accuracy: 0.8734\n"
     ]
    }
   ],
   "source": [
    "# train the task 2 model for epoch = 10\n",
    "t2_model = build_model(build_task2_model, activation, n_classes, filter_size, hidden_dense_units)\n",
    "t2_model_hist, t2_model = run_model(t2_model, loss, \n",
    "                                              opt, metrics, n_epochs, \n",
    "                                              batch_size, validation_data=None)"
   ]
  },
  {
   "cell_type": "code",
   "execution_count": 32,
   "metadata": {},
   "outputs": [
    {
     "name": "stdout",
     "output_type": "stream",
     "text": [
      "Model Accuracy 0.8836\n"
     ]
    }
   ],
   "source": [
    "# evaluate the network\n",
    "predictions = t2_model.predict(testX, batch_size=batch_size)\n",
    "acc_score = accuracy_score(testY.argmax(axis=1),\n",
    "                           predictions.argmax(axis=1))\n",
    "print(f\"Model Accuracy {acc_score}\")"
   ]
  },
  {
   "cell_type": "markdown",
   "metadata": {},
   "source": [
    "Number of epochs = 10\n",
    "\n",
    "Task 1 model Accuracy : 90.64%\n",
    "\n",
    "Task 2 model Accuracy : 88.36% "
   ]
  },
  {
   "cell_type": "markdown",
   "metadata": {},
   "source": [
    "#### Improving the models built in Task 1 and Task 2\n",
    "**Hypothesis T3_H2 - Reducing the number of batches can increase accuracy?**"
   ]
  },
  {
   "cell_type": "code",
   "execution_count": 33,
   "metadata": {},
   "outputs": [],
   "source": [
    "# Hyperparameters for Hypothesis T3_H2 - switching back the number of epochs to 5\n",
    "filter_size = (5, 5)\n",
    "activation = \"sigmoid\"\n",
    "learning_rate = 0.01\n",
    "opt = SGD(learning_rate)\n",
    "hidden_dense_units = 128\n",
    "# reducing the number of batches to 64\n",
    "batch_size = 64\n",
    "n_epochs = 5\n",
    "n_classes = len(class_types)\n",
    "metrics = [\"accuracy\"]\n",
    "loss = \"categorical_crossentropy\"\n",
    "n_epochs = 5"
   ]
  },
  {
   "cell_type": "code",
   "execution_count": 34,
   "metadata": {},
   "outputs": [
    {
     "name": "stdout",
     "output_type": "stream",
     "text": [
      "Epoch 1/5\n",
      "750/750 [==============================] - 1s 2ms/step - loss: 2.8557 - accuracy: 0.5869\n",
      "Epoch 2/5\n",
      "750/750 [==============================] - 1s 2ms/step - loss: 0.4612 - accuracy: 0.8608\n",
      "Epoch 3/5\n",
      "750/750 [==============================] - 1s 2ms/step - loss: 0.3964 - accuracy: 0.8809\n",
      "Epoch 4/5\n",
      "750/750 [==============================] - 1s 2ms/step - loss: 0.3718 - accuracy: 0.8885\n",
      "Epoch 5/5\n",
      "750/750 [==============================] - 1s 2ms/step - loss: 0.3567 - accuracy: 0.8933\n"
     ]
    }
   ],
   "source": [
    "# train the task 1 model for the batch_size = 64\n",
    "t1_model = build_model(build_task1_model, activation, n_classes, filter_size)\n",
    "t1_model_hist, t1_model = run_model(t1_model, loss, \n",
    "                                              opt, metrics, n_epochs, \n",
    "                                              batch_size, validation_data=None)"
   ]
  },
  {
   "cell_type": "code",
   "execution_count": 35,
   "metadata": {},
   "outputs": [
    {
     "name": "stdout",
     "output_type": "stream",
     "text": [
      "Model Accuracy 0.8993\n"
     ]
    }
   ],
   "source": [
    "# evaluate the network\n",
    "predictions = t1_model.predict(testX, batch_size=batch_size)\n",
    "acc_score = accuracy_score(testY.argmax(axis=1),\n",
    "                           predictions.argmax(axis=1))\n",
    "print(f\"Model Accuracy {acc_score}\")"
   ]
  },
  {
   "cell_type": "code",
   "execution_count": 36,
   "metadata": {
    "scrolled": true
   },
   "outputs": [
    {
     "name": "stdout",
     "output_type": "stream",
     "text": [
      "Epoch 1/5\n",
      "750/750 [==============================] - 3s 4ms/step - loss: 2.3105 - accuracy: 0.1037\n",
      "Epoch 2/5\n",
      "750/750 [==============================] - 3s 4ms/step - loss: 2.3022 - accuracy: 0.1096\n",
      "Epoch 3/5\n",
      "750/750 [==============================] - 3s 4ms/step - loss: 2.2897 - accuracy: 0.1331\n",
      "Epoch 4/5\n",
      "750/750 [==============================] - 3s 4ms/step - loss: 1.9981 - accuracy: 0.4044\n",
      "Epoch 5/5\n",
      "750/750 [==============================] - 3s 4ms/step - loss: 0.8406 - accuracy: 0.7965\n"
     ]
    }
   ],
   "source": [
    "# train the task 2 model for epoch = 10\n",
    "t2_model = build_model(build_task2_model, activation, n_classes, filter_size, hidden_dense_units)\n",
    "t2_model_hist, t2_model = run_model(t2_model, loss, \n",
    "                                              opt, metrics, n_epochs, \n",
    "                                              batch_size, validation_data=None)"
   ]
  },
  {
   "cell_type": "code",
   "execution_count": 37,
   "metadata": {},
   "outputs": [
    {
     "name": "stdout",
     "output_type": "stream",
     "text": [
      "Model Accuracy 0.8561\n"
     ]
    }
   ],
   "source": [
    "# evaluate the network\n",
    "predictions = t2_model.predict(testX, batch_size=batch_size)\n",
    "acc_score = accuracy_score(testY.argmax(axis=1),\n",
    "                           predictions.argmax(axis=1))\n",
    "print(f\"Model Accuracy {acc_score}\")"
   ]
  },
  {
   "cell_type": "markdown",
   "metadata": {},
   "source": [
    "**Reducing the batch size also shows improvements in the Accuracy of the model.**\n",
    "\n",
    "\n",
    "Task 1 model (Baseline) Accuracy - 89.3%\n",
    "Task 1 model Accuracy after reducing the batch size to 64 - 89.93%\n",
    "\n",
    "**There is a slight improvement in T1 Model**\n",
    "\n",
    "Task 2 model (Baseline) Accuracy - 69.27%\n",
    "Task 2 model Accuracy after reducing the batch size to 64 - 85.61%\n",
    "\n",
    "**There is a big improvement in T2 Model**"
   ]
  },
  {
   "cell_type": "markdown",
   "metadata": {},
   "source": [
    "Q2 - Using only convolutional layers will hyperparameter optimization have any impact help in increasing the accuracy?\n",
    "- Number of layers\n",
    "- Number of nodes\n",
    "- learning rate\n"
   ]
  },
  {
   "cell_type": "markdown",
   "metadata": {},
   "source": [
    "#### Improving the models built in Task 1 and Task 2\n",
    "**Hypothesis T3_H3 - Increasing one more Conv2D layer can increase accuracy?**"
   ]
  },
  {
   "cell_type": "code",
   "execution_count": 38,
   "metadata": {},
   "outputs": [],
   "source": [
    "def build_task3h3_model(activation, n_classes, filter_size, hidden_dense_units):\n",
    "    # Task 2\n",
    "    model = Sequential()\n",
    "    model.add(Conv2D(32, filter_size, input_shape=(28, 28, 1), activation=activation))\n",
    "    model.add(Conv2D(32, filter_size, activation=activation))\n",
    "    \n",
    "    # add one more Conv2D layer\n",
    "    model.add(Conv2D(32, filter_size, activation=activation))\n",
    "    \n",
    "    model.add(Flatten())\n",
    "    model.add(Dense(units=hidden_dense_units, activation=activation))\n",
    "    model.add(Flatten())\n",
    "    model.add(Dense(n_classes))\n",
    "    model.add(Activation(\"softmax\"))\n",
    "    return model"
   ]
  },
  {
   "cell_type": "code",
   "execution_count": 39,
   "metadata": {},
   "outputs": [],
   "source": [
    "# Hyperparameters for Hypothesis T3_H3\n",
    "filter_size = (5, 5)\n",
    "activation = \"sigmoid\"\n",
    "learning_rate = 0.01\n",
    "opt = SGD(learning_rate)\n",
    "hidden_dense_units = 128\n",
    "batch_size = 128\n",
    "n_epochs = 5\n",
    "n_classes = len(class_types)\n",
    "metrics = [\"accuracy\"]\n",
    "loss = \"categorical_crossentropy\"\n",
    "n_epochs = 5"
   ]
  },
  {
   "cell_type": "code",
   "execution_count": 40,
   "metadata": {},
   "outputs": [
    {
     "name": "stdout",
     "output_type": "stream",
     "text": [
      "Epoch 1/5\n",
      "375/375 [==============================] - 3s 7ms/step - loss: 2.3071 - accuracy: 0.1035\n",
      "Epoch 2/5\n",
      "375/375 [==============================] - 3s 7ms/step - loss: 2.3044 - accuracy: 0.1060\n",
      "Epoch 3/5\n",
      "375/375 [==============================] - 2s 7ms/step - loss: 2.3039 - accuracy: 0.1079\n",
      "Epoch 4/5\n",
      "375/375 [==============================] - 2s 7ms/step - loss: 2.3039 - accuracy: 0.1085\n",
      "Epoch 5/5\n",
      "375/375 [==============================] - 2s 7ms/step - loss: 2.3035 - accuracy: 0.1068\n"
     ]
    }
   ],
   "source": [
    "t3h3_model = build_model(build_task3h3_model, activation, n_classes, filter_size, hidden_dense_units)\n",
    "t3h3_model_hist, t3h3_model = run_model(t3h3_model, loss, \n",
    "                                              opt, metrics, n_epochs, \n",
    "                                              batch_size, validation_data=None)"
   ]
  },
  {
   "cell_type": "code",
   "execution_count": 41,
   "metadata": {},
   "outputs": [
    {
     "name": "stdout",
     "output_type": "stream",
     "text": [
      "Model: \"sequential_30\"\n",
      "_________________________________________________________________\n",
      "Layer (type)                 Output Shape              Param #   \n",
      "=================================================================\n",
      "conv2d_49 (Conv2D)           (None, 24, 24, 32)        832       \n",
      "_________________________________________________________________\n",
      "conv2d_50 (Conv2D)           (None, 20, 20, 32)        25632     \n",
      "_________________________________________________________________\n",
      "conv2d_51 (Conv2D)           (None, 16, 16, 32)        25632     \n",
      "_________________________________________________________________\n",
      "flatten_49 (Flatten)         (None, 8192)              0         \n",
      "_________________________________________________________________\n",
      "dense_49 (Dense)             (None, 128)               1048704   \n",
      "_________________________________________________________________\n",
      "flatten_50 (Flatten)         (None, 128)               0         \n",
      "_________________________________________________________________\n",
      "dense_50 (Dense)             (None, 10)                1290      \n",
      "_________________________________________________________________\n",
      "activation_19 (Activation)   (None, 10)                0         \n",
      "=================================================================\n",
      "Total params: 1,102,090\n",
      "Trainable params: 1,102,090\n",
      "Non-trainable params: 0\n",
      "_________________________________________________________________\n"
     ]
    }
   ],
   "source": [
    "t3h3_model.summary()"
   ]
  },
  {
   "cell_type": "code",
   "execution_count": 42,
   "metadata": {},
   "outputs": [
    {
     "name": "stdout",
     "output_type": "stream",
     "text": [
      "Model Accuracy 0.0958\n"
     ]
    }
   ],
   "source": [
    "# evaluate the network\n",
    "predictions = t3h3_model.predict(testX, batch_size=batch_size)\n",
    "acc_score = accuracy_score(testY.argmax(axis=1),\n",
    "                           predictions.argmax(axis=1))\n",
    "print(f\"Model Accuracy {acc_score}\")"
   ]
  },
  {
   "cell_type": "markdown",
   "metadata": {},
   "source": [
    "**Hypothesis T3H3 is not true.**\n",
    "We can see that adding one more Conv2D layer has actually degraded the accuracy drastically. It needs to be tested if adding a pooling layers would improve the accuracy."
   ]
  },
  {
   "cell_type": "markdown",
   "metadata": {},
   "source": [
    "#### Improving the models built in Task 1 and Task 2\n",
    "**Hypothesis T3_H4 - Increasing the number of Dense Layers in Conv2D can increase accuracy?**"
   ]
  },
  {
   "cell_type": "code",
   "execution_count": 43,
   "metadata": {},
   "outputs": [],
   "source": [
    "def build_task3h4_model(activation, n_classes, filter_size, hidden_dense_units):\n",
    "    # Task 2\n",
    "    model = Sequential()\n",
    "    model.add(Conv2D(32, filter_size, input_shape=(28, 28, 1), activation=activation))\n",
    "    model.add(Conv2D(32, filter_size, activation=activation))\n",
    "    \n",
    "    #Dense layer 1\n",
    "    model.add(Flatten())\n",
    "    model.add(Dense(units=hidden_dense_units, activation=activation))\n",
    "    \n",
    "    #Dense layer 2\n",
    "    model.add(Flatten())\n",
    "    model.add(Dense(units=hidden_dense_units, activation=activation))\n",
    "    model.add(Flatten())\n",
    "    model.add(Dense(n_classes))\n",
    "    model.add(Activation(\"softmax\"))\n",
    "    return model"
   ]
  },
  {
   "cell_type": "code",
   "execution_count": 44,
   "metadata": {},
   "outputs": [],
   "source": [
    "# Hyperparameters for Hypothesis T3_H4\n",
    "filter_size = (5, 5)\n",
    "activation = \"sigmoid\"\n",
    "learning_rate = 0.01\n",
    "opt = SGD(learning_rate)\n",
    "hidden_dense_units = 128\n",
    "batch_size = 128\n",
    "n_epochs = 5\n",
    "n_classes = len(class_types)\n",
    "metrics = [\"accuracy\"]\n",
    "loss = \"categorical_crossentropy\"\n",
    "n_epochs = 5"
   ]
  },
  {
   "cell_type": "code",
   "execution_count": 45,
   "metadata": {},
   "outputs": [
    {
     "name": "stdout",
     "output_type": "stream",
     "text": [
      "Epoch 1/5\n",
      "375/375 [==============================] - 2s 5ms/step - loss: 2.3077 - accuracy: 0.1082\n",
      "Epoch 2/5\n",
      "375/375 [==============================] - 2s 5ms/step - loss: 2.3018 - accuracy: 0.1106\n",
      "Epoch 3/5\n",
      "375/375 [==============================] - 2s 5ms/step - loss: 2.3018 - accuracy: 0.1124\n",
      "Epoch 4/5\n",
      "375/375 [==============================] - 2s 5ms/step - loss: 2.3017 - accuracy: 0.1126\n",
      "Epoch 5/5\n",
      "375/375 [==============================] - 2s 5ms/step - loss: 2.3015 - accuracy: 0.1106\n"
     ]
    }
   ],
   "source": [
    "t3h4_model = build_model(build_task3h4_model, activation, n_classes, filter_size, hidden_dense_units)\n",
    "t3h4_model_hist, t3h4_model = run_model(t3h4_model, loss, \n",
    "                                              opt, metrics, n_epochs, \n",
    "                                              batch_size, validation_data=None)"
   ]
  },
  {
   "cell_type": "code",
   "execution_count": 46,
   "metadata": {},
   "outputs": [
    {
     "name": "stdout",
     "output_type": "stream",
     "text": [
      "Model: \"sequential_31\"\n",
      "_________________________________________________________________\n",
      "Layer (type)                 Output Shape              Param #   \n",
      "=================================================================\n",
      "conv2d_52 (Conv2D)           (None, 24, 24, 32)        832       \n",
      "_________________________________________________________________\n",
      "conv2d_53 (Conv2D)           (None, 20, 20, 32)        25632     \n",
      "_________________________________________________________________\n",
      "flatten_51 (Flatten)         (None, 12800)             0         \n",
      "_________________________________________________________________\n",
      "dense_51 (Dense)             (None, 128)               1638528   \n",
      "_________________________________________________________________\n",
      "flatten_52 (Flatten)         (None, 128)               0         \n",
      "_________________________________________________________________\n",
      "dense_52 (Dense)             (None, 128)               16512     \n",
      "_________________________________________________________________\n",
      "flatten_53 (Flatten)         (None, 128)               0         \n",
      "_________________________________________________________________\n",
      "dense_53 (Dense)             (None, 10)                1290      \n",
      "_________________________________________________________________\n",
      "activation_20 (Activation)   (None, 10)                0         \n",
      "=================================================================\n",
      "Total params: 1,682,794\n",
      "Trainable params: 1,682,794\n",
      "Non-trainable params: 0\n",
      "_________________________________________________________________\n"
     ]
    }
   ],
   "source": [
    "t3h4_model.summary()"
   ]
  },
  {
   "cell_type": "code",
   "execution_count": 48,
   "metadata": {},
   "outputs": [
    {
     "name": "stdout",
     "output_type": "stream",
     "text": [
      "Model Accuracy 0.1135\n"
     ]
    }
   ],
   "source": [
    "# evaluate the network\n",
    "predictions = t3h4_model.predict(testX, batch_size=batch_size)\n",
    "acc_score = accuracy_score(testY.argmax(axis=1),\n",
    "                           predictions.argmax(axis=1))\n",
    "print(f\"Model Accuracy {acc_score}\")"
   ]
  },
  {
   "cell_type": "markdown",
   "metadata": {},
   "source": [
    "**Hypothesis T3H4 is not true.**\n",
    "We can see that adding one more dense layer has actually degraded the accuracy drastically. It needs to be tested if adding a pooling layers would improve the accuracy."
   ]
  },
  {
   "cell_type": "markdown",
   "metadata": {},
   "source": [
    "#### Improving the models built in Task 1 and Task 2\n",
    "**Hypothesis T3_H5 - Increasing the number of nodes in the Conv2D layer can increase accuracy?**\n",
    "1. Only the first Conv2D layer nodes are doubled\n",
    "2. Only the second Conv2D layer nodes are doubled\n",
    "3. Both Conv2D layer nodes are doubled\n",
    "4. Explore the impacts of different node sizes on all the three conditions (stretch goal - not implemented yet)"
   ]
  },
  {
   "cell_type": "markdown",
   "metadata": {},
   "source": [
    "**Hypothesis T3_H5_1 - Only the first Conv2D layer nodes are doubled**"
   ]
  },
  {
   "cell_type": "code",
   "execution_count": 49,
   "metadata": {},
   "outputs": [],
   "source": [
    "def build_task3h5_1_model(activation, n_classes, filter_size, hidden_dense_units):\n",
    "    # Task 2\n",
    "    model = Sequential()\n",
    "    \n",
    "    # Conv 2D layer 1\n",
    "    # chaning the number of nodes for layer 1 = 64 only to the first Conv2D layer\n",
    "    model.add(Conv2D(64, filter_size, input_shape=(28, 28, 1), activation=activation))\n",
    "    model.add(Conv2D(32, filter_size, activation=activation))\n",
    "    \n",
    "      \n",
    "    #Dense layer 1\n",
    "    model.add(Flatten())\n",
    "    model.add(Dense(units=hidden_dense_units, activation=activation))\n",
    "    model.add(Flatten())\n",
    "    model.add(Dense(n_classes))\n",
    "    model.add(Activation(\"softmax\"))\n",
    "    return model"
   ]
  },
  {
   "cell_type": "code",
   "execution_count": 50,
   "metadata": {},
   "outputs": [],
   "source": [
    "# Hyperparameters for Hypothesis T3_H5_1\n",
    "filter_size = (5, 5)\n",
    "activation = \"sigmoid\"\n",
    "learning_rate = 0.01\n",
    "opt = SGD(learning_rate)\n",
    "hidden_dense_units = 128\n",
    "batch_size = 128\n",
    "n_epochs = 5\n",
    "n_classes = len(class_types)\n",
    "metrics = [\"accuracy\"]\n",
    "loss = \"categorical_crossentropy\"\n",
    "n_epochs = 5"
   ]
  },
  {
   "cell_type": "code",
   "execution_count": 51,
   "metadata": {},
   "outputs": [
    {
     "name": "stdout",
     "output_type": "stream",
     "text": [
      "Epoch 1/5\n",
      "375/375 [==============================] - 3s 7ms/step - loss: 2.3077 - accuracy: 0.1050\n",
      "Epoch 2/5\n",
      "375/375 [==============================] - 3s 7ms/step - loss: 2.3028 - accuracy: 0.1098\n",
      "Epoch 3/5\n",
      "375/375 [==============================] - 3s 7ms/step - loss: 2.2976 - accuracy: 0.1204\n",
      "Epoch 4/5\n",
      "375/375 [==============================] - 2s 7ms/step - loss: 2.2856 - accuracy: 0.1431\n",
      "Epoch 5/5\n",
      "375/375 [==============================] - 3s 7ms/step - loss: 2.2242 - accuracy: 0.2779\n"
     ]
    }
   ],
   "source": [
    "t3h5_1_model = build_model(build_task3h5_1_model, activation, n_classes, filter_size, hidden_dense_units)\n",
    "t3h5_1_model_hist, t3h5_1_model = run_model(t3h5_1_model, loss, \n",
    "                                              opt, metrics, n_epochs, \n",
    "                                              batch_size, validation_data=None)"
   ]
  },
  {
   "cell_type": "code",
   "execution_count": 52,
   "metadata": {},
   "outputs": [
    {
     "name": "stdout",
     "output_type": "stream",
     "text": [
      "Model: \"sequential_32\"\n",
      "_________________________________________________________________\n",
      "Layer (type)                 Output Shape              Param #   \n",
      "=================================================================\n",
      "conv2d_54 (Conv2D)           (None, 24, 24, 64)        1664      \n",
      "_________________________________________________________________\n",
      "conv2d_55 (Conv2D)           (None, 20, 20, 32)        51232     \n",
      "_________________________________________________________________\n",
      "flatten_54 (Flatten)         (None, 12800)             0         \n",
      "_________________________________________________________________\n",
      "dense_54 (Dense)             (None, 128)               1638528   \n",
      "_________________________________________________________________\n",
      "flatten_55 (Flatten)         (None, 128)               0         \n",
      "_________________________________________________________________\n",
      "dense_55 (Dense)             (None, 10)                1290      \n",
      "_________________________________________________________________\n",
      "activation_21 (Activation)   (None, 10)                0         \n",
      "=================================================================\n",
      "Total params: 1,692,714\n",
      "Trainable params: 1,692,714\n",
      "Non-trainable params: 0\n",
      "_________________________________________________________________\n"
     ]
    }
   ],
   "source": [
    "t3h5_1_model.summary()"
   ]
  },
  {
   "cell_type": "code",
   "execution_count": 53,
   "metadata": {},
   "outputs": [
    {
     "name": "stdout",
     "output_type": "stream",
     "text": [
      "Model Accuracy 0.336\n"
     ]
    }
   ],
   "source": [
    "# evaluate the network\n",
    "predictions = t3h5_1_model.predict(testX, batch_size=batch_size)\n",
    "acc_score = accuracy_score(testY.argmax(axis=1),\n",
    "                           predictions.argmax(axis=1))\n",
    "print(f\"Model Accuracy {acc_score}\")"
   ]
  },
  {
   "cell_type": "markdown",
   "metadata": {},
   "source": [
    "**Hypothesis T3_H5_2 - Only the second Conv2D layer nodes are doubled**"
   ]
  },
  {
   "cell_type": "code",
   "execution_count": 54,
   "metadata": {},
   "outputs": [],
   "source": [
    "def build_task3h5_2_model(activation, n_classes, filter_size, hidden_dense_units):\n",
    "    # Task 2\n",
    "    model = Sequential()\n",
    "    \n",
    "    # Conv 2D layer 1\n",
    "    # chaning the number of nodes for layer 2 = 64 only to the first Conv2D layer\n",
    "    model.add(Conv2D(32, filter_size, input_shape=(28, 28, 1), activation=activation))\n",
    "    model.add(Conv2D(64, filter_size, activation=activation))\n",
    "    \n",
    "      \n",
    "    #Dense layer 1\n",
    "    model.add(Flatten())\n",
    "    model.add(Dense(units=hidden_dense_units, activation=activation))\n",
    "    model.add(Flatten())\n",
    "    model.add(Dense(n_classes))\n",
    "    model.add(Activation(\"softmax\"))\n",
    "    return model"
   ]
  },
  {
   "cell_type": "code",
   "execution_count": 55,
   "metadata": {},
   "outputs": [],
   "source": [
    "# Hyperparameters for Hypothesis T3_H5_2\n",
    "filter_size = (5, 5)\n",
    "activation = \"sigmoid\"\n",
    "learning_rate = 0.01\n",
    "opt = SGD(learning_rate)\n",
    "hidden_dense_units = 128\n",
    "batch_size = 128\n",
    "n_epochs = 5\n",
    "n_classes = len(class_types)\n",
    "metrics = [\"accuracy\"]\n",
    "loss = \"categorical_crossentropy\"\n",
    "n_epochs = 5"
   ]
  },
  {
   "cell_type": "code",
   "execution_count": 56,
   "metadata": {},
   "outputs": [
    {
     "name": "stdout",
     "output_type": "stream",
     "text": [
      "Epoch 1/5\n",
      "375/375 [==============================] - 3s 7ms/step - loss: 2.3107 - accuracy: 0.1042\n",
      "Epoch 2/5\n",
      "375/375 [==============================] - 3s 7ms/step - loss: 2.3029 - accuracy: 0.1092\n",
      "Epoch 3/5\n",
      "375/375 [==============================] - 3s 7ms/step - loss: 2.3002 - accuracy: 0.1147\n",
      "Epoch 4/5\n",
      "375/375 [==============================] - 3s 7ms/step - loss: 2.2972 - accuracy: 0.1219\n",
      "Epoch 5/5\n",
      "375/375 [==============================] - 3s 7ms/step - loss: 2.2869 - accuracy: 0.1354\n"
     ]
    }
   ],
   "source": [
    "t3h5_2_model = build_model(build_task3h5_2_model, activation, n_classes, filter_size, hidden_dense_units)\n",
    "t3h5_2_model_hist, t3h5_2_model = run_model(t3h5_2_model, loss, \n",
    "                                              opt, metrics, n_epochs, \n",
    "                                              batch_size, validation_data=None)"
   ]
  },
  {
   "cell_type": "code",
   "execution_count": 57,
   "metadata": {},
   "outputs": [
    {
     "name": "stdout",
     "output_type": "stream",
     "text": [
      "Model Accuracy 0.0959\n"
     ]
    }
   ],
   "source": [
    "# evaluate the network\n",
    "predictions = t3h5_2_model.predict(testX, batch_size=batch_size)\n",
    "acc_score = accuracy_score(testY.argmax(axis=1),\n",
    "                           predictions.argmax(axis=1))\n",
    "print(f\"Model Accuracy {acc_score}\")"
   ]
  },
  {
   "cell_type": "markdown",
   "metadata": {},
   "source": [
    "Hypothesis T3H5 is not true.\n",
    "We can see that adding one more nodes to Dense layer has actually degraded the performances. It needs to be tested if adding a pooling layers would improve the accuracy or it may require more epochs"
   ]
  },
  {
   "cell_type": "markdown",
   "metadata": {},
   "source": [
    "**Hypothesis T3_H5_3 - Both Conv2D layer nodes are doubled**"
   ]
  },
  {
   "cell_type": "code",
   "execution_count": 58,
   "metadata": {},
   "outputs": [],
   "source": [
    "def build_task3h5_3_model(activation, n_classes, filter_size, hidden_dense_units):\n",
    "    \n",
    "    model = Sequential()\n",
    "    \n",
    "    # Conv 2D layer 1\n",
    "    # changing the number of nodes for both layers to 64 \n",
    "    model.add(Conv2D(64, filter_size, input_shape=(28, 28, 1), activation=activation))\n",
    "    model.add(Conv2D(64, filter_size, activation=activation))\n",
    "    \n",
    "      \n",
    "    #Dense layer 1\n",
    "    model.add(Flatten())\n",
    "    model.add(Dense(units=hidden_dense_units, activation=activation))\n",
    "    model.add(Flatten())\n",
    "    model.add(Dense(n_classes))\n",
    "    model.add(Activation(\"softmax\"))\n",
    "    return model"
   ]
  },
  {
   "cell_type": "code",
   "execution_count": 59,
   "metadata": {},
   "outputs": [],
   "source": [
    "# Hyperparameters for Hypothesis T3_H5_3\n",
    "filter_size = (5, 5)\n",
    "activation = \"sigmoid\"\n",
    "learning_rate = 0.01\n",
    "opt = SGD(learning_rate)\n",
    "hidden_dense_units = 128\n",
    "batch_size = 128\n",
    "n_epochs = 5\n",
    "n_classes = len(class_types)\n",
    "metrics = [\"accuracy\"]\n",
    "loss = \"categorical_crossentropy\"\n",
    "n_epochs = 5"
   ]
  },
  {
   "cell_type": "code",
   "execution_count": 60,
   "metadata": {},
   "outputs": [
    {
     "name": "stdout",
     "output_type": "stream",
     "text": [
      "Epoch 1/5\n",
      "375/375 [==============================] - 3s 9ms/step - loss: 2.3092 - accuracy: 0.1032\n",
      "Epoch 2/5\n",
      "375/375 [==============================] - 3s 9ms/step - loss: 2.3030 - accuracy: 0.1091\n",
      "Epoch 3/5\n",
      "375/375 [==============================] - 3s 9ms/step - loss: 2.3013 - accuracy: 0.1120\n",
      "Epoch 4/5\n",
      "375/375 [==============================] - 3s 9ms/step - loss: 2.2997 - accuracy: 0.1147\n",
      "Epoch 5/5\n",
      "375/375 [==============================] - 3s 9ms/step - loss: 2.2963 - accuracy: 0.1238\n"
     ]
    }
   ],
   "source": [
    "t3h5_3_model = build_model(build_task3h5_3_model, activation, n_classes, filter_size, hidden_dense_units)\n",
    "t3h5_3_model_hist, t3h5_3_model = run_model(t3h5_3_model, loss, \n",
    "                                              opt, metrics, n_epochs, \n",
    "                                              batch_size, validation_data=None)"
   ]
  },
  {
   "cell_type": "code",
   "execution_count": 61,
   "metadata": {},
   "outputs": [
    {
     "name": "stdout",
     "output_type": "stream",
     "text": [
      "Model Accuracy 0.0958\n"
     ]
    }
   ],
   "source": [
    "# evaluate the network\n",
    "predictions = t3h5_3_model.predict(testX, batch_size=batch_size)\n",
    "acc_score = accuracy_score(testY.argmax(axis=1),\n",
    "                           predictions.argmax(axis=1))\n",
    "print(f\"Model Accuracy {acc_score}\")"
   ]
  },
  {
   "cell_type": "markdown",
   "metadata": {},
   "source": [
    "#### Improving the models built in Task 1 and Task 2\n",
    "**Hypothesis T3_H6 - Increasing the number of nodes in the Dense layer can increase accuracy?**"
   ]
  },
  {
   "cell_type": "code",
   "execution_count": 63,
   "metadata": {},
   "outputs": [],
   "source": [
    "# Hyperparameters for Hypothesis T3_H6\n",
    "filter_size = (5, 5)\n",
    "activation = \"sigmoid\"\n",
    "learning_rate = 0.01\n",
    "opt = SGD(learning_rate)\n",
    "# reducing the hidden_dense_units to 256\n",
    "hidden_dense_units = 256\n",
    "batch_size = 128\n",
    "n_epochs = 5\n",
    "n_classes = len(class_types)\n",
    "metrics = [\"accuracy\"]\n",
    "loss = \"categorical_crossentropy\"\n",
    "n_epochs = 5"
   ]
  },
  {
   "cell_type": "code",
   "execution_count": 64,
   "metadata": {},
   "outputs": [],
   "source": [
    "def build_task3h6_model(activation, n_classes, filter_size, hidden_dense_units):\n",
    "    # Task 2\n",
    "    model = Sequential()\n",
    "    \n",
    "    # Conv 2D layer 1\n",
    "    model.add(Conv2D(32, filter_size, input_shape=(28, 28, 1), activation=activation))\n",
    "    model.add(Conv2D(32, filter_size, activation=activation))\n",
    "    \n",
    "      \n",
    "    #Dense layer 1\n",
    "    model.add(Flatten())\n",
    "    model.add(Dense(units=hidden_dense_units, activation=activation))\n",
    "    model.add(Flatten())\n",
    "    model.add(Dense(n_classes))\n",
    "    model.add(Activation(\"softmax\"))\n",
    "    return model"
   ]
  },
  {
   "cell_type": "code",
   "execution_count": 65,
   "metadata": {},
   "outputs": [
    {
     "name": "stdout",
     "output_type": "stream",
     "text": [
      "Epoch 1/5\n",
      "375/375 [==============================] - 2s 5ms/step - loss: 2.3091 - accuracy: 0.1053\n",
      "Epoch 2/5\n",
      "375/375 [==============================] - 2s 6ms/step - loss: 2.3030 - accuracy: 0.1095\n",
      "Epoch 3/5\n",
      "375/375 [==============================] - 2s 5ms/step - loss: 2.2961 - accuracy: 0.1180\n",
      "Epoch 4/5\n",
      "375/375 [==============================] - 2s 5ms/step - loss: 2.2804 - accuracy: 0.1521\n",
      "Epoch 5/5\n",
      "375/375 [==============================] - 2s 6ms/step - loss: 2.2067 - accuracy: 0.2963\n"
     ]
    }
   ],
   "source": [
    "t3h6_model = build_model(build_task3h6_model, activation, n_classes, filter_size, hidden_dense_units)\n",
    "t3h6_model_hist, t3h6_model = run_model(t3h6_model, loss, \n",
    "                                              opt, metrics, n_epochs, \n",
    "                                              batch_size, validation_data=None)"
   ]
  },
  {
   "cell_type": "code",
   "execution_count": 66,
   "metadata": {},
   "outputs": [
    {
     "name": "stdout",
     "output_type": "stream",
     "text": [
      "Model: \"sequential_35\"\n",
      "_________________________________________________________________\n",
      "Layer (type)                 Output Shape              Param #   \n",
      "=================================================================\n",
      "conv2d_60 (Conv2D)           (None, 24, 24, 32)        832       \n",
      "_________________________________________________________________\n",
      "conv2d_61 (Conv2D)           (None, 20, 20, 32)        25632     \n",
      "_________________________________________________________________\n",
      "flatten_60 (Flatten)         (None, 12800)             0         \n",
      "_________________________________________________________________\n",
      "dense_60 (Dense)             (None, 256)               3277056   \n",
      "_________________________________________________________________\n",
      "flatten_61 (Flatten)         (None, 256)               0         \n",
      "_________________________________________________________________\n",
      "dense_61 (Dense)             (None, 10)                2570      \n",
      "_________________________________________________________________\n",
      "activation_24 (Activation)   (None, 10)                0         \n",
      "=================================================================\n",
      "Total params: 3,306,090\n",
      "Trainable params: 3,306,090\n",
      "Non-trainable params: 0\n",
      "_________________________________________________________________\n"
     ]
    }
   ],
   "source": [
    "t3h6_model.summary()"
   ]
  },
  {
   "cell_type": "code",
   "execution_count": 67,
   "metadata": {},
   "outputs": [
    {
     "name": "stdout",
     "output_type": "stream",
     "text": [
      "Model Accuracy 0.3698\n"
     ]
    }
   ],
   "source": [
    "# evaluate the network\n",
    "predictions = t3h6_model.predict(testX, batch_size=128)\n",
    "acc_score = accuracy_score(testY.argmax(axis=1),\n",
    "                           predictions.argmax(axis=1))\n",
    "print(f\"Model Accuracy {acc_score}\")"
   ]
  },
  {
   "cell_type": "markdown",
   "metadata": {},
   "source": [
    "#### Improving the models built in Task 1 and Task 2\n",
    "**Hypothesis T3_H7_1 - Reducing the learning rate can improve accuracy?**\n",
    "\n",
    "The model built for Task 2 will be used for checking this"
   ]
  },
  {
   "cell_type": "code",
   "execution_count": 68,
   "metadata": {},
   "outputs": [],
   "source": [
    "# Hyperparameters for Hypothesis T3_H7\n",
    "filter_size = (5, 5)\n",
    "activation = \"sigmoid\"\n",
    "# reducing the learning rate to 0.001\n",
    "learning_rate = 0.001\n",
    "opt = SGD(learning_rate)\n",
    "hidden_dense_units = 128\n",
    "batch_size = 128\n",
    "n_epochs = 5\n",
    "n_classes = len(class_types)\n",
    "metrics = [\"accuracy\"]\n",
    "loss = \"categorical_crossentropy\"\n",
    "n_epochs = 5"
   ]
  },
  {
   "cell_type": "code",
   "execution_count": 69,
   "metadata": {},
   "outputs": [
    {
     "name": "stdout",
     "output_type": "stream",
     "text": [
      "Epoch 1/5\n",
      "375/375 [==============================] - 2s 5ms/step - loss: 2.3099 - accuracy: 0.1073\n",
      "Epoch 2/5\n",
      "375/375 [==============================] - 2s 5ms/step - loss: 2.3016 - accuracy: 0.1101\n",
      "Epoch 3/5\n",
      "375/375 [==============================] - 2s 5ms/step - loss: 2.3014 - accuracy: 0.1112\n",
      "Epoch 4/5\n",
      "375/375 [==============================] - 2s 5ms/step - loss: 2.3012 - accuracy: 0.1127\n",
      "Epoch 5/5\n",
      "375/375 [==============================] - 2s 5ms/step - loss: 2.3008 - accuracy: 0.1116\n"
     ]
    }
   ],
   "source": [
    "# train the task 2 model for learning rate = 0.001\n",
    "t2_model = build_model(build_task2_model, activation, n_classes, filter_size, hidden_dense_units)\n",
    "t2_model_hist, t2_model = run_model(t2_model, loss, \n",
    "                                              opt, metrics, n_epochs, \n",
    "                                              batch_size, validation_data=None)"
   ]
  },
  {
   "cell_type": "code",
   "execution_count": 70,
   "metadata": {},
   "outputs": [
    {
     "name": "stdout",
     "output_type": "stream",
     "text": [
      "Model Accuracy 0.1135\n"
     ]
    }
   ],
   "source": [
    "# evaluate the network\n",
    "predictions = t2_model.predict(testX, batch_size=128)\n",
    "acc_score = accuracy_score(testY.argmax(axis=1),\n",
    "                           predictions.argmax(axis=1))\n",
    "print(f\"Model Accuracy {acc_score}\")"
   ]
  },
  {
   "cell_type": "markdown",
   "metadata": {},
   "source": [
    "Hypothesis T3H6 is not true.\n",
    "We can see that reducing learning rate has actually degraded the performances. It needs to be tested if adding a pooling layers would improve the accuracy or it may require more epochs"
   ]
  },
  {
   "cell_type": "markdown",
   "metadata": {},
   "source": [
    "#### Improving the models built in Task 1 and Task 2\n",
    "**Hypothesis T3_H7_2 - Increasing the learning rate can improve accuracy?**"
   ]
  },
  {
   "cell_type": "code",
   "execution_count": 71,
   "metadata": {},
   "outputs": [],
   "source": [
    "# Hyperparameters for Hypothesis T3_H7\n",
    "filter_size = (5, 5)\n",
    "activation = \"sigmoid\"\n",
    "# change the learning rate to 0.1\n",
    "learning_rate = 0.1\n",
    "opt = SGD(learning_rate)\n",
    "hidden_dense_units = 128\n",
    "batch_size = 128\n",
    "n_epochs = 5\n",
    "n_classes = len(class_types)\n",
    "metrics = [\"accuracy\"]\n",
    "loss = \"categorical_crossentropy\"\n",
    "n_epochs = 5\n"
   ]
  },
  {
   "cell_type": "code",
   "execution_count": 72,
   "metadata": {},
   "outputs": [
    {
     "name": "stdout",
     "output_type": "stream",
     "text": [
      "Epoch 1/5\n",
      "375/375 [==============================] - 2s 5ms/step - loss: 2.3151 - accuracy: 0.1040\n",
      "Epoch 2/5\n",
      "375/375 [==============================] - 2s 5ms/step - loss: 1.3143 - accuracy: 0.5578\n",
      "Epoch 3/5\n",
      "375/375 [==============================] - 2s 5ms/step - loss: 0.3762 - accuracy: 0.8894\n",
      "Epoch 4/5\n",
      "375/375 [==============================] - 2s 5ms/step - loss: 0.2881 - accuracy: 0.9146\n",
      "Epoch 5/5\n",
      "375/375 [==============================] - 2s 5ms/step - loss: 0.2400 - accuracy: 0.9286\n"
     ]
    }
   ],
   "source": [
    "# train the task 2 model for learning rate = 0.001\n",
    "t2_model = build_model(build_task2_model, activation, n_classes, filter_size, hidden_dense_units)\n",
    "t2_model_hist, t2_model = run_model(t2_model, loss, \n",
    "                                              opt, metrics, n_epochs, \n",
    "                                              batch_size, validation_data=None)"
   ]
  },
  {
   "cell_type": "code",
   "execution_count": 73,
   "metadata": {},
   "outputs": [
    {
     "name": "stdout",
     "output_type": "stream",
     "text": [
      "Model Accuracy 0.9357\n"
     ]
    }
   ],
   "source": [
    "# evaluate the network\n",
    "predictions = t2_model.predict(testX, batch_size=128)\n",
    "acc_score = accuracy_score(testY.argmax(axis=1),\n",
    "                           predictions.argmax(axis=1))\n",
    "print(f\"Model Accuracy {acc_score}\")"
   ]
  },
  {
   "cell_type": "markdown",
   "metadata": {},
   "source": [
    "Hypothesis T3H7 is not true.\n",
    "We can see that reducing learning rate has actually degraded the performances. It needs to be tested if adding a pooling layers would improve the accuracy or it may require more epochs"
   ]
  },
  {
   "cell_type": "markdown",
   "metadata": {},
   "source": [
    "#### Improving the models built in Task 1 and Task 2\n",
    "**Hypothesis T3_H8 - Training with the holdout Validation set can improve accuracy?**"
   ]
  },
  {
   "cell_type": "code",
   "execution_count": 74,
   "metadata": {},
   "outputs": [],
   "source": [
    "# Hyperparameters for Hypothesis T3_H7\n",
    "filter_size = (5, 5)\n",
    "activation = \"sigmoid\"\n",
    "learning_rate = 0.01\n",
    "opt = SGD(learning_rate)\n",
    "hidden_dense_units = 128\n",
    "batch_size = 128\n",
    "n_epochs = 5\n",
    "n_classes = len(class_types)\n",
    "metrics = [\"accuracy\"]\n",
    "loss = \"categorical_crossentropy\"\n",
    "n_epochs = 5"
   ]
  },
  {
   "cell_type": "code",
   "execution_count": 75,
   "metadata": {},
   "outputs": [
    {
     "name": "stdout",
     "output_type": "stream",
     "text": [
      "Epoch 1/5\n",
      "375/375 [==============================] - 2s 6ms/step - loss: 2.3071 - accuracy: 0.1049 - val_loss: 2.3045 - val_accuracy: 0.1044\n",
      "Epoch 2/5\n",
      "375/375 [==============================] - 2s 6ms/step - loss: 2.3021 - accuracy: 0.1105 - val_loss: 2.3023 - val_accuracy: 0.0988\n",
      "Epoch 3/5\n",
      "375/375 [==============================] - 2s 6ms/step - loss: 2.2969 - accuracy: 0.1220 - val_loss: 2.2937 - val_accuracy: 0.1123\n",
      "Epoch 4/5\n",
      "375/375 [==============================] - 2s 6ms/step - loss: 2.2872 - accuracy: 0.1403 - val_loss: 2.2784 - val_accuracy: 0.1047\n",
      "Epoch 5/5\n",
      "375/375 [==============================] - 2s 6ms/step - loss: 2.2544 - accuracy: 0.2225 - val_loss: 2.2191 - val_accuracy: 0.1799\n"
     ]
    }
   ],
   "source": [
    "# train the task 2 model with Validation Data\n",
    "t2_model = build_model(build_task2_model, activation, n_classes, filter_size, hidden_dense_units)\n",
    "t2_model_hist, t2_model = run_model(t2_model, loss, \n",
    "                                              opt, metrics, n_epochs, \n",
    "                                              batch_size, validation_data=(valX, valY))"
   ]
  },
  {
   "cell_type": "code",
   "execution_count": 76,
   "metadata": {},
   "outputs": [
    {
     "name": "stdout",
     "output_type": "stream",
     "text": [
      "Model Accuracy 0.1759\n"
     ]
    }
   ],
   "source": [
    "# evaluate the network\n",
    "predictions = t2_model.predict(testX, batch_size=128)\n",
    "acc_score = accuracy_score(testY.argmax(axis=1),\n",
    "                           predictions.argmax(axis=1))\n",
    "print(f\"Model Accuracy {acc_score}\")"
   ]
  },
  {
   "cell_type": "code",
   "execution_count": 78,
   "metadata": {},
   "outputs": [
    {
     "data": {
      "image/png": "[encoded data removed]",
      "text/plain": [
       "<Figure size 576x432 with 1 Axes>"
      ]
     },
     "metadata": {},
     "output_type": "display_data"
    }
   ],
   "source": [
    "plot_summary(t2_model_hist, n_epochs, valid=True)"
   ]
  },
  {
   "cell_type": "markdown",
   "metadata": {},
   "source": [
    "There is not much improvement the accuracy - however it seems like the training curve is close to the validation curve - which means lesser overfitting if more epochs are run or more hypertuning is performed. The Task 4 will use Validation data all the time."
   ]
  },
  {
   "cell_type": "markdown",
   "metadata": {},
   "source": [
    "#### Task 4\n",
    "Change or adopt any archiecture and improve the quality metrics.\n",
    "The approach will be take the model used for Task 2 and improve the Accuracy there onwards.\n",
    "The approach will look at a simplistic convolutional neural network and build by adding various architectural components and build an architecture that has best possible results from this project work perspective."
   ]
  },
  {
   "cell_type": "code",
   "execution_count": 27,
   "metadata": {},
   "outputs": [],
   "source": [
    "filter_size = (5, 5)\n",
    "activation = \"sigmoid\"\n",
    "learning_rate = 0.01\n",
    "opt = SGD(learning_rate)\n",
    "hidden_dense_units = 128\n",
    "batch_size = 128\n",
    "n_epochs = 5\n",
    "n_classes = len(class_types)\n",
    "metrics = [\"accuracy\"]\n",
    "loss = \"categorical_crossentropy\""
   ]
  },
  {
   "cell_type": "code",
   "execution_count": 28,
   "metadata": {},
   "outputs": [],
   "source": [
    "# Task 4 model - baseline\n",
    "t4_model = Sequential()\n",
    "t4_model.add(Conv2D(32, filter_size, input_shape=(28, 28, 1), activation=activation))\n",
    "t4_model.add(Conv2D(32, filter_size, activation=activation))\n",
    "t4_model.add(Flatten())\n",
    "t4_model.add(Dense(units=hidden_dense_units, activation=activation))\n",
    "t4_model.add(Flatten())\n",
    "t4_model.add(Dense(n_classes))\n",
    "t4_model.add(Activation(\"softmax\"))\n",
    "                \n",
    "        "
   ]
  },
  {
   "cell_type": "code",
   "execution_count": 29,
   "metadata": {},
   "outputs": [
    {
     "name": "stdout",
     "output_type": "stream",
     "text": [
      "Epoch 1/5\n",
      "375/375 [==============================] - 2s 7ms/step - loss: 2.3078 - accuracy: 0.1048 - val_loss: 2.3023 - val_accuracy: 0.1044\n",
      "Epoch 2/5\n",
      "375/375 [==============================] - 2s 6ms/step - loss: 2.3020 - accuracy: 0.1118 - val_loss: 2.3006 - val_accuracy: 0.0988\n",
      "Epoch 3/5\n",
      "375/375 [==============================] - 2s 6ms/step - loss: 2.2969 - accuracy: 0.1185 - val_loss: 2.2934 - val_accuracy: 0.1123\n",
      "Epoch 4/5\n",
      "375/375 [==============================] - 2s 6ms/step - loss: 2.2861 - accuracy: 0.1408 - val_loss: 2.2753 - val_accuracy: 0.1252\n",
      "Epoch 5/5\n",
      "375/375 [==============================] - 2s 6ms/step - loss: 2.2348 - accuracy: 0.2527 - val_loss: 2.1618 - val_accuracy: 0.2868\n"
     ]
    }
   ],
   "source": [
    "t4_model.compile(loss=loss, optimizer=opt,\n",
    "            metrics=metrics)\n",
    "H = t4_model.fit(trainX, trainY, validation_data=(valX, valY),\n",
    "                   epochs=n_epochs, batch_size=batch_size)                          "
   ]
  },
  {
   "cell_type": "code",
   "execution_count": 30,
   "metadata": {},
   "outputs": [
    {
     "name": "stdout",
     "output_type": "stream",
     "text": [
      "Model: \"sequential_1\"\n",
      "_________________________________________________________________\n",
      "Layer (type)                 Output Shape              Param #   \n",
      "=================================================================\n",
      "conv2d (Conv2D)              (None, 24, 24, 32)        832       \n",
      "_________________________________________________________________\n",
      "conv2d_1 (Conv2D)            (None, 20, 20, 32)        25632     \n",
      "_________________________________________________________________\n",
      "flatten (Flatten)            (None, 12800)             0         \n",
      "_________________________________________________________________\n",
      "dense (Dense)                (None, 128)               1638528   \n",
      "_________________________________________________________________\n",
      "flatten_1 (Flatten)          (None, 128)               0         \n",
      "_________________________________________________________________\n",
      "dense_1 (Dense)              (None, 10)                1290      \n",
      "_________________________________________________________________\n",
      "activation (Activation)      (None, 10)                0         \n",
      "=================================================================\n",
      "Total params: 1,666,282\n",
      "Trainable params: 1,666,282\n",
      "Non-trainable params: 0\n",
      "_________________________________________________________________\n"
     ]
    }
   ],
   "source": [
    "t4_model.summary()"
   ]
  },
  {
   "cell_type": "code",
   "execution_count": 32,
   "metadata": {},
   "outputs": [
    {
     "name": "stdout",
     "output_type": "stream",
     "text": [
      "Model Accuracy 0.2862\n"
     ]
    }
   ],
   "source": [
    "# evaluate the network\n",
    "predictions = t4_model.predict(testX, batch_size=batch_size)\n",
    "acc_score = accuracy_score(testY.argmax(axis=1),\n",
    "                           predictions.argmax(axis=1))\n",
    "print(f\"Model Accuracy {acc_score}\")"
   ]
  },
  {
   "cell_type": "code",
   "execution_count": 35,
   "metadata": {},
   "outputs": [
    {
     "data": {
      "image/png": "[encoded data removed]",
      "text/plain": [
       "<Figure size 576x432 with 1 Axes>"
      ]
     },
     "metadata": {},
     "output_type": "display_data"
    }
   ],
   "source": [
    "plot_summary(H, n_epochs, valid=True)"
   ]
  },
  {
   "cell_type": "markdown",
   "metadata": {},
   "source": [
    "**Hypothesis T4_1 - Number of epochs can improve results**\n",
    "Justification - We had seen this in Task 3 that number epochs can increase accuracy\n",
    "\n",
    "The approach this test is taking to go for a large epoch and check where is the model start to overfit. Or the model starts to stop learning anything. This will be evident from the plot of training and validation accuracies/losses.\n"
   ]
  },
  {
   "cell_type": "code",
   "execution_count": 38,
   "metadata": {},
   "outputs": [
    {
     "name": "stdout",
     "output_type": "stream",
     "text": [
      "Epoch 1/500\n",
      "375/375 [==============================] - 2s 6ms/step - loss: 2.3073 - accuracy: 0.1053 - val_loss: 2.3029 - val_accuracy: 0.1044\n",
      "Epoch 2/500\n",
      "375/375 [==============================] - 2s 6ms/step - loss: 2.3015 - accuracy: 0.1112 - val_loss: 2.3019 - val_accuracy: 0.0988\n",
      "Epoch 3/500\n",
      "375/375 [==============================] - 2s 6ms/step - loss: 2.2948 - accuracy: 0.1260 - val_loss: 2.2897 - val_accuracy: 0.1163\n",
      "Epoch 4/500\n",
      "375/375 [==============================] - 2s 6ms/step - loss: 2.2774 - accuracy: 0.1634 - val_loss: 2.2566 - val_accuracy: 0.3142\n",
      "Epoch 5/500\n",
      "375/375 [==============================] - 2s 6ms/step - loss: 2.1818 - accuracy: 0.3316 - val_loss: 2.0313 - val_accuracy: 0.4773\n",
      "Epoch 6/500\n",
      "375/375 [==============================] - 2s 6ms/step - loss: 1.5814 - accuracy: 0.6513 - val_loss: 1.1251 - val_accuracy: 0.7561\n",
      "Epoch 7/500\n",
      "375/375 [==============================] - 2s 6ms/step - loss: 0.8780 - accuracy: 0.7987 - val_loss: 0.7205 - val_accuracy: 0.8283\n",
      "Epoch 8/500\n",
      "375/375 [==============================] - 2s 6ms/step - loss: 0.6381 - accuracy: 0.8402 - val_loss: 0.5782 - val_accuracy: 0.8461\n",
      "Epoch 9/500\n",
      "375/375 [==============================] - 2s 6ms/step - loss: 0.5373 - accuracy: 0.8579 - val_loss: 0.5060 - val_accuracy: 0.8653\n",
      "Epoch 10/500\n",
      "375/375 [==============================] - 2s 6ms/step - loss: 0.4796 - accuracy: 0.8698 - val_loss: 0.4587 - val_accuracy: 0.8717\n",
      "Epoch 11/500\n",
      "375/375 [==============================] - 2s 6ms/step - loss: 0.4416 - accuracy: 0.8771 - val_loss: 0.4262 - val_accuracy: 0.8823\n",
      "Epoch 12/500\n",
      "375/375 [==============================] - 2s 6ms/step - loss: 0.4141 - accuracy: 0.8832 - val_loss: 0.4022 - val_accuracy: 0.8859\n",
      "Epoch 13/500\n",
      "375/375 [==============================] - 2s 6ms/step - loss: 0.3928 - accuracy: 0.8876 - val_loss: 0.3827 - val_accuracy: 0.8909\n",
      "Epoch 14/500\n",
      "375/375 [==============================] - 2s 6ms/step - loss: 0.3757 - accuracy: 0.8917 - val_loss: 0.3676 - val_accuracy: 0.8943\n",
      "Epoch 15/500\n",
      "375/375 [==============================] - 2s 6ms/step - loss: 0.3613 - accuracy: 0.8953 - val_loss: 0.3538 - val_accuracy: 0.8981\n",
      "Epoch 16/500\n",
      "375/375 [==============================] - 2s 6ms/step - loss: 0.3484 - accuracy: 0.8988 - val_loss: 0.3436 - val_accuracy: 0.8999\n",
      "Epoch 17/500\n",
      "375/375 [==============================] - 2s 6ms/step - loss: 0.3376 - accuracy: 0.9011 - val_loss: 0.3310 - val_accuracy: 0.9038\n",
      "Epoch 18/500\n",
      "375/375 [==============================] - 2s 6ms/step - loss: 0.3275 - accuracy: 0.9040 - val_loss: 0.3227 - val_accuracy: 0.9066\n",
      "Epoch 19/500\n",
      "375/375 [==============================] - 2s 6ms/step - loss: 0.3183 - accuracy: 0.9069 - val_loss: 0.3149 - val_accuracy: 0.9080\n",
      "Epoch 20/500\n",
      "375/375 [==============================] - 2s 6ms/step - loss: 0.3103 - accuracy: 0.9086 - val_loss: 0.3067 - val_accuracy: 0.9109\n",
      "Epoch 21/500\n",
      "375/375 [==============================] - 2s 6ms/step - loss: 0.3024 - accuracy: 0.9109 - val_loss: 0.2995 - val_accuracy: 0.9136\n",
      "Epoch 22/500\n",
      "375/375 [==============================] - 2s 6ms/step - loss: 0.2947 - accuracy: 0.9135 - val_loss: 0.2932 - val_accuracy: 0.9151\n",
      "Epoch 23/500\n",
      "375/375 [==============================] - 2s 6ms/step - loss: 0.2878 - accuracy: 0.9157 - val_loss: 0.2861 - val_accuracy: 0.9161\n",
      "Epoch 24/500\n",
      "375/375 [==============================] - 2s 6ms/step - loss: 0.2816 - accuracy: 0.9174 - val_loss: 0.2808 - val_accuracy: 0.9176\n",
      "Epoch 25/500\n",
      "375/375 [==============================] - 2s 6ms/step - loss: 0.2754 - accuracy: 0.9191 - val_loss: 0.2759 - val_accuracy: 0.9205\n",
      "Epoch 26/500\n",
      "375/375 [==============================] - 2s 6ms/step - loss: 0.2693 - accuracy: 0.9208 - val_loss: 0.2698 - val_accuracy: 0.9207\n",
      "Epoch 27/500\n",
      "375/375 [==============================] - 2s 6ms/step - loss: 0.2639 - accuracy: 0.9225 - val_loss: 0.2647 - val_accuracy: 0.9219\n",
      "Epoch 28/500\n",
      "375/375 [==============================] - 2s 6ms/step - loss: 0.2583 - accuracy: 0.9250 - val_loss: 0.2589 - val_accuracy: 0.9244\n",
      "Epoch 29/500\n",
      "375/375 [==============================] - 2s 6ms/step - loss: 0.2534 - accuracy: 0.9261 - val_loss: 0.2547 - val_accuracy: 0.9251\n",
      "Epoch 30/500\n",
      "375/375 [==============================] - 2s 6ms/step - loss: 0.2484 - accuracy: 0.9269 - val_loss: 0.2505 - val_accuracy: 0.9263\n",
      "Epoch 31/500\n",
      "375/375 [==============================] - 2s 6ms/step - loss: 0.2437 - accuracy: 0.9286 - val_loss: 0.2452 - val_accuracy: 0.9283\n",
      "Epoch 32/500\n",
      "375/375 [==============================] - 2s 6ms/step - loss: 0.2391 - accuracy: 0.9305 - val_loss: 0.2420 - val_accuracy: 0.9293\n",
      "Epoch 33/500\n",
      "375/375 [==============================] - 2s 6ms/step - loss: 0.2346 - accuracy: 0.9316 - val_loss: 0.2384 - val_accuracy: 0.9286\n",
      "Epoch 34/500\n",
      "375/375 [==============================] - 2s 6ms/step - loss: 0.2304 - accuracy: 0.9331 - val_loss: 0.2362 - val_accuracy: 0.9312\n",
      "Epoch 35/500\n",
      "375/375 [==============================] - 2s 6ms/step - loss: 0.2264 - accuracy: 0.9343 - val_loss: 0.2303 - val_accuracy: 0.9324\n",
      "Epoch 36/500\n",
      "375/375 [==============================] - 2s 6ms/step - loss: 0.2227 - accuracy: 0.9355 - val_loss: 0.2273 - val_accuracy: 0.9326\n",
      "Epoch 37/500\n",
      "375/375 [==============================] - 2s 6ms/step - loss: 0.2188 - accuracy: 0.9363 - val_loss: 0.2246 - val_accuracy: 0.9351\n",
      "Epoch 38/500\n",
      "375/375 [==============================] - 2s 6ms/step - loss: 0.2154 - accuracy: 0.9375 - val_loss: 0.2203 - val_accuracy: 0.9348\n",
      "Epoch 39/500\n",
      "375/375 [==============================] - 2s 6ms/step - loss: 0.2118 - accuracy: 0.9387 - val_loss: 0.2177 - val_accuracy: 0.9367\n",
      "Epoch 40/500\n",
      "375/375 [==============================] - 2s 6ms/step - loss: 0.2084 - accuracy: 0.9398 - val_loss: 0.2146 - val_accuracy: 0.9373\n",
      "Epoch 41/500\n",
      "375/375 [==============================] - 2s 6ms/step - loss: 0.2050 - accuracy: 0.9412 - val_loss: 0.2127 - val_accuracy: 0.9367\n",
      "Epoch 42/500\n",
      "375/375 [==============================] - 2s 6ms/step - loss: 0.2019 - accuracy: 0.9420 - val_loss: 0.2093 - val_accuracy: 0.9380\n",
      "Epoch 43/500\n",
      "375/375 [==============================] - 2s 6ms/step - loss: 0.1989 - accuracy: 0.9428 - val_loss: 0.2061 - val_accuracy: 0.9392\n",
      "Epoch 44/500\n",
      "375/375 [==============================] - 2s 6ms/step - loss: 0.1961 - accuracy: 0.9439 - val_loss: 0.2034 - val_accuracy: 0.9404\n",
      "Epoch 45/500\n",
      "375/375 [==============================] - 2s 6ms/step - loss: 0.1930 - accuracy: 0.9445 - val_loss: 0.2011 - val_accuracy: 0.9418\n",
      "Epoch 46/500\n",
      "375/375 [==============================] - 2s 6ms/step - loss: 0.1902 - accuracy: 0.9455 - val_loss: 0.1974 - val_accuracy: 0.9418\n",
      "Epoch 47/500\n",
      "375/375 [==============================] - 2s 6ms/step - loss: 0.1875 - accuracy: 0.9459 - val_loss: 0.1957 - val_accuracy: 0.9418\n",
      "Epoch 48/500\n",
      "375/375 [==============================] - 2s 6ms/step - loss: 0.1848 - accuracy: 0.9466 - val_loss: 0.1938 - val_accuracy: 0.9436\n",
      "Epoch 49/500\n",
      "375/375 [==============================] - 2s 6ms/step - loss: 0.1824 - accuracy: 0.9474 - val_loss: 0.1907 - val_accuracy: 0.9444\n",
      "Epoch 50/500\n",
      "375/375 [==============================] - 2s 6ms/step - loss: 0.1800 - accuracy: 0.9479 - val_loss: 0.1889 - val_accuracy: 0.9445\n",
      "Epoch 51/500\n",
      "375/375 [==============================] - 2s 6ms/step - loss: 0.1775 - accuracy: 0.9490 - val_loss: 0.1865 - val_accuracy: 0.9446\n",
      "Epoch 52/500\n",
      "375/375 [==============================] - 2s 6ms/step - loss: 0.1753 - accuracy: 0.9496 - val_loss: 0.1845 - val_accuracy: 0.9458\n",
      "Epoch 53/500\n",
      "375/375 [==============================] - 2s 6ms/step - loss: 0.1731 - accuracy: 0.9504 - val_loss: 0.1826 - val_accuracy: 0.9456\n",
      "Epoch 54/500\n",
      "375/375 [==============================] - 2s 6ms/step - loss: 0.1709 - accuracy: 0.9512 - val_loss: 0.1802 - val_accuracy: 0.9480\n",
      "Epoch 55/500\n",
      "375/375 [==============================] - 2s 6ms/step - loss: 0.1688 - accuracy: 0.9516 - val_loss: 0.1786 - val_accuracy: 0.9477\n",
      "Epoch 56/500\n",
      "375/375 [==============================] - 2s 6ms/step - loss: 0.1667 - accuracy: 0.9524 - val_loss: 0.1767 - val_accuracy: 0.9482\n",
      "Epoch 57/500\n",
      "375/375 [==============================] - 2s 6ms/step - loss: 0.1645 - accuracy: 0.9529 - val_loss: 0.1761 - val_accuracy: 0.9485\n"
     ]
    },
    {
     "name": "stdout",
     "output_type": "stream",
     "text": [
      "Epoch 58/500\n",
      "375/375 [==============================] - 2s 6ms/step - loss: 0.1627 - accuracy: 0.9538 - val_loss: 0.1734 - val_accuracy: 0.9504\n",
      "Epoch 59/500\n",
      "375/375 [==============================] - 2s 6ms/step - loss: 0.1608 - accuracy: 0.9544 - val_loss: 0.1719 - val_accuracy: 0.9501\n",
      "Epoch 60/500\n",
      "375/375 [==============================] - 2s 6ms/step - loss: 0.1588 - accuracy: 0.9549 - val_loss: 0.1699 - val_accuracy: 0.9503\n",
      "Epoch 61/500\n",
      "375/375 [==============================] - 2s 6ms/step - loss: 0.1571 - accuracy: 0.9559 - val_loss: 0.1688 - val_accuracy: 0.9512\n",
      "Epoch 62/500\n",
      "375/375 [==============================] - 2s 6ms/step - loss: 0.1552 - accuracy: 0.9566 - val_loss: 0.1672 - val_accuracy: 0.9523\n",
      "Epoch 63/500\n",
      "375/375 [==============================] - 2s 6ms/step - loss: 0.1537 - accuracy: 0.9565 - val_loss: 0.1655 - val_accuracy: 0.9527\n",
      "Epoch 64/500\n",
      "375/375 [==============================] - 2s 6ms/step - loss: 0.1518 - accuracy: 0.9572 - val_loss: 0.1642 - val_accuracy: 0.9521\n",
      "Epoch 65/500\n",
      "375/375 [==============================] - 2s 6ms/step - loss: 0.1503 - accuracy: 0.9575 - val_loss: 0.1622 - val_accuracy: 0.9532\n",
      "Epoch 66/500\n",
      "375/375 [==============================] - 2s 6ms/step - loss: 0.1486 - accuracy: 0.9578 - val_loss: 0.1606 - val_accuracy: 0.9538\n",
      "Epoch 67/500\n",
      "375/375 [==============================] - 2s 6ms/step - loss: 0.1471 - accuracy: 0.9585 - val_loss: 0.1597 - val_accuracy: 0.9544\n",
      "Epoch 68/500\n",
      "375/375 [==============================] - 2s 6ms/step - loss: 0.1452 - accuracy: 0.9591 - val_loss: 0.1584 - val_accuracy: 0.9548\n",
      "Epoch 69/500\n",
      "375/375 [==============================] - 2s 6ms/step - loss: 0.1438 - accuracy: 0.9598 - val_loss: 0.1566 - val_accuracy: 0.9555\n",
      "Epoch 70/500\n",
      "375/375 [==============================] - 2s 6ms/step - loss: 0.1423 - accuracy: 0.9602 - val_loss: 0.1557 - val_accuracy: 0.9557\n",
      "Epoch 71/500\n",
      "375/375 [==============================] - 2s 6ms/step - loss: 0.1409 - accuracy: 0.9606 - val_loss: 0.1549 - val_accuracy: 0.9561\n",
      "Epoch 72/500\n",
      "375/375 [==============================] - 2s 6ms/step - loss: 0.1396 - accuracy: 0.9609 - val_loss: 0.1530 - val_accuracy: 0.9567\n",
      "Epoch 73/500\n",
      "375/375 [==============================] - 2s 6ms/step - loss: 0.1381 - accuracy: 0.9611 - val_loss: 0.1518 - val_accuracy: 0.9578\n",
      "Epoch 74/500\n",
      "375/375 [==============================] - 2s 6ms/step - loss: 0.1368 - accuracy: 0.9615 - val_loss: 0.1511 - val_accuracy: 0.9567\n",
      "Epoch 75/500\n",
      "375/375 [==============================] - 2s 6ms/step - loss: 0.1355 - accuracy: 0.9615 - val_loss: 0.1498 - val_accuracy: 0.9573\n",
      "Epoch 76/500\n",
      "375/375 [==============================] - 2s 6ms/step - loss: 0.1341 - accuracy: 0.9623 - val_loss: 0.1487 - val_accuracy: 0.9575\n",
      "Epoch 77/500\n",
      "375/375 [==============================] - 2s 6ms/step - loss: 0.1326 - accuracy: 0.9634 - val_loss: 0.1475 - val_accuracy: 0.9588\n",
      "Epoch 78/500\n",
      "375/375 [==============================] - 2s 6ms/step - loss: 0.1315 - accuracy: 0.9631 - val_loss: 0.1460 - val_accuracy: 0.9596\n",
      "Epoch 79/500\n",
      "375/375 [==============================] - 2s 6ms/step - loss: 0.1303 - accuracy: 0.9638 - val_loss: 0.1459 - val_accuracy: 0.9586\n",
      "Epoch 80/500\n",
      "375/375 [==============================] - 2s 6ms/step - loss: 0.1291 - accuracy: 0.9640 - val_loss: 0.1448 - val_accuracy: 0.9588\n",
      "Epoch 81/500\n",
      "375/375 [==============================] - 2s 6ms/step - loss: 0.1279 - accuracy: 0.9641 - val_loss: 0.1435 - val_accuracy: 0.9592\n",
      "Epoch 82/500\n",
      "375/375 [==============================] - 2s 6ms/step - loss: 0.1267 - accuracy: 0.9647 - val_loss: 0.1423 - val_accuracy: 0.9590\n",
      "Epoch 83/500\n",
      "375/375 [==============================] - 2s 6ms/step - loss: 0.1256 - accuracy: 0.9650 - val_loss: 0.1414 - val_accuracy: 0.9592\n",
      "Epoch 84/500\n",
      "375/375 [==============================] - 2s 6ms/step - loss: 0.1245 - accuracy: 0.9651 - val_loss: 0.1406 - val_accuracy: 0.9607\n",
      "Epoch 85/500\n",
      "375/375 [==============================] - 2s 6ms/step - loss: 0.1233 - accuracy: 0.9656 - val_loss: 0.1404 - val_accuracy: 0.9607\n",
      "Epoch 86/500\n",
      "375/375 [==============================] - 2s 6ms/step - loss: 0.1223 - accuracy: 0.9658 - val_loss: 0.1391 - val_accuracy: 0.9605\n",
      "Epoch 87/500\n",
      "375/375 [==============================] - 2s 6ms/step - loss: 0.1212 - accuracy: 0.9660 - val_loss: 0.1374 - val_accuracy: 0.9609\n",
      "Epoch 88/500\n",
      "375/375 [==============================] - 2s 6ms/step - loss: 0.1201 - accuracy: 0.9663 - val_loss: 0.1370 - val_accuracy: 0.9613\n",
      "Epoch 89/500\n",
      "375/375 [==============================] - 2s 6ms/step - loss: 0.1193 - accuracy: 0.9667 - val_loss: 0.1359 - val_accuracy: 0.9617\n",
      "Epoch 90/500\n",
      "375/375 [==============================] - 2s 6ms/step - loss: 0.1182 - accuracy: 0.9673 - val_loss: 0.1350 - val_accuracy: 0.9622\n",
      "Epoch 91/500\n",
      "375/375 [==============================] - 2s 6ms/step - loss: 0.1171 - accuracy: 0.9675 - val_loss: 0.1338 - val_accuracy: 0.9622\n",
      "Epoch 92/500\n",
      "375/375 [==============================] - 2s 6ms/step - loss: 0.1161 - accuracy: 0.9681 - val_loss: 0.1336 - val_accuracy: 0.9620\n",
      "Epoch 93/500\n",
      "375/375 [==============================] - 2s 6ms/step - loss: 0.1153 - accuracy: 0.9679 - val_loss: 0.1327 - val_accuracy: 0.9616\n",
      "Epoch 94/500\n",
      "375/375 [==============================] - 2s 6ms/step - loss: 0.1143 - accuracy: 0.9681 - val_loss: 0.1317 - val_accuracy: 0.9623\n",
      "Epoch 95/500\n",
      "375/375 [==============================] - 2s 6ms/step - loss: 0.1132 - accuracy: 0.9687 - val_loss: 0.1306 - val_accuracy: 0.9628\n",
      "Epoch 96/500\n",
      "375/375 [==============================] - 2s 6ms/step - loss: 0.1124 - accuracy: 0.9690 - val_loss: 0.1309 - val_accuracy: 0.9628\n",
      "Epoch 97/500\n",
      "375/375 [==============================] - 2s 6ms/step - loss: 0.1115 - accuracy: 0.9693 - val_loss: 0.1295 - val_accuracy: 0.9628\n",
      "Epoch 98/500\n",
      "375/375 [==============================] - 2s 6ms/step - loss: 0.1105 - accuracy: 0.9694 - val_loss: 0.1290 - val_accuracy: 0.9634\n",
      "Epoch 99/500\n",
      "375/375 [==============================] - 2s 6ms/step - loss: 0.1098 - accuracy: 0.9695 - val_loss: 0.1281 - val_accuracy: 0.9633\n",
      "Epoch 100/500\n",
      "375/375 [==============================] - 2s 6ms/step - loss: 0.1088 - accuracy: 0.9701 - val_loss: 0.1268 - val_accuracy: 0.9643\n",
      "Epoch 101/500\n",
      "375/375 [==============================] - 2s 6ms/step - loss: 0.1079 - accuracy: 0.9703 - val_loss: 0.1277 - val_accuracy: 0.9638\n",
      "Epoch 102/500\n",
      "375/375 [==============================] - 2s 6ms/step - loss: 0.1072 - accuracy: 0.9706 - val_loss: 0.1260 - val_accuracy: 0.9642\n",
      "Epoch 103/500\n",
      "375/375 [==============================] - 2s 6ms/step - loss: 0.1063 - accuracy: 0.9708 - val_loss: 0.1253 - val_accuracy: 0.9649\n",
      "Epoch 104/500\n",
      "375/375 [==============================] - 2s 6ms/step - loss: 0.1056 - accuracy: 0.9709 - val_loss: 0.1246 - val_accuracy: 0.9635\n",
      "Epoch 105/500\n",
      "375/375 [==============================] - 2s 6ms/step - loss: 0.1047 - accuracy: 0.9711 - val_loss: 0.1237 - val_accuracy: 0.9655\n",
      "Epoch 106/500\n",
      "375/375 [==============================] - 2s 6ms/step - loss: 0.1040 - accuracy: 0.9715 - val_loss: 0.1230 - val_accuracy: 0.9653\n",
      "Epoch 107/500\n",
      "375/375 [==============================] - 2s 6ms/step - loss: 0.1031 - accuracy: 0.9716 - val_loss: 0.1231 - val_accuracy: 0.9643\n",
      "Epoch 108/500\n",
      "375/375 [==============================] - 2s 6ms/step - loss: 0.1025 - accuracy: 0.9719 - val_loss: 0.1217 - val_accuracy: 0.9648\n",
      "Epoch 109/500\n",
      "375/375 [==============================] - 2s 6ms/step - loss: 0.1017 - accuracy: 0.9722 - val_loss: 0.1210 - val_accuracy: 0.9653\n",
      "Epoch 110/500\n",
      "375/375 [==============================] - 2s 6ms/step - loss: 0.1008 - accuracy: 0.9726 - val_loss: 0.1203 - val_accuracy: 0.9657\n",
      "Epoch 111/500\n",
      "375/375 [==============================] - 2s 6ms/step - loss: 0.1000 - accuracy: 0.9724 - val_loss: 0.1202 - val_accuracy: 0.9662\n",
      "Epoch 112/500\n",
      "375/375 [==============================] - 2s 6ms/step - loss: 0.0994 - accuracy: 0.9731 - val_loss: 0.1196 - val_accuracy: 0.9656\n",
      "Epoch 113/500\n",
      "375/375 [==============================] - 2s 6ms/step - loss: 0.0987 - accuracy: 0.9729 - val_loss: 0.1186 - val_accuracy: 0.9663\n",
      "Epoch 114/500\n",
      "375/375 [==============================] - 2s 6ms/step - loss: 0.0979 - accuracy: 0.9729 - val_loss: 0.1184 - val_accuracy: 0.9657\n"
     ]
    },
    {
     "name": "stdout",
     "output_type": "stream",
     "text": [
      "Epoch 115/500\n",
      "375/375 [==============================] - 2s 6ms/step - loss: 0.0972 - accuracy: 0.9733 - val_loss: 0.1176 - val_accuracy: 0.9662\n",
      "Epoch 116/500\n",
      "375/375 [==============================] - 2s 6ms/step - loss: 0.0966 - accuracy: 0.9733 - val_loss: 0.1171 - val_accuracy: 0.9672\n",
      "Epoch 117/500\n",
      "375/375 [==============================] - 2s 6ms/step - loss: 0.0958 - accuracy: 0.9739 - val_loss: 0.1165 - val_accuracy: 0.9667\n",
      "Epoch 118/500\n",
      "375/375 [==============================] - 2s 6ms/step - loss: 0.0952 - accuracy: 0.9737 - val_loss: 0.1162 - val_accuracy: 0.9672\n",
      "Epoch 119/500\n",
      "375/375 [==============================] - 2s 6ms/step - loss: 0.0945 - accuracy: 0.9744 - val_loss: 0.1158 - val_accuracy: 0.9674\n",
      "Epoch 120/500\n",
      "375/375 [==============================] - 2s 6ms/step - loss: 0.0938 - accuracy: 0.9743 - val_loss: 0.1152 - val_accuracy: 0.9667\n",
      "Epoch 121/500\n",
      "375/375 [==============================] - 2s 6ms/step - loss: 0.0932 - accuracy: 0.9744 - val_loss: 0.1143 - val_accuracy: 0.9688\n",
      "Epoch 122/500\n",
      "375/375 [==============================] - 2s 6ms/step - loss: 0.0926 - accuracy: 0.9745 - val_loss: 0.1137 - val_accuracy: 0.9681\n",
      "Epoch 123/500\n",
      "375/375 [==============================] - 2s 6ms/step - loss: 0.0920 - accuracy: 0.9748 - val_loss: 0.1134 - val_accuracy: 0.9685\n",
      "Epoch 124/500\n",
      "375/375 [==============================] - 2s 6ms/step - loss: 0.0913 - accuracy: 0.9746 - val_loss: 0.1135 - val_accuracy: 0.9681\n",
      "Epoch 125/500\n",
      "375/375 [==============================] - 2s 6ms/step - loss: 0.0906 - accuracy: 0.9750 - val_loss: 0.1120 - val_accuracy: 0.9678\n",
      "Epoch 126/500\n",
      "375/375 [==============================] - 2s 6ms/step - loss: 0.0901 - accuracy: 0.9752 - val_loss: 0.1115 - val_accuracy: 0.9693\n",
      "Epoch 127/500\n",
      "375/375 [==============================] - 2s 6ms/step - loss: 0.0895 - accuracy: 0.9756 - val_loss: 0.1111 - val_accuracy: 0.9692\n",
      "Epoch 128/500\n",
      "375/375 [==============================] - 2s 6ms/step - loss: 0.0889 - accuracy: 0.9756 - val_loss: 0.1108 - val_accuracy: 0.9687\n",
      "Epoch 129/500\n",
      "375/375 [==============================] - 2s 6ms/step - loss: 0.0883 - accuracy: 0.9754 - val_loss: 0.1114 - val_accuracy: 0.9691\n",
      "Epoch 130/500\n",
      "375/375 [==============================] - 2s 6ms/step - loss: 0.0878 - accuracy: 0.9761 - val_loss: 0.1100 - val_accuracy: 0.9696\n",
      "Epoch 131/500\n",
      "375/375 [==============================] - 2s 6ms/step - loss: 0.0871 - accuracy: 0.9762 - val_loss: 0.1096 - val_accuracy: 0.9698\n",
      "Epoch 132/500\n",
      "375/375 [==============================] - 2s 6ms/step - loss: 0.0865 - accuracy: 0.9769 - val_loss: 0.1094 - val_accuracy: 0.9698\n",
      "Epoch 133/500\n",
      "375/375 [==============================] - 2s 6ms/step - loss: 0.0860 - accuracy: 0.9769 - val_loss: 0.1085 - val_accuracy: 0.9688\n",
      "Epoch 134/500\n",
      "375/375 [==============================] - 2s 6ms/step - loss: 0.0855 - accuracy: 0.9769 - val_loss: 0.1086 - val_accuracy: 0.9703\n",
      "Epoch 135/500\n",
      "375/375 [==============================] - 2s 6ms/step - loss: 0.0849 - accuracy: 0.9772 - val_loss: 0.1081 - val_accuracy: 0.9693\n",
      "Epoch 136/500\n",
      "375/375 [==============================] - 2s 6ms/step - loss: 0.0844 - accuracy: 0.9771 - val_loss: 0.1078 - val_accuracy: 0.9698\n",
      "Epoch 137/500\n",
      "375/375 [==============================] - 2s 6ms/step - loss: 0.0837 - accuracy: 0.9774 - val_loss: 0.1074 - val_accuracy: 0.9706\n",
      "Epoch 138/500\n",
      "375/375 [==============================] - 2s 6ms/step - loss: 0.0834 - accuracy: 0.9775 - val_loss: 0.1063 - val_accuracy: 0.9712\n",
      "Epoch 139/500\n",
      "375/375 [==============================] - 2s 6ms/step - loss: 0.0828 - accuracy: 0.9782 - val_loss: 0.1061 - val_accuracy: 0.9710\n",
      "Epoch 140/500\n",
      "375/375 [==============================] - 2s 6ms/step - loss: 0.0822 - accuracy: 0.9783 - val_loss: 0.1057 - val_accuracy: 0.9711\n",
      "Epoch 141/500\n",
      "375/375 [==============================] - 2s 6ms/step - loss: 0.0818 - accuracy: 0.9780 - val_loss: 0.1049 - val_accuracy: 0.9699\n",
      "Epoch 142/500\n",
      "375/375 [==============================] - 2s 6ms/step - loss: 0.0812 - accuracy: 0.9784 - val_loss: 0.1048 - val_accuracy: 0.9705\n",
      "Epoch 143/500\n",
      "375/375 [==============================] - 2s 6ms/step - loss: 0.0808 - accuracy: 0.9783 - val_loss: 0.1045 - val_accuracy: 0.9710\n",
      "Epoch 144/500\n",
      "375/375 [==============================] - 2s 6ms/step - loss: 0.0802 - accuracy: 0.9785 - val_loss: 0.1045 - val_accuracy: 0.9701\n",
      "Epoch 145/500\n",
      "375/375 [==============================] - 2s 6ms/step - loss: 0.0797 - accuracy: 0.9787 - val_loss: 0.1036 - val_accuracy: 0.9703\n",
      "Epoch 146/500\n",
      "375/375 [==============================] - 2s 6ms/step - loss: 0.0793 - accuracy: 0.9787 - val_loss: 0.1032 - val_accuracy: 0.9711\n",
      "Epoch 147/500\n",
      "375/375 [==============================] - 2s 6ms/step - loss: 0.0788 - accuracy: 0.9790 - val_loss: 0.1031 - val_accuracy: 0.9712\n",
      "Epoch 148/500\n",
      "375/375 [==============================] - 2s 6ms/step - loss: 0.0783 - accuracy: 0.9792 - val_loss: 0.1022 - val_accuracy: 0.9714\n",
      "Epoch 149/500\n",
      "375/375 [==============================] - 2s 6ms/step - loss: 0.0778 - accuracy: 0.9795 - val_loss: 0.1021 - val_accuracy: 0.9707\n",
      "Epoch 150/500\n",
      "375/375 [==============================] - 2s 6ms/step - loss: 0.0772 - accuracy: 0.9794 - val_loss: 0.1016 - val_accuracy: 0.9716\n",
      "Epoch 151/500\n",
      "375/375 [==============================] - 2s 6ms/step - loss: 0.0768 - accuracy: 0.9796 - val_loss: 0.1017 - val_accuracy: 0.9715\n",
      "Epoch 152/500\n",
      "375/375 [==============================] - 2s 6ms/step - loss: 0.0764 - accuracy: 0.9800 - val_loss: 0.1023 - val_accuracy: 0.9712\n",
      "Epoch 153/500\n",
      "375/375 [==============================] - 2s 6ms/step - loss: 0.0760 - accuracy: 0.9801 - val_loss: 0.1007 - val_accuracy: 0.9719\n",
      "Epoch 154/500\n",
      "375/375 [==============================] - 2s 6ms/step - loss: 0.0754 - accuracy: 0.9800 - val_loss: 0.1001 - val_accuracy: 0.9718\n",
      "Epoch 155/500\n",
      "375/375 [==============================] - 2s 6ms/step - loss: 0.0751 - accuracy: 0.9803 - val_loss: 0.1003 - val_accuracy: 0.9722\n",
      "Epoch 156/500\n",
      "375/375 [==============================] - 2s 6ms/step - loss: 0.0746 - accuracy: 0.9803 - val_loss: 0.1000 - val_accuracy: 0.9718\n",
      "Epoch 157/500\n",
      "375/375 [==============================] - 2s 6ms/step - loss: 0.0742 - accuracy: 0.9803 - val_loss: 0.0994 - val_accuracy: 0.9713\n",
      "Epoch 158/500\n",
      "375/375 [==============================] - 2s 6ms/step - loss: 0.0737 - accuracy: 0.9808 - val_loss: 0.0991 - val_accuracy: 0.9724\n",
      "Epoch 159/500\n",
      "375/375 [==============================] - 2s 6ms/step - loss: 0.0733 - accuracy: 0.9809 - val_loss: 0.0990 - val_accuracy: 0.9721\n",
      "Epoch 160/500\n",
      "375/375 [==============================] - 2s 6ms/step - loss: 0.0729 - accuracy: 0.9810 - val_loss: 0.0989 - val_accuracy: 0.9728\n",
      "Epoch 161/500\n",
      "375/375 [==============================] - 2s 6ms/step - loss: 0.0725 - accuracy: 0.9812 - val_loss: 0.0983 - val_accuracy: 0.9720\n",
      "Epoch 162/500\n",
      "375/375 [==============================] - 2s 6ms/step - loss: 0.0721 - accuracy: 0.9812 - val_loss: 0.0976 - val_accuracy: 0.9727\n",
      "Epoch 163/500\n",
      "375/375 [==============================] - 2s 6ms/step - loss: 0.0716 - accuracy: 0.9814 - val_loss: 0.0973 - val_accuracy: 0.9722\n",
      "Epoch 164/500\n",
      "375/375 [==============================] - 2s 6ms/step - loss: 0.0713 - accuracy: 0.9812 - val_loss: 0.0973 - val_accuracy: 0.9724\n",
      "Epoch 165/500\n",
      "375/375 [==============================] - 2s 6ms/step - loss: 0.0709 - accuracy: 0.9815 - val_loss: 0.0967 - val_accuracy: 0.9729\n",
      "Epoch 166/500\n",
      "375/375 [==============================] - 2s 6ms/step - loss: 0.0704 - accuracy: 0.9815 - val_loss: 0.0967 - val_accuracy: 0.9727\n",
      "Epoch 167/500\n",
      "375/375 [==============================] - 2s 6ms/step - loss: 0.0700 - accuracy: 0.9818 - val_loss: 0.0962 - val_accuracy: 0.9727\n",
      "Epoch 168/500\n",
      "375/375 [==============================] - 2s 6ms/step - loss: 0.0696 - accuracy: 0.9818 - val_loss: 0.0958 - val_accuracy: 0.9728\n",
      "Epoch 169/500\n",
      "375/375 [==============================] - 2s 6ms/step - loss: 0.0692 - accuracy: 0.9820 - val_loss: 0.0957 - val_accuracy: 0.9728\n",
      "Epoch 170/500\n",
      "375/375 [==============================] - 2s 6ms/step - loss: 0.0688 - accuracy: 0.9821 - val_loss: 0.0949 - val_accuracy: 0.9731\n",
      "Epoch 171/500\n"
     ]
    },
    {
     "name": "stdout",
     "output_type": "stream",
     "text": [
      "375/375 [==============================] - 2s 6ms/step - loss: 0.0684 - accuracy: 0.9824 - val_loss: 0.0950 - val_accuracy: 0.9733\n",
      "Epoch 172/500\n",
      "375/375 [==============================] - 2s 6ms/step - loss: 0.0681 - accuracy: 0.9823 - val_loss: 0.0949 - val_accuracy: 0.9729\n",
      "Epoch 173/500\n",
      "375/375 [==============================] - 2s 6ms/step - loss: 0.0676 - accuracy: 0.9822 - val_loss: 0.0944 - val_accuracy: 0.9731\n",
      "Epoch 174/500\n",
      "375/375 [==============================] - 2s 6ms/step - loss: 0.0673 - accuracy: 0.9826 - val_loss: 0.0941 - val_accuracy: 0.9732\n",
      "Epoch 175/500\n",
      "375/375 [==============================] - 2s 6ms/step - loss: 0.0669 - accuracy: 0.9828 - val_loss: 0.0939 - val_accuracy: 0.9731\n",
      "Epoch 176/500\n",
      "375/375 [==============================] - 2s 6ms/step - loss: 0.0666 - accuracy: 0.9829 - val_loss: 0.0939 - val_accuracy: 0.9733\n",
      "Epoch 177/500\n",
      "375/375 [==============================] - 2s 6ms/step - loss: 0.0662 - accuracy: 0.9832 - val_loss: 0.0934 - val_accuracy: 0.9736\n",
      "Epoch 178/500\n",
      "375/375 [==============================] - 2s 6ms/step - loss: 0.0659 - accuracy: 0.9829 - val_loss: 0.0930 - val_accuracy: 0.9733\n",
      "Epoch 179/500\n",
      "375/375 [==============================] - 2s 6ms/step - loss: 0.0655 - accuracy: 0.9830 - val_loss: 0.0929 - val_accuracy: 0.9735\n",
      "Epoch 180/500\n",
      "375/375 [==============================] - 2s 6ms/step - loss: 0.0651 - accuracy: 0.9834 - val_loss: 0.0930 - val_accuracy: 0.9728\n",
      "Epoch 181/500\n",
      "375/375 [==============================] - 2s 6ms/step - loss: 0.0647 - accuracy: 0.9834 - val_loss: 0.0921 - val_accuracy: 0.9739\n",
      "Epoch 182/500\n",
      "375/375 [==============================] - 2s 6ms/step - loss: 0.0644 - accuracy: 0.9835 - val_loss: 0.0928 - val_accuracy: 0.9737\n",
      "Epoch 183/500\n",
      "375/375 [==============================] - 2s 6ms/step - loss: 0.0641 - accuracy: 0.9838 - val_loss: 0.0918 - val_accuracy: 0.9737\n",
      "Epoch 184/500\n",
      "375/375 [==============================] - 2s 6ms/step - loss: 0.0638 - accuracy: 0.9837 - val_loss: 0.0915 - val_accuracy: 0.9742\n",
      "Epoch 185/500\n",
      "375/375 [==============================] - 2s 6ms/step - loss: 0.0634 - accuracy: 0.9837 - val_loss: 0.0919 - val_accuracy: 0.9734\n",
      "Epoch 186/500\n",
      "375/375 [==============================] - 2s 6ms/step - loss: 0.0631 - accuracy: 0.9838 - val_loss: 0.0913 - val_accuracy: 0.9736\n",
      "Epoch 187/500\n",
      "375/375 [==============================] - 2s 6ms/step - loss: 0.0628 - accuracy: 0.9841 - val_loss: 0.0907 - val_accuracy: 0.9744\n",
      "Epoch 188/500\n",
      "375/375 [==============================] - 2s 6ms/step - loss: 0.0625 - accuracy: 0.9841 - val_loss: 0.0906 - val_accuracy: 0.9741\n",
      "Epoch 189/500\n",
      "375/375 [==============================] - 2s 6ms/step - loss: 0.0621 - accuracy: 0.9842 - val_loss: 0.0905 - val_accuracy: 0.9743\n",
      "Epoch 190/500\n",
      "375/375 [==============================] - 2s 6ms/step - loss: 0.0617 - accuracy: 0.9845 - val_loss: 0.0901 - val_accuracy: 0.9742\n",
      "Epoch 191/500\n",
      "375/375 [==============================] - 2s 6ms/step - loss: 0.0615 - accuracy: 0.9846 - val_loss: 0.0897 - val_accuracy: 0.9749\n",
      "Epoch 192/500\n",
      "375/375 [==============================] - 2s 6ms/step - loss: 0.0611 - accuracy: 0.9846 - val_loss: 0.0900 - val_accuracy: 0.9742\n",
      "Epoch 193/500\n",
      "375/375 [==============================] - 2s 6ms/step - loss: 0.0609 - accuracy: 0.9846 - val_loss: 0.0893 - val_accuracy: 0.9748\n",
      "Epoch 194/500\n",
      "375/375 [==============================] - 2s 6ms/step - loss: 0.0604 - accuracy: 0.9850 - val_loss: 0.0895 - val_accuracy: 0.9747\n",
      "Epoch 195/500\n",
      "375/375 [==============================] - 2s 6ms/step - loss: 0.0601 - accuracy: 0.9848 - val_loss: 0.0890 - val_accuracy: 0.9743\n",
      "Epoch 196/500\n",
      "375/375 [==============================] - 2s 6ms/step - loss: 0.0599 - accuracy: 0.9849 - val_loss: 0.0890 - val_accuracy: 0.9748\n",
      "Epoch 197/500\n",
      "375/375 [==============================] - 2s 6ms/step - loss: 0.0595 - accuracy: 0.9850 - val_loss: 0.0887 - val_accuracy: 0.9743\n",
      "Epoch 198/500\n",
      "375/375 [==============================] - 2s 6ms/step - loss: 0.0592 - accuracy: 0.9852 - val_loss: 0.0883 - val_accuracy: 0.9745\n",
      "Epoch 199/500\n",
      "375/375 [==============================] - 2s 6ms/step - loss: 0.0589 - accuracy: 0.9852 - val_loss: 0.0881 - val_accuracy: 0.9746\n",
      "Epoch 200/500\n",
      "375/375 [==============================] - 2s 6ms/step - loss: 0.0587 - accuracy: 0.9855 - val_loss: 0.0883 - val_accuracy: 0.9744\n",
      "Epoch 201/500\n",
      "375/375 [==============================] - 2s 6ms/step - loss: 0.0582 - accuracy: 0.9858 - val_loss: 0.0891 - val_accuracy: 0.9747\n",
      "Epoch 202/500\n",
      "375/375 [==============================] - 2s 6ms/step - loss: 0.0580 - accuracy: 0.9857 - val_loss: 0.0875 - val_accuracy: 0.9748\n",
      "Epoch 203/500\n",
      "375/375 [==============================] - 2s 6ms/step - loss: 0.0578 - accuracy: 0.9858 - val_loss: 0.0875 - val_accuracy: 0.9748\n",
      "Epoch 204/500\n",
      "375/375 [==============================] - 2s 6ms/step - loss: 0.0574 - accuracy: 0.9859 - val_loss: 0.0871 - val_accuracy: 0.9751\n",
      "Epoch 205/500\n",
      "375/375 [==============================] - 2s 6ms/step - loss: 0.0571 - accuracy: 0.9858 - val_loss: 0.0866 - val_accuracy: 0.9755\n",
      "Epoch 206/500\n",
      "375/375 [==============================] - 2s 6ms/step - loss: 0.0568 - accuracy: 0.9861 - val_loss: 0.0869 - val_accuracy: 0.9753\n",
      "Epoch 207/500\n",
      "375/375 [==============================] - 2s 6ms/step - loss: 0.0565 - accuracy: 0.9862 - val_loss: 0.0867 - val_accuracy: 0.9753\n",
      "Epoch 208/500\n",
      "375/375 [==============================] - 2s 6ms/step - loss: 0.0562 - accuracy: 0.9860 - val_loss: 0.0870 - val_accuracy: 0.9747\n",
      "Epoch 209/500\n",
      "375/375 [==============================] - 2s 6ms/step - loss: 0.0560 - accuracy: 0.9864 - val_loss: 0.0861 - val_accuracy: 0.9753\n",
      "Epoch 210/500\n",
      "375/375 [==============================] - 2s 6ms/step - loss: 0.0557 - accuracy: 0.9863 - val_loss: 0.0857 - val_accuracy: 0.9758\n",
      "Epoch 211/500\n",
      "375/375 [==============================] - 2s 6ms/step - loss: 0.0555 - accuracy: 0.9863 - val_loss: 0.0855 - val_accuracy: 0.9758\n",
      "Epoch 212/500\n",
      "375/375 [==============================] - 2s 6ms/step - loss: 0.0552 - accuracy: 0.9866 - val_loss: 0.0856 - val_accuracy: 0.9758\n",
      "Epoch 213/500\n",
      "375/375 [==============================] - 2s 6ms/step - loss: 0.0549 - accuracy: 0.9867 - val_loss: 0.0853 - val_accuracy: 0.9757\n",
      "Epoch 214/500\n",
      "375/375 [==============================] - 2s 6ms/step - loss: 0.0546 - accuracy: 0.9866 - val_loss: 0.0852 - val_accuracy: 0.9752\n",
      "Epoch 215/500\n",
      "375/375 [==============================] - 2s 6ms/step - loss: 0.0543 - accuracy: 0.9865 - val_loss: 0.0848 - val_accuracy: 0.9756\n",
      "Epoch 216/500\n",
      "375/375 [==============================] - 2s 6ms/step - loss: 0.0541 - accuracy: 0.9869 - val_loss: 0.0848 - val_accuracy: 0.9756\n",
      "Epoch 217/500\n",
      "375/375 [==============================] - 2s 6ms/step - loss: 0.0539 - accuracy: 0.9870 - val_loss: 0.0847 - val_accuracy: 0.9757\n",
      "Epoch 218/500\n",
      "375/375 [==============================] - 2s 6ms/step - loss: 0.0536 - accuracy: 0.9868 - val_loss: 0.0848 - val_accuracy: 0.9759\n",
      "Epoch 219/500\n",
      "375/375 [==============================] - 2s 6ms/step - loss: 0.0533 - accuracy: 0.9871 - val_loss: 0.0843 - val_accuracy: 0.9755\n",
      "Epoch 220/500\n",
      "375/375 [==============================] - 2s 6ms/step - loss: 0.0531 - accuracy: 0.9871 - val_loss: 0.0845 - val_accuracy: 0.9758\n",
      "Epoch 221/500\n",
      "375/375 [==============================] - 2s 6ms/step - loss: 0.0528 - accuracy: 0.9871 - val_loss: 0.0840 - val_accuracy: 0.9756\n",
      "Epoch 222/500\n",
      "375/375 [==============================] - 2s 6ms/step - loss: 0.0525 - accuracy: 0.9871 - val_loss: 0.0843 - val_accuracy: 0.9757\n",
      "Epoch 223/500\n",
      "375/375 [==============================] - 2s 6ms/step - loss: 0.0523 - accuracy: 0.9874 - val_loss: 0.0833 - val_accuracy: 0.9762\n",
      "Epoch 224/500\n",
      "375/375 [==============================] - 2s 6ms/step - loss: 0.0521 - accuracy: 0.9874 - val_loss: 0.0835 - val_accuracy: 0.9756\n",
      "Epoch 225/500\n",
      "375/375 [==============================] - 2s 6ms/step - loss: 0.0518 - accuracy: 0.9874 - val_loss: 0.0834 - val_accuracy: 0.9760\n",
      "Epoch 226/500\n",
      "375/375 [==============================] - 2s 6ms/step - loss: 0.0516 - accuracy: 0.9875 - val_loss: 0.0831 - val_accuracy: 0.9760\n",
      "Epoch 227/500\n"
     ]
    },
    {
     "name": "stdout",
     "output_type": "stream",
     "text": [
      "375/375 [==============================] - 2s 6ms/step - loss: 0.0512 - accuracy: 0.9874 - val_loss: 0.0831 - val_accuracy: 0.9758\n",
      "Epoch 228/500\n",
      "375/375 [==============================] - 2s 6ms/step - loss: 0.0511 - accuracy: 0.9873 - val_loss: 0.0829 - val_accuracy: 0.9765\n",
      "Epoch 229/500\n",
      "375/375 [==============================] - 2s 6ms/step - loss: 0.0508 - accuracy: 0.9878 - val_loss: 0.0826 - val_accuracy: 0.9762\n",
      "Epoch 230/500\n",
      "375/375 [==============================] - 2s 6ms/step - loss: 0.0505 - accuracy: 0.9877 - val_loss: 0.0824 - val_accuracy: 0.9767\n",
      "Epoch 231/500\n",
      "375/375 [==============================] - 2s 6ms/step - loss: 0.0503 - accuracy: 0.9880 - val_loss: 0.0825 - val_accuracy: 0.9765\n",
      "Epoch 232/500\n",
      "375/375 [==============================] - 2s 6ms/step - loss: 0.0501 - accuracy: 0.9879 - val_loss: 0.0823 - val_accuracy: 0.9764\n",
      "Epoch 233/500\n",
      "375/375 [==============================] - 2s 6ms/step - loss: 0.0498 - accuracy: 0.9882 - val_loss: 0.0820 - val_accuracy: 0.9764\n",
      "Epoch 234/500\n",
      "375/375 [==============================] - 2s 6ms/step - loss: 0.0496 - accuracy: 0.9878 - val_loss: 0.0821 - val_accuracy: 0.9763\n",
      "Epoch 235/500\n",
      "375/375 [==============================] - 2s 6ms/step - loss: 0.0494 - accuracy: 0.9881 - val_loss: 0.0816 - val_accuracy: 0.9763\n",
      "Epoch 236/500\n",
      "375/375 [==============================] - 2s 6ms/step - loss: 0.0492 - accuracy: 0.9881 - val_loss: 0.0814 - val_accuracy: 0.9768\n",
      "Epoch 237/500\n",
      "375/375 [==============================] - 2s 6ms/step - loss: 0.0489 - accuracy: 0.9881 - val_loss: 0.0813 - val_accuracy: 0.9761\n",
      "Epoch 238/500\n",
      "375/375 [==============================] - 2s 6ms/step - loss: 0.0487 - accuracy: 0.9880 - val_loss: 0.0814 - val_accuracy: 0.9768\n",
      "Epoch 239/500\n",
      "375/375 [==============================] - 2s 6ms/step - loss: 0.0485 - accuracy: 0.9883 - val_loss: 0.0811 - val_accuracy: 0.9772\n",
      "Epoch 240/500\n",
      "375/375 [==============================] - 2s 6ms/step - loss: 0.0482 - accuracy: 0.9885 - val_loss: 0.0809 - val_accuracy: 0.9768\n",
      "Epoch 241/500\n",
      "375/375 [==============================] - 2s 6ms/step - loss: 0.0480 - accuracy: 0.9886 - val_loss: 0.0813 - val_accuracy: 0.9758\n",
      "Epoch 242/500\n",
      "375/375 [==============================] - 2s 6ms/step - loss: 0.0477 - accuracy: 0.9886 - val_loss: 0.0810 - val_accuracy: 0.9773\n",
      "Epoch 243/500\n",
      "375/375 [==============================] - 2s 6ms/step - loss: 0.0476 - accuracy: 0.9884 - val_loss: 0.0808 - val_accuracy: 0.9768\n",
      "Epoch 244/500\n",
      "375/375 [==============================] - 2s 6ms/step - loss: 0.0473 - accuracy: 0.9886 - val_loss: 0.0807 - val_accuracy: 0.9768\n",
      "Epoch 245/500\n",
      "375/375 [==============================] - 2s 6ms/step - loss: 0.0471 - accuracy: 0.9886 - val_loss: 0.0803 - val_accuracy: 0.9766\n",
      "Epoch 246/500\n",
      "375/375 [==============================] - 2s 6ms/step - loss: 0.0468 - accuracy: 0.9887 - val_loss: 0.0803 - val_accuracy: 0.9767\n",
      "Epoch 247/500\n",
      "375/375 [==============================] - 2s 6ms/step - loss: 0.0467 - accuracy: 0.9887 - val_loss: 0.0798 - val_accuracy: 0.9774\n",
      "Epoch 248/500\n",
      "375/375 [==============================] - 2s 6ms/step - loss: 0.0465 - accuracy: 0.9889 - val_loss: 0.0801 - val_accuracy: 0.9769\n",
      "Epoch 249/500\n",
      "375/375 [==============================] - 2s 6ms/step - loss: 0.0463 - accuracy: 0.9888 - val_loss: 0.0798 - val_accuracy: 0.9776\n",
      "Epoch 250/500\n",
      "375/375 [==============================] - 2s 6ms/step - loss: 0.0461 - accuracy: 0.9889 - val_loss: 0.0795 - val_accuracy: 0.9778\n",
      "Epoch 251/500\n",
      "375/375 [==============================] - 2s 6ms/step - loss: 0.0458 - accuracy: 0.9891 - val_loss: 0.0792 - val_accuracy: 0.9778\n",
      "Epoch 252/500\n",
      "375/375 [==============================] - 2s 6ms/step - loss: 0.0456 - accuracy: 0.9891 - val_loss: 0.0793 - val_accuracy: 0.9776\n",
      "Epoch 253/500\n",
      "375/375 [==============================] - 2s 6ms/step - loss: 0.0454 - accuracy: 0.9892 - val_loss: 0.0794 - val_accuracy: 0.9771\n",
      "Epoch 254/500\n",
      "375/375 [==============================] - 2s 6ms/step - loss: 0.0453 - accuracy: 0.9890 - val_loss: 0.0790 - val_accuracy: 0.9779\n",
      "Epoch 255/500\n",
      "375/375 [==============================] - 2s 6ms/step - loss: 0.0450 - accuracy: 0.9893 - val_loss: 0.0793 - val_accuracy: 0.9773\n",
      "Epoch 256/500\n",
      "375/375 [==============================] - 2s 6ms/step - loss: 0.0449 - accuracy: 0.9893 - val_loss: 0.0788 - val_accuracy: 0.9778\n",
      "Epoch 257/500\n",
      "375/375 [==============================] - 2s 6ms/step - loss: 0.0447 - accuracy: 0.9895 - val_loss: 0.0789 - val_accuracy: 0.9771\n",
      "Epoch 258/500\n",
      "375/375 [==============================] - 2s 6ms/step - loss: 0.0443 - accuracy: 0.9896 - val_loss: 0.0785 - val_accuracy: 0.9773\n",
      "Epoch 259/500\n",
      "375/375 [==============================] - 2s 6ms/step - loss: 0.0442 - accuracy: 0.9897 - val_loss: 0.0787 - val_accuracy: 0.9777\n",
      "Epoch 260/500\n",
      "375/375 [==============================] - 2s 6ms/step - loss: 0.0440 - accuracy: 0.9896 - val_loss: 0.0785 - val_accuracy: 0.9782\n",
      "Epoch 261/500\n",
      "375/375 [==============================] - 2s 6ms/step - loss: 0.0438 - accuracy: 0.9897 - val_loss: 0.0785 - val_accuracy: 0.9768\n",
      "Epoch 262/500\n",
      "375/375 [==============================] - 2s 6ms/step - loss: 0.0436 - accuracy: 0.9897 - val_loss: 0.0779 - val_accuracy: 0.9782\n",
      "Epoch 263/500\n",
      "375/375 [==============================] - 2s 6ms/step - loss: 0.0433 - accuracy: 0.9898 - val_loss: 0.0780 - val_accuracy: 0.9781\n",
      "Epoch 264/500\n",
      "375/375 [==============================] - 2s 6ms/step - loss: 0.0432 - accuracy: 0.9898 - val_loss: 0.0780 - val_accuracy: 0.9777\n",
      "Epoch 265/500\n",
      "375/375 [==============================] - 2s 6ms/step - loss: 0.0430 - accuracy: 0.9899 - val_loss: 0.0777 - val_accuracy: 0.9777\n",
      "Epoch 266/500\n",
      "375/375 [==============================] - 2s 6ms/step - loss: 0.0428 - accuracy: 0.9899 - val_loss: 0.0776 - val_accuracy: 0.9781\n",
      "Epoch 267/500\n",
      "375/375 [==============================] - 2s 6ms/step - loss: 0.0426 - accuracy: 0.9901 - val_loss: 0.0775 - val_accuracy: 0.9775\n",
      "Epoch 268/500\n",
      "375/375 [==============================] - 2s 6ms/step - loss: 0.0424 - accuracy: 0.9901 - val_loss: 0.0779 - val_accuracy: 0.9779\n",
      "Epoch 269/500\n",
      "375/375 [==============================] - 2s 6ms/step - loss: 0.0422 - accuracy: 0.9900 - val_loss: 0.0776 - val_accuracy: 0.9782\n",
      "Epoch 270/500\n",
      "375/375 [==============================] - 2s 6ms/step - loss: 0.0420 - accuracy: 0.9901 - val_loss: 0.0775 - val_accuracy: 0.9775\n",
      "Epoch 271/500\n",
      "375/375 [==============================] - 2s 6ms/step - loss: 0.0418 - accuracy: 0.9904 - val_loss: 0.0769 - val_accuracy: 0.9780\n",
      "Epoch 272/500\n",
      "375/375 [==============================] - 2s 6ms/step - loss: 0.0417 - accuracy: 0.9903 - val_loss: 0.0769 - val_accuracy: 0.9775\n",
      "Epoch 273/500\n",
      "375/375 [==============================] - 2s 6ms/step - loss: 0.0415 - accuracy: 0.9904 - val_loss: 0.0769 - val_accuracy: 0.9781\n",
      "Epoch 274/500\n",
      "375/375 [==============================] - 2s 6ms/step - loss: 0.0413 - accuracy: 0.9904 - val_loss: 0.0766 - val_accuracy: 0.9780\n",
      "Epoch 275/500\n",
      "375/375 [==============================] - 2s 6ms/step - loss: 0.0411 - accuracy: 0.9904 - val_loss: 0.0767 - val_accuracy: 0.9778\n",
      "Epoch 276/500\n",
      "375/375 [==============================] - 2s 6ms/step - loss: 0.0410 - accuracy: 0.9906 - val_loss: 0.0764 - val_accuracy: 0.9783\n",
      "Epoch 277/500\n",
      "375/375 [==============================] - 2s 6ms/step - loss: 0.0408 - accuracy: 0.9908 - val_loss: 0.0765 - val_accuracy: 0.9784\n",
      "Epoch 278/500\n",
      "375/375 [==============================] - 2s 6ms/step - loss: 0.0406 - accuracy: 0.9906 - val_loss: 0.0765 - val_accuracy: 0.9781\n",
      "Epoch 279/500\n",
      "375/375 [==============================] - 2s 6ms/step - loss: 0.0405 - accuracy: 0.9905 - val_loss: 0.0761 - val_accuracy: 0.9784\n",
      "Epoch 280/500\n",
      "375/375 [==============================] - 2s 6ms/step - loss: 0.0403 - accuracy: 0.9910 - val_loss: 0.0759 - val_accuracy: 0.9779\n",
      "Epoch 281/500\n",
      "375/375 [==============================] - 2s 6ms/step - loss: 0.0401 - accuracy: 0.9909 - val_loss: 0.0759 - val_accuracy: 0.9783\n",
      "Epoch 282/500\n",
      "375/375 [==============================] - 2s 6ms/step - loss: 0.0399 - accuracy: 0.9909 - val_loss: 0.0760 - val_accuracy: 0.9783\n",
      "Epoch 283/500\n"
     ]
    },
    {
     "name": "stdout",
     "output_type": "stream",
     "text": [
      "375/375 [==============================] - 2s 6ms/step - loss: 0.0397 - accuracy: 0.9909 - val_loss: 0.0759 - val_accuracy: 0.9779\n",
      "Epoch 284/500\n",
      "375/375 [==============================] - 2s 6ms/step - loss: 0.0396 - accuracy: 0.9910 - val_loss: 0.0757 - val_accuracy: 0.9784\n",
      "Epoch 285/500\n",
      "375/375 [==============================] - 2s 6ms/step - loss: 0.0394 - accuracy: 0.9913 - val_loss: 0.0758 - val_accuracy: 0.9783\n",
      "Epoch 286/500\n",
      "375/375 [==============================] - 2s 6ms/step - loss: 0.0393 - accuracy: 0.9912 - val_loss: 0.0757 - val_accuracy: 0.9782\n",
      "Epoch 287/500\n",
      "375/375 [==============================] - 2s 6ms/step - loss: 0.0391 - accuracy: 0.9913 - val_loss: 0.0755 - val_accuracy: 0.9782\n",
      "Epoch 288/500\n",
      "375/375 [==============================] - 2s 6ms/step - loss: 0.0389 - accuracy: 0.9912 - val_loss: 0.0755 - val_accuracy: 0.9779\n",
      "Epoch 289/500\n",
      "375/375 [==============================] - 2s 6ms/step - loss: 0.0388 - accuracy: 0.9911 - val_loss: 0.0754 - val_accuracy: 0.9783\n",
      "Epoch 290/500\n",
      "375/375 [==============================] - 2s 6ms/step - loss: 0.0386 - accuracy: 0.9912 - val_loss: 0.0751 - val_accuracy: 0.9782\n",
      "Epoch 291/500\n",
      "375/375 [==============================] - 2s 6ms/step - loss: 0.0384 - accuracy: 0.9916 - val_loss: 0.0750 - val_accuracy: 0.9778\n",
      "Epoch 292/500\n",
      "375/375 [==============================] - 2s 6ms/step - loss: 0.0382 - accuracy: 0.9913 - val_loss: 0.0751 - val_accuracy: 0.9781\n",
      "Epoch 293/500\n",
      "375/375 [==============================] - 2s 6ms/step - loss: 0.0381 - accuracy: 0.9914 - val_loss: 0.0753 - val_accuracy: 0.9786\n",
      "Epoch 294/500\n",
      "375/375 [==============================] - 2s 6ms/step - loss: 0.0379 - accuracy: 0.9915 - val_loss: 0.0749 - val_accuracy: 0.9779\n",
      "Epoch 295/500\n",
      "375/375 [==============================] - 2s 6ms/step - loss: 0.0378 - accuracy: 0.9916 - val_loss: 0.0749 - val_accuracy: 0.9780\n",
      "Epoch 296/500\n",
      "375/375 [==============================] - 2s 6ms/step - loss: 0.0376 - accuracy: 0.9915 - val_loss: 0.0745 - val_accuracy: 0.9784\n",
      "Epoch 297/500\n",
      "375/375 [==============================] - 2s 6ms/step - loss: 0.0375 - accuracy: 0.9916 - val_loss: 0.0744 - val_accuracy: 0.9786\n",
      "Epoch 298/500\n",
      "375/375 [==============================] - 2s 6ms/step - loss: 0.0373 - accuracy: 0.9918 - val_loss: 0.0744 - val_accuracy: 0.9783\n",
      "Epoch 299/500\n",
      "375/375 [==============================] - 2s 6ms/step - loss: 0.0371 - accuracy: 0.9920 - val_loss: 0.0743 - val_accuracy: 0.9781\n",
      "Epoch 300/500\n",
      "375/375 [==============================] - 2s 6ms/step - loss: 0.0369 - accuracy: 0.9918 - val_loss: 0.0744 - val_accuracy: 0.9783\n",
      "Epoch 301/500\n",
      "375/375 [==============================] - 2s 6ms/step - loss: 0.0368 - accuracy: 0.9920 - val_loss: 0.0739 - val_accuracy: 0.9786\n",
      "Epoch 302/500\n",
      "375/375 [==============================] - 2s 6ms/step - loss: 0.0367 - accuracy: 0.9920 - val_loss: 0.0738 - val_accuracy: 0.9790\n",
      "Epoch 303/500\n",
      "375/375 [==============================] - 2s 6ms/step - loss: 0.0365 - accuracy: 0.9920 - val_loss: 0.0738 - val_accuracy: 0.9787\n",
      "Epoch 304/500\n",
      "375/375 [==============================] - 2s 6ms/step - loss: 0.0364 - accuracy: 0.9921 - val_loss: 0.0740 - val_accuracy: 0.9782\n",
      "Epoch 305/500\n",
      "375/375 [==============================] - 2s 6ms/step - loss: 0.0362 - accuracy: 0.9921 - val_loss: 0.0741 - val_accuracy: 0.9782\n",
      "Epoch 306/500\n",
      "375/375 [==============================] - 2s 6ms/step - loss: 0.0361 - accuracy: 0.9921 - val_loss: 0.0737 - val_accuracy: 0.9785\n",
      "Epoch 307/500\n",
      "375/375 [==============================] - 2s 6ms/step - loss: 0.0359 - accuracy: 0.9922 - val_loss: 0.0736 - val_accuracy: 0.9778\n",
      "Epoch 308/500\n",
      "375/375 [==============================] - 2s 6ms/step - loss: 0.0357 - accuracy: 0.9921 - val_loss: 0.0734 - val_accuracy: 0.9783\n",
      "Epoch 309/500\n",
      "375/375 [==============================] - 2s 6ms/step - loss: 0.0356 - accuracy: 0.9924 - val_loss: 0.0736 - val_accuracy: 0.9784\n",
      "Epoch 310/500\n",
      "375/375 [==============================] - 2s 6ms/step - loss: 0.0355 - accuracy: 0.9924 - val_loss: 0.0732 - val_accuracy: 0.9785\n",
      "Epoch 311/500\n",
      "375/375 [==============================] - 2s 6ms/step - loss: 0.0353 - accuracy: 0.9924 - val_loss: 0.0732 - val_accuracy: 0.9787\n",
      "Epoch 312/500\n",
      "375/375 [==============================] - 2s 6ms/step - loss: 0.0352 - accuracy: 0.9926 - val_loss: 0.0731 - val_accuracy: 0.9787\n",
      "Epoch 313/500\n",
      "375/375 [==============================] - 2s 6ms/step - loss: 0.0351 - accuracy: 0.9925 - val_loss: 0.0731 - val_accuracy: 0.9783\n",
      "Epoch 314/500\n",
      "375/375 [==============================] - 2s 6ms/step - loss: 0.0349 - accuracy: 0.9925 - val_loss: 0.0728 - val_accuracy: 0.9786\n",
      "Epoch 315/500\n",
      "375/375 [==============================] - 2s 6ms/step - loss: 0.0347 - accuracy: 0.9926 - val_loss: 0.0728 - val_accuracy: 0.9791\n",
      "Epoch 316/500\n",
      "375/375 [==============================] - 2s 6ms/step - loss: 0.0346 - accuracy: 0.9926 - val_loss: 0.0728 - val_accuracy: 0.9786\n",
      "Epoch 317/500\n",
      "375/375 [==============================] - 2s 6ms/step - loss: 0.0344 - accuracy: 0.9928 - val_loss: 0.0727 - val_accuracy: 0.9793\n",
      "Epoch 318/500\n",
      "375/375 [==============================] - 2s 6ms/step - loss: 0.0344 - accuracy: 0.9929 - val_loss: 0.0727 - val_accuracy: 0.9788\n",
      "Epoch 319/500\n",
      "375/375 [==============================] - 2s 6ms/step - loss: 0.0342 - accuracy: 0.9928 - val_loss: 0.0725 - val_accuracy: 0.9788\n",
      "Epoch 320/500\n",
      "375/375 [==============================] - 2s 6ms/step - loss: 0.0341 - accuracy: 0.9928 - val_loss: 0.0724 - val_accuracy: 0.9791\n",
      "Epoch 321/500\n",
      "375/375 [==============================] - 2s 6ms/step - loss: 0.0339 - accuracy: 0.9929 - val_loss: 0.0725 - val_accuracy: 0.9789\n",
      "Epoch 322/500\n",
      "375/375 [==============================] - 2s 6ms/step - loss: 0.0338 - accuracy: 0.9929 - val_loss: 0.0725 - val_accuracy: 0.9787\n",
      "Epoch 323/500\n",
      "375/375 [==============================] - 2s 6ms/step - loss: 0.0337 - accuracy: 0.9928 - val_loss: 0.0723 - val_accuracy: 0.9793\n",
      "Epoch 324/500\n",
      "375/375 [==============================] - 2s 6ms/step - loss: 0.0335 - accuracy: 0.9930 - val_loss: 0.0723 - val_accuracy: 0.9787\n",
      "Epoch 325/500\n",
      "375/375 [==============================] - 2s 6ms/step - loss: 0.0334 - accuracy: 0.9930 - val_loss: 0.0720 - val_accuracy: 0.9790\n",
      "Epoch 326/500\n",
      "375/375 [==============================] - 2s 6ms/step - loss: 0.0332 - accuracy: 0.9932 - val_loss: 0.0722 - val_accuracy: 0.9793\n",
      "Epoch 327/500\n",
      "375/375 [==============================] - 2s 6ms/step - loss: 0.0331 - accuracy: 0.9930 - val_loss: 0.0720 - val_accuracy: 0.9785\n",
      "Epoch 328/500\n",
      "375/375 [==============================] - 2s 6ms/step - loss: 0.0329 - accuracy: 0.9933 - val_loss: 0.0718 - val_accuracy: 0.9795\n",
      "Epoch 329/500\n",
      "375/375 [==============================] - 2s 6ms/step - loss: 0.0328 - accuracy: 0.9932 - val_loss: 0.0718 - val_accuracy: 0.9793\n",
      "Epoch 330/500\n",
      "375/375 [==============================] - 2s 6ms/step - loss: 0.0327 - accuracy: 0.9936 - val_loss: 0.0720 - val_accuracy: 0.9784\n",
      "Epoch 331/500\n",
      "375/375 [==============================] - 2s 6ms/step - loss: 0.0326 - accuracy: 0.9933 - val_loss: 0.0716 - val_accuracy: 0.9793\n",
      "Epoch 332/500\n",
      "375/375 [==============================] - 2s 6ms/step - loss: 0.0324 - accuracy: 0.9934 - val_loss: 0.0719 - val_accuracy: 0.9789\n",
      "Epoch 333/500\n",
      "375/375 [==============================] - 2s 6ms/step - loss: 0.0323 - accuracy: 0.9935 - val_loss: 0.0714 - val_accuracy: 0.9792\n",
      "Epoch 334/500\n",
      "375/375 [==============================] - 2s 6ms/step - loss: 0.0322 - accuracy: 0.9936 - val_loss: 0.0715 - val_accuracy: 0.9789\n",
      "Epoch 335/500\n",
      "375/375 [==============================] - 2s 6ms/step - loss: 0.0321 - accuracy: 0.9936 - val_loss: 0.0711 - val_accuracy: 0.9795\n",
      "Epoch 336/500\n",
      "375/375 [==============================] - 2s 6ms/step - loss: 0.0319 - accuracy: 0.9934 - val_loss: 0.0713 - val_accuracy: 0.9794\n",
      "Epoch 337/500\n",
      "375/375 [==============================] - 2s 6ms/step - loss: 0.0317 - accuracy: 0.9937 - val_loss: 0.0718 - val_accuracy: 0.9787\n",
      "Epoch 338/500\n",
      "375/375 [==============================] - 2s 6ms/step - loss: 0.0316 - accuracy: 0.9938 - val_loss: 0.0710 - val_accuracy: 0.9793\n",
      "Epoch 339/500\n"
     ]
    },
    {
     "name": "stdout",
     "output_type": "stream",
     "text": [
      "375/375 [==============================] - 2s 6ms/step - loss: 0.0316 - accuracy: 0.9937 - val_loss: 0.0711 - val_accuracy: 0.9793\n",
      "Epoch 340/500\n",
      "375/375 [==============================] - 2s 6ms/step - loss: 0.0314 - accuracy: 0.9939 - val_loss: 0.0711 - val_accuracy: 0.9791\n",
      "Epoch 341/500\n",
      "375/375 [==============================] - 2s 6ms/step - loss: 0.0313 - accuracy: 0.9937 - val_loss: 0.0713 - val_accuracy: 0.9793\n",
      "Epoch 342/500\n",
      "375/375 [==============================] - 2s 6ms/step - loss: 0.0312 - accuracy: 0.9939 - val_loss: 0.0710 - val_accuracy: 0.9790\n",
      "Epoch 343/500\n",
      "375/375 [==============================] - 2s 6ms/step - loss: 0.0311 - accuracy: 0.9938 - val_loss: 0.0711 - val_accuracy: 0.9789\n",
      "Epoch 344/500\n",
      "375/375 [==============================] - 2s 6ms/step - loss: 0.0309 - accuracy: 0.9939 - val_loss: 0.0708 - val_accuracy: 0.9792\n",
      "Epoch 345/500\n",
      "375/375 [==============================] - 2s 6ms/step - loss: 0.0308 - accuracy: 0.9940 - val_loss: 0.0708 - val_accuracy: 0.9796\n",
      "Epoch 346/500\n",
      "375/375 [==============================] - 2s 6ms/step - loss: 0.0307 - accuracy: 0.9942 - val_loss: 0.0707 - val_accuracy: 0.9788\n",
      "Epoch 347/500\n",
      "375/375 [==============================] - 2s 6ms/step - loss: 0.0306 - accuracy: 0.9940 - val_loss: 0.0708 - val_accuracy: 0.9789\n",
      "Epoch 348/500\n",
      "375/375 [==============================] - 2s 6ms/step - loss: 0.0304 - accuracy: 0.9940 - val_loss: 0.0710 - val_accuracy: 0.9790\n",
      "Epoch 349/500\n",
      "375/375 [==============================] - 2s 6ms/step - loss: 0.0303 - accuracy: 0.9940 - val_loss: 0.0705 - val_accuracy: 0.9793\n",
      "Epoch 350/500\n",
      "375/375 [==============================] - 2s 6ms/step - loss: 0.0302 - accuracy: 0.9941 - val_loss: 0.0705 - val_accuracy: 0.9792\n",
      "Epoch 351/500\n",
      "375/375 [==============================] - 2s 6ms/step - loss: 0.0301 - accuracy: 0.9942 - val_loss: 0.0703 - val_accuracy: 0.9797\n",
      "Epoch 352/500\n",
      "375/375 [==============================] - 2s 6ms/step - loss: 0.0300 - accuracy: 0.9945 - val_loss: 0.0701 - val_accuracy: 0.9795\n",
      "Epoch 353/500\n",
      "375/375 [==============================] - 2s 6ms/step - loss: 0.0299 - accuracy: 0.9944 - val_loss: 0.0702 - val_accuracy: 0.9796\n",
      "Epoch 354/500\n",
      "375/375 [==============================] - 2s 6ms/step - loss: 0.0297 - accuracy: 0.9943 - val_loss: 0.0704 - val_accuracy: 0.9792\n",
      "Epoch 355/500\n",
      "375/375 [==============================] - 2s 6ms/step - loss: 0.0296 - accuracy: 0.9942 - val_loss: 0.0703 - val_accuracy: 0.9791\n",
      "Epoch 356/500\n",
      "375/375 [==============================] - 2s 6ms/step - loss: 0.0295 - accuracy: 0.9945 - val_loss: 0.0701 - val_accuracy: 0.9787\n",
      "Epoch 357/500\n",
      "375/375 [==============================] - 2s 6ms/step - loss: 0.0294 - accuracy: 0.9943 - val_loss: 0.0700 - val_accuracy: 0.9790\n",
      "Epoch 358/500\n",
      "375/375 [==============================] - 2s 6ms/step - loss: 0.0293 - accuracy: 0.9943 - val_loss: 0.0699 - val_accuracy: 0.9797\n",
      "Epoch 359/500\n",
      "375/375 [==============================] - 2s 6ms/step - loss: 0.0292 - accuracy: 0.9944 - val_loss: 0.0698 - val_accuracy: 0.9792\n",
      "Epoch 360/500\n",
      "375/375 [==============================] - 2s 6ms/step - loss: 0.0290 - accuracy: 0.9944 - val_loss: 0.0704 - val_accuracy: 0.9790\n",
      "Epoch 361/500\n",
      "375/375 [==============================] - 2s 6ms/step - loss: 0.0289 - accuracy: 0.9946 - val_loss: 0.0698 - val_accuracy: 0.9794\n",
      "Epoch 362/500\n",
      "375/375 [==============================] - 2s 6ms/step - loss: 0.0288 - accuracy: 0.9945 - val_loss: 0.0697 - val_accuracy: 0.9796\n",
      "Epoch 363/500\n",
      "375/375 [==============================] - 2s 6ms/step - loss: 0.0287 - accuracy: 0.9947 - val_loss: 0.0700 - val_accuracy: 0.9794\n",
      "Epoch 364/500\n",
      "375/375 [==============================] - 2s 6ms/step - loss: 0.0286 - accuracy: 0.9947 - val_loss: 0.0694 - val_accuracy: 0.9797\n",
      "Epoch 365/500\n",
      "375/375 [==============================] - 2s 6ms/step - loss: 0.0285 - accuracy: 0.9946 - val_loss: 0.0695 - val_accuracy: 0.9796\n",
      "Epoch 366/500\n",
      "375/375 [==============================] - 2s 6ms/step - loss: 0.0284 - accuracy: 0.9949 - val_loss: 0.0696 - val_accuracy: 0.9797\n",
      "Epoch 367/500\n",
      "375/375 [==============================] - 2s 6ms/step - loss: 0.0283 - accuracy: 0.9949 - val_loss: 0.0698 - val_accuracy: 0.9794\n",
      "Epoch 368/500\n",
      "375/375 [==============================] - 2s 6ms/step - loss: 0.0282 - accuracy: 0.9948 - val_loss: 0.0694 - val_accuracy: 0.9796\n",
      "Epoch 369/500\n",
      "375/375 [==============================] - 2s 6ms/step - loss: 0.0281 - accuracy: 0.9948 - val_loss: 0.0692 - val_accuracy: 0.9796\n",
      "Epoch 370/500\n",
      "375/375 [==============================] - 2s 6ms/step - loss: 0.0279 - accuracy: 0.9948 - val_loss: 0.0697 - val_accuracy: 0.9789\n",
      "Epoch 371/500\n",
      "375/375 [==============================] - 2s 6ms/step - loss: 0.0279 - accuracy: 0.9949 - val_loss: 0.0691 - val_accuracy: 0.9797\n",
      "Epoch 372/500\n",
      "375/375 [==============================] - 2s 6ms/step - loss: 0.0277 - accuracy: 0.9949 - val_loss: 0.0693 - val_accuracy: 0.9793\n",
      "Epoch 373/500\n",
      "375/375 [==============================] - 2s 6ms/step - loss: 0.0277 - accuracy: 0.9951 - val_loss: 0.0692 - val_accuracy: 0.9798\n",
      "Epoch 374/500\n",
      "375/375 [==============================] - 2s 6ms/step - loss: 0.0275 - accuracy: 0.9951 - val_loss: 0.0695 - val_accuracy: 0.9793\n",
      "Epoch 375/500\n",
      "375/375 [==============================] - 2s 6ms/step - loss: 0.0274 - accuracy: 0.9950 - val_loss: 0.0691 - val_accuracy: 0.9795\n",
      "Epoch 376/500\n",
      "375/375 [==============================] - 2s 6ms/step - loss: 0.0273 - accuracy: 0.9952 - val_loss: 0.0689 - val_accuracy: 0.9797\n",
      "Epoch 377/500\n",
      "375/375 [==============================] - 2s 6ms/step - loss: 0.0272 - accuracy: 0.9951 - val_loss: 0.0690 - val_accuracy: 0.9793\n",
      "Epoch 378/500\n",
      "375/375 [==============================] - 2s 6ms/step - loss: 0.0271 - accuracy: 0.9952 - val_loss: 0.0687 - val_accuracy: 0.9795\n",
      "Epoch 379/500\n",
      "375/375 [==============================] - 2s 6ms/step - loss: 0.0270 - accuracy: 0.9953 - val_loss: 0.0689 - val_accuracy: 0.9797\n",
      "Epoch 380/500\n",
      "375/375 [==============================] - 2s 6ms/step - loss: 0.0269 - accuracy: 0.9952 - val_loss: 0.0688 - val_accuracy: 0.9800\n",
      "Epoch 381/500\n",
      "375/375 [==============================] - 2s 6ms/step - loss: 0.0268 - accuracy: 0.9952 - val_loss: 0.0686 - val_accuracy: 0.9798\n",
      "Epoch 382/500\n",
      "375/375 [==============================] - 2s 6ms/step - loss: 0.0267 - accuracy: 0.9950 - val_loss: 0.0685 - val_accuracy: 0.9798\n",
      "Epoch 383/500\n",
      "375/375 [==============================] - 2s 6ms/step - loss: 0.0266 - accuracy: 0.9953 - val_loss: 0.0683 - val_accuracy: 0.9799\n",
      "Epoch 384/500\n",
      "375/375 [==============================] - 2s 6ms/step - loss: 0.0265 - accuracy: 0.9953 - val_loss: 0.0685 - val_accuracy: 0.9796\n",
      "Epoch 385/500\n",
      "375/375 [==============================] - 2s 6ms/step - loss: 0.0264 - accuracy: 0.9951 - val_loss: 0.0688 - val_accuracy: 0.9797\n",
      "Epoch 386/500\n",
      "375/375 [==============================] - 2s 6ms/step - loss: 0.0263 - accuracy: 0.9954 - val_loss: 0.0685 - val_accuracy: 0.9797\n",
      "Epoch 387/500\n",
      "375/375 [==============================] - 2s 6ms/step - loss: 0.0262 - accuracy: 0.9954 - val_loss: 0.0684 - val_accuracy: 0.9798\n",
      "Epoch 388/500\n",
      "375/375 [==============================] - 2s 6ms/step - loss: 0.0261 - accuracy: 0.9953 - val_loss: 0.0686 - val_accuracy: 0.9798\n",
      "Epoch 389/500\n",
      "375/375 [==============================] - 2s 6ms/step - loss: 0.0261 - accuracy: 0.9954 - val_loss: 0.0683 - val_accuracy: 0.9797\n",
      "Epoch 390/500\n",
      "375/375 [==============================] - 2s 6ms/step - loss: 0.0259 - accuracy: 0.9955 - val_loss: 0.0683 - val_accuracy: 0.9803\n",
      "Epoch 391/500\n",
      "375/375 [==============================] - 2s 6ms/step - loss: 0.0259 - accuracy: 0.9954 - val_loss: 0.0682 - val_accuracy: 0.9801\n",
      "Epoch 392/500\n",
      "375/375 [==============================] - 2s 6ms/step - loss: 0.0257 - accuracy: 0.9956 - val_loss: 0.0683 - val_accuracy: 0.9797\n",
      "Epoch 393/500\n",
      "375/375 [==============================] - 2s 6ms/step - loss: 0.0256 - accuracy: 0.9956 - val_loss: 0.0682 - val_accuracy: 0.9797\n",
      "Epoch 394/500\n",
      "375/375 [==============================] - 2s 6ms/step - loss: 0.0256 - accuracy: 0.9957 - val_loss: 0.0680 - val_accuracy: 0.9796\n",
      "Epoch 395/500\n"
     ]
    },
    {
     "name": "stdout",
     "output_type": "stream",
     "text": [
      "375/375 [==============================] - 2s 6ms/step - loss: 0.0254 - accuracy: 0.9956 - val_loss: 0.0680 - val_accuracy: 0.9796\n",
      "Epoch 396/500\n",
      "375/375 [==============================] - 2s 6ms/step - loss: 0.0253 - accuracy: 0.9956 - val_loss: 0.0679 - val_accuracy: 0.9803\n",
      "Epoch 397/500\n",
      "375/375 [==============================] - 2s 6ms/step - loss: 0.0253 - accuracy: 0.9957 - val_loss: 0.0679 - val_accuracy: 0.9797\n",
      "Epoch 398/500\n",
      "375/375 [==============================] - 2s 6ms/step - loss: 0.0251 - accuracy: 0.9957 - val_loss: 0.0679 - val_accuracy: 0.9798\n",
      "Epoch 399/500\n",
      "375/375 [==============================] - 2s 6ms/step - loss: 0.0251 - accuracy: 0.9957 - val_loss: 0.0680 - val_accuracy: 0.9797\n",
      "Epoch 400/500\n",
      "375/375 [==============================] - 2s 6ms/step - loss: 0.0250 - accuracy: 0.9958 - val_loss: 0.0677 - val_accuracy: 0.9798\n",
      "Epoch 401/500\n",
      "375/375 [==============================] - 2s 6ms/step - loss: 0.0249 - accuracy: 0.9957 - val_loss: 0.0681 - val_accuracy: 0.9798\n",
      "Epoch 402/500\n",
      "375/375 [==============================] - 2s 6ms/step - loss: 0.0248 - accuracy: 0.9957 - val_loss: 0.0679 - val_accuracy: 0.9797\n",
      "Epoch 403/500\n",
      "375/375 [==============================] - 2s 6ms/step - loss: 0.0247 - accuracy: 0.9959 - val_loss: 0.0678 - val_accuracy: 0.9800\n",
      "Epoch 404/500\n",
      "375/375 [==============================] - 2s 6ms/step - loss: 0.0246 - accuracy: 0.9958 - val_loss: 0.0677 - val_accuracy: 0.9801\n",
      "Epoch 405/500\n",
      "375/375 [==============================] - 2s 6ms/step - loss: 0.0245 - accuracy: 0.9958 - val_loss: 0.0676 - val_accuracy: 0.9800\n",
      "Epoch 406/500\n",
      "375/375 [==============================] - 2s 6ms/step - loss: 0.0245 - accuracy: 0.9959 - val_loss: 0.0676 - val_accuracy: 0.9798\n",
      "Epoch 407/500\n",
      "375/375 [==============================] - 2s 6ms/step - loss: 0.0244 - accuracy: 0.9959 - val_loss: 0.0672 - val_accuracy: 0.9801\n",
      "Epoch 408/500\n",
      "375/375 [==============================] - 2s 6ms/step - loss: 0.0242 - accuracy: 0.9962 - val_loss: 0.0675 - val_accuracy: 0.9805\n",
      "Epoch 409/500\n",
      "375/375 [==============================] - 2s 6ms/step - loss: 0.0242 - accuracy: 0.9959 - val_loss: 0.0672 - val_accuracy: 0.9802\n",
      "Epoch 410/500\n",
      "375/375 [==============================] - 2s 6ms/step - loss: 0.0241 - accuracy: 0.9959 - val_loss: 0.0675 - val_accuracy: 0.9798\n",
      "Epoch 411/500\n",
      "375/375 [==============================] - 2s 6ms/step - loss: 0.0240 - accuracy: 0.9961 - val_loss: 0.0671 - val_accuracy: 0.9803\n",
      "Epoch 412/500\n",
      "375/375 [==============================] - 2s 6ms/step - loss: 0.0239 - accuracy: 0.9961 - val_loss: 0.0672 - val_accuracy: 0.9798\n",
      "Epoch 413/500\n",
      "375/375 [==============================] - 2s 6ms/step - loss: 0.0238 - accuracy: 0.9959 - val_loss: 0.0675 - val_accuracy: 0.9803\n",
      "Epoch 414/500\n",
      "375/375 [==============================] - 2s 6ms/step - loss: 0.0238 - accuracy: 0.9960 - val_loss: 0.0670 - val_accuracy: 0.9803\n",
      "Epoch 415/500\n",
      "375/375 [==============================] - 2s 6ms/step - loss: 0.0236 - accuracy: 0.9960 - val_loss: 0.0670 - val_accuracy: 0.9806\n",
      "Epoch 416/500\n",
      "375/375 [==============================] - 2s 6ms/step - loss: 0.0236 - accuracy: 0.9962 - val_loss: 0.0668 - val_accuracy: 0.9803\n",
      "Epoch 417/500\n",
      "375/375 [==============================] - 2s 6ms/step - loss: 0.0235 - accuracy: 0.9962 - val_loss: 0.0670 - val_accuracy: 0.9799\n",
      "Epoch 418/500\n",
      "375/375 [==============================] - 2s 6ms/step - loss: 0.0234 - accuracy: 0.9962 - val_loss: 0.0671 - val_accuracy: 0.9801\n",
      "Epoch 419/500\n",
      "375/375 [==============================] - 2s 6ms/step - loss: 0.0233 - accuracy: 0.9962 - val_loss: 0.0672 - val_accuracy: 0.9803\n",
      "Epoch 420/500\n",
      "375/375 [==============================] - 2s 6ms/step - loss: 0.0232 - accuracy: 0.9963 - val_loss: 0.0670 - val_accuracy: 0.9803\n",
      "Epoch 421/500\n",
      "375/375 [==============================] - 2s 6ms/step - loss: 0.0231 - accuracy: 0.9962 - val_loss: 0.0671 - val_accuracy: 0.9799\n",
      "Epoch 422/500\n",
      "375/375 [==============================] - 2s 6ms/step - loss: 0.0230 - accuracy: 0.9962 - val_loss: 0.0666 - val_accuracy: 0.9805\n",
      "Epoch 423/500\n",
      "375/375 [==============================] - 2s 6ms/step - loss: 0.0230 - accuracy: 0.9963 - val_loss: 0.0667 - val_accuracy: 0.9805\n",
      "Epoch 424/500\n",
      "375/375 [==============================] - 2s 6ms/step - loss: 0.0229 - accuracy: 0.9962 - val_loss: 0.0672 - val_accuracy: 0.9796\n",
      "Epoch 425/500\n",
      "375/375 [==============================] - 2s 6ms/step - loss: 0.0228 - accuracy: 0.9963 - val_loss: 0.0667 - val_accuracy: 0.9802\n",
      "Epoch 426/500\n",
      "375/375 [==============================] - 2s 6ms/step - loss: 0.0227 - accuracy: 0.9965 - val_loss: 0.0665 - val_accuracy: 0.9804\n",
      "Epoch 427/500\n",
      "375/375 [==============================] - 2s 6ms/step - loss: 0.0226 - accuracy: 0.9964 - val_loss: 0.0665 - val_accuracy: 0.9804\n",
      "Epoch 428/500\n",
      "375/375 [==============================] - 2s 6ms/step - loss: 0.0226 - accuracy: 0.9965 - val_loss: 0.0668 - val_accuracy: 0.9802\n",
      "Epoch 429/500\n",
      "375/375 [==============================] - 2s 6ms/step - loss: 0.0225 - accuracy: 0.9964 - val_loss: 0.0667 - val_accuracy: 0.9804\n",
      "Epoch 430/500\n",
      "375/375 [==============================] - 2s 6ms/step - loss: 0.0224 - accuracy: 0.9964 - val_loss: 0.0665 - val_accuracy: 0.9803\n",
      "Epoch 431/500\n",
      "375/375 [==============================] - 2s 6ms/step - loss: 0.0223 - accuracy: 0.9964 - val_loss: 0.0667 - val_accuracy: 0.9804\n",
      "Epoch 432/500\n",
      "375/375 [==============================] - 2s 6ms/step - loss: 0.0223 - accuracy: 0.9965 - val_loss: 0.0666 - val_accuracy: 0.9809\n",
      "Epoch 433/500\n",
      "375/375 [==============================] - 2s 6ms/step - loss: 0.0222 - accuracy: 0.9964 - val_loss: 0.0663 - val_accuracy: 0.9807\n",
      "Epoch 434/500\n",
      "375/375 [==============================] - 2s 6ms/step - loss: 0.0221 - accuracy: 0.9966 - val_loss: 0.0665 - val_accuracy: 0.9802\n",
      "Epoch 435/500\n",
      "375/375 [==============================] - 2s 6ms/step - loss: 0.0220 - accuracy: 0.9965 - val_loss: 0.0664 - val_accuracy: 0.9803\n",
      "Epoch 436/500\n",
      "375/375 [==============================] - 2s 6ms/step - loss: 0.0219 - accuracy: 0.9966 - val_loss: 0.0663 - val_accuracy: 0.9799\n",
      "Epoch 437/500\n",
      "375/375 [==============================] - 2s 6ms/step - loss: 0.0218 - accuracy: 0.9966 - val_loss: 0.0666 - val_accuracy: 0.9798\n",
      "Epoch 438/500\n",
      "375/375 [==============================] - 2s 6ms/step - loss: 0.0218 - accuracy: 0.9966 - val_loss: 0.0662 - val_accuracy: 0.9803\n",
      "Epoch 439/500\n",
      "375/375 [==============================] - 2s 6ms/step - loss: 0.0217 - accuracy: 0.9966 - val_loss: 0.0665 - val_accuracy: 0.9802\n",
      "Epoch 440/500\n",
      "375/375 [==============================] - 2s 6ms/step - loss: 0.0216 - accuracy: 0.9965 - val_loss: 0.0662 - val_accuracy: 0.9809\n",
      "Epoch 441/500\n",
      "375/375 [==============================] - 2s 6ms/step - loss: 0.0215 - accuracy: 0.9967 - val_loss: 0.0665 - val_accuracy: 0.9802\n",
      "Epoch 442/500\n",
      "375/375 [==============================] - 2s 6ms/step - loss: 0.0215 - accuracy: 0.9967 - val_loss: 0.0662 - val_accuracy: 0.9805\n",
      "Epoch 443/500\n",
      "375/375 [==============================] - 2s 6ms/step - loss: 0.0214 - accuracy: 0.9967 - val_loss: 0.0660 - val_accuracy: 0.9800\n",
      "Epoch 444/500\n",
      "375/375 [==============================] - 2s 6ms/step - loss: 0.0214 - accuracy: 0.9967 - val_loss: 0.0662 - val_accuracy: 0.9803\n",
      "Epoch 445/500\n",
      "375/375 [==============================] - 2s 6ms/step - loss: 0.0213 - accuracy: 0.9968 - val_loss: 0.0660 - val_accuracy: 0.9803\n",
      "Epoch 446/500\n",
      "375/375 [==============================] - 2s 6ms/step - loss: 0.0212 - accuracy: 0.9967 - val_loss: 0.0659 - val_accuracy: 0.9803\n",
      "Epoch 447/500\n",
      "375/375 [==============================] - 2s 6ms/step - loss: 0.0211 - accuracy: 0.9968 - val_loss: 0.0661 - val_accuracy: 0.9802\n",
      "Epoch 448/500\n",
      "375/375 [==============================] - 2s 6ms/step - loss: 0.0210 - accuracy: 0.9967 - val_loss: 0.0657 - val_accuracy: 0.9808\n",
      "Epoch 449/500\n",
      "375/375 [==============================] - 2s 6ms/step - loss: 0.0209 - accuracy: 0.9968 - val_loss: 0.0663 - val_accuracy: 0.9802\n",
      "Epoch 450/500\n",
      "375/375 [==============================] - 2s 6ms/step - loss: 0.0209 - accuracy: 0.9968 - val_loss: 0.0658 - val_accuracy: 0.9803\n",
      "Epoch 451/500\n"
     ]
    },
    {
     "name": "stdout",
     "output_type": "stream",
     "text": [
      "375/375 [==============================] - 2s 6ms/step - loss: 0.0208 - accuracy: 0.9968 - val_loss: 0.0660 - val_accuracy: 0.9800\n",
      "Epoch 452/500\n",
      "375/375 [==============================] - 2s 6ms/step - loss: 0.0207 - accuracy: 0.9967 - val_loss: 0.0654 - val_accuracy: 0.9808\n",
      "Epoch 453/500\n",
      "375/375 [==============================] - 2s 6ms/step - loss: 0.0207 - accuracy: 0.9968 - val_loss: 0.0660 - val_accuracy: 0.9800\n",
      "Epoch 454/500\n",
      "375/375 [==============================] - 2s 6ms/step - loss: 0.0206 - accuracy: 0.9969 - val_loss: 0.0655 - val_accuracy: 0.9808\n",
      "Epoch 455/500\n",
      "375/375 [==============================] - 2s 6ms/step - loss: 0.0206 - accuracy: 0.9969 - val_loss: 0.0657 - val_accuracy: 0.9802\n",
      "Epoch 456/500\n",
      "375/375 [==============================] - 2s 6ms/step - loss: 0.0205 - accuracy: 0.9969 - val_loss: 0.0660 - val_accuracy: 0.9803\n",
      "Epoch 457/500\n",
      "375/375 [==============================] - 2s 6ms/step - loss: 0.0204 - accuracy: 0.9968 - val_loss: 0.0654 - val_accuracy: 0.9808\n",
      "Epoch 458/500\n",
      "375/375 [==============================] - 2s 6ms/step - loss: 0.0203 - accuracy: 0.9970 - val_loss: 0.0657 - val_accuracy: 0.9803\n",
      "Epoch 459/500\n",
      "375/375 [==============================] - 2s 6ms/step - loss: 0.0203 - accuracy: 0.9969 - val_loss: 0.0655 - val_accuracy: 0.9805\n",
      "Epoch 460/500\n",
      "375/375 [==============================] - 2s 6ms/step - loss: 0.0202 - accuracy: 0.9969 - val_loss: 0.0655 - val_accuracy: 0.9807\n",
      "Epoch 461/500\n",
      "375/375 [==============================] - 2s 6ms/step - loss: 0.0202 - accuracy: 0.9969 - val_loss: 0.0655 - val_accuracy: 0.9807\n",
      "Epoch 462/500\n",
      "375/375 [==============================] - 2s 6ms/step - loss: 0.0200 - accuracy: 0.9969 - val_loss: 0.0660 - val_accuracy: 0.9803\n",
      "Epoch 463/500\n",
      "375/375 [==============================] - 2s 6ms/step - loss: 0.0199 - accuracy: 0.9970 - val_loss: 0.0658 - val_accuracy: 0.9803\n",
      "Epoch 464/500\n",
      "375/375 [==============================] - 2s 6ms/step - loss: 0.0199 - accuracy: 0.9969 - val_loss: 0.0655 - val_accuracy: 0.9804\n",
      "Epoch 465/500\n",
      "375/375 [==============================] - 2s 6ms/step - loss: 0.0199 - accuracy: 0.9970 - val_loss: 0.0656 - val_accuracy: 0.9802\n",
      "Epoch 466/500\n",
      "375/375 [==============================] - 2s 6ms/step - loss: 0.0198 - accuracy: 0.9971 - val_loss: 0.0657 - val_accuracy: 0.9802\n",
      "Epoch 467/500\n",
      "375/375 [==============================] - 2s 6ms/step - loss: 0.0197 - accuracy: 0.9970 - val_loss: 0.0651 - val_accuracy: 0.9806\n",
      "Epoch 468/500\n",
      "375/375 [==============================] - 2s 6ms/step - loss: 0.0196 - accuracy: 0.9970 - val_loss: 0.0653 - val_accuracy: 0.9803\n",
      "Epoch 469/500\n",
      "375/375 [==============================] - 2s 6ms/step - loss: 0.0196 - accuracy: 0.9970 - val_loss: 0.0651 - val_accuracy: 0.9804\n",
      "Epoch 470/500\n",
      "375/375 [==============================] - 2s 6ms/step - loss: 0.0195 - accuracy: 0.9971 - val_loss: 0.0650 - val_accuracy: 0.9808\n",
      "Epoch 471/500\n",
      "375/375 [==============================] - 2s 6ms/step - loss: 0.0194 - accuracy: 0.9971 - val_loss: 0.0653 - val_accuracy: 0.9805\n",
      "Epoch 472/500\n",
      "375/375 [==============================] - 2s 6ms/step - loss: 0.0194 - accuracy: 0.9971 - val_loss: 0.0651 - val_accuracy: 0.9803\n",
      "Epoch 473/500\n",
      "375/375 [==============================] - 2s 6ms/step - loss: 0.0193 - accuracy: 0.9971 - val_loss: 0.0650 - val_accuracy: 0.9810\n",
      "Epoch 474/500\n",
      "375/375 [==============================] - 2s 6ms/step - loss: 0.0193 - accuracy: 0.9972 - val_loss: 0.0652 - val_accuracy: 0.9801\n",
      "Epoch 475/500\n",
      "375/375 [==============================] - 2s 6ms/step - loss: 0.0192 - accuracy: 0.9971 - val_loss: 0.0651 - val_accuracy: 0.9805\n",
      "Epoch 476/500\n",
      "375/375 [==============================] - 2s 6ms/step - loss: 0.0191 - accuracy: 0.9972 - val_loss: 0.0651 - val_accuracy: 0.9803\n",
      "Epoch 477/500\n",
      "375/375 [==============================] - 2s 6ms/step - loss: 0.0191 - accuracy: 0.9972 - val_loss: 0.0651 - val_accuracy: 0.9806\n",
      "Epoch 478/500\n",
      "375/375 [==============================] - 2s 6ms/step - loss: 0.0190 - accuracy: 0.9971 - val_loss: 0.0652 - val_accuracy: 0.9805\n",
      "Epoch 479/500\n",
      "375/375 [==============================] - 2s 6ms/step - loss: 0.0189 - accuracy: 0.9973 - val_loss: 0.0649 - val_accuracy: 0.9810\n",
      "Epoch 480/500\n",
      "375/375 [==============================] - 2s 6ms/step - loss: 0.0188 - accuracy: 0.9972 - val_loss: 0.0653 - val_accuracy: 0.9804\n",
      "Epoch 481/500\n",
      "375/375 [==============================] - 2s 6ms/step - loss: 0.0188 - accuracy: 0.9974 - val_loss: 0.0651 - val_accuracy: 0.9806\n",
      "Epoch 482/500\n",
      "375/375 [==============================] - 2s 6ms/step - loss: 0.0187 - accuracy: 0.9972 - val_loss: 0.0651 - val_accuracy: 0.9806\n",
      "Epoch 483/500\n",
      "375/375 [==============================] - 2s 6ms/step - loss: 0.0187 - accuracy: 0.9973 - val_loss: 0.0652 - val_accuracy: 0.9800\n",
      "Epoch 484/500\n",
      "375/375 [==============================] - 2s 6ms/step - loss: 0.0186 - accuracy: 0.9973 - val_loss: 0.0649 - val_accuracy: 0.9804\n",
      "Epoch 485/500\n",
      "375/375 [==============================] - 2s 6ms/step - loss: 0.0186 - accuracy: 0.9974 - val_loss: 0.0649 - val_accuracy: 0.9808\n",
      "Epoch 486/500\n",
      "375/375 [==============================] - 2s 6ms/step - loss: 0.0185 - accuracy: 0.9974 - val_loss: 0.0647 - val_accuracy: 0.9801\n",
      "Epoch 487/500\n",
      "375/375 [==============================] - 2s 6ms/step - loss: 0.0184 - accuracy: 0.9974 - val_loss: 0.0649 - val_accuracy: 0.9806\n",
      "Epoch 488/500\n",
      "375/375 [==============================] - 2s 6ms/step - loss: 0.0184 - accuracy: 0.9974 - val_loss: 0.0645 - val_accuracy: 0.9803\n",
      "Epoch 489/500\n",
      "375/375 [==============================] - 2s 6ms/step - loss: 0.0183 - accuracy: 0.9974 - val_loss: 0.0645 - val_accuracy: 0.9807\n",
      "Epoch 490/500\n",
      "375/375 [==============================] - 2s 6ms/step - loss: 0.0183 - accuracy: 0.9974 - val_loss: 0.0646 - val_accuracy: 0.9803\n",
      "Epoch 491/500\n",
      "375/375 [==============================] - 2s 6ms/step - loss: 0.0182 - accuracy: 0.9975 - val_loss: 0.0644 - val_accuracy: 0.9808\n",
      "Epoch 492/500\n",
      "375/375 [==============================] - 2s 6ms/step - loss: 0.0181 - accuracy: 0.9975 - val_loss: 0.0643 - val_accuracy: 0.9810\n",
      "Epoch 493/500\n",
      "375/375 [==============================] - 2s 6ms/step - loss: 0.0181 - accuracy: 0.9974 - val_loss: 0.0644 - val_accuracy: 0.9808\n",
      "Epoch 494/500\n",
      "375/375 [==============================] - 2s 6ms/step - loss: 0.0180 - accuracy: 0.9976 - val_loss: 0.0644 - val_accuracy: 0.9812\n",
      "Epoch 495/500\n",
      "375/375 [==============================] - 2s 6ms/step - loss: 0.0180 - accuracy: 0.9975 - val_loss: 0.0645 - val_accuracy: 0.9802\n",
      "Epoch 496/500\n",
      "375/375 [==============================] - 2s 6ms/step - loss: 0.0179 - accuracy: 0.9976 - val_loss: 0.0646 - val_accuracy: 0.9803\n",
      "Epoch 497/500\n",
      "375/375 [==============================] - 2s 6ms/step - loss: 0.0179 - accuracy: 0.9975 - val_loss: 0.0643 - val_accuracy: 0.9808\n",
      "Epoch 498/500\n",
      "375/375 [==============================] - 2s 6ms/step - loss: 0.0178 - accuracy: 0.9976 - val_loss: 0.0645 - val_accuracy: 0.9804\n",
      "Epoch 499/500\n",
      "375/375 [==============================] - 2s 6ms/step - loss: 0.0177 - accuracy: 0.9976 - val_loss: 0.0646 - val_accuracy: 0.9803\n",
      "Epoch 500/500\n",
      "375/375 [==============================] - 2s 6ms/step - loss: 0.0177 - accuracy: 0.9975 - val_loss: 0.0644 - val_accuracy: 0.9812\n"
     ]
    }
   ],
   "source": [
    "n_epochs = 500\n",
    "# Task 4 model - baseline\n",
    "t4_model = Sequential()\n",
    "t4_model.add(Conv2D(32, filter_size, input_shape=(28, 28, 1), activation=activation))\n",
    "t4_model.add(Conv2D(32, filter_size, activation=activation))\n",
    "t4_model.add(Flatten())\n",
    "t4_model.add(Dense(units=hidden_dense_units, activation=activation))\n",
    "t4_model.add(Flatten())\n",
    "t4_model.add(Dense(n_classes))\n",
    "t4_model.add(Activation(\"softmax\"))\n",
    "\n",
    "t4_model.compile(loss=loss, optimizer=opt,\n",
    "            metrics=metrics)\n",
    "H = t4_model.fit(trainX, trainY, validation_data=(valX, valY),\n",
    "                   epochs=n_epochs, batch_size=batch_size) "
   ]
  },
  {
   "cell_type": "code",
   "execution_count": 39,
   "metadata": {},
   "outputs": [
    {
     "name": "stdout",
     "output_type": "stream",
     "text": [
      "Model Accuracy 0.9825\n"
     ]
    }
   ],
   "source": [
    "# evaluate the network\n",
    "predictions = t4_model.predict(testX, batch_size=batch_size)\n",
    "acc_score = accuracy_score(testY.argmax(axis=1),\n",
    "                           predictions.argmax(axis=1))\n",
    "print(f\"Model Accuracy {acc_score}\")"
   ]
  },
  {
   "cell_type": "code",
   "execution_count": 40,
   "metadata": {},
   "outputs": [
    {
     "data": {
      "image/png": "[encoded data removed]",
      "text/plain": [
       "<Figure size 576x432 with 1 Axes>"
      ]
     },
     "metadata": {},
     "output_type": "display_data"
    }
   ],
   "source": [
    "plot_summary(H, n_epochs, valid=True)"
   ]
  },
  {
   "cell_type": "markdown",
   "metadata": {},
   "source": [
    "**Results**\n",
    "From the plat it seems like some around 75 epochs the training and validation losses have started to diverge. That gives an indication that the model is not learning much post. \n",
    "For the purpose of this hypothesis - we assume that epoch =75 is providing results with all the other hyperparameters being same. Now we can tune other hyperparameters for improvement on the accuracy and loss achieved with number of epochs = 75"
   ]
  },
  {
   "cell_type": "code",
   "execution_count": 41,
   "metadata": {},
   "outputs": [
    {
     "name": "stdout",
     "output_type": "stream",
     "text": [
      "Epoch 1/75\n",
      "375/375 [==============================] - 2s 6ms/step - loss: 2.3072 - accuracy: 0.1051 - val_loss: 2.3012 - val_accuracy: 0.1044\n",
      "Epoch 2/75\n",
      "375/375 [==============================] - 2s 6ms/step - loss: 2.3006 - accuracy: 0.1142 - val_loss: 2.2999 - val_accuracy: 0.1303\n",
      "Epoch 3/75\n",
      "375/375 [==============================] - 2s 6ms/step - loss: 2.2938 - accuracy: 0.1249 - val_loss: 2.2881 - val_accuracy: 0.1123\n",
      "Epoch 4/75\n",
      "375/375 [==============================] - 2s 6ms/step - loss: 2.2771 - accuracy: 0.1611 - val_loss: 2.2597 - val_accuracy: 0.2731\n",
      "Epoch 5/75\n",
      "375/375 [==============================] - 2s 6ms/step - loss: 2.2035 - accuracy: 0.3254 - val_loss: 2.1031 - val_accuracy: 0.3981\n",
      "Epoch 6/75\n",
      "375/375 [==============================] - 2s 6ms/step - loss: 1.7380 - accuracy: 0.6170 - val_loss: 1.2851 - val_accuracy: 0.7122\n",
      "Epoch 7/75\n",
      "375/375 [==============================] - 2s 6ms/step - loss: 0.9766 - accuracy: 0.7778 - val_loss: 0.7755 - val_accuracy: 0.8141\n",
      "Epoch 8/75\n",
      "375/375 [==============================] - 2s 6ms/step - loss: 0.6741 - accuracy: 0.8331 - val_loss: 0.6009 - val_accuracy: 0.8415\n",
      "Epoch 9/75\n",
      "375/375 [==============================] - 2s 6ms/step - loss: 0.5532 - accuracy: 0.8559 - val_loss: 0.5157 - val_accuracy: 0.8649\n",
      "Epoch 10/75\n",
      "375/375 [==============================] - 2s 6ms/step - loss: 0.4867 - accuracy: 0.8709 - val_loss: 0.4623 - val_accuracy: 0.8725\n",
      "Epoch 11/75\n",
      "375/375 [==============================] - 2s 6ms/step - loss: 0.4440 - accuracy: 0.8789 - val_loss: 0.4272 - val_accuracy: 0.8828\n",
      "Epoch 12/75\n",
      "375/375 [==============================] - 2s 6ms/step - loss: 0.4139 - accuracy: 0.8850 - val_loss: 0.4008 - val_accuracy: 0.8896\n",
      "Epoch 13/75\n",
      "375/375 [==============================] - 2s 6ms/step - loss: 0.3912 - accuracy: 0.8897 - val_loss: 0.3809 - val_accuracy: 0.8921\n",
      "Epoch 14/75\n",
      "375/375 [==============================] - 2s 6ms/step - loss: 0.3731 - accuracy: 0.8940 - val_loss: 0.3650 - val_accuracy: 0.8963\n",
      "Epoch 15/75\n",
      "375/375 [==============================] - 2s 6ms/step - loss: 0.3583 - accuracy: 0.8974 - val_loss: 0.3509 - val_accuracy: 0.9002\n",
      "Epoch 16/75\n",
      "375/375 [==============================] - 2s 6ms/step - loss: 0.3452 - accuracy: 0.9013 - val_loss: 0.3400 - val_accuracy: 0.9032\n",
      "Epoch 17/75\n",
      "375/375 [==============================] - 2s 6ms/step - loss: 0.3343 - accuracy: 0.9032 - val_loss: 0.3280 - val_accuracy: 0.9055\n",
      "Epoch 18/75\n",
      "375/375 [==============================] - 2s 6ms/step - loss: 0.3243 - accuracy: 0.9064 - val_loss: 0.3196 - val_accuracy: 0.9081\n",
      "Epoch 19/75\n",
      "375/375 [==============================] - 2s 6ms/step - loss: 0.3152 - accuracy: 0.9078 - val_loss: 0.3119 - val_accuracy: 0.9092\n",
      "Epoch 20/75\n",
      "375/375 [==============================] - 2s 6ms/step - loss: 0.3074 - accuracy: 0.9111 - val_loss: 0.3039 - val_accuracy: 0.9116\n",
      "Epoch 21/75\n",
      "375/375 [==============================] - 2s 6ms/step - loss: 0.2997 - accuracy: 0.9129 - val_loss: 0.2976 - val_accuracy: 0.9144\n",
      "Epoch 22/75\n",
      "375/375 [==============================] - 2s 6ms/step - loss: 0.2922 - accuracy: 0.9147 - val_loss: 0.2908 - val_accuracy: 0.9153\n",
      "Epoch 23/75\n",
      "375/375 [==============================] - 2s 6ms/step - loss: 0.2855 - accuracy: 0.9166 - val_loss: 0.2838 - val_accuracy: 0.9184\n",
      "Epoch 24/75\n",
      "375/375 [==============================] - 2s 6ms/step - loss: 0.2794 - accuracy: 0.9186 - val_loss: 0.2787 - val_accuracy: 0.9183\n",
      "Epoch 25/75\n",
      "375/375 [==============================] - 2s 6ms/step - loss: 0.2734 - accuracy: 0.9200 - val_loss: 0.2739 - val_accuracy: 0.9212\n",
      "Epoch 26/75\n",
      "375/375 [==============================] - 2s 6ms/step - loss: 0.2675 - accuracy: 0.9212 - val_loss: 0.2682 - val_accuracy: 0.9210\n",
      "Epoch 27/75\n",
      "375/375 [==============================] - 2s 6ms/step - loss: 0.2622 - accuracy: 0.9229 - val_loss: 0.2634 - val_accuracy: 0.9227\n",
      "Epoch 28/75\n",
      "375/375 [==============================] - 2s 6ms/step - loss: 0.2569 - accuracy: 0.9249 - val_loss: 0.2578 - val_accuracy: 0.9243\n",
      "Epoch 29/75\n",
      "375/375 [==============================] - 2s 6ms/step - loss: 0.2521 - accuracy: 0.9262 - val_loss: 0.2541 - val_accuracy: 0.9251\n",
      "Epoch 30/75\n",
      "375/375 [==============================] - 2s 6ms/step - loss: 0.2473 - accuracy: 0.9282 - val_loss: 0.2493 - val_accuracy: 0.9272\n",
      "Epoch 31/75\n",
      "375/375 [==============================] - 2s 6ms/step - loss: 0.2425 - accuracy: 0.9294 - val_loss: 0.2446 - val_accuracy: 0.9286\n",
      "Epoch 32/75\n",
      "375/375 [==============================] - 2s 6ms/step - loss: 0.2379 - accuracy: 0.9309 - val_loss: 0.2413 - val_accuracy: 0.9287\n",
      "Epoch 33/75\n",
      "375/375 [==============================] - 2s 6ms/step - loss: 0.2337 - accuracy: 0.9321 - val_loss: 0.2380 - val_accuracy: 0.9287\n",
      "Epoch 34/75\n",
      "375/375 [==============================] - 2s 6ms/step - loss: 0.2295 - accuracy: 0.9333 - val_loss: 0.2354 - val_accuracy: 0.9310\n",
      "Epoch 35/75\n",
      "375/375 [==============================] - 2s 6ms/step - loss: 0.2255 - accuracy: 0.9346 - val_loss: 0.2296 - val_accuracy: 0.9325\n",
      "Epoch 36/75\n",
      "375/375 [==============================] - 2s 6ms/step - loss: 0.2217 - accuracy: 0.9352 - val_loss: 0.2270 - val_accuracy: 0.9328\n",
      "Epoch 37/75\n",
      "375/375 [==============================] - 2s 6ms/step - loss: 0.2179 - accuracy: 0.9366 - val_loss: 0.2241 - val_accuracy: 0.9358\n",
      "Epoch 38/75\n",
      "375/375 [==============================] - 2s 6ms/step - loss: 0.2145 - accuracy: 0.9371 - val_loss: 0.2198 - val_accuracy: 0.9349\n",
      "Epoch 39/75\n",
      "375/375 [==============================] - 2s 6ms/step - loss: 0.2108 - accuracy: 0.9390 - val_loss: 0.2172 - val_accuracy: 0.9366\n",
      "Epoch 40/75\n",
      "375/375 [==============================] - 2s 6ms/step - loss: 0.2074 - accuracy: 0.9399 - val_loss: 0.2139 - val_accuracy: 0.9366\n",
      "Epoch 41/75\n",
      "375/375 [==============================] - 2s 6ms/step - loss: 0.2040 - accuracy: 0.9414 - val_loss: 0.2116 - val_accuracy: 0.9367\n",
      "Epoch 42/75\n",
      "375/375 [==============================] - 2s 6ms/step - loss: 0.2007 - accuracy: 0.9425 - val_loss: 0.2087 - val_accuracy: 0.9383\n",
      "Epoch 43/75\n",
      "375/375 [==============================] - 2s 6ms/step - loss: 0.1976 - accuracy: 0.9424 - val_loss: 0.2053 - val_accuracy: 0.9391\n",
      "Epoch 44/75\n",
      "375/375 [==============================] - 2s 6ms/step - loss: 0.1947 - accuracy: 0.9438 - val_loss: 0.2026 - val_accuracy: 0.9401\n",
      "Epoch 45/75\n",
      "375/375 [==============================] - 2s 6ms/step - loss: 0.1916 - accuracy: 0.9450 - val_loss: 0.2001 - val_accuracy: 0.9414\n",
      "Epoch 46/75\n",
      "375/375 [==============================] - 2s 6ms/step - loss: 0.1887 - accuracy: 0.9458 - val_loss: 0.1962 - val_accuracy: 0.9425\n",
      "Epoch 47/75\n",
      "375/375 [==============================] - 2s 6ms/step - loss: 0.1858 - accuracy: 0.9467 - val_loss: 0.1942 - val_accuracy: 0.9431\n",
      "Epoch 48/75\n",
      "375/375 [==============================] - 2s 6ms/step - loss: 0.1831 - accuracy: 0.9468 - val_loss: 0.1924 - val_accuracy: 0.9439\n",
      "Epoch 49/75\n",
      "375/375 [==============================] - 2s 6ms/step - loss: 0.1806 - accuracy: 0.9479 - val_loss: 0.1892 - val_accuracy: 0.9446\n",
      "Epoch 50/75\n",
      "375/375 [==============================] - 2s 6ms/step - loss: 0.1779 - accuracy: 0.9487 - val_loss: 0.1872 - val_accuracy: 0.9456\n",
      "Epoch 51/75\n",
      "375/375 [==============================] - 2s 6ms/step - loss: 0.1754 - accuracy: 0.9496 - val_loss: 0.1849 - val_accuracy: 0.9462\n",
      "Epoch 52/75\n",
      "375/375 [==============================] - 2s 6ms/step - loss: 0.1731 - accuracy: 0.9498 - val_loss: 0.1826 - val_accuracy: 0.9466\n",
      "Epoch 53/75\n",
      "375/375 [==============================] - 2s 6ms/step - loss: 0.1707 - accuracy: 0.9513 - val_loss: 0.1808 - val_accuracy: 0.9478\n",
      "Epoch 54/75\n",
      "375/375 [==============================] - 2s 6ms/step - loss: 0.1684 - accuracy: 0.9518 - val_loss: 0.1781 - val_accuracy: 0.9485\n",
      "Epoch 55/75\n",
      "375/375 [==============================] - 2s 6ms/step - loss: 0.1662 - accuracy: 0.9521 - val_loss: 0.1765 - val_accuracy: 0.9490\n",
      "Epoch 56/75\n",
      "375/375 [==============================] - 2s 6ms/step - loss: 0.1641 - accuracy: 0.9530 - val_loss: 0.1743 - val_accuracy: 0.9489\n",
      "Epoch 57/75\n",
      "375/375 [==============================] - 2s 6ms/step - loss: 0.1617 - accuracy: 0.9541 - val_loss: 0.1733 - val_accuracy: 0.9492\n",
      "Epoch 58/75\n"
     ]
    },
    {
     "name": "stdout",
     "output_type": "stream",
     "text": [
      "375/375 [==============================] - 2s 6ms/step - loss: 0.1598 - accuracy: 0.9545 - val_loss: 0.1706 - val_accuracy: 0.9498\n",
      "Epoch 59/75\n",
      "375/375 [==============================] - 2s 6ms/step - loss: 0.1578 - accuracy: 0.9550 - val_loss: 0.1692 - val_accuracy: 0.9507\n",
      "Epoch 60/75\n",
      "375/375 [==============================] - 2s 6ms/step - loss: 0.1557 - accuracy: 0.9558 - val_loss: 0.1673 - val_accuracy: 0.9524\n",
      "Epoch 61/75\n",
      "375/375 [==============================] - 2s 6ms/step - loss: 0.1539 - accuracy: 0.9568 - val_loss: 0.1657 - val_accuracy: 0.9525\n",
      "Epoch 62/75\n",
      "375/375 [==============================] - 2s 6ms/step - loss: 0.1519 - accuracy: 0.9570 - val_loss: 0.1646 - val_accuracy: 0.9523\n",
      "Epoch 63/75\n",
      "375/375 [==============================] - 2s 6ms/step - loss: 0.1504 - accuracy: 0.9578 - val_loss: 0.1625 - val_accuracy: 0.9530\n",
      "Epoch 64/75\n",
      "375/375 [==============================] - 2s 6ms/step - loss: 0.1484 - accuracy: 0.9582 - val_loss: 0.1611 - val_accuracy: 0.9534\n",
      "Epoch 65/75\n",
      "375/375 [==============================] - 2s 6ms/step - loss: 0.1469 - accuracy: 0.9583 - val_loss: 0.1590 - val_accuracy: 0.9539\n",
      "Epoch 66/75\n",
      "375/375 [==============================] - 2s 6ms/step - loss: 0.1451 - accuracy: 0.9592 - val_loss: 0.1574 - val_accuracy: 0.9532\n",
      "Epoch 67/75\n",
      "375/375 [==============================] - 2s 6ms/step - loss: 0.1435 - accuracy: 0.9596 - val_loss: 0.1562 - val_accuracy: 0.9545\n",
      "Epoch 68/75\n",
      "375/375 [==============================] - 2s 6ms/step - loss: 0.1416 - accuracy: 0.9601 - val_loss: 0.1551 - val_accuracy: 0.9550\n",
      "Epoch 69/75\n",
      "375/375 [==============================] - 2s 6ms/step - loss: 0.1400 - accuracy: 0.9606 - val_loss: 0.1532 - val_accuracy: 0.9560\n",
      "Epoch 70/75\n",
      "375/375 [==============================] - 2s 6ms/step - loss: 0.1384 - accuracy: 0.9614 - val_loss: 0.1521 - val_accuracy: 0.9553\n",
      "Epoch 71/75\n",
      "375/375 [==============================] - 2s 6ms/step - loss: 0.1370 - accuracy: 0.9616 - val_loss: 0.1511 - val_accuracy: 0.9566\n",
      "Epoch 72/75\n",
      "375/375 [==============================] - 2s 6ms/step - loss: 0.1356 - accuracy: 0.9617 - val_loss: 0.1493 - val_accuracy: 0.9574\n",
      "Epoch 73/75\n",
      "375/375 [==============================] - 2s 6ms/step - loss: 0.1341 - accuracy: 0.9625 - val_loss: 0.1479 - val_accuracy: 0.9576\n",
      "Epoch 74/75\n",
      "375/375 [==============================] - 2s 6ms/step - loss: 0.1328 - accuracy: 0.9625 - val_loss: 0.1470 - val_accuracy: 0.9572\n",
      "Epoch 75/75\n",
      "375/375 [==============================] - 2s 6ms/step - loss: 0.1315 - accuracy: 0.9629 - val_loss: 0.1455 - val_accuracy: 0.9578\n"
     ]
    }
   ],
   "source": [
    "# to find out the accuracy score at epochs = 75\n",
    "n_epochs = 75\n",
    "# Task 4 model - baseline\n",
    "t4_model = Sequential()\n",
    "t4_model.add(Conv2D(32, filter_size, input_shape=(28, 28, 1), activation=activation))\n",
    "t4_model.add(Conv2D(32, filter_size, activation=activation))\n",
    "t4_model.add(Flatten())\n",
    "t4_model.add(Dense(units=hidden_dense_units, activation=activation))\n",
    "t4_model.add(Flatten())\n",
    "t4_model.add(Dense(n_classes))\n",
    "t4_model.add(Activation(\"softmax\"))\n",
    "\n",
    "t4_model.compile(loss=loss, optimizer=opt,\n",
    "            metrics=metrics)\n",
    "H = t4_model.fit(trainX, trainY, validation_data=(valX, valY),\n",
    "                   epochs=n_epochs, batch_size=batch_size) "
   ]
  },
  {
   "cell_type": "code",
   "execution_count": 42,
   "metadata": {},
   "outputs": [
    {
     "name": "stdout",
     "output_type": "stream",
     "text": [
      "Model Accuracy 0.9623\n"
     ]
    }
   ],
   "source": [
    "# evaluate the network\n",
    "predictions = t4_model.predict(testX, batch_size=batch_size)\n",
    "acc_score = accuracy_score(testY.argmax(axis=1),\n",
    "                           predictions.argmax(axis=1))\n",
    "print(f\"Model Accuracy {acc_score}\")"
   ]
  },
  {
   "cell_type": "code",
   "execution_count": 43,
   "metadata": {},
   "outputs": [
    {
     "data": {
      "image/png": "[encoded data removed]",
      "text/plain": [
       "<Figure size 576x432 with 1 Axes>"
      ]
     },
     "metadata": {},
     "output_type": "display_data"
    }
   ],
   "source": [
    "plot_summary(H, n_epochs, valid=True)"
   ]
  },
  {
   "cell_type": "markdown",
   "metadata": {},
   "source": [
    "From the above plot the results look reasonably alright and model doesn't seem to be overfitting."
   ]
  },
  {
   "cell_type": "markdown",
   "metadata": {},
   "source": [
    "**Hypothesis T4_2 - Changing the learning rate to 0.001 can improve results**\n",
    "Justification - We had seen this in Task 3 that learning rate didn't improve accuracy at epochs = 5. However it can be now tried with epochs = 125 if the result is still same. This is assuming that with lower learning rate , the model will need more epochs to learn.\n"
   ]
  },
  {
   "cell_type": "code",
   "execution_count": 46,
   "metadata": {},
   "outputs": [
    {
     "name": "stdout",
     "output_type": "stream",
     "text": [
      "Epoch 1/125\n",
      "375/375 [==============================] - 3s 7ms/step - loss: 2.3109 - accuracy: 0.1053 - val_loss: 2.3015 - val_accuracy: 0.1123\n",
      "Epoch 2/125\n",
      "375/375 [==============================] - 2s 6ms/step - loss: 2.3015 - accuracy: 0.1112 - val_loss: 2.3016 - val_accuracy: 0.1123\n",
      "Epoch 3/125\n",
      "375/375 [==============================] - 2s 6ms/step - loss: 2.3013 - accuracy: 0.1121 - val_loss: 2.3009 - val_accuracy: 0.1123\n",
      "Epoch 4/125\n",
      "375/375 [==============================] - 2s 6ms/step - loss: 2.3011 - accuracy: 0.1124 - val_loss: 2.3005 - val_accuracy: 0.1123\n",
      "Epoch 5/125\n",
      "375/375 [==============================] - 2s 6ms/step - loss: 2.3008 - accuracy: 0.1120 - val_loss: 2.3009 - val_accuracy: 0.1123\n",
      "Epoch 6/125\n",
      "375/375 [==============================] - 2s 6ms/step - loss: 2.3006 - accuracy: 0.1123 - val_loss: 2.3005 - val_accuracy: 0.1123\n",
      "Epoch 7/125\n",
      "375/375 [==============================] - 2s 6ms/step - loss: 2.3005 - accuracy: 0.1124 - val_loss: 2.2997 - val_accuracy: 0.1123\n",
      "Epoch 8/125\n",
      "375/375 [==============================] - 2s 6ms/step - loss: 2.3001 - accuracy: 0.1117 - val_loss: 2.2999 - val_accuracy: 0.1123\n",
      "Epoch 9/125\n",
      "375/375 [==============================] - 2s 6ms/step - loss: 2.2999 - accuracy: 0.1129 - val_loss: 2.2994 - val_accuracy: 0.1123\n",
      "Epoch 10/125\n",
      "375/375 [==============================] - 2s 6ms/step - loss: 2.2995 - accuracy: 0.1135 - val_loss: 2.2993 - val_accuracy: 0.1126\n",
      "Epoch 11/125\n",
      "375/375 [==============================] - 2s 6ms/step - loss: 2.2993 - accuracy: 0.1127 - val_loss: 2.2992 - val_accuracy: 0.1018\n",
      "Epoch 12/125\n",
      "375/375 [==============================] - 2s 6ms/step - loss: 2.2991 - accuracy: 0.1129 - val_loss: 2.2985 - val_accuracy: 0.1123\n",
      "Epoch 13/125\n",
      "375/375 [==============================] - 2s 6ms/step - loss: 2.2988 - accuracy: 0.1137 - val_loss: 2.2981 - val_accuracy: 0.1123\n",
      "Epoch 14/125\n",
      "375/375 [==============================] - 2s 6ms/step - loss: 2.2985 - accuracy: 0.1138 - val_loss: 2.2979 - val_accuracy: 0.1123\n",
      "Epoch 15/125\n",
      "375/375 [==============================] - 2s 6ms/step - loss: 2.2982 - accuracy: 0.1133 - val_loss: 2.2977 - val_accuracy: 0.1123\n",
      "Epoch 16/125\n",
      "375/375 [==============================] - 2s 6ms/step - loss: 2.2978 - accuracy: 0.1153 - val_loss: 2.2974 - val_accuracy: 0.1123\n",
      "Epoch 17/125\n",
      "375/375 [==============================] - 2s 6ms/step - loss: 2.2974 - accuracy: 0.1156 - val_loss: 2.2973 - val_accuracy: 0.1123\n",
      "Epoch 18/125\n",
      "375/375 [==============================] - 2s 6ms/step - loss: 2.2971 - accuracy: 0.1141 - val_loss: 2.2966 - val_accuracy: 0.1123\n",
      "Epoch 19/125\n",
      "375/375 [==============================] - 2s 6ms/step - loss: 2.2965 - accuracy: 0.1146 - val_loss: 2.2960 - val_accuracy: 0.1123\n",
      "Epoch 20/125\n",
      "375/375 [==============================] - 2s 6ms/step - loss: 2.2959 - accuracy: 0.1209 - val_loss: 2.2962 - val_accuracy: 0.1022\n",
      "Epoch 21/125\n",
      "375/375 [==============================] - 2s 6ms/step - loss: 2.2958 - accuracy: 0.1140 - val_loss: 2.2949 - val_accuracy: 0.1123\n",
      "Epoch 22/125\n",
      "375/375 [==============================] - 2s 6ms/step - loss: 2.2951 - accuracy: 0.1184 - val_loss: 2.2943 - val_accuracy: 0.1123\n",
      "Epoch 23/125\n",
      "375/375 [==============================] - 2s 6ms/step - loss: 2.2945 - accuracy: 0.1150 - val_loss: 2.2939 - val_accuracy: 0.1123\n",
      "Epoch 24/125\n",
      "375/375 [==============================] - 2s 6ms/step - loss: 2.2940 - accuracy: 0.1186 - val_loss: 2.2931 - val_accuracy: 0.1123\n",
      "Epoch 25/125\n",
      "375/375 [==============================] - 2s 6ms/step - loss: 2.2931 - accuracy: 0.1260 - val_loss: 2.2926 - val_accuracy: 0.1123\n",
      "Epoch 26/125\n",
      "375/375 [==============================] - 2s 6ms/step - loss: 2.2924 - accuracy: 0.1289 - val_loss: 2.2918 - val_accuracy: 0.1123\n",
      "Epoch 27/125\n",
      "375/375 [==============================] - 2s 6ms/step - loss: 2.2916 - accuracy: 0.1252 - val_loss: 2.2916 - val_accuracy: 0.1164\n",
      "Epoch 28/125\n",
      "375/375 [==============================] - 2s 6ms/step - loss: 2.2908 - accuracy: 0.1181 - val_loss: 2.2902 - val_accuracy: 0.1123\n",
      "Epoch 29/125\n",
      "375/375 [==============================] - 2s 6ms/step - loss: 2.2899 - accuracy: 0.1312 - val_loss: 2.2890 - val_accuracy: 0.1123\n",
      "Epoch 30/125\n",
      "375/375 [==============================] - 2s 6ms/step - loss: 2.2888 - accuracy: 0.1262 - val_loss: 2.2882 - val_accuracy: 0.1123\n",
      "Epoch 31/125\n",
      "375/375 [==============================] - 2s 6ms/step - loss: 2.2876 - accuracy: 0.1309 - val_loss: 2.2868 - val_accuracy: 0.1997\n",
      "Epoch 32/125\n",
      "375/375 [==============================] - 2s 6ms/step - loss: 2.2863 - accuracy: 0.1392 - val_loss: 2.2853 - val_accuracy: 0.1131\n",
      "Epoch 33/125\n",
      "375/375 [==============================] - 2s 6ms/step - loss: 2.2848 - accuracy: 0.1418 - val_loss: 2.2838 - val_accuracy: 0.1123\n",
      "Epoch 34/125\n",
      "375/375 [==============================] - 2s 6ms/step - loss: 2.2831 - accuracy: 0.1507 - val_loss: 2.2820 - val_accuracy: 0.1151\n",
      "Epoch 35/125\n",
      "375/375 [==============================] - 2s 6ms/step - loss: 2.2812 - accuracy: 0.1441 - val_loss: 2.2802 - val_accuracy: 0.1123\n",
      "Epoch 36/125\n",
      "375/375 [==============================] - 2s 6ms/step - loss: 2.2791 - accuracy: 0.1493 - val_loss: 2.2775 - val_accuracy: 0.2426\n",
      "Epoch 37/125\n",
      "375/375 [==============================] - 2s 6ms/step - loss: 2.2767 - accuracy: 0.1673 - val_loss: 2.2748 - val_accuracy: 0.2006\n",
      "Epoch 38/125\n",
      "375/375 [==============================] - 2s 6ms/step - loss: 2.2738 - accuracy: 0.1747 - val_loss: 2.2722 - val_accuracy: 0.1885\n",
      "Epoch 39/125\n",
      "375/375 [==============================] - 2s 6ms/step - loss: 2.2706 - accuracy: 0.1932 - val_loss: 2.2684 - val_accuracy: 0.1208\n",
      "Epoch 40/125\n",
      "375/375 [==============================] - 2s 6ms/step - loss: 2.2666 - accuracy: 0.1955 - val_loss: 2.2644 - val_accuracy: 0.3962\n",
      "Epoch 41/125\n",
      "375/375 [==============================] - 2s 6ms/step - loss: 2.2623 - accuracy: 0.2306 - val_loss: 2.2596 - val_accuracy: 0.2198\n",
      "Epoch 42/125\n",
      "375/375 [==============================] - 2s 6ms/step - loss: 2.2569 - accuracy: 0.2490 - val_loss: 2.2539 - val_accuracy: 0.3940\n",
      "Epoch 43/125\n",
      "375/375 [==============================] - 2s 6ms/step - loss: 2.2508 - accuracy: 0.2770 - val_loss: 2.2473 - val_accuracy: 0.4137\n",
      "Epoch 44/125\n",
      "375/375 [==============================] - 2s 6ms/step - loss: 2.2431 - accuracy: 0.3030 - val_loss: 2.2388 - val_accuracy: 0.2780\n",
      "Epoch 45/125\n",
      "375/375 [==============================] - 2s 6ms/step - loss: 2.2341 - accuracy: 0.3301 - val_loss: 2.2289 - val_accuracy: 0.3456\n",
      "Epoch 46/125\n",
      "375/375 [==============================] - 2s 6ms/step - loss: 2.2231 - accuracy: 0.3676 - val_loss: 2.2170 - val_accuracy: 0.3117\n",
      "Epoch 47/125\n",
      "375/375 [==============================] - 2s 6ms/step - loss: 2.2095 - accuracy: 0.3970 - val_loss: 2.2023 - val_accuracy: 0.3627\n",
      "Epoch 48/125\n",
      "375/375 [==============================] - 2s 6ms/step - loss: 2.1928 - accuracy: 0.4300 - val_loss: 2.1828 - val_accuracy: 0.4317\n",
      "Epoch 49/125\n",
      "375/375 [==============================] - 2s 6ms/step - loss: 2.1715 - accuracy: 0.4551 - val_loss: 2.1596 - val_accuracy: 0.5095\n",
      "Epoch 50/125\n",
      "375/375 [==============================] - 2s 6ms/step - loss: 2.1447 - accuracy: 0.4986 - val_loss: 2.1298 - val_accuracy: 0.5508\n",
      "Epoch 51/125\n",
      "375/375 [==============================] - 2s 6ms/step - loss: 2.1108 - accuracy: 0.5354 - val_loss: 2.0918 - val_accuracy: 0.5042\n",
      "Epoch 52/125\n",
      "375/375 [==============================] - 2s 6ms/step - loss: 2.0681 - accuracy: 0.5663 - val_loss: 2.0437 - val_accuracy: 0.5650\n",
      "Epoch 53/125\n",
      "375/375 [==============================] - 2s 6ms/step - loss: 2.0143 - accuracy: 0.5926 - val_loss: 1.9846 - val_accuracy: 0.5841\n",
      "Epoch 54/125\n",
      "375/375 [==============================] - 2s 6ms/step - loss: 1.9480 - accuracy: 0.6177 - val_loss: 1.9118 - val_accuracy: 0.6476\n",
      "Epoch 55/125\n",
      "375/375 [==============================] - 2s 6ms/step - loss: 1.8690 - accuracy: 0.6450 - val_loss: 1.8266 - val_accuracy: 0.6557\n",
      "Epoch 56/125\n",
      "375/375 [==============================] - 2s 6ms/step - loss: 1.7778 - accuracy: 0.6624 - val_loss: 1.7309 - val_accuracy: 0.6747\n",
      "Epoch 57/125\n",
      "375/375 [==============================] - 2s 6ms/step - loss: 1.6779 - accuracy: 0.6820 - val_loss: 1.6289 - val_accuracy: 0.6944\n"
     ]
    },
    {
     "name": "stdout",
     "output_type": "stream",
     "text": [
      "Epoch 58/125\n",
      "375/375 [==============================] - 2s 6ms/step - loss: 1.5738 - accuracy: 0.6998 - val_loss: 1.5235 - val_accuracy: 0.7061\n",
      "Epoch 59/125\n",
      "375/375 [==============================] - 2s 6ms/step - loss: 1.4696 - accuracy: 0.7135 - val_loss: 1.4220 - val_accuracy: 0.7133\n",
      "Epoch 60/125\n",
      "375/375 [==============================] - 2s 6ms/step - loss: 1.3698 - accuracy: 0.7266 - val_loss: 1.3249 - val_accuracy: 0.7335\n",
      "Epoch 61/125\n",
      "375/375 [==============================] - 2s 6ms/step - loss: 1.2771 - accuracy: 0.7389 - val_loss: 1.2364 - val_accuracy: 0.7443\n",
      "Epoch 62/125\n",
      "375/375 [==============================] - 2s 6ms/step - loss: 1.1931 - accuracy: 0.7496 - val_loss: 1.1570 - val_accuracy: 0.7554\n",
      "Epoch 63/125\n",
      "375/375 [==============================] - 2s 6ms/step - loss: 1.1183 - accuracy: 0.7610 - val_loss: 1.0872 - val_accuracy: 0.7614\n",
      "Epoch 64/125\n",
      "375/375 [==============================] - 2s 6ms/step - loss: 1.0522 - accuracy: 0.7697 - val_loss: 1.0255 - val_accuracy: 0.7722\n",
      "Epoch 65/125\n",
      "375/375 [==============================] - 2s 6ms/step - loss: 0.9942 - accuracy: 0.7785 - val_loss: 0.9705 - val_accuracy: 0.7798\n",
      "Epoch 66/125\n",
      "375/375 [==============================] - 2s 6ms/step - loss: 0.9432 - accuracy: 0.7864 - val_loss: 0.9227 - val_accuracy: 0.7872\n",
      "Epoch 67/125\n",
      "375/375 [==============================] - 2s 6ms/step - loss: 0.8984 - accuracy: 0.7932 - val_loss: 0.8802 - val_accuracy: 0.7933\n",
      "Epoch 68/125\n",
      "375/375 [==============================] - 2s 6ms/step - loss: 0.8590 - accuracy: 0.8005 - val_loss: 0.8432 - val_accuracy: 0.7990\n",
      "Epoch 69/125\n",
      "375/375 [==============================] - 2s 6ms/step - loss: 0.8242 - accuracy: 0.8065 - val_loss: 0.8100 - val_accuracy: 0.8052\n",
      "Epoch 70/125\n",
      "375/375 [==============================] - 2s 6ms/step - loss: 0.7931 - accuracy: 0.8120 - val_loss: 0.7810 - val_accuracy: 0.8112\n",
      "Epoch 71/125\n",
      "375/375 [==============================] - 2s 6ms/step - loss: 0.7654 - accuracy: 0.8176 - val_loss: 0.7545 - val_accuracy: 0.8172\n",
      "Epoch 72/125\n",
      "375/375 [==============================] - 2s 6ms/step - loss: 0.7405 - accuracy: 0.8218 - val_loss: 0.7306 - val_accuracy: 0.8208\n",
      "Epoch 73/125\n",
      "375/375 [==============================] - 2s 6ms/step - loss: 0.7180 - accuracy: 0.8265 - val_loss: 0.7092 - val_accuracy: 0.8243\n",
      "Epoch 74/125\n",
      "375/375 [==============================] - 2s 6ms/step - loss: 0.6977 - accuracy: 0.8300 - val_loss: 0.6900 - val_accuracy: 0.8271\n",
      "Epoch 75/125\n",
      "375/375 [==============================] - 2s 6ms/step - loss: 0.6791 - accuracy: 0.8329 - val_loss: 0.6717 - val_accuracy: 0.8328\n",
      "Epoch 76/125\n",
      "375/375 [==============================] - 2s 6ms/step - loss: 0.6621 - accuracy: 0.8366 - val_loss: 0.6554 - val_accuracy: 0.8356\n",
      "Epoch 77/125\n",
      "375/375 [==============================] - 2s 6ms/step - loss: 0.6465 - accuracy: 0.8401 - val_loss: 0.6405 - val_accuracy: 0.8360\n",
      "Epoch 78/125\n",
      "375/375 [==============================] - 2s 6ms/step - loss: 0.6321 - accuracy: 0.8426 - val_loss: 0.6263 - val_accuracy: 0.8391\n",
      "Epoch 79/125\n",
      "375/375 [==============================] - 2s 6ms/step - loss: 0.6188 - accuracy: 0.8455 - val_loss: 0.6136 - val_accuracy: 0.8427\n",
      "Epoch 80/125\n",
      "375/375 [==============================] - 2s 6ms/step - loss: 0.6065 - accuracy: 0.8472 - val_loss: 0.6018 - val_accuracy: 0.8466\n",
      "Epoch 81/125\n",
      "375/375 [==============================] - 2s 6ms/step - loss: 0.5949 - accuracy: 0.8497 - val_loss: 0.5900 - val_accuracy: 0.8495\n",
      "Epoch 82/125\n",
      "375/375 [==============================] - 2s 6ms/step - loss: 0.5842 - accuracy: 0.8516 - val_loss: 0.5798 - val_accuracy: 0.8511\n",
      "Epoch 83/125\n",
      "375/375 [==============================] - 2s 6ms/step - loss: 0.5742 - accuracy: 0.8533 - val_loss: 0.5698 - val_accuracy: 0.8547\n",
      "Epoch 84/125\n",
      "375/375 [==============================] - 2s 6ms/step - loss: 0.5647 - accuracy: 0.8544 - val_loss: 0.5606 - val_accuracy: 0.8564\n",
      "Epoch 85/125\n",
      "375/375 [==============================] - 2s 6ms/step - loss: 0.5558 - accuracy: 0.8562 - val_loss: 0.5517 - val_accuracy: 0.8585\n",
      "Epoch 86/125\n",
      "375/375 [==============================] - 2s 6ms/step - loss: 0.5474 - accuracy: 0.8576 - val_loss: 0.5438 - val_accuracy: 0.8597\n",
      "Epoch 87/125\n",
      "375/375 [==============================] - 2s 6ms/step - loss: 0.5395 - accuracy: 0.8597 - val_loss: 0.5359 - val_accuracy: 0.8609\n",
      "Epoch 88/125\n",
      "375/375 [==============================] - 2s 6ms/step - loss: 0.5320 - accuracy: 0.8611 - val_loss: 0.5285 - val_accuracy: 0.8629\n",
      "Epoch 89/125\n",
      "375/375 [==============================] - 2s 6ms/step - loss: 0.5249 - accuracy: 0.8625 - val_loss: 0.5212 - val_accuracy: 0.8643\n",
      "Epoch 90/125\n",
      "375/375 [==============================] - 2s 6ms/step - loss: 0.5181 - accuracy: 0.8640 - val_loss: 0.5148 - val_accuracy: 0.8650\n",
      "Epoch 91/125\n",
      "375/375 [==============================] - 2s 6ms/step - loss: 0.5116 - accuracy: 0.8650 - val_loss: 0.5085 - val_accuracy: 0.8668\n",
      "Epoch 92/125\n",
      "375/375 [==============================] - 2s 6ms/step - loss: 0.5055 - accuracy: 0.8664 - val_loss: 0.5024 - val_accuracy: 0.8679\n",
      "Epoch 93/125\n",
      "375/375 [==============================] - 2s 6ms/step - loss: 0.4997 - accuracy: 0.8673 - val_loss: 0.4965 - val_accuracy: 0.8683\n",
      "Epoch 94/125\n",
      "375/375 [==============================] - 2s 6ms/step - loss: 0.4941 - accuracy: 0.8683 - val_loss: 0.4911 - val_accuracy: 0.8691\n",
      "Epoch 95/125\n",
      "375/375 [==============================] - 2s 6ms/step - loss: 0.4887 - accuracy: 0.8697 - val_loss: 0.4860 - val_accuracy: 0.8712\n",
      "Epoch 96/125\n",
      "375/375 [==============================] - 2s 6ms/step - loss: 0.4836 - accuracy: 0.8705 - val_loss: 0.4809 - val_accuracy: 0.8706\n",
      "Epoch 97/125\n",
      "375/375 [==============================] - 2s 6ms/step - loss: 0.4786 - accuracy: 0.8714 - val_loss: 0.4762 - val_accuracy: 0.8723\n",
      "Epoch 98/125\n",
      "375/375 [==============================] - 2s 6ms/step - loss: 0.4740 - accuracy: 0.8722 - val_loss: 0.4719 - val_accuracy: 0.8718\n",
      "Epoch 99/125\n",
      "375/375 [==============================] - 2s 6ms/step - loss: 0.4694 - accuracy: 0.8736 - val_loss: 0.4669 - val_accuracy: 0.8747\n",
      "Epoch 100/125\n",
      "375/375 [==============================] - 2s 6ms/step - loss: 0.4650 - accuracy: 0.8747 - val_loss: 0.4627 - val_accuracy: 0.8748\n",
      "Epoch 101/125\n",
      "375/375 [==============================] - 2s 6ms/step - loss: 0.4609 - accuracy: 0.8753 - val_loss: 0.4586 - val_accuracy: 0.8757\n",
      "Epoch 102/125\n",
      "375/375 [==============================] - 2s 6ms/step - loss: 0.4569 - accuracy: 0.8759 - val_loss: 0.4544 - val_accuracy: 0.8761\n",
      "Epoch 103/125\n",
      "375/375 [==============================] - 2s 6ms/step - loss: 0.4529 - accuracy: 0.8770 - val_loss: 0.4508 - val_accuracy: 0.8782\n",
      "Epoch 104/125\n",
      "375/375 [==============================] - 2s 6ms/step - loss: 0.4492 - accuracy: 0.8779 - val_loss: 0.4469 - val_accuracy: 0.8777\n",
      "Epoch 105/125\n",
      "375/375 [==============================] - 2s 6ms/step - loss: 0.4455 - accuracy: 0.8787 - val_loss: 0.4434 - val_accuracy: 0.8789\n",
      "Epoch 106/125\n",
      "375/375 [==============================] - 2s 6ms/step - loss: 0.4421 - accuracy: 0.8791 - val_loss: 0.4397 - val_accuracy: 0.8806\n",
      "Epoch 107/125\n",
      "375/375 [==============================] - 2s 6ms/step - loss: 0.4386 - accuracy: 0.8799 - val_loss: 0.4363 - val_accuracy: 0.8813\n",
      "Epoch 108/125\n",
      "375/375 [==============================] - 2s 6ms/step - loss: 0.4353 - accuracy: 0.8806 - val_loss: 0.4332 - val_accuracy: 0.8821\n",
      "Epoch 109/125\n",
      "375/375 [==============================] - 2s 6ms/step - loss: 0.4321 - accuracy: 0.8818 - val_loss: 0.4301 - val_accuracy: 0.8825\n",
      "Epoch 110/125\n",
      "375/375 [==============================] - 2s 6ms/step - loss: 0.4290 - accuracy: 0.8820 - val_loss: 0.4274 - val_accuracy: 0.8827\n",
      "Epoch 111/125\n",
      "375/375 [==============================] - 2s 6ms/step - loss: 0.4261 - accuracy: 0.8833 - val_loss: 0.4240 - val_accuracy: 0.8831\n",
      "Epoch 112/125\n",
      "375/375 [==============================] - 2s 6ms/step - loss: 0.4231 - accuracy: 0.8833 - val_loss: 0.4215 - val_accuracy: 0.8836\n",
      "Epoch 113/125\n",
      "375/375 [==============================] - 2s 6ms/step - loss: 0.4204 - accuracy: 0.8837 - val_loss: 0.4184 - val_accuracy: 0.8847\n",
      "Epoch 114/125\n",
      "375/375 [==============================] - 2s 6ms/step - loss: 0.4176 - accuracy: 0.8844 - val_loss: 0.4156 - val_accuracy: 0.8850\n"
     ]
    },
    {
     "name": "stdout",
     "output_type": "stream",
     "text": [
      "Epoch 115/125\n",
      "375/375 [==============================] - 2s 6ms/step - loss: 0.4149 - accuracy: 0.8850 - val_loss: 0.4133 - val_accuracy: 0.8853\n",
      "Epoch 116/125\n",
      "375/375 [==============================] - 2s 6ms/step - loss: 0.4123 - accuracy: 0.8857 - val_loss: 0.4107 - val_accuracy: 0.8865\n",
      "Epoch 117/125\n",
      "375/375 [==============================] - 2s 6ms/step - loss: 0.4098 - accuracy: 0.8861 - val_loss: 0.4080 - val_accuracy: 0.8870\n",
      "Epoch 118/125\n",
      "375/375 [==============================] - 2s 6ms/step - loss: 0.4073 - accuracy: 0.8865 - val_loss: 0.4056 - val_accuracy: 0.8869\n",
      "Epoch 119/125\n",
      "375/375 [==============================] - 2s 6ms/step - loss: 0.4050 - accuracy: 0.8873 - val_loss: 0.4033 - val_accuracy: 0.8878\n",
      "Epoch 120/125\n",
      "375/375 [==============================] - 2s 6ms/step - loss: 0.4026 - accuracy: 0.8874 - val_loss: 0.4012 - val_accuracy: 0.8882\n",
      "Epoch 121/125\n",
      "375/375 [==============================] - 2s 6ms/step - loss: 0.4003 - accuracy: 0.8880 - val_loss: 0.3986 - val_accuracy: 0.8886\n",
      "Epoch 122/125\n",
      "375/375 [==============================] - 2s 6ms/step - loss: 0.3981 - accuracy: 0.8885 - val_loss: 0.3965 - val_accuracy: 0.8892\n",
      "Epoch 123/125\n",
      "375/375 [==============================] - 2s 6ms/step - loss: 0.3959 - accuracy: 0.8891 - val_loss: 0.3944 - val_accuracy: 0.8896\n",
      "Epoch 124/125\n",
      "375/375 [==============================] - 2s 6ms/step - loss: 0.3938 - accuracy: 0.8894 - val_loss: 0.3924 - val_accuracy: 0.8891\n",
      "Epoch 125/125\n",
      "375/375 [==============================] - 2s 6ms/step - loss: 0.3917 - accuracy: 0.8898 - val_loss: 0.3904 - val_accuracy: 0.8911\n"
     ]
    }
   ],
   "source": [
    "# to find out the accuracy score at epochs = 75\n",
    "n_epochs = 125\n",
    "learning_rate = 0.001\n",
    "opt = SGD(learning_rate)\n",
    "# Task 4 model - baseline\n",
    "t4_model = Sequential()\n",
    "t4_model.add(Conv2D(32, filter_size, input_shape=(28, 28, 1), activation=activation))\n",
    "t4_model.add(Conv2D(32, filter_size, activation=activation))\n",
    "t4_model.add(Flatten())\n",
    "t4_model.add(Dense(units=hidden_dense_units, activation=activation))\n",
    "t4_model.add(Flatten())\n",
    "t4_model.add(Dense(n_classes))\n",
    "t4_model.add(Activation(\"softmax\"))\n",
    "\n",
    "t4_model.compile(loss=loss, optimizer=opt,\n",
    "            metrics=metrics)\n",
    "H = t4_model.fit(trainX, trainY, validation_data=(valX, valY),\n",
    "                   epochs=n_epochs, batch_size=batch_size) "
   ]
  },
  {
   "cell_type": "code",
   "execution_count": 47,
   "metadata": {},
   "outputs": [
    {
     "name": "stdout",
     "output_type": "stream",
     "text": [
      "Model Accuracy 0.8965\n"
     ]
    }
   ],
   "source": [
    "# evaluate the network\n",
    "predictions = t4_model.predict(testX, batch_size=batch_size)\n",
    "acc_score = accuracy_score(testY.argmax(axis=1),\n",
    "                           predictions.argmax(axis=1))\n",
    "print(f\"Model Accuracy {acc_score}\")"
   ]
  },
  {
   "cell_type": "code",
   "execution_count": 48,
   "metadata": {},
   "outputs": [
    {
     "data": {
      "image/png": "[encoded data removed]",
      "text/plain": [
       "<Figure size 576x432 with 1 Axes>"
      ]
     },
     "metadata": {},
     "output_type": "display_data"
    }
   ],
   "source": [
    "plot_summary(H, n_epochs, valid=True)"
   ]
  },
  {
   "cell_type": "markdown",
   "metadata": {},
   "source": [
    "Even after 125 epochs, the model reaches 89.65% accuracy. So a learning of 0.01 seems logical from computing resource utilization as well as accuracy point of view. We will use epoch =75 and learning rate of 0.01"
   ]
  },
  {
   "cell_type": "markdown",
   "metadata": {},
   "source": [
    "**Hypothesis T4_3 - Changing the activation to relu can improve results**\n",
    "Justification - Researching different State of the art models and articles - It has been mentioned that Relu offers better activation."
   ]
  },
  {
   "cell_type": "code",
   "execution_count": 49,
   "metadata": {},
   "outputs": [
    {
     "name": "stdout",
     "output_type": "stream",
     "text": [
      "Epoch 1/75\n",
      "375/375 [==============================] - 2s 6ms/step - loss: 0.6844 - accuracy: 0.8059 - val_loss: 0.2901 - val_accuracy: 0.9171\n",
      "Epoch 2/75\n",
      "375/375 [==============================] - 2s 6ms/step - loss: 0.2587 - accuracy: 0.9232 - val_loss: 0.2160 - val_accuracy: 0.9376\n",
      "Epoch 3/75\n",
      "375/375 [==============================] - 2s 6ms/step - loss: 0.1947 - accuracy: 0.9424 - val_loss: 0.1834 - val_accuracy: 0.9459\n",
      "Epoch 4/75\n",
      "375/375 [==============================] - 2s 6ms/step - loss: 0.1581 - accuracy: 0.9530 - val_loss: 0.1492 - val_accuracy: 0.9565\n",
      "Epoch 5/75\n",
      "375/375 [==============================] - 2s 6ms/step - loss: 0.1343 - accuracy: 0.9594 - val_loss: 0.1366 - val_accuracy: 0.9602\n",
      "Epoch 6/75\n",
      "375/375 [==============================] - 2s 6ms/step - loss: 0.1178 - accuracy: 0.9646 - val_loss: 0.1204 - val_accuracy: 0.9659\n",
      "Epoch 7/75\n",
      "375/375 [==============================] - 2s 6ms/step - loss: 0.1029 - accuracy: 0.9687 - val_loss: 0.1158 - val_accuracy: 0.9657\n",
      "Epoch 8/75\n",
      "375/375 [==============================] - 2s 6ms/step - loss: 0.0930 - accuracy: 0.9725 - val_loss: 0.1018 - val_accuracy: 0.9713\n",
      "Epoch 9/75\n",
      "375/375 [==============================] - 2s 6ms/step - loss: 0.0838 - accuracy: 0.9746 - val_loss: 0.1035 - val_accuracy: 0.9697\n",
      "Epoch 10/75\n",
      "375/375 [==============================] - 2s 6ms/step - loss: 0.0764 - accuracy: 0.9770 - val_loss: 0.0913 - val_accuracy: 0.9737\n",
      "Epoch 11/75\n",
      "375/375 [==============================] - 2s 6ms/step - loss: 0.0690 - accuracy: 0.9789 - val_loss: 0.0874 - val_accuracy: 0.9747\n",
      "Epoch 12/75\n",
      "375/375 [==============================] - 2s 6ms/step - loss: 0.0645 - accuracy: 0.9803 - val_loss: 0.0937 - val_accuracy: 0.9712\n",
      "Epoch 13/75\n",
      "375/375 [==============================] - 2s 6ms/step - loss: 0.0593 - accuracy: 0.9818 - val_loss: 0.0890 - val_accuracy: 0.9746\n",
      "Epoch 14/75\n",
      "375/375 [==============================] - 2s 6ms/step - loss: 0.0542 - accuracy: 0.9836 - val_loss: 0.0915 - val_accuracy: 0.9734\n",
      "Epoch 15/75\n",
      "375/375 [==============================] - 2s 6ms/step - loss: 0.0504 - accuracy: 0.9849 - val_loss: 0.0842 - val_accuracy: 0.9743\n",
      "Epoch 16/75\n",
      "375/375 [==============================] - 2s 6ms/step - loss: 0.0477 - accuracy: 0.9866 - val_loss: 0.0835 - val_accuracy: 0.9763\n",
      "Epoch 17/75\n",
      "375/375 [==============================] - 2s 6ms/step - loss: 0.0441 - accuracy: 0.9866 - val_loss: 0.0730 - val_accuracy: 0.9797\n",
      "Epoch 18/75\n",
      "375/375 [==============================] - 2s 6ms/step - loss: 0.0413 - accuracy: 0.9880 - val_loss: 0.0748 - val_accuracy: 0.9788\n",
      "Epoch 19/75\n",
      "375/375 [==============================] - 2s 6ms/step - loss: 0.0375 - accuracy: 0.9887 - val_loss: 0.0735 - val_accuracy: 0.9794\n",
      "Epoch 20/75\n",
      "375/375 [==============================] - 2s 6ms/step - loss: 0.0369 - accuracy: 0.9887 - val_loss: 0.0709 - val_accuracy: 0.9804\n",
      "Epoch 21/75\n",
      "375/375 [==============================] - 2s 6ms/step - loss: 0.0331 - accuracy: 0.9900 - val_loss: 0.0710 - val_accuracy: 0.9805\n",
      "Epoch 22/75\n",
      "375/375 [==============================] - 2s 6ms/step - loss: 0.0314 - accuracy: 0.9905 - val_loss: 0.0679 - val_accuracy: 0.9813\n",
      "Epoch 23/75\n",
      "375/375 [==============================] - 2s 6ms/step - loss: 0.0291 - accuracy: 0.9910 - val_loss: 0.0663 - val_accuracy: 0.9815\n",
      "Epoch 24/75\n",
      "375/375 [==============================] - 2s 6ms/step - loss: 0.0277 - accuracy: 0.9913 - val_loss: 0.0699 - val_accuracy: 0.9808\n",
      "Epoch 25/75\n",
      "375/375 [==============================] - 2s 6ms/step - loss: 0.0254 - accuracy: 0.9923 - val_loss: 0.0702 - val_accuracy: 0.9822\n",
      "Epoch 26/75\n",
      "375/375 [==============================] - 2s 6ms/step - loss: 0.0237 - accuracy: 0.9932 - val_loss: 0.0753 - val_accuracy: 0.9802\n",
      "Epoch 27/75\n",
      "375/375 [==============================] - 2s 6ms/step - loss: 0.0219 - accuracy: 0.9938 - val_loss: 0.0692 - val_accuracy: 0.9824\n",
      "Epoch 28/75\n",
      "375/375 [==============================] - 2s 6ms/step - loss: 0.0212 - accuracy: 0.9941 - val_loss: 0.0709 - val_accuracy: 0.9812\n",
      "Epoch 29/75\n",
      "375/375 [==============================] - 2s 6ms/step - loss: 0.0195 - accuracy: 0.9944 - val_loss: 0.0731 - val_accuracy: 0.9806\n",
      "Epoch 30/75\n",
      "375/375 [==============================] - 2s 6ms/step - loss: 0.0181 - accuracy: 0.9949 - val_loss: 0.0695 - val_accuracy: 0.9825\n",
      "Epoch 31/75\n",
      "375/375 [==============================] - 2s 6ms/step - loss: 0.0170 - accuracy: 0.9951 - val_loss: 0.0683 - val_accuracy: 0.9836\n",
      "Epoch 32/75\n",
      "375/375 [==============================] - 2s 6ms/step - loss: 0.0160 - accuracy: 0.9956 - val_loss: 0.0728 - val_accuracy: 0.9818\n",
      "Epoch 33/75\n",
      "375/375 [==============================] - 2s 6ms/step - loss: 0.0154 - accuracy: 0.9961 - val_loss: 0.0687 - val_accuracy: 0.9822\n",
      "Epoch 34/75\n",
      "375/375 [==============================] - 2s 6ms/step - loss: 0.0139 - accuracy: 0.9964 - val_loss: 0.0691 - val_accuracy: 0.9825\n",
      "Epoch 35/75\n",
      "375/375 [==============================] - 2s 6ms/step - loss: 0.0132 - accuracy: 0.9966 - val_loss: 0.0726 - val_accuracy: 0.9822\n",
      "Epoch 36/75\n",
      "375/375 [==============================] - 2s 6ms/step - loss: 0.0120 - accuracy: 0.9972 - val_loss: 0.0697 - val_accuracy: 0.9839\n",
      "Epoch 37/75\n",
      "375/375 [==============================] - 2s 6ms/step - loss: 0.0112 - accuracy: 0.9973 - val_loss: 0.0699 - val_accuracy: 0.9833\n",
      "Epoch 38/75\n",
      "375/375 [==============================] - 2s 6ms/step - loss: 0.0111 - accuracy: 0.9973 - val_loss: 0.0707 - val_accuracy: 0.9832\n",
      "Epoch 39/75\n",
      "375/375 [==============================] - 2s 6ms/step - loss: 0.0101 - accuracy: 0.9977 - val_loss: 0.0741 - val_accuracy: 0.9827\n",
      "Epoch 40/75\n",
      "375/375 [==============================] - 2s 6ms/step - loss: 0.0094 - accuracy: 0.9981 - val_loss: 0.0733 - val_accuracy: 0.9825\n",
      "Epoch 41/75\n",
      "375/375 [==============================] - 2s 6ms/step - loss: 0.0087 - accuracy: 0.9982 - val_loss: 0.0716 - val_accuracy: 0.9821\n",
      "Epoch 42/75\n",
      "375/375 [==============================] - 2s 6ms/step - loss: 0.0083 - accuracy: 0.9983 - val_loss: 0.0897 - val_accuracy: 0.9787\n",
      "Epoch 43/75\n",
      "375/375 [==============================] - 2s 6ms/step - loss: 0.0078 - accuracy: 0.9983 - val_loss: 0.0777 - val_accuracy: 0.9826\n",
      "Epoch 44/75\n",
      "375/375 [==============================] - 2s 6ms/step - loss: 0.0071 - accuracy: 0.9987 - val_loss: 0.0801 - val_accuracy: 0.9826\n",
      "Epoch 45/75\n",
      "375/375 [==============================] - 2s 6ms/step - loss: 0.0070 - accuracy: 0.9986 - val_loss: 0.0747 - val_accuracy: 0.9827\n",
      "Epoch 46/75\n",
      "375/375 [==============================] - 2s 6ms/step - loss: 0.0064 - accuracy: 0.9988 - val_loss: 0.0751 - val_accuracy: 0.9836\n",
      "Epoch 47/75\n",
      "375/375 [==============================] - 2s 6ms/step - loss: 0.0057 - accuracy: 0.9991 - val_loss: 0.0751 - val_accuracy: 0.9828\n",
      "Epoch 48/75\n",
      "375/375 [==============================] - 2s 6ms/step - loss: 0.0057 - accuracy: 0.9989 - val_loss: 0.0747 - val_accuracy: 0.9839\n",
      "Epoch 49/75\n",
      "375/375 [==============================] - 2s 6ms/step - loss: 0.0053 - accuracy: 0.9991 - val_loss: 0.0771 - val_accuracy: 0.9832\n",
      "Epoch 50/75\n",
      "375/375 [==============================] - 2s 6ms/step - loss: 0.0049 - accuracy: 0.9993 - val_loss: 0.0753 - val_accuracy: 0.9838\n",
      "Epoch 51/75\n",
      "375/375 [==============================] - 2s 6ms/step - loss: 0.0044 - accuracy: 0.9993 - val_loss: 0.0779 - val_accuracy: 0.9828\n",
      "Epoch 52/75\n",
      "375/375 [==============================] - 2s 6ms/step - loss: 0.0043 - accuracy: 0.9994 - val_loss: 0.0903 - val_accuracy: 0.9815\n",
      "Epoch 53/75\n",
      "375/375 [==============================] - 2s 6ms/step - loss: 0.0038 - accuracy: 0.9996 - val_loss: 0.0765 - val_accuracy: 0.9838\n",
      "Epoch 54/75\n",
      "375/375 [==============================] - 2s 6ms/step - loss: 0.0035 - accuracy: 0.9995 - val_loss: 0.0775 - val_accuracy: 0.9837\n",
      "Epoch 55/75\n",
      "375/375 [==============================] - 2s 6ms/step - loss: 0.0032 - accuracy: 0.9996 - val_loss: 0.0821 - val_accuracy: 0.9837\n",
      "Epoch 56/75\n",
      "375/375 [==============================] - 2s 6ms/step - loss: 0.0035 - accuracy: 0.9995 - val_loss: 0.0774 - val_accuracy: 0.9835\n",
      "Epoch 57/75\n",
      "375/375 [==============================] - 2s 6ms/step - loss: 0.0031 - accuracy: 0.9995 - val_loss: 0.0791 - val_accuracy: 0.9828\n",
      "Epoch 58/75\n"
     ]
    },
    {
     "name": "stdout",
     "output_type": "stream",
     "text": [
      "375/375 [==============================] - 2s 6ms/step - loss: 0.0029 - accuracy: 0.9997 - val_loss: 0.0801 - val_accuracy: 0.9839\n",
      "Epoch 59/75\n",
      "375/375 [==============================] - 2s 6ms/step - loss: 0.0028 - accuracy: 0.9997 - val_loss: 0.0813 - val_accuracy: 0.9839\n",
      "Epoch 60/75\n",
      "375/375 [==============================] - 2s 6ms/step - loss: 0.0025 - accuracy: 0.9998 - val_loss: 0.0814 - val_accuracy: 0.9833\n",
      "Epoch 61/75\n",
      "375/375 [==============================] - 2s 6ms/step - loss: 0.0024 - accuracy: 0.9998 - val_loss: 0.0815 - val_accuracy: 0.9837\n",
      "Epoch 62/75\n",
      "375/375 [==============================] - 2s 6ms/step - loss: 0.0023 - accuracy: 0.9997 - val_loss: 0.0811 - val_accuracy: 0.9841\n",
      "Epoch 63/75\n",
      "375/375 [==============================] - 2s 6ms/step - loss: 0.0024 - accuracy: 0.9996 - val_loss: 0.0828 - val_accuracy: 0.9833\n",
      "Epoch 64/75\n",
      "375/375 [==============================] - 2s 6ms/step - loss: 0.0020 - accuracy: 0.9998 - val_loss: 0.0892 - val_accuracy: 0.9827\n",
      "Epoch 65/75\n",
      "375/375 [==============================] - 2s 6ms/step - loss: 0.0021 - accuracy: 0.9998 - val_loss: 0.0853 - val_accuracy: 0.9834\n",
      "Epoch 66/75\n",
      "375/375 [==============================] - 2s 6ms/step - loss: 0.0018 - accuracy: 0.9999 - val_loss: 0.0837 - val_accuracy: 0.9843\n",
      "Epoch 67/75\n",
      "375/375 [==============================] - 2s 6ms/step - loss: 0.0016 - accuracy: 1.0000 - val_loss: 0.0859 - val_accuracy: 0.9833\n",
      "Epoch 68/75\n",
      "375/375 [==============================] - 2s 6ms/step - loss: 0.0016 - accuracy: 0.9999 - val_loss: 0.0839 - val_accuracy: 0.9839\n",
      "Epoch 69/75\n",
      "375/375 [==============================] - 2s 6ms/step - loss: 0.0015 - accuracy: 0.9999 - val_loss: 0.0867 - val_accuracy: 0.9827\n",
      "Epoch 70/75\n",
      "375/375 [==============================] - 2s 6ms/step - loss: 0.0014 - accuracy: 0.9999 - val_loss: 0.0862 - val_accuracy: 0.9836\n",
      "Epoch 71/75\n",
      "375/375 [==============================] - 2s 6ms/step - loss: 0.0014 - accuracy: 1.0000 - val_loss: 0.0924 - val_accuracy: 0.9820\n",
      "Epoch 72/75\n",
      "375/375 [==============================] - 2s 6ms/step - loss: 0.0016 - accuracy: 0.9999 - val_loss: 0.0877 - val_accuracy: 0.9836\n",
      "Epoch 73/75\n",
      "375/375 [==============================] - 2s 6ms/step - loss: 0.0012 - accuracy: 0.9999 - val_loss: 0.0869 - val_accuracy: 0.9843\n",
      "Epoch 74/75\n",
      "375/375 [==============================] - 2s 6ms/step - loss: 0.0013 - accuracy: 1.0000 - val_loss: 0.0879 - val_accuracy: 0.9841\n",
      "Epoch 75/75\n",
      "375/375 [==============================] - 2s 6ms/step - loss: 0.0012 - accuracy: 1.0000 - val_loss: 0.0887 - val_accuracy: 0.9843\n"
     ]
    }
   ],
   "source": [
    "# to find out the accuracy score at epochs = 75\n",
    "n_epochs = 75\n",
    "learning_rate = 0.01\n",
    "opt = SGD(learning_rate)\n",
    "activation='relu'\n",
    "# Task 4 model - baseline\n",
    "t4_model = Sequential()\n",
    "t4_model.add(Conv2D(32, filter_size, input_shape=(28, 28, 1), activation=activation))\n",
    "t4_model.add(Conv2D(32, filter_size, activation=activation))\n",
    "t4_model.add(Flatten())\n",
    "t4_model.add(Dense(units=hidden_dense_units, activation=activation))\n",
    "t4_model.add(Flatten())\n",
    "t4_model.add(Dense(n_classes))\n",
    "t4_model.add(Activation(\"softmax\"))\n",
    "\n",
    "t4_model.compile(loss=loss, optimizer=opt,\n",
    "            metrics=metrics)\n",
    "H = t4_model.fit(trainX, trainY, validation_data=(valX, valY),\n",
    "                   epochs=n_epochs, batch_size=batch_size) "
   ]
  },
  {
   "cell_type": "code",
   "execution_count": 50,
   "metadata": {},
   "outputs": [
    {
     "name": "stdout",
     "output_type": "stream",
     "text": [
      "Model Accuracy 0.9834\n"
     ]
    }
   ],
   "source": [
    "# evaluate the network\n",
    "predictions = t4_model.predict(testX, batch_size=batch_size)\n",
    "acc_score = accuracy_score(testY.argmax(axis=1),\n",
    "                           predictions.argmax(axis=1))\n",
    "print(f\"Model Accuracy {acc_score}\")"
   ]
  },
  {
   "cell_type": "code",
   "execution_count": 51,
   "metadata": {},
   "outputs": [
    {
     "data": {
      "image/png": "[encoded data removed]",
      "text/plain": [
       "<Figure size 576x432 with 1 Axes>"
      ]
     },
     "metadata": {},
     "output_type": "display_data"
    }
   ],
   "source": [
    "plot_summary(H, n_epochs, valid=True)"
   ]
  },
  {
   "cell_type": "markdown",
   "metadata": {},
   "source": [
    "**Results**\n",
    "We can clearly see that the model has improved by more than 2% in accuracy, however has also started overfit which clear from the above at around epoch = 5 or 6.\n",
    "\n",
    "Next thing to check will if we can regularize the optimization which is currently gradient descent ie SGD."
   ]
  },
  {
   "cell_type": "markdown",
   "metadata": {},
   "source": [
    "**Hypothesis T4_4 - Changing the optimization to Adam can improve results**\n",
    "Justification - Researching different State of the art models and articles - It has been mentioned that Adam offers better activation."
   ]
  },
  {
   "cell_type": "code",
   "execution_count": 53,
   "metadata": {},
   "outputs": [
    {
     "name": "stdout",
     "output_type": "stream",
     "text": [
      "Epoch 1/75\n",
      "375/375 [==============================] - 2s 6ms/step - loss: 0.2534 - accuracy: 0.9314 - val_loss: 0.0860 - val_accuracy: 0.9749\n",
      "Epoch 2/75\n",
      "375/375 [==============================] - 2s 6ms/step - loss: 0.0674 - accuracy: 0.9791 - val_loss: 0.0803 - val_accuracy: 0.9762\n",
      "Epoch 3/75\n",
      "375/375 [==============================] - 2s 6ms/step - loss: 0.0514 - accuracy: 0.9837 - val_loss: 0.0714 - val_accuracy: 0.9783\n",
      "Epoch 4/75\n",
      "375/375 [==============================] - 2s 6ms/step - loss: 0.0455 - accuracy: 0.9860 - val_loss: 0.0664 - val_accuracy: 0.9804\n",
      "Epoch 5/75\n",
      "375/375 [==============================] - 2s 6ms/step - loss: 0.0347 - accuracy: 0.9893 - val_loss: 0.0845 - val_accuracy: 0.9793\n",
      "Epoch 6/75\n",
      "375/375 [==============================] - 2s 6ms/step - loss: 0.0315 - accuracy: 0.9906 - val_loss: 0.1217 - val_accuracy: 0.9739\n",
      "Epoch 7/75\n",
      "375/375 [==============================] - 2s 6ms/step - loss: 0.0398 - accuracy: 0.9884 - val_loss: 0.0817 - val_accuracy: 0.9838\n",
      "Epoch 8/75\n",
      "375/375 [==============================] - 2s 6ms/step - loss: 0.0295 - accuracy: 0.9915 - val_loss: 0.1146 - val_accuracy: 0.9777\n",
      "Epoch 9/75\n",
      "375/375 [==============================] - 2s 6ms/step - loss: 0.0350 - accuracy: 0.9907 - val_loss: 0.1178 - val_accuracy: 0.9759\n",
      "Epoch 10/75\n",
      "375/375 [==============================] - 2s 6ms/step - loss: 0.0491 - accuracy: 0.9884 - val_loss: 0.1565 - val_accuracy: 0.9705\n",
      "Epoch 11/75\n",
      "375/375 [==============================] - 2s 6ms/step - loss: 0.0365 - accuracy: 0.9913 - val_loss: 0.1785 - val_accuracy: 0.9792\n",
      "Epoch 12/75\n",
      "375/375 [==============================] - 2s 6ms/step - loss: 0.0333 - accuracy: 0.9927 - val_loss: 0.1563 - val_accuracy: 0.9757\n",
      "Epoch 13/75\n",
      "375/375 [==============================] - 2s 6ms/step - loss: 0.0255 - accuracy: 0.9937 - val_loss: 0.1704 - val_accuracy: 0.9786\n",
      "Epoch 14/75\n",
      "375/375 [==============================] - 2s 6ms/step - loss: 0.0275 - accuracy: 0.9938 - val_loss: 0.2040 - val_accuracy: 0.9762\n",
      "Epoch 15/75\n",
      "375/375 [==============================] - 2s 6ms/step - loss: 0.0341 - accuracy: 0.9939 - val_loss: 0.2610 - val_accuracy: 0.9759\n",
      "Epoch 16/75\n",
      "375/375 [==============================] - 2s 6ms/step - loss: 0.0363 - accuracy: 0.9930 - val_loss: 0.2323 - val_accuracy: 0.9776\n",
      "Epoch 17/75\n",
      "375/375 [==============================] - 2s 6ms/step - loss: 0.0512 - accuracy: 0.9918 - val_loss: 0.2922 - val_accuracy: 0.9753\n",
      "Epoch 18/75\n",
      "375/375 [==============================] - 2s 6ms/step - loss: 0.0327 - accuracy: 0.9944 - val_loss: 0.2803 - val_accuracy: 0.9794\n",
      "Epoch 19/75\n",
      "375/375 [==============================] - 2s 6ms/step - loss: 0.0462 - accuracy: 0.9934 - val_loss: 0.2874 - val_accuracy: 0.9813\n",
      "Epoch 20/75\n",
      "375/375 [==============================] - 2s 6ms/step - loss: 0.0353 - accuracy: 0.9948 - val_loss: 0.4305 - val_accuracy: 0.9749\n",
      "Epoch 21/75\n",
      "375/375 [==============================] - 2s 6ms/step - loss: 0.0450 - accuracy: 0.9936 - val_loss: 0.3069 - val_accuracy: 0.9769\n",
      "Epoch 22/75\n",
      "375/375 [==============================] - 2s 6ms/step - loss: 0.0387 - accuracy: 0.9948 - val_loss: 0.4640 - val_accuracy: 0.9776\n",
      "Epoch 23/75\n",
      "375/375 [==============================] - 2s 6ms/step - loss: 0.0501 - accuracy: 0.9945 - val_loss: 0.5724 - val_accuracy: 0.9793\n",
      "Epoch 24/75\n",
      "375/375 [==============================] - 2s 6ms/step - loss: 0.0673 - accuracy: 0.9941 - val_loss: 0.3923 - val_accuracy: 0.9786\n",
      "Epoch 25/75\n",
      "375/375 [==============================] - 2s 6ms/step - loss: 0.0269 - accuracy: 0.9968 - val_loss: 0.4409 - val_accuracy: 0.9815\n",
      "Epoch 26/75\n",
      "375/375 [==============================] - 2s 6ms/step - loss: 0.0336 - accuracy: 0.9965 - val_loss: 0.6023 - val_accuracy: 0.9786\n",
      "Epoch 27/75\n",
      "375/375 [==============================] - 2s 6ms/step - loss: 0.0652 - accuracy: 0.9949 - val_loss: 0.6773 - val_accuracy: 0.9768\n",
      "Epoch 28/75\n",
      "375/375 [==============================] - 2s 6ms/step - loss: 0.0874 - accuracy: 0.9938 - val_loss: 0.6843 - val_accuracy: 0.9772\n",
      "Epoch 29/75\n",
      "375/375 [==============================] - 2s 6ms/step - loss: 0.0385 - accuracy: 0.9965 - val_loss: 0.6384 - val_accuracy: 0.9781\n",
      "Epoch 30/75\n",
      "375/375 [==============================] - 2s 6ms/step - loss: 0.0279 - accuracy: 0.9979 - val_loss: 0.7822 - val_accuracy: 0.9771\n",
      "Epoch 31/75\n",
      "375/375 [==============================] - 2s 6ms/step - loss: 0.0676 - accuracy: 0.9954 - val_loss: 1.0379 - val_accuracy: 0.9769\n",
      "Epoch 32/75\n",
      "375/375 [==============================] - 2s 6ms/step - loss: 0.0375 - accuracy: 0.9965 - val_loss: 0.7819 - val_accuracy: 0.9787\n",
      "Epoch 33/75\n",
      "375/375 [==============================] - 2s 6ms/step - loss: 0.0624 - accuracy: 0.9963 - val_loss: 1.0042 - val_accuracy: 0.9769\n",
      "Epoch 34/75\n",
      "375/375 [==============================] - 2s 6ms/step - loss: 0.0765 - accuracy: 0.9962 - val_loss: 1.1580 - val_accuracy: 0.9808\n",
      "Epoch 35/75\n",
      "375/375 [==============================] - 2s 6ms/step - loss: 0.0630 - accuracy: 0.9968 - val_loss: 1.1610 - val_accuracy: 0.9758\n",
      "Epoch 36/75\n",
      "375/375 [==============================] - 2s 6ms/step - loss: 0.0451 - accuracy: 0.9974 - val_loss: 0.8642 - val_accuracy: 0.9801\n",
      "Epoch 37/75\n",
      "375/375 [==============================] - 2s 6ms/step - loss: 0.0363 - accuracy: 0.9980 - val_loss: 1.1507 - val_accuracy: 0.9803\n",
      "Epoch 38/75\n",
      "375/375 [==============================] - 2s 6ms/step - loss: 0.0754 - accuracy: 0.9966 - val_loss: 1.1385 - val_accuracy: 0.9793\n",
      "Epoch 39/75\n",
      "375/375 [==============================] - 2s 6ms/step - loss: 0.0725 - accuracy: 0.9969 - val_loss: 1.1181 - val_accuracy: 0.9799\n",
      "Epoch 40/75\n",
      "375/375 [==============================] - 2s 6ms/step - loss: 0.0508 - accuracy: 0.9975 - val_loss: 1.1277 - val_accuracy: 0.9811\n",
      "Epoch 41/75\n",
      "375/375 [==============================] - 2s 6ms/step - loss: 0.0790 - accuracy: 0.9965 - val_loss: 1.4996 - val_accuracy: 0.9772\n",
      "Epoch 42/75\n",
      "375/375 [==============================] - 2s 6ms/step - loss: 0.0690 - accuracy: 0.9969 - val_loss: 0.9728 - val_accuracy: 0.9794\n",
      "Epoch 43/75\n",
      "375/375 [==============================] - 2s 6ms/step - loss: 0.0246 - accuracy: 0.9987 - val_loss: 1.2317 - val_accuracy: 0.9798\n",
      "Epoch 44/75\n",
      "375/375 [==============================] - 2s 6ms/step - loss: 0.0851 - accuracy: 0.9972 - val_loss: 1.5650 - val_accuracy: 0.9784\n",
      "Epoch 45/75\n",
      "375/375 [==============================] - 2s 6ms/step - loss: 0.1136 - accuracy: 0.9965 - val_loss: 1.8775 - val_accuracy: 0.9774\n",
      "Epoch 46/75\n",
      "375/375 [==============================] - 2s 6ms/step - loss: 0.0860 - accuracy: 0.9974 - val_loss: 1.9103 - val_accuracy: 0.9803\n",
      "Epoch 47/75\n",
      "375/375 [==============================] - 2s 6ms/step - loss: 0.0735 - accuracy: 0.9978 - val_loss: 1.8569 - val_accuracy: 0.9820\n",
      "Epoch 48/75\n",
      "375/375 [==============================] - 2s 6ms/step - loss: 0.0788 - accuracy: 0.9979 - val_loss: 1.9891 - val_accuracy: 0.9783\n",
      "Epoch 49/75\n",
      "375/375 [==============================] - 2s 6ms/step - loss: 0.0584 - accuracy: 0.9981 - val_loss: 2.4131 - val_accuracy: 0.9801\n",
      "Epoch 50/75\n",
      "375/375 [==============================] - 2s 6ms/step - loss: 0.0682 - accuracy: 0.9982 - val_loss: 1.7455 - val_accuracy: 0.9822\n",
      "Epoch 51/75\n",
      "375/375 [==============================] - 2s 6ms/step - loss: 0.0788 - accuracy: 0.9978 - val_loss: 2.8489 - val_accuracy: 0.9815\n",
      "Epoch 52/75\n",
      "375/375 [==============================] - 2s 6ms/step - loss: 0.1346 - accuracy: 0.9975 - val_loss: 2.4244 - val_accuracy: 0.9798\n",
      "Epoch 53/75\n",
      "375/375 [==============================] - 2s 6ms/step - loss: 0.0485 - accuracy: 0.9986 - val_loss: 2.5240 - val_accuracy: 0.9812\n",
      "Epoch 54/75\n",
      "375/375 [==============================] - 2s 6ms/step - loss: 0.1248 - accuracy: 0.9975 - val_loss: 2.1577 - val_accuracy: 0.9816\n",
      "Epoch 55/75\n",
      "375/375 [==============================] - 2s 6ms/step - loss: 0.0621 - accuracy: 0.9985 - val_loss: 3.8187 - val_accuracy: 0.9797\n",
      "Epoch 56/75\n",
      "375/375 [==============================] - 2s 6ms/step - loss: 0.1111 - accuracy: 0.9980 - val_loss: 2.3330 - val_accuracy: 0.9830\n",
      "Epoch 57/75\n",
      "375/375 [==============================] - 2s 6ms/step - loss: 0.0457 - accuracy: 0.9991 - val_loss: 3.8020 - val_accuracy: 0.9769\n",
      "Epoch 58/75\n"
     ]
    },
    {
     "name": "stdout",
     "output_type": "stream",
     "text": [
      "375/375 [==============================] - 2s 6ms/step - loss: 0.1473 - accuracy: 0.9977 - val_loss: 3.2502 - val_accuracy: 0.9802\n",
      "Epoch 59/75\n",
      "375/375 [==============================] - 2s 6ms/step - loss: 0.1103 - accuracy: 0.9979 - val_loss: 3.5844 - val_accuracy: 0.9808\n",
      "Epoch 60/75\n",
      "375/375 [==============================] - 2s 6ms/step - loss: 0.0913 - accuracy: 0.9984 - val_loss: 3.5112 - val_accuracy: 0.9818\n",
      "Epoch 61/75\n",
      "375/375 [==============================] - 2s 6ms/step - loss: 0.1449 - accuracy: 0.9981 - val_loss: 3.9061 - val_accuracy: 0.9812\n",
      "Epoch 62/75\n",
      "375/375 [==============================] - 2s 6ms/step - loss: 0.0664 - accuracy: 0.9989 - val_loss: 4.2998 - val_accuracy: 0.9825\n",
      "Epoch 63/75\n",
      "375/375 [==============================] - 2s 6ms/step - loss: 0.1643 - accuracy: 0.9983 - val_loss: 4.6688 - val_accuracy: 0.9805\n",
      "Epoch 64/75\n",
      "375/375 [==============================] - 2s 6ms/step - loss: 0.1361 - accuracy: 0.9983 - val_loss: 4.3301 - val_accuracy: 0.9802\n",
      "Epoch 65/75\n",
      "375/375 [==============================] - 2s 6ms/step - loss: 0.0899 - accuracy: 0.9987 - val_loss: 4.0081 - val_accuracy: 0.9820\n",
      "Epoch 66/75\n",
      "375/375 [==============================] - 2s 6ms/step - loss: 0.0522 - accuracy: 0.9993 - val_loss: 4.3114 - val_accuracy: 0.9809\n",
      "Epoch 67/75\n",
      "375/375 [==============================] - 2s 6ms/step - loss: 0.0732 - accuracy: 0.9990 - val_loss: 3.5328 - val_accuracy: 0.9823\n",
      "Epoch 68/75\n",
      "375/375 [==============================] - 2s 6ms/step - loss: 0.0922 - accuracy: 0.9987 - val_loss: 3.9720 - val_accuracy: 0.9803\n",
      "Epoch 69/75\n",
      "375/375 [==============================] - 2s 6ms/step - loss: 0.0744 - accuracy: 0.9988 - val_loss: 3.8463 - val_accuracy: 0.9808\n",
      "Epoch 70/75\n",
      "375/375 [==============================] - 2s 6ms/step - loss: 0.0622 - accuracy: 0.9990 - val_loss: 5.3070 - val_accuracy: 0.9783\n",
      "Epoch 71/75\n",
      "375/375 [==============================] - 2s 6ms/step - loss: 0.1469 - accuracy: 0.9984 - val_loss: 4.4267 - val_accuracy: 0.9807\n",
      "Epoch 72/75\n",
      "375/375 [==============================] - 2s 6ms/step - loss: 0.1567 - accuracy: 0.9983 - val_loss: 4.5389 - val_accuracy: 0.9807\n",
      "Epoch 73/75\n",
      "375/375 [==============================] - 2s 6ms/step - loss: 0.0579 - accuracy: 0.9991 - val_loss: 4.7336 - val_accuracy: 0.9822\n",
      "Epoch 74/75\n",
      "375/375 [==============================] - 2s 6ms/step - loss: 0.1039 - accuracy: 0.9987 - val_loss: 4.6312 - val_accuracy: 0.9822\n",
      "Epoch 75/75\n",
      "375/375 [==============================] - 2s 6ms/step - loss: 0.0788 - accuracy: 0.9990 - val_loss: 6.4888 - val_accuracy: 0.9793\n"
     ]
    }
   ],
   "source": [
    "# to find out the accuracy score at epochs = 75\n",
    "n_epochs = 75\n",
    "learning_rate = 0.01\n",
    "opt = Adam(learning_rate)\n",
    "activation='relu'\n",
    "# Task 4 model - baseline\n",
    "t4_model = Sequential()\n",
    "t4_model.add(Conv2D(32, filter_size, input_shape=(28, 28, 1), activation=activation))\n",
    "t4_model.add(Conv2D(32, filter_size, activation=activation))\n",
    "t4_model.add(Flatten())\n",
    "t4_model.add(Dense(units=hidden_dense_units, activation=activation))\n",
    "t4_model.add(Flatten())\n",
    "t4_model.add(Dense(n_classes))\n",
    "t4_model.add(Activation(\"softmax\"))\n",
    "\n",
    "t4_model.compile(loss=loss, optimizer=opt,\n",
    "            metrics=metrics)\n",
    "H = t4_model.fit(trainX, trainY, validation_data=(valX, valY),\n",
    "                   epochs=n_epochs, batch_size=batch_size) "
   ]
  },
  {
   "cell_type": "code",
   "execution_count": 54,
   "metadata": {},
   "outputs": [
    {
     "name": "stdout",
     "output_type": "stream",
     "text": [
      "Model Accuracy 0.9804\n"
     ]
    }
   ],
   "source": [
    "# evaluate the network\n",
    "predictions = t4_model.predict(testX, batch_size=batch_size)\n",
    "acc_score = accuracy_score(testY.argmax(axis=1),\n",
    "                           predictions.argmax(axis=1))\n",
    "print(f\"Model Accuracy {acc_score}\")"
   ]
  },
  {
   "cell_type": "code",
   "execution_count": 55,
   "metadata": {},
   "outputs": [
    {
     "data": {
      "image/png": "[encoded data removed]",
      "text/plain": [
       "<Figure size 576x432 with 1 Axes>"
      ]
     },
     "metadata": {},
     "output_type": "display_data"
    }
   ],
   "source": [
    "plot_summary(H, n_epochs, valid=True)"
   ]
  },
  {
   "cell_type": "code",
   "execution_count": 56,
   "metadata": {},
   "outputs": [
    {
     "name": "stdout",
     "output_type": "stream",
     "text": [
      "Epoch 1/75\n",
      "375/375 [==============================] - 2s 6ms/step - loss: 0.1543 - accuracy: 0.9527 - val_loss: 0.0586 - val_accuracy: 0.9812\n",
      "Epoch 2/75\n",
      "375/375 [==============================] - 2s 6ms/step - loss: 0.0456 - accuracy: 0.9859 - val_loss: 0.0562 - val_accuracy: 0.9836\n",
      "Epoch 3/75\n",
      "375/375 [==============================] - 2s 6ms/step - loss: 0.0274 - accuracy: 0.9916 - val_loss: 0.0522 - val_accuracy: 0.9843\n",
      "Epoch 4/75\n",
      "375/375 [==============================] - 2s 6ms/step - loss: 0.0195 - accuracy: 0.9940 - val_loss: 0.0609 - val_accuracy: 0.9842\n",
      "Epoch 5/75\n",
      "375/375 [==============================] - 2s 6ms/step - loss: 0.0131 - accuracy: 0.9960 - val_loss: 0.0525 - val_accuracy: 0.9864\n",
      "Epoch 6/75\n",
      "375/375 [==============================] - 2s 6ms/step - loss: 0.0108 - accuracy: 0.9966 - val_loss: 0.0618 - val_accuracy: 0.9847\n",
      "Epoch 7/75\n",
      "375/375 [==============================] - 2s 6ms/step - loss: 0.0075 - accuracy: 0.9974 - val_loss: 0.0564 - val_accuracy: 0.9865\n",
      "Epoch 8/75\n",
      "375/375 [==============================] - 2s 6ms/step - loss: 0.0094 - accuracy: 0.9968 - val_loss: 0.0551 - val_accuracy: 0.9868\n",
      "Epoch 9/75\n",
      "375/375 [==============================] - 2s 6ms/step - loss: 0.0074 - accuracy: 0.9975 - val_loss: 0.0589 - val_accuracy: 0.9868\n",
      "Epoch 10/75\n",
      "375/375 [==============================] - 2s 6ms/step - loss: 0.0055 - accuracy: 0.9980 - val_loss: 0.0679 - val_accuracy: 0.9872\n",
      "Epoch 11/75\n",
      "375/375 [==============================] - 2s 6ms/step - loss: 0.0052 - accuracy: 0.9985 - val_loss: 0.0703 - val_accuracy: 0.9862\n",
      "Epoch 12/75\n",
      "375/375 [==============================] - 2s 6ms/step - loss: 0.0042 - accuracy: 0.9984 - val_loss: 0.0633 - val_accuracy: 0.9890\n",
      "Epoch 13/75\n",
      "375/375 [==============================] - 2s 6ms/step - loss: 0.0074 - accuracy: 0.9974 - val_loss: 0.0634 - val_accuracy: 0.9880\n",
      "Epoch 14/75\n",
      "375/375 [==============================] - 2s 6ms/step - loss: 0.0037 - accuracy: 0.9988 - val_loss: 0.0685 - val_accuracy: 0.9868\n",
      "Epoch 15/75\n",
      "375/375 [==============================] - 2s 6ms/step - loss: 0.0032 - accuracy: 0.9989 - val_loss: 0.0703 - val_accuracy: 0.9865\n",
      "Epoch 16/75\n",
      "375/375 [==============================] - 2s 6ms/step - loss: 0.0023 - accuracy: 0.9993 - val_loss: 0.0703 - val_accuracy: 0.9875\n",
      "Epoch 17/75\n",
      "375/375 [==============================] - 2s 6ms/step - loss: 0.0022 - accuracy: 0.9993 - val_loss: 0.0750 - val_accuracy: 0.9871\n",
      "Epoch 18/75\n",
      "375/375 [==============================] - 2s 6ms/step - loss: 0.0022 - accuracy: 0.9993 - val_loss: 0.0705 - val_accuracy: 0.9887\n",
      "Epoch 19/75\n",
      "375/375 [==============================] - 2s 6ms/step - loss: 0.0060 - accuracy: 0.9980 - val_loss: 0.0845 - val_accuracy: 0.9872\n",
      "Epoch 20/75\n",
      "375/375 [==============================] - 2s 6ms/step - loss: 0.0018 - accuracy: 0.9993 - val_loss: 0.0866 - val_accuracy: 0.9877\n",
      "Epoch 21/75\n",
      "375/375 [==============================] - 2s 6ms/step - loss: 0.0030 - accuracy: 0.9991 - val_loss: 0.0783 - val_accuracy: 0.9874\n",
      "Epoch 22/75\n",
      "375/375 [==============================] - 2s 6ms/step - loss: 0.0040 - accuracy: 0.9986 - val_loss: 0.0817 - val_accuracy: 0.9883\n",
      "Epoch 23/75\n",
      "375/375 [==============================] - 2s 6ms/step - loss: 0.0031 - accuracy: 0.9991 - val_loss: 0.0780 - val_accuracy: 0.9875\n",
      "Epoch 24/75\n",
      "375/375 [==============================] - 2s 6ms/step - loss: 0.0016 - accuracy: 0.9995 - val_loss: 0.0763 - val_accuracy: 0.9885\n",
      "Epoch 25/75\n",
      "375/375 [==============================] - 2s 6ms/step - loss: 7.2902e-04 - accuracy: 0.9998 - val_loss: 0.0819 - val_accuracy: 0.9878\n",
      "Epoch 26/75\n",
      "375/375 [==============================] - 2s 6ms/step - loss: 6.2496e-04 - accuracy: 0.9999 - val_loss: 0.0833 - val_accuracy: 0.9885\n",
      "Epoch 27/75\n",
      "375/375 [==============================] - 2s 6ms/step - loss: 0.0012 - accuracy: 0.9997 - val_loss: 0.0816 - val_accuracy: 0.9883\n",
      "Epoch 28/75\n",
      "375/375 [==============================] - 2s 6ms/step - loss: 0.0076 - accuracy: 0.9977 - val_loss: 0.0897 - val_accuracy: 0.9855\n",
      "Epoch 29/75\n",
      "375/375 [==============================] - 2s 6ms/step - loss: 0.0027 - accuracy: 0.9991 - val_loss: 0.0936 - val_accuracy: 0.9861\n",
      "Epoch 30/75\n",
      "375/375 [==============================] - 2s 6ms/step - loss: 4.3232e-04 - accuracy: 0.9998 - val_loss: 0.0954 - val_accuracy: 0.9882\n",
      "Epoch 31/75\n",
      "375/375 [==============================] - 2s 6ms/step - loss: 2.3722e-04 - accuracy: 1.0000 - val_loss: 0.0856 - val_accuracy: 0.9892\n",
      "Epoch 32/75\n",
      "375/375 [==============================] - 2s 6ms/step - loss: 7.4709e-06 - accuracy: 1.0000 - val_loss: 0.0864 - val_accuracy: 0.9892\n",
      "Epoch 33/75\n",
      "375/375 [==============================] - 2s 6ms/step - loss: 3.5829e-06 - accuracy: 1.0000 - val_loss: 0.0869 - val_accuracy: 0.9892\n",
      "Epoch 34/75\n",
      "375/375 [==============================] - 2s 6ms/step - loss: 2.7939e-06 - accuracy: 1.0000 - val_loss: 0.0875 - val_accuracy: 0.9892\n",
      "Epoch 35/75\n",
      "375/375 [==============================] - 2s 6ms/step - loss: 2.2548e-06 - accuracy: 1.0000 - val_loss: 0.0882 - val_accuracy: 0.9891\n",
      "Epoch 36/75\n",
      "375/375 [==============================] - 2s 6ms/step - loss: 1.8480e-06 - accuracy: 1.0000 - val_loss: 0.0888 - val_accuracy: 0.9891\n",
      "Epoch 37/75\n",
      "375/375 [==============================] - 2s 6ms/step - loss: 1.5226e-06 - accuracy: 1.0000 - val_loss: 0.0896 - val_accuracy: 0.9890\n",
      "Epoch 38/75\n",
      "375/375 [==============================] - 2s 6ms/step - loss: 1.2599e-06 - accuracy: 1.0000 - val_loss: 0.0903 - val_accuracy: 0.9891\n",
      "Epoch 39/75\n",
      "375/375 [==============================] - 2s 6ms/step - loss: 1.0462e-06 - accuracy: 1.0000 - val_loss: 0.0911 - val_accuracy: 0.9891\n",
      "Epoch 40/75\n",
      "375/375 [==============================] - 2s 6ms/step - loss: 8.6736e-07 - accuracy: 1.0000 - val_loss: 0.0919 - val_accuracy: 0.9891\n",
      "Epoch 41/75\n",
      "375/375 [==============================] - 2s 6ms/step - loss: 7.2008e-07 - accuracy: 1.0000 - val_loss: 0.0927 - val_accuracy: 0.9890\n",
      "Epoch 42/75\n",
      "375/375 [==============================] - 2s 6ms/step - loss: 5.9733e-07 - accuracy: 1.0000 - val_loss: 0.0936 - val_accuracy: 0.9890\n",
      "Epoch 43/75\n",
      "375/375 [==============================] - 2s 6ms/step - loss: 4.9621e-07 - accuracy: 1.0000 - val_loss: 0.0945 - val_accuracy: 0.9890\n",
      "Epoch 44/75\n",
      "375/375 [==============================] - 2s 6ms/step - loss: 4.1149e-07 - accuracy: 1.0000 - val_loss: 0.0954 - val_accuracy: 0.9890\n",
      "Epoch 45/75\n",
      "375/375 [==============================] - 2s 6ms/step - loss: 3.4173e-07 - accuracy: 1.0000 - val_loss: 0.0963 - val_accuracy: 0.9891\n",
      "Epoch 46/75\n",
      "375/375 [==============================] - 2s 6ms/step - loss: 2.8317e-07 - accuracy: 1.0000 - val_loss: 0.0972 - val_accuracy: 0.9890\n",
      "Epoch 47/75\n",
      "375/375 [==============================] - 2s 6ms/step - loss: 2.3542e-07 - accuracy: 1.0000 - val_loss: 0.0982 - val_accuracy: 0.9891\n",
      "Epoch 48/75\n",
      "375/375 [==============================] - 2s 6ms/step - loss: 1.9526e-07 - accuracy: 1.0000 - val_loss: 0.0991 - val_accuracy: 0.9890\n",
      "Epoch 49/75\n",
      "375/375 [==============================] - 2s 6ms/step - loss: 1.6184e-07 - accuracy: 1.0000 - val_loss: 0.1002 - val_accuracy: 0.9890\n",
      "Epoch 50/75\n",
      "375/375 [==============================] - 2s 6ms/step - loss: 1.3434e-07 - accuracy: 1.0000 - val_loss: 0.1012 - val_accuracy: 0.9891\n",
      "Epoch 51/75\n",
      "375/375 [==============================] - 2s 6ms/step - loss: 1.1148e-07 - accuracy: 1.0000 - val_loss: 0.1022 - val_accuracy: 0.9891\n",
      "Epoch 52/75\n",
      "375/375 [==============================] - 2s 6ms/step - loss: 9.2469e-08 - accuracy: 1.0000 - val_loss: 0.1033 - val_accuracy: 0.9891\n",
      "Epoch 53/75\n",
      "375/375 [==============================] - 2s 6ms/step - loss: 7.6731e-08 - accuracy: 1.0000 - val_loss: 0.1044 - val_accuracy: 0.9891\n",
      "Epoch 54/75\n",
      "375/375 [==============================] - 2s 6ms/step - loss: 6.3695e-08 - accuracy: 1.0000 - val_loss: 0.1055 - val_accuracy: 0.9891\n",
      "Epoch 55/75\n",
      "375/375 [==============================] - 2s 6ms/step - loss: 5.2993e-08 - accuracy: 1.0000 - val_loss: 0.1065 - val_accuracy: 0.9890\n",
      "Epoch 56/75\n",
      "375/375 [==============================] - 2s 6ms/step - loss: 4.4025e-08 - accuracy: 1.0000 - val_loss: 0.1076 - val_accuracy: 0.9889\n",
      "Epoch 57/75\n"
     ]
    },
    {
     "name": "stdout",
     "output_type": "stream",
     "text": [
      "375/375 [==============================] - 2s 6ms/step - loss: 3.6555e-08 - accuracy: 1.0000 - val_loss: 0.1087 - val_accuracy: 0.9890\n",
      "Epoch 58/75\n",
      "375/375 [==============================] - 2s 6ms/step - loss: 3.0446e-08 - accuracy: 1.0000 - val_loss: 0.1099 - val_accuracy: 0.9890\n",
      "Epoch 59/75\n",
      "375/375 [==============================] - 2s 6ms/step - loss: 2.5362e-08 - accuracy: 1.0000 - val_loss: 0.1110 - val_accuracy: 0.9892\n",
      "Epoch 60/75\n",
      "375/375 [==============================] - 2s 6ms/step - loss: 2.1162e-08 - accuracy: 1.0000 - val_loss: 0.1122 - val_accuracy: 0.9893\n",
      "Epoch 61/75\n",
      "375/375 [==============================] - 2s 6ms/step - loss: 1.7650e-08 - accuracy: 1.0000 - val_loss: 0.1133 - val_accuracy: 0.9893\n",
      "Epoch 62/75\n",
      "375/375 [==============================] - 2s 6ms/step - loss: 1.4732e-08 - accuracy: 1.0000 - val_loss: 0.1144 - val_accuracy: 0.9893\n",
      "Epoch 63/75\n",
      "375/375 [==============================] - 2s 6ms/step - loss: 1.2298e-08 - accuracy: 1.0000 - val_loss: 0.1156 - val_accuracy: 0.9893\n",
      "Epoch 64/75\n",
      "375/375 [==============================] - 2s 6ms/step - loss: 1.0299e-08 - accuracy: 1.0000 - val_loss: 0.1168 - val_accuracy: 0.9893\n",
      "Epoch 65/75\n",
      "375/375 [==============================] - 2s 6ms/step - loss: 8.6104e-09 - accuracy: 1.0000 - val_loss: 0.1180 - val_accuracy: 0.9893\n",
      "Epoch 66/75\n",
      "375/375 [==============================] - 2s 6ms/step - loss: 7.2618e-09 - accuracy: 1.0000 - val_loss: 0.1192 - val_accuracy: 0.9893\n",
      "Epoch 67/75\n",
      "375/375 [==============================] - 2s 6ms/step - loss: 6.0995e-09 - accuracy: 1.0000 - val_loss: 0.1203 - val_accuracy: 0.9893\n",
      "Epoch 68/75\n",
      "375/375 [==============================] - 2s 6ms/step - loss: 5.1657e-09 - accuracy: 1.0000 - val_loss: 0.1215 - val_accuracy: 0.9893\n",
      "Epoch 69/75\n",
      "375/375 [==============================] - 2s 6ms/step - loss: 4.3785e-09 - accuracy: 1.0000 - val_loss: 0.1226 - val_accuracy: 0.9893\n",
      "Epoch 70/75\n",
      "375/375 [==============================] - 2s 6ms/step - loss: 3.6657e-09 - accuracy: 1.0000 - val_loss: 0.1239 - val_accuracy: 0.9893\n",
      "Epoch 71/75\n",
      "375/375 [==============================] - 2s 6ms/step - loss: 3.1590e-09 - accuracy: 1.0000 - val_loss: 0.1250 - val_accuracy: 0.9893\n",
      "Epoch 72/75\n",
      "375/375 [==============================] - 2s 6ms/step - loss: 2.6797e-09 - accuracy: 1.0000 - val_loss: 0.1262 - val_accuracy: 0.9893\n",
      "Epoch 73/75\n",
      "375/375 [==============================] - 2s 6ms/step - loss: 2.2824e-09 - accuracy: 1.0000 - val_loss: 0.1272 - val_accuracy: 0.9893\n",
      "Epoch 74/75\n",
      "375/375 [==============================] - 2s 6ms/step - loss: 1.9645e-09 - accuracy: 1.0000 - val_loss: 0.1284 - val_accuracy: 0.9893\n",
      "Epoch 75/75\n",
      "375/375 [==============================] - 2s 6ms/step - loss: 1.6739e-09 - accuracy: 1.0000 - val_loss: 0.1294 - val_accuracy: 0.9893\n"
     ]
    }
   ],
   "source": [
    "# to find out the accuracy score at epochs = 75\n",
    "n_epochs = 75\n",
    "learning_rate = 0.001\n",
    "opt = Adam(learning_rate)\n",
    "activation='relu'\n",
    "# Task 4 model - baseline\n",
    "t4_model = Sequential()\n",
    "t4_model.add(Conv2D(32, filter_size, input_shape=(28, 28, 1), activation=activation))\n",
    "t4_model.add(Conv2D(32, filter_size, activation=activation))\n",
    "t4_model.add(Flatten())\n",
    "t4_model.add(Dense(units=hidden_dense_units, activation=activation))\n",
    "t4_model.add(Flatten())\n",
    "t4_model.add(Dense(n_classes))\n",
    "t4_model.add(Activation(\"softmax\"))\n",
    "\n",
    "t4_model.compile(loss=loss, optimizer=opt,\n",
    "            metrics=metrics)\n",
    "H = t4_model.fit(trainX, trainY, validation_data=(valX, valY),\n",
    "                   epochs=n_epochs, batch_size=batch_size) "
   ]
  },
  {
   "cell_type": "code",
   "execution_count": 57,
   "metadata": {},
   "outputs": [
    {
     "name": "stdout",
     "output_type": "stream",
     "text": [
      "Model Accuracy 0.9921\n"
     ]
    }
   ],
   "source": [
    "# evaluate the network\n",
    "predictions = t4_model.predict(testX, batch_size=batch_size)\n",
    "acc_score = accuracy_score(testY.argmax(axis=1),\n",
    "                           predictions.argmax(axis=1))\n",
    "print(f\"Model Accuracy {acc_score}\")"
   ]
  },
  {
   "cell_type": "code",
   "execution_count": 58,
   "metadata": {},
   "outputs": [
    {
     "data": {
      "image/png": "[encoded data removed]",
      "text/plain": [
       "<Figure size 576x432 with 1 Axes>"
      ]
     },
     "metadata": {},
     "output_type": "display_data"
    }
   ],
   "source": [
    "plot_summary(H, n_epochs, valid=True)"
   ]
  },
  {
   "cell_type": "markdown",
   "metadata": {},
   "source": [
    "**Result**\n",
    "It is clear that with the learning rate of 0.001, the model learning is showing improvements and accuracy of 99.21%. However, training on train data stopped after 31 epochs.\n",
    "\n",
    "Going further a learning rate of 0.001 and epochs 35 will be used with Adam optimizer."
   ]
  },
  {
   "cell_type": "code",
   "execution_count": 59,
   "metadata": {},
   "outputs": [
    {
     "name": "stdout",
     "output_type": "stream",
     "text": [
      "Epoch 1/35\n",
      "375/375 [==============================] - 2s 6ms/step - loss: 0.1507 - accuracy: 0.9544 - val_loss: 0.0600 - val_accuracy: 0.9818\n",
      "Epoch 2/35\n",
      "375/375 [==============================] - 2s 6ms/step - loss: 0.0419 - accuracy: 0.9870 - val_loss: 0.0549 - val_accuracy: 0.9843\n",
      "Epoch 3/35\n",
      "375/375 [==============================] - 2s 6ms/step - loss: 0.0268 - accuracy: 0.9920 - val_loss: 0.0457 - val_accuracy: 0.9872\n",
      "Epoch 4/35\n",
      "375/375 [==============================] - 2s 6ms/step - loss: 0.0183 - accuracy: 0.9943 - val_loss: 0.0519 - val_accuracy: 0.9855\n",
      "Epoch 5/35\n",
      "375/375 [==============================] - 2s 6ms/step - loss: 0.0125 - accuracy: 0.9961 - val_loss: 0.0568 - val_accuracy: 0.9868\n",
      "Epoch 6/35\n",
      "375/375 [==============================] - 2s 6ms/step - loss: 0.0108 - accuracy: 0.9965 - val_loss: 0.0551 - val_accuracy: 0.9865\n",
      "Epoch 7/35\n",
      "375/375 [==============================] - 2s 6ms/step - loss: 0.0076 - accuracy: 0.9974 - val_loss: 0.0560 - val_accuracy: 0.9879\n",
      "Epoch 8/35\n",
      "375/375 [==============================] - 2s 6ms/step - loss: 0.0064 - accuracy: 0.9981 - val_loss: 0.0670 - val_accuracy: 0.9847\n",
      "Epoch 9/35\n",
      "375/375 [==============================] - 2s 6ms/step - loss: 0.0062 - accuracy: 0.9981 - val_loss: 0.0691 - val_accuracy: 0.9852\n",
      "Epoch 10/35\n",
      "375/375 [==============================] - 2s 6ms/step - loss: 0.0068 - accuracy: 0.9979 - val_loss: 0.0657 - val_accuracy: 0.9866\n",
      "Epoch 11/35\n",
      "375/375 [==============================] - 2s 6ms/step - loss: 0.0053 - accuracy: 0.9982 - val_loss: 0.0593 - val_accuracy: 0.9890\n",
      "Epoch 12/35\n",
      "375/375 [==============================] - 2s 6ms/step - loss: 0.0057 - accuracy: 0.9980 - val_loss: 0.0607 - val_accuracy: 0.9878\n",
      "Epoch 13/35\n",
      "375/375 [==============================] - 2s 6ms/step - loss: 0.0041 - accuracy: 0.9989 - val_loss: 0.0638 - val_accuracy: 0.9883\n",
      "Epoch 14/35\n",
      "375/375 [==============================] - 2s 6ms/step - loss: 0.0052 - accuracy: 0.9984 - val_loss: 0.0748 - val_accuracy: 0.9862\n",
      "Epoch 15/35\n",
      "375/375 [==============================] - 2s 6ms/step - loss: 0.0049 - accuracy: 0.9985 - val_loss: 0.0663 - val_accuracy: 0.9877\n",
      "Epoch 16/35\n",
      "375/375 [==============================] - 2s 6ms/step - loss: 0.0042 - accuracy: 0.9986 - val_loss: 0.0787 - val_accuracy: 0.9852\n",
      "Epoch 17/35\n",
      "375/375 [==============================] - 2s 6ms/step - loss: 0.0027 - accuracy: 0.9991 - val_loss: 0.0759 - val_accuracy: 0.9877\n",
      "Epoch 18/35\n",
      "375/375 [==============================] - 2s 6ms/step - loss: 0.0029 - accuracy: 0.9991 - val_loss: 0.0691 - val_accuracy: 0.9880\n",
      "Epoch 19/35\n",
      "375/375 [==============================] - 2s 6ms/step - loss: 0.0033 - accuracy: 0.9988 - val_loss: 0.0724 - val_accuracy: 0.9888\n",
      "Epoch 20/35\n",
      "375/375 [==============================] - 2s 6ms/step - loss: 0.0011 - accuracy: 0.9996 - val_loss: 0.0793 - val_accuracy: 0.9887\n",
      "Epoch 21/35\n",
      "375/375 [==============================] - 2s 6ms/step - loss: 0.0027 - accuracy: 0.9993 - val_loss: 0.0777 - val_accuracy: 0.9868\n",
      "Epoch 22/35\n",
      "375/375 [==============================] - 2s 6ms/step - loss: 0.0025 - accuracy: 0.9992 - val_loss: 0.0789 - val_accuracy: 0.9878\n",
      "Epoch 23/35\n",
      "375/375 [==============================] - 2s 6ms/step - loss: 0.0023 - accuracy: 0.9992 - val_loss: 0.0674 - val_accuracy: 0.9887\n",
      "Epoch 24/35\n",
      "375/375 [==============================] - 2s 6ms/step - loss: 0.0046 - accuracy: 0.9986 - val_loss: 0.0750 - val_accuracy: 0.9883\n",
      "Epoch 25/35\n",
      "375/375 [==============================] - 2s 6ms/step - loss: 0.0014 - accuracy: 0.9996 - val_loss: 0.0854 - val_accuracy: 0.9876\n",
      "Epoch 26/35\n",
      "375/375 [==============================] - 2s 6ms/step - loss: 0.0024 - accuracy: 0.9994 - val_loss: 0.0786 - val_accuracy: 0.9884\n",
      "Epoch 27/35\n",
      "375/375 [==============================] - 2s 6ms/step - loss: 4.5672e-04 - accuracy: 0.9998 - val_loss: 0.0795 - val_accuracy: 0.9898\n",
      "Epoch 28/35\n",
      "375/375 [==============================] - 2s 6ms/step - loss: 7.3115e-04 - accuracy: 0.9999 - val_loss: 0.0818 - val_accuracy: 0.9878\n",
      "Epoch 29/35\n",
      "375/375 [==============================] - 2s 6ms/step - loss: 0.0060 - accuracy: 0.9984 - val_loss: 0.0906 - val_accuracy: 0.9856\n",
      "Epoch 30/35\n",
      "375/375 [==============================] - 2s 6ms/step - loss: 0.0022 - accuracy: 0.9993 - val_loss: 0.0913 - val_accuracy: 0.9878\n",
      "Epoch 31/35\n",
      "375/375 [==============================] - 2s 6ms/step - loss: 0.0022 - accuracy: 0.9996 - val_loss: 0.0933 - val_accuracy: 0.9876\n",
      "Epoch 32/35\n",
      "375/375 [==============================] - 2s 6ms/step - loss: 6.1397e-04 - accuracy: 0.9998 - val_loss: 0.0828 - val_accuracy: 0.9890\n",
      "Epoch 33/35\n",
      "375/375 [==============================] - 2s 6ms/step - loss: 1.5455e-04 - accuracy: 1.0000 - val_loss: 0.0832 - val_accuracy: 0.9891\n",
      "Epoch 34/35\n",
      "375/375 [==============================] - 2s 6ms/step - loss: 2.4550e-05 - accuracy: 1.0000 - val_loss: 0.0859 - val_accuracy: 0.9894\n",
      "Epoch 35/35\n",
      "375/375 [==============================] - 2s 6ms/step - loss: 5.2197e-06 - accuracy: 1.0000 - val_loss: 0.0852 - val_accuracy: 0.9896\n"
     ]
    }
   ],
   "source": [
    "# to find out the accuracy score at epochs = 75\n",
    "n_epochs = 35\n",
    "learning_rate = 0.001\n",
    "opt = Adam(learning_rate)\n",
    "activation='relu'\n",
    "# Task 4 model - baseline\n",
    "t4_model = Sequential()\n",
    "t4_model.add(Conv2D(32, filter_size, input_shape=(28, 28, 1), activation=activation))\n",
    "t4_model.add(Conv2D(32, filter_size, activation=activation))\n",
    "t4_model.add(Flatten())\n",
    "t4_model.add(Dense(units=hidden_dense_units, activation=activation))\n",
    "t4_model.add(Flatten())\n",
    "t4_model.add(Dense(n_classes))\n",
    "t4_model.add(Activation(\"softmax\"))\n",
    "\n",
    "t4_model.compile(loss=loss, optimizer=opt,\n",
    "            metrics=metrics)\n",
    "H = t4_model.fit(trainX, trainY, validation_data=(valX, valY),\n",
    "                   epochs=n_epochs, batch_size=batch_size) "
   ]
  },
  {
   "cell_type": "code",
   "execution_count": 60,
   "metadata": {},
   "outputs": [
    {
     "name": "stdout",
     "output_type": "stream",
     "text": [
      "Model Accuracy 0.9914\n"
     ]
    }
   ],
   "source": [
    "# evaluate the network\n",
    "predictions = t4_model.predict(testX, batch_size=batch_size)\n",
    "acc_score = accuracy_score(testY.argmax(axis=1),\n",
    "                           predictions.argmax(axis=1))\n",
    "print(f\"Model Accuracy {acc_score}\")"
   ]
  },
  {
   "cell_type": "code",
   "execution_count": 61,
   "metadata": {},
   "outputs": [
    {
     "data": {
      "image/png": "[encoded data removed]",
      "text/plain": [
       "<Figure size 576x432 with 1 Axes>"
      ]
     },
     "metadata": {},
     "output_type": "display_data"
    }
   ],
   "source": [
    "plot_summary(H, n_epochs, valid=True)"
   ]
  },
  {
   "cell_type": "markdown",
   "metadata": {},
   "source": [
    "**Hypothesis T4_5 - Adding further layers can improve performance and learning process**\n",
    "Justification - Although in task 3 results showed that the further Conv2D layers didnt increase performance. However, adding them in conjunction with Batch normalization can improve performance. This is presented in a lot of State of the art models and articles. This test will try if the above hypothesis works."
   ]
  },
  {
   "cell_type": "code",
   "execution_count": 65,
   "metadata": {},
   "outputs": [
    {
     "name": "stdout",
     "output_type": "stream",
     "text": [
      "Epoch 1/35\n",
      "375/375 [==============================] - 3s 7ms/step - loss: 0.1742 - accuracy: 0.9519 - val_loss: 0.4160 - val_accuracy: 0.9811\n",
      "Epoch 2/35\n",
      "375/375 [==============================] - 2s 7ms/step - loss: 0.0409 - accuracy: 0.9875 - val_loss: 0.0796 - val_accuracy: 0.9748\n",
      "Epoch 3/35\n",
      "375/375 [==============================] - 2s 7ms/step - loss: 0.0284 - accuracy: 0.9906 - val_loss: 0.0533 - val_accuracy: 0.9849\n",
      "Epoch 4/35\n",
      "375/375 [==============================] - 2s 6ms/step - loss: 0.0176 - accuracy: 0.9940 - val_loss: 0.0707 - val_accuracy: 0.9827\n",
      "Epoch 5/35\n",
      "375/375 [==============================] - 2s 7ms/step - loss: 0.0142 - accuracy: 0.9956 - val_loss: 0.0599 - val_accuracy: 0.9861\n",
      "Epoch 6/35\n",
      "375/375 [==============================] - 2s 6ms/step - loss: 0.0130 - accuracy: 0.9956 - val_loss: 0.0593 - val_accuracy: 0.9869\n",
      "Epoch 7/35\n",
      "375/375 [==============================] - 2s 6ms/step - loss: 0.0122 - accuracy: 0.9958 - val_loss: 0.0718 - val_accuracy: 0.9832\n",
      "Epoch 8/35\n",
      "375/375 [==============================] - 2s 7ms/step - loss: 0.0106 - accuracy: 0.9964 - val_loss: 0.0753 - val_accuracy: 0.9857\n",
      "Epoch 9/35\n",
      "375/375 [==============================] - 2s 7ms/step - loss: 0.0098 - accuracy: 0.9971 - val_loss: 0.0780 - val_accuracy: 0.9823\n",
      "Epoch 10/35\n",
      "375/375 [==============================] - 2s 7ms/step - loss: 0.0102 - accuracy: 0.9967 - val_loss: 0.0694 - val_accuracy: 0.9848\n",
      "Epoch 11/35\n",
      "375/375 [==============================] - 2s 7ms/step - loss: 0.0050 - accuracy: 0.9984 - val_loss: 0.0631 - val_accuracy: 0.9858\n",
      "Epoch 12/35\n",
      "375/375 [==============================] - 2s 6ms/step - loss: 0.0090 - accuracy: 0.9975 - val_loss: 0.0745 - val_accuracy: 0.9855\n",
      "Epoch 13/35\n",
      "375/375 [==============================] - 2s 6ms/step - loss: 0.0068 - accuracy: 0.9982 - val_loss: 0.0744 - val_accuracy: 0.9862\n",
      "Epoch 14/35\n",
      "375/375 [==============================] - 2s 6ms/step - loss: 0.0080 - accuracy: 0.9974 - val_loss: 0.0853 - val_accuracy: 0.9868\n",
      "Epoch 15/35\n",
      "375/375 [==============================] - 2s 6ms/step - loss: 0.0071 - accuracy: 0.9974 - val_loss: 0.1065 - val_accuracy: 0.9836\n",
      "Epoch 16/35\n",
      "375/375 [==============================] - 2s 6ms/step - loss: 0.0085 - accuracy: 0.9976 - val_loss: 0.0810 - val_accuracy: 0.9868\n",
      "Epoch 17/35\n",
      "375/375 [==============================] - 2s 6ms/step - loss: 0.0062 - accuracy: 0.9979 - val_loss: 0.0988 - val_accuracy: 0.9863\n",
      "Epoch 18/35\n",
      "375/375 [==============================] - 2s 6ms/step - loss: 0.0042 - accuracy: 0.9986 - val_loss: 0.0941 - val_accuracy: 0.9848\n",
      "Epoch 19/35\n",
      "375/375 [==============================] - 2s 6ms/step - loss: 0.0064 - accuracy: 0.9981 - val_loss: 0.0897 - val_accuracy: 0.9864\n",
      "Epoch 20/35\n",
      "375/375 [==============================] - 2s 6ms/step - loss: 0.0050 - accuracy: 0.9986 - val_loss: 0.0950 - val_accuracy: 0.9877\n",
      "Epoch 21/35\n",
      "375/375 [==============================] - 2s 6ms/step - loss: 0.0049 - accuracy: 0.9986 - val_loss: 0.0827 - val_accuracy: 0.9872\n",
      "Epoch 22/35\n",
      "375/375 [==============================] - 2s 6ms/step - loss: 0.0038 - accuracy: 0.9988 - val_loss: 0.0984 - val_accuracy: 0.9877\n",
      "Epoch 23/35\n",
      "375/375 [==============================] - 2s 6ms/step - loss: 0.0057 - accuracy: 0.9983 - val_loss: 0.1042 - val_accuracy: 0.9866\n",
      "Epoch 24/35\n",
      "375/375 [==============================] - 2s 6ms/step - loss: 0.0029 - accuracy: 0.9992 - val_loss: 0.0814 - val_accuracy: 0.9887\n",
      "Epoch 25/35\n",
      "375/375 [==============================] - 2s 6ms/step - loss: 0.0075 - accuracy: 0.9983 - val_loss: 0.1169 - val_accuracy: 0.9839\n",
      "Epoch 26/35\n",
      "375/375 [==============================] - 2s 6ms/step - loss: 0.0049 - accuracy: 0.9986 - val_loss: 0.0909 - val_accuracy: 0.9883\n",
      "Epoch 27/35\n",
      "375/375 [==============================] - 2s 6ms/step - loss: 0.0015 - accuracy: 0.9995 - val_loss: 0.1060 - val_accuracy: 0.9879\n",
      "Epoch 28/35\n",
      "375/375 [==============================] - 2s 6ms/step - loss: 0.0024 - accuracy: 0.9993 - val_loss: 0.0948 - val_accuracy: 0.9870\n",
      "Epoch 29/35\n",
      "375/375 [==============================] - 2s 6ms/step - loss: 0.0056 - accuracy: 0.9985 - val_loss: 0.1215 - val_accuracy: 0.9862\n",
      "Epoch 30/35\n",
      "375/375 [==============================] - 2s 6ms/step - loss: 0.0066 - accuracy: 0.9980 - val_loss: 0.1317 - val_accuracy: 0.9873\n",
      "Epoch 31/35\n",
      "375/375 [==============================] - 2s 6ms/step - loss: 0.0025 - accuracy: 0.9994 - val_loss: 0.1462 - val_accuracy: 0.9864\n",
      "Epoch 32/35\n",
      "375/375 [==============================] - 2s 6ms/step - loss: 0.0032 - accuracy: 0.9993 - val_loss: 0.1389 - val_accuracy: 0.9873\n",
      "Epoch 33/35\n",
      "375/375 [==============================] - 2s 6ms/step - loss: 0.0045 - accuracy: 0.9987 - val_loss: 0.1108 - val_accuracy: 0.9886\n",
      "Epoch 34/35\n",
      "375/375 [==============================] - 2s 6ms/step - loss: 0.0022 - accuracy: 0.9995 - val_loss: 0.1097 - val_accuracy: 0.9876\n",
      "Epoch 35/35\n",
      "375/375 [==============================] - 2s 6ms/step - loss: 0.0037 - accuracy: 0.9989 - val_loss: 0.1701 - val_accuracy: 0.9820\n"
     ]
    }
   ],
   "source": [
    "# to find out the accuracy score at epochs = 75\n",
    "n_epochs = 35\n",
    "learning_rate = 0.001\n",
    "opt = Adam(learning_rate)\n",
    "activation='relu'\n",
    "# Task 4 model - baseline\n",
    "t4_model = Sequential()\n",
    "t4_model.add(Conv2D(32, filter_size, input_shape=(28, 28, 1), activation=activation))\n",
    "# adding a batch normalization layer before the second Conv2D\n",
    "t4_model.add(BatchNormalization(axis=-1))\n",
    "t4_model.add(Conv2D(32, filter_size, activation=activation))\n",
    "t4_model.add(Flatten())\n",
    "t4_model.add(Dense(units=hidden_dense_units, activation=activation))\n",
    "t4_model.add(Flatten())\n",
    "t4_model.add(Dense(n_classes))\n",
    "t4_model.add(Activation(\"softmax\"))\n",
    "\n",
    "t4_model.compile(loss=loss, optimizer=opt,\n",
    "            metrics=metrics)\n",
    "H = t4_model.fit(trainX, trainY, validation_data=(valX, valY),\n",
    "                   epochs=n_epochs, batch_size=batch_size) \n",
    "\n"
   ]
  },
  {
   "cell_type": "code",
   "execution_count": 66,
   "metadata": {},
   "outputs": [
    {
     "name": "stdout",
     "output_type": "stream",
     "text": [
      "Model Accuracy 0.9848\n"
     ]
    }
   ],
   "source": [
    "# evaluate the network\n",
    "predictions = t4_model.predict(testX, batch_size=batch_size)\n",
    "acc_score = accuracy_score(testY.argmax(axis=1),\n",
    "                           predictions.argmax(axis=1))\n",
    "print(f\"Model Accuracy {acc_score}\")"
   ]
  },
  {
   "cell_type": "code",
   "execution_count": 67,
   "metadata": {},
   "outputs": [
    {
     "data": {
      "image/png": "[encoded data removed]",
      "text/plain": [
       "<Figure size 576x432 with 1 Axes>"
      ]
     },
     "metadata": {},
     "output_type": "display_data"
    }
   ],
   "source": [
    "plot_summary(H, n_epochs, valid=True)"
   ]
  },
  {
   "cell_type": "markdown",
   "metadata": {},
   "source": [
    "**Results**\n",
    "Although the accuracy has not improved, but upon search the articles, it has been found that Max pooling and dropout and smooth out the learning processing"
   ]
  },
  {
   "cell_type": "markdown",
   "metadata": {},
   "source": [
    "**Hypothesis T4_6 - Adding further Pooling and Dropout improve performance and learning process**\n",
    "Justification - As discussed in the results above, we will try Pooling and Dropout to see if the model training improves due to that."
   ]
  },
  {
   "cell_type": "code",
   "execution_count": 70,
   "metadata": {},
   "outputs": [
    {
     "name": "stdout",
     "output_type": "stream",
     "text": [
      "Epoch 1/35\n",
      "375/375 [==============================] - 3s 7ms/step - loss: 0.1656 - accuracy: 0.9517 - val_loss: 1.0491 - val_accuracy: 0.6727\n",
      "Epoch 2/35\n",
      "375/375 [==============================] - 2s 6ms/step - loss: 0.0507 - accuracy: 0.9844 - val_loss: 0.0592 - val_accuracy: 0.9833\n",
      "Epoch 3/35\n",
      "375/375 [==============================] - 2s 6ms/step - loss: 0.0336 - accuracy: 0.9895 - val_loss: 0.0484 - val_accuracy: 0.9865\n",
      "Epoch 4/35\n",
      "375/375 [==============================] - 2s 7ms/step - loss: 0.0240 - accuracy: 0.9923 - val_loss: 0.0475 - val_accuracy: 0.9862\n",
      "Epoch 5/35\n",
      "375/375 [==============================] - 2s 7ms/step - loss: 0.0186 - accuracy: 0.9938 - val_loss: 0.0542 - val_accuracy: 0.9878\n",
      "Epoch 6/35\n",
      "375/375 [==============================] - 2s 7ms/step - loss: 0.0164 - accuracy: 0.9944 - val_loss: 0.0600 - val_accuracy: 0.9868\n",
      "Epoch 7/35\n",
      "375/375 [==============================] - 2s 6ms/step - loss: 0.0138 - accuracy: 0.9956 - val_loss: 0.0531 - val_accuracy: 0.9879\n",
      "Epoch 8/35\n",
      "375/375 [==============================] - 2s 7ms/step - loss: 0.0162 - accuracy: 0.9949 - val_loss: 0.0603 - val_accuracy: 0.9876\n",
      "Epoch 9/35\n",
      "375/375 [==============================] - 2s 7ms/step - loss: 0.0146 - accuracy: 0.9953 - val_loss: 0.0719 - val_accuracy: 0.9855\n",
      "Epoch 10/35\n",
      "375/375 [==============================] - 2s 6ms/step - loss: 0.0120 - accuracy: 0.9960 - val_loss: 0.0602 - val_accuracy: 0.9872\n",
      "Epoch 11/35\n",
      "375/375 [==============================] - 2s 6ms/step - loss: 0.0108 - accuracy: 0.9965 - val_loss: 0.0547 - val_accuracy: 0.9890\n",
      "Epoch 12/35\n",
      "375/375 [==============================] - 2s 6ms/step - loss: 0.0110 - accuracy: 0.9969 - val_loss: 0.0619 - val_accuracy: 0.9883\n",
      "Epoch 13/35\n",
      "375/375 [==============================] - 2s 6ms/step - loss: 0.0110 - accuracy: 0.9962 - val_loss: 0.0580 - val_accuracy: 0.9885\n",
      "Epoch 14/35\n",
      "375/375 [==============================] - 2s 6ms/step - loss: 0.0061 - accuracy: 0.9979 - val_loss: 0.0675 - val_accuracy: 0.9881\n",
      "Epoch 15/35\n",
      "375/375 [==============================] - 2s 6ms/step - loss: 0.0069 - accuracy: 0.9978 - val_loss: 0.0746 - val_accuracy: 0.9852\n",
      "Epoch 16/35\n",
      "375/375 [==============================] - 2s 6ms/step - loss: 0.0076 - accuracy: 0.9975 - val_loss: 0.0707 - val_accuracy: 0.9876\n",
      "Epoch 17/35\n",
      "375/375 [==============================] - 2s 6ms/step - loss: 0.0087 - accuracy: 0.9972 - val_loss: 0.0746 - val_accuracy: 0.9865\n",
      "Epoch 18/35\n",
      "375/375 [==============================] - 2s 6ms/step - loss: 0.0098 - accuracy: 0.9973 - val_loss: 0.0808 - val_accuracy: 0.9862\n",
      "Epoch 19/35\n",
      "375/375 [==============================] - 2s 6ms/step - loss: 0.0079 - accuracy: 0.9976 - val_loss: 0.0775 - val_accuracy: 0.9886\n",
      "Epoch 20/35\n",
      "375/375 [==============================] - 2s 6ms/step - loss: 0.0083 - accuracy: 0.9977 - val_loss: 0.0645 - val_accuracy: 0.9884\n",
      "Epoch 21/35\n",
      "375/375 [==============================] - 2s 6ms/step - loss: 0.0071 - accuracy: 0.9980 - val_loss: 0.0697 - val_accuracy: 0.9890\n",
      "Epoch 22/35\n",
      "375/375 [==============================] - 2s 6ms/step - loss: 0.0061 - accuracy: 0.9983 - val_loss: 0.0655 - val_accuracy: 0.9904\n",
      "Epoch 23/35\n",
      "375/375 [==============================] - 2s 6ms/step - loss: 0.0057 - accuracy: 0.9985 - val_loss: 0.0582 - val_accuracy: 0.9902\n",
      "Epoch 24/35\n",
      "375/375 [==============================] - 2s 6ms/step - loss: 0.0052 - accuracy: 0.9984 - val_loss: 0.0677 - val_accuracy: 0.9898\n",
      "Epoch 25/35\n",
      "375/375 [==============================] - 2s 6ms/step - loss: 0.0069 - accuracy: 0.9980 - val_loss: 0.0725 - val_accuracy: 0.9893\n",
      "Epoch 26/35\n",
      "375/375 [==============================] - 2s 6ms/step - loss: 0.0059 - accuracy: 0.9983 - val_loss: 0.0926 - val_accuracy: 0.9871\n",
      "Epoch 27/35\n",
      "375/375 [==============================] - 2s 6ms/step - loss: 0.0095 - accuracy: 0.9974 - val_loss: 0.0739 - val_accuracy: 0.9889\n",
      "Epoch 28/35\n",
      "375/375 [==============================] - 2s 6ms/step - loss: 0.0050 - accuracy: 0.9985 - val_loss: 0.0819 - val_accuracy: 0.9886\n",
      "Epoch 29/35\n",
      "375/375 [==============================] - 2s 6ms/step - loss: 0.0034 - accuracy: 0.9989 - val_loss: 0.0691 - val_accuracy: 0.9894\n",
      "Epoch 30/35\n",
      "375/375 [==============================] - 2s 6ms/step - loss: 0.0048 - accuracy: 0.9988 - val_loss: 0.0984 - val_accuracy: 0.9883\n",
      "Epoch 31/35\n",
      "375/375 [==============================] - 2s 6ms/step - loss: 0.0032 - accuracy: 0.9989 - val_loss: 0.0735 - val_accuracy: 0.9908\n",
      "Epoch 32/35\n",
      "375/375 [==============================] - 2s 6ms/step - loss: 0.0027 - accuracy: 0.9991 - val_loss: 0.0863 - val_accuracy: 0.9898\n",
      "Epoch 33/35\n",
      "375/375 [==============================] - 2s 6ms/step - loss: 0.0058 - accuracy: 0.9983 - val_loss: 0.0826 - val_accuracy: 0.9893\n",
      "Epoch 34/35\n",
      "375/375 [==============================] - 2s 6ms/step - loss: 0.0042 - accuracy: 0.9987 - val_loss: 0.0820 - val_accuracy: 0.9889\n",
      "Epoch 35/35\n",
      "375/375 [==============================] - 2s 6ms/step - loss: 0.0039 - accuracy: 0.9989 - val_loss: 0.0822 - val_accuracy: 0.9893\n"
     ]
    }
   ],
   "source": [
    "# to find out the accuracy score at epochs = 75\n",
    "n_epochs = 35\n",
    "learning_rate = 0.001\n",
    "opt = Adam(learning_rate)\n",
    "activation='relu'\n",
    "# Task 4 model - baseline\n",
    "t4_model = Sequential()\n",
    "t4_model.add(Conv2D(32, filter_size, input_shape=(28, 28, 1), activation=activation))\n",
    "# adding a batch normalization layer before the second Conv2D\n",
    "t4_model.add(BatchNormalization(axis=-1))\n",
    "t4_model.add(Conv2D(32, filter_size, activation=activation))\n",
    "t4_model.add(BatchNormalization(axis=-1))\n",
    "t4_model.add(MaxPooling2D(pool_size=(2, 2)))\n",
    "t4_model.add(Dropout(0.25))\n",
    "\n",
    "t4_model.add(Flatten())\n",
    "t4_model.add(Dense(units=hidden_dense_units, activation=activation))\n",
    "t4_model.add(Flatten())\n",
    "t4_model.add(Dense(n_classes))\n",
    "t4_model.add(Activation(\"softmax\"))\n",
    "\n",
    "t4_model.compile(loss=loss, optimizer=opt,\n",
    "            metrics=metrics)\n",
    "H = t4_model.fit(trainX, trainY, validation_data=(valX, valY),\n",
    "                   epochs=n_epochs, batch_size=batch_size) "
   ]
  },
  {
   "cell_type": "code",
   "execution_count": 71,
   "metadata": {},
   "outputs": [
    {
     "name": "stdout",
     "output_type": "stream",
     "text": [
      "Model Accuracy 0.9915\n"
     ]
    }
   ],
   "source": [
    "# evaluate the network\n",
    "predictions = t4_model.predict(testX, batch_size=batch_size)\n",
    "acc_score = accuracy_score(testY.argmax(axis=1),\n",
    "                           predictions.argmax(axis=1))\n",
    "print(f\"Model Accuracy {acc_score}\")"
   ]
  },
  {
   "cell_type": "code",
   "execution_count": 72,
   "metadata": {},
   "outputs": [
    {
     "data": {
      "image/png": "[encoded data removed]",
      "text/plain": [
       "<Figure size 576x432 with 1 Axes>"
      ]
     },
     "metadata": {},
     "output_type": "display_data"
    }
   ],
   "source": [
    "plot_summary(H, n_epochs, valid=True)"
   ]
  },
  {
   "cell_type": "markdown",
   "metadata": {},
   "source": [
    "**Results**\n",
    "While training and validation accuracies are improving at a constant rate, the training process in terms of loss metrics is still not perfect. However the Average accuracy reached is 99.15%"
   ]
  },
  {
   "cell_type": "markdown",
   "metadata": {},
   "source": [
    "**Hypothesis T4_7 - Changing the kernel size to (3,3) may improve performance and learning process**\n",
    "Justification - Checking this kernel size can smooth out the learning process."
   ]
  },
  {
   "cell_type": "code",
   "execution_count": 73,
   "metadata": {},
   "outputs": [
    {
     "name": "stdout",
     "output_type": "stream",
     "text": [
      "Epoch 1/35\n",
      "375/375 [==============================] - 2s 7ms/step - loss: 0.1652 - accuracy: 0.9522 - val_loss: 0.3732 - val_accuracy: 0.8810\n",
      "Epoch 2/35\n",
      "375/375 [==============================] - 2s 6ms/step - loss: 0.0504 - accuracy: 0.9846 - val_loss: 0.0725 - val_accuracy: 0.9792\n",
      "Epoch 3/35\n",
      "375/375 [==============================] - 2s 6ms/step - loss: 0.0337 - accuracy: 0.9895 - val_loss: 0.0612 - val_accuracy: 0.9811\n",
      "Epoch 4/35\n",
      "375/375 [==============================] - 2s 6ms/step - loss: 0.0224 - accuracy: 0.9927 - val_loss: 0.0575 - val_accuracy: 0.9843\n",
      "Epoch 5/35\n",
      "375/375 [==============================] - 2s 6ms/step - loss: 0.0193 - accuracy: 0.9938 - val_loss: 0.0626 - val_accuracy: 0.9859\n",
      "Epoch 6/35\n",
      "375/375 [==============================] - 2s 6ms/step - loss: 0.0160 - accuracy: 0.9944 - val_loss: 0.0625 - val_accuracy: 0.9849\n",
      "Epoch 7/35\n",
      "375/375 [==============================] - 2s 6ms/step - loss: 0.0131 - accuracy: 0.9953 - val_loss: 0.0723 - val_accuracy: 0.9836\n",
      "Epoch 8/35\n",
      "375/375 [==============================] - 2s 6ms/step - loss: 0.0123 - accuracy: 0.9962 - val_loss: 0.0623 - val_accuracy: 0.9856\n",
      "Epoch 9/35\n",
      "375/375 [==============================] - 2s 6ms/step - loss: 0.0149 - accuracy: 0.9952 - val_loss: 0.0682 - val_accuracy: 0.9862\n",
      "Epoch 10/35\n",
      "375/375 [==============================] - 2s 6ms/step - loss: 0.0121 - accuracy: 0.9960 - val_loss: 0.0700 - val_accuracy: 0.9852\n",
      "Epoch 11/35\n",
      "375/375 [==============================] - 2s 6ms/step - loss: 0.0106 - accuracy: 0.9966 - val_loss: 0.0682 - val_accuracy: 0.9877\n",
      "Epoch 12/35\n",
      "375/375 [==============================] - 2s 6ms/step - loss: 0.0116 - accuracy: 0.9963 - val_loss: 0.0671 - val_accuracy: 0.9877\n",
      "Epoch 13/35\n",
      "375/375 [==============================] - 2s 6ms/step - loss: 0.0074 - accuracy: 0.9978 - val_loss: 0.0657 - val_accuracy: 0.9887\n",
      "Epoch 14/35\n",
      "375/375 [==============================] - 2s 6ms/step - loss: 0.0102 - accuracy: 0.9970 - val_loss: 0.0736 - val_accuracy: 0.9866\n",
      "Epoch 15/35\n",
      "375/375 [==============================] - 2s 6ms/step - loss: 0.0092 - accuracy: 0.9973 - val_loss: 0.0744 - val_accuracy: 0.9872\n",
      "Epoch 16/35\n",
      "375/375 [==============================] - 2s 6ms/step - loss: 0.0062 - accuracy: 0.9981 - val_loss: 0.0724 - val_accuracy: 0.9890\n",
      "Epoch 17/35\n",
      "375/375 [==============================] - 2s 6ms/step - loss: 0.0058 - accuracy: 0.9981 - val_loss: 0.0795 - val_accuracy: 0.9874\n",
      "Epoch 18/35\n",
      "375/375 [==============================] - 2s 6ms/step - loss: 0.0071 - accuracy: 0.9977 - val_loss: 0.0932 - val_accuracy: 0.9869\n",
      "Epoch 19/35\n",
      "375/375 [==============================] - 2s 6ms/step - loss: 0.0095 - accuracy: 0.9973 - val_loss: 0.0820 - val_accuracy: 0.9869\n",
      "Epoch 20/35\n",
      "375/375 [==============================] - 2s 6ms/step - loss: 0.0067 - accuracy: 0.9978 - val_loss: 0.0785 - val_accuracy: 0.9882\n",
      "Epoch 21/35\n",
      "375/375 [==============================] - 2s 6ms/step - loss: 0.0075 - accuracy: 0.9978 - val_loss: 0.0841 - val_accuracy: 0.9876\n",
      "Epoch 22/35\n",
      "375/375 [==============================] - 2s 6ms/step - loss: 0.0048 - accuracy: 0.9982 - val_loss: 0.0740 - val_accuracy: 0.9885\n",
      "Epoch 23/35\n",
      "375/375 [==============================] - 2s 6ms/step - loss: 0.0064 - accuracy: 0.9983 - val_loss: 0.0926 - val_accuracy: 0.9883\n",
      "Epoch 24/35\n",
      "375/375 [==============================] - 2s 6ms/step - loss: 0.0063 - accuracy: 0.9983 - val_loss: 0.0754 - val_accuracy: 0.9882\n",
      "Epoch 25/35\n",
      "375/375 [==============================] - 2s 6ms/step - loss: 0.0052 - accuracy: 0.9984 - val_loss: 0.0859 - val_accuracy: 0.9873\n",
      "Epoch 26/35\n",
      "375/375 [==============================] - 2s 6ms/step - loss: 0.0067 - accuracy: 0.9980 - val_loss: 0.0978 - val_accuracy: 0.9855\n",
      "Epoch 27/35\n",
      "375/375 [==============================] - 2s 6ms/step - loss: 0.0069 - accuracy: 0.9982 - val_loss: 0.0998 - val_accuracy: 0.9873\n",
      "Epoch 28/35\n",
      "375/375 [==============================] - 2s 6ms/step - loss: 0.0053 - accuracy: 0.9984 - val_loss: 0.0929 - val_accuracy: 0.9883\n",
      "Epoch 29/35\n",
      "375/375 [==============================] - 2s 6ms/step - loss: 0.0042 - accuracy: 0.9988 - val_loss: 0.0779 - val_accuracy: 0.9888\n",
      "Epoch 30/35\n",
      "375/375 [==============================] - 2s 6ms/step - loss: 0.0041 - accuracy: 0.9989 - val_loss: 0.0865 - val_accuracy: 0.9892\n",
      "Epoch 31/35\n",
      "375/375 [==============================] - 2s 6ms/step - loss: 0.0049 - accuracy: 0.9986 - val_loss: 0.0886 - val_accuracy: 0.9899\n",
      "Epoch 32/35\n",
      "375/375 [==============================] - 2s 6ms/step - loss: 0.0045 - accuracy: 0.9988 - val_loss: 0.0839 - val_accuracy: 0.9894\n",
      "Epoch 33/35\n",
      "375/375 [==============================] - 2s 6ms/step - loss: 0.0040 - accuracy: 0.9988 - val_loss: 0.0939 - val_accuracy: 0.9885\n",
      "Epoch 34/35\n",
      "375/375 [==============================] - 2s 6ms/step - loss: 0.0035 - accuracy: 0.9992 - val_loss: 0.1013 - val_accuracy: 0.9866\n",
      "Epoch 35/35\n",
      "375/375 [==============================] - 2s 6ms/step - loss: 0.0062 - accuracy: 0.9983 - val_loss: 0.1133 - val_accuracy: 0.9875\n"
     ]
    }
   ],
   "source": [
    "# to find out the accuracy score at epochs = 75\n",
    "n_epochs = 35\n",
    "filter_size = (3, 3)\n",
    "learning_rate = 0.001\n",
    "opt = Adam(learning_rate)\n",
    "activation='relu'\n",
    "# Task 4 model - baseline\n",
    "t4_model = Sequential()\n",
    "t4_model.add(Conv2D(32, filter_size, input_shape=(28, 28, 1), activation=activation))\n",
    "# adding a batch normalization layer before the second Conv2D\n",
    "t4_model.add(BatchNormalization(axis=-1))\n",
    "t4_model.add(Conv2D(32, filter_size, activation=activation))\n",
    "t4_model.add(BatchNormalization(axis=-1))\n",
    "t4_model.add(MaxPooling2D(pool_size=(2, 2)))\n",
    "t4_model.add(Dropout(0.25))\n",
    "\n",
    "t4_model.add(Flatten())\n",
    "t4_model.add(Dense(units=hidden_dense_units, activation=activation))\n",
    "t4_model.add(Flatten())\n",
    "t4_model.add(Dense(n_classes))\n",
    "t4_model.add(Activation(\"softmax\"))\n",
    "\n",
    "t4_model.compile(loss=loss, optimizer=opt,\n",
    "            metrics=metrics)\n",
    "H = t4_model.fit(trainX, trainY, validation_data=(valX, valY),\n",
    "                   epochs=n_epochs, batch_size=batch_size) "
   ]
  },
  {
   "cell_type": "code",
   "execution_count": 74,
   "metadata": {},
   "outputs": [
    {
     "name": "stdout",
     "output_type": "stream",
     "text": [
      "Model Accuracy 0.9875\n"
     ]
    }
   ],
   "source": [
    "# evaluate the network\n",
    "predictions = t4_model.predict(testX, batch_size=batch_size)\n",
    "acc_score = accuracy_score(testY.argmax(axis=1),\n",
    "                           predictions.argmax(axis=1))\n",
    "print(f\"Model Accuracy {acc_score}\")"
   ]
  },
  {
   "cell_type": "code",
   "execution_count": 75,
   "metadata": {},
   "outputs": [
    {
     "data": {
      "image/png": "[encoded data removed]",
      "text/plain": [
       "<Figure size 576x432 with 1 Axes>"
      ]
     },
     "metadata": {},
     "output_type": "display_data"
    }
   ],
   "source": [
    "plot_summary(H, n_epochs, valid=True)"
   ]
  },
  {
   "cell_type": "markdown",
   "metadata": {},
   "source": [
    "**Result**\n",
    "In this scenario, a filter size of (3, 3) didn't improve the training process. In fact there is fall in accuracy percentage as well.\n",
    "So we will go ahead with a filter size of (5, 5)."
   ]
  },
  {
   "cell_type": "code",
   "execution_count": 87,
   "metadata": {},
   "outputs": [
    {
     "name": "stdout",
     "output_type": "stream",
     "text": [
      "Epoch 1/35\n",
      "375/375 [==============================] - 3s 7ms/step - loss: 0.1451 - accuracy: 0.9578 - val_loss: 0.2589 - val_accuracy: 0.9106\n",
      "Epoch 2/35\n",
      "375/375 [==============================] - 2s 6ms/step - loss: 0.0479 - accuracy: 0.9853 - val_loss: 0.0613 - val_accuracy: 0.9834\n",
      "Epoch 3/35\n",
      "375/375 [==============================] - 2s 6ms/step - loss: 0.0335 - accuracy: 0.9898 - val_loss: 0.0499 - val_accuracy: 0.9857\n",
      "Epoch 4/35\n",
      "375/375 [==============================] - 2s 6ms/step - loss: 0.0253 - accuracy: 0.9920 - val_loss: 0.0546 - val_accuracy: 0.9868\n",
      "Epoch 5/35\n",
      "375/375 [==============================] - 2s 6ms/step - loss: 0.0193 - accuracy: 0.9940 - val_loss: 0.0447 - val_accuracy: 0.9886\n",
      "Epoch 6/35\n",
      "375/375 [==============================] - 2s 6ms/step - loss: 0.0171 - accuracy: 0.9944 - val_loss: 0.0638 - val_accuracy: 0.9862\n",
      "Epoch 7/35\n",
      "375/375 [==============================] - 2s 6ms/step - loss: 0.0136 - accuracy: 0.9951 - val_loss: 0.0503 - val_accuracy: 0.9887\n",
      "Epoch 8/35\n",
      "375/375 [==============================] - 2s 6ms/step - loss: 0.0122 - accuracy: 0.9962 - val_loss: 0.0551 - val_accuracy: 0.9888\n",
      "Epoch 9/35\n",
      "375/375 [==============================] - 2s 7ms/step - loss: 0.0115 - accuracy: 0.9963 - val_loss: 0.0646 - val_accuracy: 0.9870\n",
      "Epoch 10/35\n",
      "375/375 [==============================] - 2s 6ms/step - loss: 0.0140 - accuracy: 0.9956 - val_loss: 0.0597 - val_accuracy: 0.9884\n",
      "Epoch 11/35\n",
      "375/375 [==============================] - 2s 6ms/step - loss: 0.0107 - accuracy: 0.9966 - val_loss: 0.0611 - val_accuracy: 0.9874\n",
      "Epoch 12/35\n",
      "375/375 [==============================] - 2s 6ms/step - loss: 0.0092 - accuracy: 0.9969 - val_loss: 0.0568 - val_accuracy: 0.9888\n",
      "Epoch 13/35\n",
      "375/375 [==============================] - 2s 6ms/step - loss: 0.0054 - accuracy: 0.9984 - val_loss: 0.0580 - val_accuracy: 0.9890\n",
      "Epoch 14/35\n",
      "375/375 [==============================] - 2s 6ms/step - loss: 0.0095 - accuracy: 0.9970 - val_loss: 0.0672 - val_accuracy: 0.9889\n",
      "Epoch 15/35\n",
      "375/375 [==============================] - 2s 6ms/step - loss: 0.0084 - accuracy: 0.9973 - val_loss: 0.0668 - val_accuracy: 0.9888\n",
      "Epoch 16/35\n",
      "375/375 [==============================] - 2s 6ms/step - loss: 0.0126 - accuracy: 0.9965 - val_loss: 0.0895 - val_accuracy: 0.9849\n",
      "Epoch 17/35\n",
      "375/375 [==============================] - 2s 6ms/step - loss: 0.0086 - accuracy: 0.9973 - val_loss: 0.0818 - val_accuracy: 0.9858\n",
      "Epoch 18/35\n",
      "375/375 [==============================] - 2s 6ms/step - loss: 0.0060 - accuracy: 0.9982 - val_loss: 0.0617 - val_accuracy: 0.9883\n",
      "Epoch 19/35\n",
      "375/375 [==============================] - 2s 6ms/step - loss: 0.0062 - accuracy: 0.9981 - val_loss: 0.0641 - val_accuracy: 0.9881\n",
      "Epoch 20/35\n",
      "375/375 [==============================] - 2s 6ms/step - loss: 0.0078 - accuracy: 0.9975 - val_loss: 0.0690 - val_accuracy: 0.9885\n",
      "Epoch 21/35\n",
      "375/375 [==============================] - 2s 6ms/step - loss: 0.0075 - accuracy: 0.9981 - val_loss: 0.0831 - val_accuracy: 0.9854\n",
      "Epoch 22/35\n",
      "375/375 [==============================] - 2s 6ms/step - loss: 0.0049 - accuracy: 0.9982 - val_loss: 0.0786 - val_accuracy: 0.9876\n",
      "Epoch 23/35\n",
      "375/375 [==============================] - 2s 6ms/step - loss: 0.0072 - accuracy: 0.9979 - val_loss: 0.0787 - val_accuracy: 0.9875\n",
      "Epoch 24/35\n",
      "375/375 [==============================] - 2s 6ms/step - loss: 0.0042 - accuracy: 0.9985 - val_loss: 0.0679 - val_accuracy: 0.9905\n",
      "Epoch 25/35\n",
      "375/375 [==============================] - 2s 6ms/step - loss: 0.0032 - accuracy: 0.9989 - val_loss: 0.0705 - val_accuracy: 0.9900\n",
      "Epoch 26/35\n",
      "375/375 [==============================] - 2s 6ms/step - loss: 0.0032 - accuracy: 0.9991 - val_loss: 0.0769 - val_accuracy: 0.9901\n",
      "Epoch 27/35\n",
      "375/375 [==============================] - 2s 6ms/step - loss: 0.0071 - accuracy: 0.9981 - val_loss: 0.0860 - val_accuracy: 0.9883\n",
      "Epoch 28/35\n",
      "375/375 [==============================] - 2s 6ms/step - loss: 0.0048 - accuracy: 0.9985 - val_loss: 0.0722 - val_accuracy: 0.9909\n",
      "Epoch 29/35\n",
      "375/375 [==============================] - 2s 6ms/step - loss: 0.0043 - accuracy: 0.9987 - val_loss: 0.0727 - val_accuracy: 0.9890\n",
      "Epoch 30/35\n",
      "375/375 [==============================] - 2s 6ms/step - loss: 0.0032 - accuracy: 0.9990 - val_loss: 0.0880 - val_accuracy: 0.9886\n",
      "Epoch 31/35\n",
      "375/375 [==============================] - 2s 6ms/step - loss: 0.0047 - accuracy: 0.9986 - val_loss: 0.0785 - val_accuracy: 0.9889\n",
      "Epoch 32/35\n",
      "375/375 [==============================] - 2s 6ms/step - loss: 0.0055 - accuracy: 0.9985 - val_loss: 0.0905 - val_accuracy: 0.9884\n",
      "Epoch 33/35\n",
      "375/375 [==============================] - 2s 6ms/step - loss: 0.0050 - accuracy: 0.9986 - val_loss: 0.0777 - val_accuracy: 0.9895\n",
      "Epoch 34/35\n",
      "375/375 [==============================] - 2s 6ms/step - loss: 0.0034 - accuracy: 0.9991 - val_loss: 0.0816 - val_accuracy: 0.9897\n",
      "Epoch 35/35\n",
      "375/375 [==============================] - 2s 6ms/step - loss: 0.0026 - accuracy: 0.9991 - val_loss: 0.0971 - val_accuracy: 0.9877\n"
     ]
    }
   ],
   "source": [
    "# to find out the accuracy score at epochs = 75\n",
    "n_epochs = 35\n",
    "filter_size = (5, 5)\n",
    "learning_rate = 0.001\n",
    "opt = Adam(learning_rate)\n",
    "activation='relu'\n",
    "# Task 4 model - baseline\n",
    "t4_model = Sequential()\n",
    "t4_model.add(Conv2D(32, filter_size, input_shape=(28, 28, 1), activation=activation))\n",
    "# adding a batch normalization layer before the second Conv2D\n",
    "t4_model.add(BatchNormalization(axis=-1))\n",
    "t4_model.add(Conv2D(32, filter_size, activation=activation))\n",
    "t4_model.add(BatchNormalization(axis=-1))\n",
    "t4_model.add(MaxPooling2D(pool_size=(2, 2)))\n",
    "t4_model.add(Dropout(0.25))\n",
    "\n",
    "t4_model.add(Flatten())\n",
    "t4_model.add(Dense(units=hidden_dense_units, activation=activation))\n",
    "t4_model.add(Flatten())\n",
    "t4_model.add(Dense(n_classes))\n",
    "t4_model.add(Activation(\"softmax\"))\n",
    "\n",
    "t4_model.compile(loss=loss, optimizer=opt,\n",
    "            metrics=metrics)\n",
    "H = t4_model.fit(trainX, trainY, validation_data=(valX, valY),\n",
    "                   epochs=n_epochs, batch_size=batch_size) "
   ]
  },
  {
   "cell_type": "code",
   "execution_count": 88,
   "metadata": {},
   "outputs": [
    {
     "name": "stdout",
     "output_type": "stream",
     "text": [
      "Model Accuracy 0.9897\n"
     ]
    }
   ],
   "source": [
    "# evaluate the network\n",
    "predictions = t4_model.predict(testX, batch_size=batch_size)\n",
    "acc_score = accuracy_score(testY.argmax(axis=1),\n",
    "                           predictions.argmax(axis=1))\n",
    "print(f\"Model Accuracy {acc_score}\")"
   ]
  },
  {
   "cell_type": "code",
   "execution_count": 89,
   "metadata": {},
   "outputs": [
    {
     "data": {
      "image/png": "[encoded data removed]",
      "text/plain": [
       "<Figure size 576x432 with 1 Axes>"
      ]
     },
     "metadata": {},
     "output_type": "display_data"
    }
   ],
   "source": [
    "plot_summary(H, n_epochs, valid=True)"
   ]
  },
  {
   "cell_type": "code",
   "execution_count": 90,
   "metadata": {},
   "outputs": [
    {
     "name": "stdout",
     "output_type": "stream",
     "text": [
      "              precision    recall  f1-score   support\n",
      "\n",
      "           0       0.99      0.99      0.99       980\n",
      "           1       0.99      1.00      0.99      1135\n",
      "           2       0.99      0.99      0.99      1032\n",
      "           3       0.99      1.00      0.99      1010\n",
      "           4       0.99      0.99      0.99       982\n",
      "           5       1.00      0.98      0.99       892\n",
      "           6       0.99      0.98      0.99       958\n",
      "           7       0.99      0.99      0.99      1028\n",
      "           8       0.99      0.99      0.99       974\n",
      "           9       0.98      0.98      0.98      1009\n",
      "\n",
      "    accuracy                           0.99     10000\n",
      "   macro avg       0.99      0.99      0.99     10000\n",
      "weighted avg       0.99      0.99      0.99     10000\n",
      "\n"
     ]
    }
   ],
   "source": [
    "cr = classification_report(testY.argmax(axis=1),\n",
    "                           predictions.argmax(axis=1),\n",
    "                           target_names=[str(x) for x in lb.classes_])\n",
    "print(cr)"
   ]
  },
  {
   "cell_type": "code",
   "execution_count": 91,
   "metadata": {},
   "outputs": [
    {
     "data": {
      "text/plain": [
       "Text(0.5, 1.0, 'Confusion Matrix')"
      ]
     },
     "execution_count": 91,
     "metadata": {},
     "output_type": "execute_result"
    },
    {
     "data": {
      "text/plain": [
       "<Figure size 1008x720 with 0 Axes>"
      ]
     },
     "metadata": {},
     "output_type": "display_data"
    },
    {
     "data": {
      "image/png": "[encoded data removed]",
      "text/plain": [
       "<Figure size 576x396 with 2 Axes>"
      ]
     },
     "metadata": {},
     "output_type": "display_data"
    }
   ],
   "source": [
    "cm = confusion_matrix(y_target=testY.argmax(axis=1),\n",
    "                      y_predicted=predictions.argmax(axis=1),\n",
    "                      binary=False)\n",
    "plt.figure(figsize=(14, 10))\n",
    "fig, ax = plt.subplots(1)\n",
    "p = sns.heatmap(cm, annot=True, cmap=\"YlGnBu\", fmt='.2f', square=True, ax=ax)\n",
    "plt.xlabel(\"True Labels\")\n",
    "plt.ylabel(\"Predicted Labels\")\n",
    "plt.title(\"Confusion Matrix\")"
   ]
  },
  {
   "cell_type": "code",
   "execution_count": 92,
   "metadata": {},
   "outputs": [
    {
     "data": {
      "image/png": "[encoded data removed]",
      "text/plain": [
       "<Figure size 864x864 with 25 Axes>"
      ]
     },
     "metadata": {},
     "output_type": "display_data"
    }
   ],
   "source": [
    "L = 5\n",
    "W = 5\n",
    "fig, axes = plt.subplots(L, W, figsize=(12, 12))\n",
    "axes = axes.ravel()\n",
    "\n",
    "for i in np.arange(0, L * W):\n",
    "    axes[i].imshow(testX[i].reshape(28, 28))\n",
    "    pred_class = class_types[predictions.argmax(axis=1)[i]]\n",
    "    true_class = class_types[testY.argmax(axis=1)[i]]\n",
    "    axes[i].set_title(\"Prediction Class = {}\\n True Class = {}\".format(pred_class, true_class))\n",
    "    axes[i].axis('off')\n",
    "\n",
    "plt.subplots_adjust(wspace=0.5)"
   ]
  },
  {
   "cell_type": "code",
   "execution_count": 93,
   "metadata": {},
   "outputs": [
    {
     "name": "stdout",
     "output_type": "stream",
     "text": [
      "(array([ 321,  340,  412,  582,  583,  625,  659,  674,  720,  740,  947,\n",
      "       1014, 1033, 1181, 1232, 1260, 1296, 1299, 1319, 1393, 1414, 1522,\n",
      "       1527, 1611, 1621, 1709, 1901, 2035, 2053, 2070, 2118, 2129, 2130,\n",
      "       2135, 2182, 2224, 2329, 2387, 2406, 2414, 2462, 2582, 2597, 2654,\n",
      "       2720, 2771, 2810, 2927, 2939, 3030, 3109, 3225, 3422, 3520, 3558,\n",
      "       3727, 3808, 3818, 3853, 3985, 4078, 4207, 4248, 4297, 4360, 4369,\n",
      "       4500, 4507, 4571, 4639, 4699, 4731, 4761, 4814, 4823, 4860, 5228,\n",
      "       5265, 5654, 5745, 5937, 5955, 5973, 5981, 5997, 6166, 6571, 6576,\n",
      "       6597, 6599, 6625, 8065, 8527, 9009, 9015, 9019, 9024, 9634, 9664,\n",
      "       9679, 9729, 9858, 9982], dtype=int64),)\n"
     ]
    },
    {
     "data": {
      "text/plain": [
       "(array([7, 3, 3, 2, 7, 4, 1, 3, 8, 9, 9, 5, 1, 1, 4, 1, 4, 3, 2, 3],\n",
       "       dtype=int64),\n",
       " array([2, 5, 5, 8, 2, 6, 2, 5, 5, 4, 8, 6, 8, 6, 9, 7, 6, 5, 8, 5],\n",
       "       dtype=int64))"
      ]
     },
     "execution_count": 93,
     "metadata": {},
     "output_type": "execute_result"
    }
   ],
   "source": [
    "pred_class = predictions.argmax(axis=1)\n",
    "true_class = testY.argmax(axis=1)\n",
    "\n",
    "incorrect_idx = np.where(pred_class != true_class)\n",
    "\n",
    "print(incorrect_idx)\n",
    "\n",
    "incorrect_samples = pred_class[pred_class != true_class][:20]\n",
    "true_samples_for_incorrect = true_class[pred_class != true_class][:20]\n",
    "\n",
    "incorrect_samples, true_samples_for_incorrect"
   ]
  },
  {
   "cell_type": "markdown",
   "metadata": {},
   "source": [
    "**Results and Final Comments on Task 4**\n",
    "The current model presents best result so far in terms of Training and Validation learning perspective and Accuracy results."
   ]
  },
  {
   "cell_type": "code",
   "execution_count": 94,
   "metadata": {},
   "outputs": [
    {
     "name": "stdout",
     "output_type": "stream",
     "text": [
      "Model: \"sequential_18\"\n",
      "_________________________________________________________________\n",
      "Layer (type)                 Output Shape              Param #   \n",
      "=================================================================\n",
      "conv2d_32 (Conv2D)           (None, 24, 24, 32)        832       \n",
      "_________________________________________________________________\n",
      "batch_normalization_9 (Batch (None, 24, 24, 32)        128       \n",
      "_________________________________________________________________\n",
      "conv2d_33 (Conv2D)           (None, 20, 20, 32)        25632     \n",
      "_________________________________________________________________\n",
      "batch_normalization_10 (Batc (None, 20, 20, 32)        128       \n",
      "_________________________________________________________________\n",
      "max_pooling2d_3 (MaxPooling2 (None, 10, 10, 32)        0         \n",
      "_________________________________________________________________\n",
      "dropout_3 (Dropout)          (None, 10, 10, 32)        0         \n",
      "_________________________________________________________________\n",
      "flatten_28 (Flatten)         (None, 3200)              0         \n",
      "_________________________________________________________________\n",
      "dense_28 (Dense)             (None, 128)               409728    \n",
      "_________________________________________________________________\n",
      "flatten_29 (Flatten)         (None, 128)               0         \n",
      "_________________________________________________________________\n",
      "dense_29 (Dense)             (None, 10)                1290      \n",
      "_________________________________________________________________\n",
      "activation_14 (Activation)   (None, 10)                0         \n",
      "=================================================================\n",
      "Total params: 437,738\n",
      "Trainable params: 437,610\n",
      "Non-trainable params: 128\n",
      "_________________________________________________________________\n"
     ]
    }
   ],
   "source": [
    "# Final model\n",
    "t4_model.summary()"
   ]
  },
  {
   "cell_type": "markdown",
   "metadata": {},
   "source": [
    "**Tuned Hyperparameters**\n",
    "- n_epochs = 35\n",
    "- filter_size = (5, 5)\n",
    "- learning_rate = 0.001\n",
    "- opt = Adam(learning_rate)\n",
    "- activation='relu'"
   ]
  },
  {
   "cell_type": "code",
   "execution_count": null,
   "metadata": {},
   "outputs": [],
   "source": []
  }
 ],
 "metadata": {
  "kernelspec": {
   "display_name": "ml",
   "language": "python",
   "name": "ml"
  },
  "language_info": {
   "codemirror_mode": {
    "name": "ipython",
    "version": 3
   },
   "file_extension": ".py",
   "mimetype": "text/x-python",
   "name": "python",
   "nbconvert_exporter": "python",
   "pygments_lexer": "ipython3",
   "version": "3.7.8"
  }
 },
 "nbformat": 4,
 "nbformat_minor": 4
}
