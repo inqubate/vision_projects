{
 "cells": [
  {
   "cell_type": "markdown",
   "metadata": {},
   "source": [
    "## MNIST Simple Neural Network"
   ]
  },
  {
   "cell_type": "code",
   "execution_count": 1,
   "metadata": {},
   "outputs": [],
   "source": [
    "import matplotlib.pyplot as plt\n",
    "import numpy as np\n",
    "import seaborn as sns\n",
    "from mlxtend.evaluate import confusion_matrix\n",
    "from sklearn.metrics import classification_report\n",
    "from sklearn.model_selection import train_test_split\n",
    "from sklearn.preprocessing import LabelBinarizer\n",
    "from tensorflow.keras.datasets import mnist\n",
    "from tensorflow.keras.optimizers import SGD"
   ]
  },
  {
   "cell_type": "code",
   "execution_count": 2,
   "metadata": {},
   "outputs": [],
   "source": [
    "# import the necessary packages\n",
    "from tensorflow.keras.layers import Dense\n",
    "from tensorflow.keras.models import Sequential\n",
    "\n",
    "\n",
    "class Simplenn:\n",
    "    @staticmethod\n",
    "    def build(input_shape, n_classes, n_layers, activation_type):\n",
    "        # define the architecture using Keras\n",
    "        model = Sequential()\n",
    "        first = True\n",
    "        for i in range(len(n_layers)):\n",
    "            if first:\n",
    "                model.add(Dense(n_layers[i], input_shape=input_shape, activation=activation_type['input']))\n",
    "                first = False\n",
    "            else:\n",
    "                model.add(Dense(n_layers[i], activation=activation_type['hidden']))\n",
    "\n",
    "        model.add(Dense(n_classes, activation=activation_type['output']))\n",
    "\n",
    "        # return the constructed network architecture\n",
    "        return model\n"
   ]
  },
  {
   "cell_type": "code",
   "execution_count": 5,
   "metadata": {},
   "outputs": [
    {
     "name": "stdout",
     "output_type": "stream",
     "text": [
      "[INFO] Reading and preprocessing MNIST...\n"
     ]
    }
   ],
   "source": [
    "print(\"[INFO] Reading and preprocessing MNIST...\")\n",
    "((train_images, train_labels), (testX, testY)) = mnist.load_data()\n",
    "\n",
    "# scale data to the range of [0, 1]\n",
    "train_images = train_images.astype(\"float32\") / 255.0\n",
    "testX = testX.astype(\"float32\") / 255.0\n",
    "\n",
    "# sample out validation data from trainX\n",
    "(trainX, valX, trainY, valY) = train_test_split(train_images, train_labels,\n",
    "                                                test_size=0.2, stratify=train_labels, random_state=42)"
   ]
  },
  {
   "cell_type": "code",
   "execution_count": 6,
   "metadata": {},
   "outputs": [
    {
     "name": "stdout",
     "output_type": "stream",
     "text": [
      "[INFO] : Shapes of the raw data \n",
      "=====> Train Data             (48000, 28, 28) (48000,)\n",
      "=====> Validation Data        (12000, 28, 28) (12000,)\n",
      "=====> Test Data              (10000, 28, 28) (10000,)\n"
     ]
    }
   ],
   "source": [
    "print(\"[INFO] : Shapes of the raw data \")\n",
    "print(\"=====> Train Data            \", trainX.shape, trainY.shape)\n",
    "print(\"=====> Validation Data       \", valX.shape, valY.shape)\n",
    "print(\"=====> Test Data             \", testX.shape, testY.shape)"
   ]
  },
  {
   "cell_type": "code",
   "execution_count": 7,
   "metadata": {},
   "outputs": [],
   "source": [
    "# if we are using a simple neural network then we need to\n",
    "# flatten the data to 28 * 28 * 1\n",
    "# for the convolutional neural network RGB normalization is enough\n",
    "trainX = trainX.reshape((trainX.shape[0], 28 * 28 * 1))\n",
    "valX = valX.reshape((valX.shape[0], 28 * 28 * 1))\n",
    "testX = testX.reshape((testX.shape[0], 28 * 28 * 1))"
   ]
  },
  {
   "cell_type": "code",
   "execution_count": 8,
   "metadata": {},
   "outputs": [
    {
     "name": "stdout",
     "output_type": "stream",
     "text": [
      "[INFO] : Shapes of the data after reshaping\n",
      "=====> Train Data             (48000, 784) (48000,)\n",
      "=====> Validation Data        (12000, 784) (12000,)\n",
      "=====> Test Data              (10000, 784) (10000,)\n"
     ]
    }
   ],
   "source": [
    "print(\"[INFO] : Shapes of the data after reshaping\")\n",
    "print(\"=====> Train Data            \", trainX.shape, trainY.shape)\n",
    "print(\"=====> Validation Data       \", valX.shape, valY.shape)\n",
    "print(\"=====> Test Data             \", testX.shape, testY.shape)"
   ]
  },
  {
   "cell_type": "code",
   "execution_count": 9,
   "metadata": {},
   "outputs": [],
   "source": [
    "# convert the labels from integers to vectors\n",
    "lb = LabelBinarizer()\n",
    "trainY = lb.fit_transform(trainY)\n",
    "valY = lb.transform(valY)\n",
    "testY = lb.transform(testY)"
   ]
  },
  {
   "cell_type": "code",
   "execution_count": 10,
   "metadata": {},
   "outputs": [
    {
     "name": "stdout",
     "output_type": "stream",
     "text": [
      "[INFO] : Shapes of the data after binarizer\n",
      "=====> Train Data             (48000, 784) (48000, 10)\n",
      "=====> Validation Data        (12000, 784) (12000, 10)\n",
      "=====> Test Data              (10000, 784) (10000, 10)\n"
     ]
    }
   ],
   "source": [
    "print(\"[INFO] : Shapes of the data after binarizer\")\n",
    "print(\"=====> Train Data            \", trainX.shape, trainY.shape)\n",
    "print(\"=====> Validation Data       \", valX.shape, valY.shape)\n",
    "print(\"=====> Test Data             \", testX.shape, testY.shape)"
   ]
  },
  {
   "cell_type": "code",
   "execution_count": 17,
   "metadata": {},
   "outputs": [
    {
     "name": "stdout",
     "output_type": "stream",
     "text": [
      "(784,)\n"
     ]
    }
   ],
   "source": [
    "input_shape = (trainX.shape[1], )\n",
    "print(input_shape)\n",
    "n_classes = 10\n",
    "n_layers = [784, 256, 128, 64, 32]\n",
    "activation_type = {\"input\": \"relu\", \"hidden\": \"relu\", \"output\": \"softmax\"}\n",
    "learning_rate = 0.01\n",
    "n_epochs = 100"
   ]
  },
  {
   "cell_type": "code",
   "execution_count": 18,
   "metadata": {},
   "outputs": [
    {
     "name": "stdout",
     "output_type": "stream",
     "text": [
      "[INFO] building and training network...\n",
      "Epoch 1/100\n",
      "375/375 [==============================] - 1s 2ms/step - loss: 1.5450 - accuracy: 0.5509 - val_loss: 0.7027 - val_accuracy: 0.8107\n",
      "Epoch 2/100\n",
      "375/375 [==============================] - 1s 2ms/step - loss: 0.5184 - accuracy: 0.8550 - val_loss: 0.4047 - val_accuracy: 0.8837\n",
      "Epoch 3/100\n",
      "375/375 [==============================] - 1s 2ms/step - loss: 0.3560 - accuracy: 0.9003 - val_loss: 0.3171 - val_accuracy: 0.9087\n",
      "Epoch 4/100\n",
      "375/375 [==============================] - 1s 2ms/step - loss: 0.2890 - accuracy: 0.9190 - val_loss: 0.2724 - val_accuracy: 0.9215\n",
      "Epoch 5/100\n",
      "375/375 [==============================] - 1s 2ms/step - loss: 0.2479 - accuracy: 0.9309 - val_loss: 0.2403 - val_accuracy: 0.9315\n",
      "Epoch 6/100\n",
      "375/375 [==============================] - 1s 2ms/step - loss: 0.2174 - accuracy: 0.9381 - val_loss: 0.2150 - val_accuracy: 0.9383\n",
      "Epoch 7/100\n",
      "375/375 [==============================] - 1s 2ms/step - loss: 0.1941 - accuracy: 0.9442 - val_loss: 0.1930 - val_accuracy: 0.9449\n",
      "Epoch 8/100\n",
      "375/375 [==============================] - 1s 2ms/step - loss: 0.1747 - accuracy: 0.9506 - val_loss: 0.1802 - val_accuracy: 0.9506\n",
      "Epoch 9/100\n",
      "375/375 [==============================] - 1s 2ms/step - loss: 0.1592 - accuracy: 0.9538 - val_loss: 0.1761 - val_accuracy: 0.9500\n",
      "Epoch 10/100\n",
      "375/375 [==============================] - 1s 2ms/step - loss: 0.1465 - accuracy: 0.9581 - val_loss: 0.1784 - val_accuracy: 0.9486\n",
      "Epoch 11/100\n",
      "375/375 [==============================] - 1s 2ms/step - loss: 0.1348 - accuracy: 0.9614 - val_loss: 0.1570 - val_accuracy: 0.9563\n",
      "Epoch 12/100\n",
      "375/375 [==============================] - 1s 2ms/step - loss: 0.1252 - accuracy: 0.9642 - val_loss: 0.1499 - val_accuracy: 0.9579\n",
      "Epoch 13/100\n",
      "375/375 [==============================] - 1s 2ms/step - loss: 0.1155 - accuracy: 0.9670 - val_loss: 0.1423 - val_accuracy: 0.9592\n",
      "Epoch 14/100\n",
      "375/375 [==============================] - 1s 2ms/step - loss: 0.1082 - accuracy: 0.9686 - val_loss: 0.1411 - val_accuracy: 0.9613\n",
      "Epoch 15/100\n",
      "375/375 [==============================] - 1s 2ms/step - loss: 0.1008 - accuracy: 0.9712 - val_loss: 0.1339 - val_accuracy: 0.9623\n",
      "Epoch 16/100\n",
      "375/375 [==============================] - 1s 2ms/step - loss: 0.0937 - accuracy: 0.9733 - val_loss: 0.1311 - val_accuracy: 0.9637\n",
      "Epoch 17/100\n",
      "375/375 [==============================] - 1s 2ms/step - loss: 0.0878 - accuracy: 0.9749 - val_loss: 0.1318 - val_accuracy: 0.9621\n",
      "Epoch 18/100\n",
      "375/375 [==============================] - 1s 2ms/step - loss: 0.0827 - accuracy: 0.9758 - val_loss: 0.1248 - val_accuracy: 0.9656\n",
      "Epoch 19/100\n",
      "375/375 [==============================] - 1s 2ms/step - loss: 0.0771 - accuracy: 0.9781 - val_loss: 0.1200 - val_accuracy: 0.9659\n",
      "Epoch 20/100\n",
      "375/375 [==============================] - 1s 2ms/step - loss: 0.0725 - accuracy: 0.9796 - val_loss: 0.1196 - val_accuracy: 0.9667\n",
      "Epoch 21/100\n",
      "375/375 [==============================] - 1s 2ms/step - loss: 0.0682 - accuracy: 0.9805 - val_loss: 0.1161 - val_accuracy: 0.9684\n",
      "Epoch 22/100\n",
      "375/375 [==============================] - 1s 2ms/step - loss: 0.0629 - accuracy: 0.9823 - val_loss: 0.1147 - val_accuracy: 0.9681\n",
      "Epoch 23/100\n",
      "375/375 [==============================] - 1s 2ms/step - loss: 0.0592 - accuracy: 0.9840 - val_loss: 0.1116 - val_accuracy: 0.9690\n",
      "Epoch 24/100\n",
      "375/375 [==============================] - 1s 2ms/step - loss: 0.0554 - accuracy: 0.9853 - val_loss: 0.1151 - val_accuracy: 0.9688\n",
      "Epoch 25/100\n",
      "375/375 [==============================] - 1s 2ms/step - loss: 0.0521 - accuracy: 0.9859 - val_loss: 0.1127 - val_accuracy: 0.9684\n",
      "Epoch 26/100\n",
      "375/375 [==============================] - 1s 2ms/step - loss: 0.0491 - accuracy: 0.9866 - val_loss: 0.1078 - val_accuracy: 0.9693\n",
      "Epoch 27/100\n",
      "375/375 [==============================] - 1s 2ms/step - loss: 0.0452 - accuracy: 0.9881 - val_loss: 0.1075 - val_accuracy: 0.9701\n",
      "Epoch 28/100\n",
      "375/375 [==============================] - 1s 2ms/step - loss: 0.0424 - accuracy: 0.9891 - val_loss: 0.1070 - val_accuracy: 0.9695\n",
      "Epoch 29/100\n",
      "375/375 [==============================] - 1s 2ms/step - loss: 0.0399 - accuracy: 0.9899 - val_loss: 0.1042 - val_accuracy: 0.9715\n",
      "Epoch 30/100\n",
      "375/375 [==============================] - 1s 2ms/step - loss: 0.0374 - accuracy: 0.9901 - val_loss: 0.1079 - val_accuracy: 0.9706\n",
      "Epoch 31/100\n",
      "375/375 [==============================] - 1s 2ms/step - loss: 0.0348 - accuracy: 0.9914 - val_loss: 0.1132 - val_accuracy: 0.9693\n",
      "Epoch 32/100\n",
      "375/375 [==============================] - 1s 2ms/step - loss: 0.0322 - accuracy: 0.9921 - val_loss: 0.1051 - val_accuracy: 0.9718\n",
      "Epoch 33/100\n",
      "375/375 [==============================] - 1s 2ms/step - loss: 0.0302 - accuracy: 0.9927 - val_loss: 0.1038 - val_accuracy: 0.9726\n",
      "Epoch 34/100\n",
      "375/375 [==============================] - 1s 2ms/step - loss: 0.0283 - accuracy: 0.9937 - val_loss: 0.1034 - val_accuracy: 0.9722\n",
      "Epoch 35/100\n",
      "375/375 [==============================] - 1s 2ms/step - loss: 0.0264 - accuracy: 0.9939 - val_loss: 0.1045 - val_accuracy: 0.9718\n",
      "Epoch 36/100\n",
      "375/375 [==============================] - 1s 2ms/step - loss: 0.0241 - accuracy: 0.9952 - val_loss: 0.1036 - val_accuracy: 0.9722\n",
      "Epoch 37/100\n",
      "375/375 [==============================] - 1s 2ms/step - loss: 0.0229 - accuracy: 0.9950 - val_loss: 0.1032 - val_accuracy: 0.9720\n",
      "Epoch 38/100\n",
      "375/375 [==============================] - 1s 2ms/step - loss: 0.0213 - accuracy: 0.9955 - val_loss: 0.1047 - val_accuracy: 0.9728\n",
      "Epoch 39/100\n",
      "375/375 [==============================] - 1s 2ms/step - loss: 0.0195 - accuracy: 0.9959 - val_loss: 0.1095 - val_accuracy: 0.9705\n",
      "Epoch 40/100\n",
      "375/375 [==============================] - 1s 2ms/step - loss: 0.0185 - accuracy: 0.9966 - val_loss: 0.1039 - val_accuracy: 0.9723\n",
      "Epoch 41/100\n",
      "375/375 [==============================] - 1s 2ms/step - loss: 0.0174 - accuracy: 0.9968 - val_loss: 0.1064 - val_accuracy: 0.9726\n",
      "Epoch 42/100\n",
      "375/375 [==============================] - 1s 2ms/step - loss: 0.0160 - accuracy: 0.9974 - val_loss: 0.1105 - val_accuracy: 0.9713\n",
      "Epoch 43/100\n",
      "375/375 [==============================] - 1s 2ms/step - loss: 0.0150 - accuracy: 0.9976 - val_loss: 0.1049 - val_accuracy: 0.9728\n",
      "Epoch 44/100\n",
      "375/375 [==============================] - 1s 2ms/step - loss: 0.0138 - accuracy: 0.9981 - val_loss: 0.1056 - val_accuracy: 0.9728\n",
      "Epoch 45/100\n",
      "375/375 [==============================] - 1s 2ms/step - loss: 0.0128 - accuracy: 0.9984 - val_loss: 0.1072 - val_accuracy: 0.9728\n",
      "Epoch 46/100\n",
      "375/375 [==============================] - 1s 2ms/step - loss: 0.0121 - accuracy: 0.9983 - val_loss: 0.1060 - val_accuracy: 0.9728\n",
      "Epoch 47/100\n",
      "375/375 [==============================] - 1s 2ms/step - loss: 0.0111 - accuracy: 0.9986 - val_loss: 0.1071 - val_accuracy: 0.9725\n",
      "Epoch 48/100\n",
      "375/375 [==============================] - 1s 2ms/step - loss: 0.0102 - accuracy: 0.9989 - val_loss: 0.1079 - val_accuracy: 0.9735\n",
      "Epoch 49/100\n",
      "375/375 [==============================] - 1s 2ms/step - loss: 0.0097 - accuracy: 0.9989 - val_loss: 0.1112 - val_accuracy: 0.9708\n",
      "Epoch 50/100\n",
      "375/375 [==============================] - 1s 2ms/step - loss: 0.0093 - accuracy: 0.9992 - val_loss: 0.1121 - val_accuracy: 0.9724\n",
      "Epoch 51/100\n",
      "375/375 [==============================] - 1s 2ms/step - loss: 0.0085 - accuracy: 0.9992 - val_loss: 0.1108 - val_accuracy: 0.9726\n",
      "Epoch 52/100\n",
      "375/375 [==============================] - 1s 2ms/step - loss: 0.0079 - accuracy: 0.9991 - val_loss: 0.1127 - val_accuracy: 0.9732\n",
      "Epoch 53/100\n",
      "375/375 [==============================] - 1s 2ms/step - loss: 0.0075 - accuracy: 0.9994 - val_loss: 0.1105 - val_accuracy: 0.9728\n",
      "Epoch 54/100\n",
      "375/375 [==============================] - 1s 2ms/step - loss: 0.0070 - accuracy: 0.9993 - val_loss: 0.1118 - val_accuracy: 0.9729\n",
      "Epoch 55/100\n",
      "375/375 [==============================] - 1s 2ms/step - loss: 0.0066 - accuracy: 0.9995 - val_loss: 0.1130 - val_accuracy: 0.9728\n",
      "Epoch 56/100\n",
      "375/375 [==============================] - 1s 2ms/step - loss: 0.0061 - accuracy: 0.9995 - val_loss: 0.1124 - val_accuracy: 0.9722\n",
      "Epoch 57/100\n",
      "375/375 [==============================] - 1s 2ms/step - loss: 0.0057 - accuracy: 0.9997 - val_loss: 0.1128 - val_accuracy: 0.9735\n"
     ]
    },
    {
     "name": "stdout",
     "output_type": "stream",
     "text": [
      "Epoch 58/100\n",
      "375/375 [==============================] - 1s 2ms/step - loss: 0.0054 - accuracy: 0.9997 - val_loss: 0.1150 - val_accuracy: 0.9728\n",
      "Epoch 59/100\n",
      "375/375 [==============================] - 1s 2ms/step - loss: 0.0051 - accuracy: 0.9998 - val_loss: 0.1153 - val_accuracy: 0.9729\n",
      "Epoch 60/100\n",
      "375/375 [==============================] - 1s 2ms/step - loss: 0.0049 - accuracy: 0.9998 - val_loss: 0.1175 - val_accuracy: 0.9730\n",
      "Epoch 61/100\n",
      "375/375 [==============================] - 1s 2ms/step - loss: 0.0046 - accuracy: 0.9998 - val_loss: 0.1168 - val_accuracy: 0.9726\n",
      "Epoch 62/100\n",
      "375/375 [==============================] - 1s 2ms/step - loss: 0.0042 - accuracy: 0.9999 - val_loss: 0.1167 - val_accuracy: 0.9738\n",
      "Epoch 63/100\n",
      "375/375 [==============================] - 1s 2ms/step - loss: 0.0041 - accuracy: 0.9999 - val_loss: 0.1184 - val_accuracy: 0.9727\n",
      "Epoch 64/100\n",
      "375/375 [==============================] - 1s 2ms/step - loss: 0.0038 - accuracy: 0.9999 - val_loss: 0.1182 - val_accuracy: 0.9729\n",
      "Epoch 65/100\n",
      "375/375 [==============================] - 1s 2ms/step - loss: 0.0036 - accuracy: 0.9999 - val_loss: 0.1175 - val_accuracy: 0.9732\n",
      "Epoch 66/100\n",
      "375/375 [==============================] - 1s 2ms/step - loss: 0.0035 - accuracy: 0.9999 - val_loss: 0.1185 - val_accuracy: 0.9728\n",
      "Epoch 67/100\n",
      "375/375 [==============================] - 1s 2ms/step - loss: 0.0033 - accuracy: 0.9999 - val_loss: 0.1191 - val_accuracy: 0.9732\n",
      "Epoch 68/100\n",
      "375/375 [==============================] - 1s 2ms/step - loss: 0.0032 - accuracy: 0.9999 - val_loss: 0.1216 - val_accuracy: 0.9734\n",
      "Epoch 69/100\n",
      "375/375 [==============================] - 1s 2ms/step - loss: 0.0030 - accuracy: 0.9999 - val_loss: 0.1209 - val_accuracy: 0.9731\n",
      "Epoch 70/100\n",
      "375/375 [==============================] - 1s 2ms/step - loss: 0.0028 - accuracy: 1.0000 - val_loss: 0.1215 - val_accuracy: 0.9736\n",
      "Epoch 71/100\n",
      "375/375 [==============================] - 1s 2ms/step - loss: 0.0027 - accuracy: 1.0000 - val_loss: 0.1205 - val_accuracy: 0.9729\n",
      "Epoch 72/100\n",
      "375/375 [==============================] - 1s 2ms/step - loss: 0.0026 - accuracy: 1.0000 - val_loss: 0.1222 - val_accuracy: 0.9737\n",
      "Epoch 73/100\n",
      "375/375 [==============================] - 1s 2ms/step - loss: 0.0025 - accuracy: 1.0000 - val_loss: 0.1216 - val_accuracy: 0.9735\n",
      "Epoch 74/100\n",
      "375/375 [==============================] - 1s 2ms/step - loss: 0.0024 - accuracy: 1.0000 - val_loss: 0.1221 - val_accuracy: 0.9733\n",
      "Epoch 75/100\n",
      "375/375 [==============================] - 1s 2ms/step - loss: 0.0023 - accuracy: 1.0000 - val_loss: 0.1226 - val_accuracy: 0.9731\n",
      "Epoch 76/100\n",
      "375/375 [==============================] - 1s 2ms/step - loss: 0.0022 - accuracy: 1.0000 - val_loss: 0.1236 - val_accuracy: 0.9730\n",
      "Epoch 77/100\n",
      "375/375 [==============================] - 1s 2ms/step - loss: 0.0021 - accuracy: 1.0000 - val_loss: 0.1240 - val_accuracy: 0.9732\n",
      "Epoch 78/100\n",
      "375/375 [==============================] - 1s 2ms/step - loss: 0.0021 - accuracy: 1.0000 - val_loss: 0.1246 - val_accuracy: 0.9733\n",
      "Epoch 79/100\n",
      "375/375 [==============================] - 1s 2ms/step - loss: 0.0020 - accuracy: 1.0000 - val_loss: 0.1249 - val_accuracy: 0.9729\n",
      "Epoch 80/100\n",
      "375/375 [==============================] - 1s 2ms/step - loss: 0.0019 - accuracy: 1.0000 - val_loss: 0.1251 - val_accuracy: 0.9733\n",
      "Epoch 81/100\n",
      "375/375 [==============================] - 1s 2ms/step - loss: 0.0019 - accuracy: 1.0000 - val_loss: 0.1252 - val_accuracy: 0.9732\n",
      "Epoch 82/100\n",
      "375/375 [==============================] - 1s 2ms/step - loss: 0.0018 - accuracy: 1.0000 - val_loss: 0.1259 - val_accuracy: 0.9735\n",
      "Epoch 83/100\n",
      "375/375 [==============================] - 1s 2ms/step - loss: 0.0018 - accuracy: 1.0000 - val_loss: 0.1260 - val_accuracy: 0.9732\n",
      "Epoch 84/100\n",
      "375/375 [==============================] - 1s 2ms/step - loss: 0.0017 - accuracy: 1.0000 - val_loss: 0.1265 - val_accuracy: 0.9736\n",
      "Epoch 85/100\n",
      "375/375 [==============================] - 1s 2ms/step - loss: 0.0017 - accuracy: 1.0000 - val_loss: 0.1275 - val_accuracy: 0.9729\n",
      "Epoch 86/100\n",
      "375/375 [==============================] - 1s 2ms/step - loss: 0.0016 - accuracy: 1.0000 - val_loss: 0.1272 - val_accuracy: 0.9734\n",
      "Epoch 87/100\n",
      "375/375 [==============================] - 1s 2ms/step - loss: 0.0016 - accuracy: 1.0000 - val_loss: 0.1281 - val_accuracy: 0.9733\n",
      "Epoch 88/100\n",
      "375/375 [==============================] - 1s 2ms/step - loss: 0.0015 - accuracy: 1.0000 - val_loss: 0.1281 - val_accuracy: 0.9732\n",
      "Epoch 89/100\n",
      "375/375 [==============================] - 1s 2ms/step - loss: 0.0015 - accuracy: 1.0000 - val_loss: 0.1283 - val_accuracy: 0.9732\n",
      "Epoch 90/100\n",
      "375/375 [==============================] - 1s 2ms/step - loss: 0.0014 - accuracy: 1.0000 - val_loss: 0.1288 - val_accuracy: 0.9732\n",
      "Epoch 91/100\n",
      "375/375 [==============================] - 1s 2ms/step - loss: 0.0014 - accuracy: 1.0000 - val_loss: 0.1297 - val_accuracy: 0.9734\n",
      "Epoch 92/100\n",
      "375/375 [==============================] - 1s 2ms/step - loss: 0.0013 - accuracy: 1.0000 - val_loss: 0.1297 - val_accuracy: 0.9730\n",
      "Epoch 93/100\n",
      "375/375 [==============================] - 1s 2ms/step - loss: 0.0013 - accuracy: 1.0000 - val_loss: 0.1302 - val_accuracy: 0.9733\n",
      "Epoch 94/100\n",
      "375/375 [==============================] - 1s 2ms/step - loss: 0.0013 - accuracy: 1.0000 - val_loss: 0.1308 - val_accuracy: 0.9733\n",
      "Epoch 95/100\n",
      "375/375 [==============================] - 1s 2ms/step - loss: 0.0013 - accuracy: 1.0000 - val_loss: 0.1308 - val_accuracy: 0.9736\n",
      "Epoch 96/100\n",
      "375/375 [==============================] - 1s 2ms/step - loss: 0.0012 - accuracy: 1.0000 - val_loss: 0.1306 - val_accuracy: 0.9731\n",
      "Epoch 97/100\n",
      "375/375 [==============================] - 1s 2ms/step - loss: 0.0012 - accuracy: 1.0000 - val_loss: 0.1314 - val_accuracy: 0.9732\n",
      "Epoch 98/100\n",
      "375/375 [==============================] - 1s 2ms/step - loss: 0.0012 - accuracy: 1.0000 - val_loss: 0.1314 - val_accuracy: 0.9735\n",
      "Epoch 99/100\n",
      "375/375 [==============================] - 1s 2ms/step - loss: 0.0011 - accuracy: 1.0000 - val_loss: 0.1322 - val_accuracy: 0.9732\n",
      "Epoch 100/100\n",
      "375/375 [==============================] - 1s 2ms/step - loss: 0.0011 - accuracy: 1.0000 - val_loss: 0.1322 - val_accuracy: 0.9736\n"
     ]
    }
   ],
   "source": [
    "print(\"[INFO] building and training network...\")\n",
    "\n",
    "opt = SGD(learning_rate)\n",
    "model = Simplenn.build(input_shape, n_classes, n_layers, activation_type)\n",
    "model.compile(loss=\"categorical_crossentropy\", optimizer=opt,\n",
    "              metrics=[\"accuracy\"])\n",
    "H = model.fit(trainX, trainY, validation_data=(valX, valY),\n",
    "              epochs=n_epochs, batch_size=128)\n"
   ]
  },
  {
   "cell_type": "code",
   "execution_count": 19,
   "metadata": {},
   "outputs": [
    {
     "name": "stdout",
     "output_type": "stream",
     "text": [
      "Model: \"sequential_1\"\n",
      "_________________________________________________________________\n",
      "Layer (type)                 Output Shape              Param #   \n",
      "=================================================================\n",
      "dense_6 (Dense)              (None, 784)               615440    \n",
      "_________________________________________________________________\n",
      "dense_7 (Dense)              (None, 256)               200960    \n",
      "_________________________________________________________________\n",
      "dense_8 (Dense)              (None, 128)               32896     \n",
      "_________________________________________________________________\n",
      "dense_9 (Dense)              (None, 64)                8256      \n",
      "_________________________________________________________________\n",
      "dense_10 (Dense)             (None, 32)                2080      \n",
      "_________________________________________________________________\n",
      "dense_11 (Dense)             (None, 10)                330       \n",
      "=================================================================\n",
      "Total params: 859,962\n",
      "Trainable params: 859,962\n",
      "Non-trainable params: 0\n",
      "_________________________________________________________________\n"
     ]
    }
   ],
   "source": [
    "model.summary()"
   ]
  },
  {
   "cell_type": "code",
   "execution_count": 20,
   "metadata": {},
   "outputs": [
    {
     "data": {
      "text/plain": [
       "<matplotlib.legend.Legend at 0x207b2772a48>"
      ]
     },
     "execution_count": 20,
     "metadata": {},
     "output_type": "execute_result"
    },
    {
     "data": {
      "image/png": "[encoded data removed]",
      "text/plain": [
       "<Figure size 576x432 with 1 Axes>"
      ]
     },
     "metadata": {},
     "output_type": "display_data"
    }
   ],
   "source": [
    "# plot the training loss and accuracy\n",
    "plt.style.use(\"seaborn\")\n",
    "plt.figure(figsize=(8, 6))\n",
    "plt.plot(np.arange(0, n_epochs), H.history[\"loss\"], label=\"train_loss\")\n",
    "plt.plot(np.arange(0, n_epochs), H.history[\"val_loss\"], label=\"val_loss\")\n",
    "plt.plot(np.arange(0, n_epochs), H.history[\"accuracy\"], label=\"train_acc\")\n",
    "plt.plot(np.arange(0, n_epochs), H.history[\"val_accuracy\"], label=\"val_acc\")\n",
    "plt.title(\"Training Loss and Accuracy\")\n",
    "plt.xlabel(\"Epoch #\")\n",
    "plt.ylabel(\"Loss/Accuracy\")\n",
    "plt.legend()\n"
   ]
  },
  {
   "cell_type": "code",
   "execution_count": 21,
   "metadata": {},
   "outputs": [
    {
     "name": "stdout",
     "output_type": "stream",
     "text": [
      "[INFO] evaluating network...\n",
      "              precision    recall  f1-score   support\n",
      "\n",
      "           0       0.98      0.99      0.99       980\n",
      "           1       0.99      0.99      0.99      1135\n",
      "           2       0.98      0.97      0.98      1032\n",
      "           3       0.97      0.98      0.97      1010\n",
      "           4       0.98      0.98      0.98       982\n",
      "           5       0.98      0.98      0.98       892\n",
      "           6       0.98      0.97      0.98       958\n",
      "           7       0.98      0.97      0.97      1028\n",
      "           8       0.96      0.97      0.97       974\n",
      "           9       0.97      0.97      0.97      1009\n",
      "\n",
      "    accuracy                           0.98     10000\n",
      "   macro avg       0.98      0.98      0.98     10000\n",
      "weighted avg       0.98      0.98      0.98     10000\n",
      "\n"
     ]
    }
   ],
   "source": [
    "# evaluate the network\n",
    "print(\"[INFO] evaluating network...\")\n",
    "predictions = model.predict(testX, batch_size=128)\n",
    "\n",
    "cr = classification_report(testY.argmax(axis=1),\n",
    "                           predictions.argmax(axis=1),\n",
    "                           target_names=[str(x) for x in lb.classes_])\n",
    "print(cr)\n"
   ]
  },
  {
   "cell_type": "code",
   "execution_count": 22,
   "metadata": {},
   "outputs": [
    {
     "data": {
      "text/plain": [
       "Text(0.5, 1.0, 'Confusion Matrix')"
      ]
     },
     "execution_count": 22,
     "metadata": {},
     "output_type": "execute_result"
    },
    {
     "data": {
      "text/plain": [
       "<Figure size 1008x720 with 0 Axes>"
      ]
     },
     "metadata": {},
     "output_type": "display_data"
    },
    {
     "data": {
      "image/png": "[encoded data removed]",
      "text/plain": [
       "<Figure size 576x396 with 2 Axes>"
      ]
     },
     "metadata": {},
     "output_type": "display_data"
    }
   ],
   "source": [
    "cm = confusion_matrix(y_target=testY.argmax(axis=1),\n",
    "                      y_predicted=predictions.argmax(axis=1),\n",
    "                      binary=False)\n",
    "plt.figure(figsize=(14, 10))\n",
    "fig, ax = plt.subplots(1)\n",
    "p = sns.heatmap(cm, annot=True, cmap=\"YlGnBu\", fmt='.2f', square=True, ax=ax)\n",
    "plt.xlabel(\"True Labels\")\n",
    "plt.ylabel(\"Predicted Labels\")\n",
    "plt.title(\"Confusion Matrix\")"
   ]
  }
 ],
 "metadata": {
  "kernelspec": {
   "display_name": "ml",
   "language": "python",
   "name": "ml"
  },
  "language_info": {
   "codemirror_mode": {
    "name": "ipython",
    "version": 3
   },
   "file_extension": ".py",
   "mimetype": "text/x-python",
   "name": "python",
   "nbconvert_exporter": "python",
   "pygments_lexer": "ipython3",
   "version": "3.7.8"
  }
 },
 "nbformat": 4,
 "nbformat_minor": 4
}
