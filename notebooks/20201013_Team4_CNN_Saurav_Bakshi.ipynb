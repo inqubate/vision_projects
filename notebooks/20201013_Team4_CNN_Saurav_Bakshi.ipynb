{
 "cells": [
  {
   "cell_type": "markdown",
   "metadata": {},
   "source": [
    "#### MNIST Convolutional Neural network Capstone Project\n",
    "            Saurav Bakshi (Team 4)\n",
    "            \n"
   ]
  },
  {
   "cell_type": "markdown",
   "metadata": {},
   "source": [
    "**Task 1**\n",
    "\n",
    "Implement a simple CNN with the following parameters fixed. \n",
    "A Convolutional layer will have 32 neurons (feature maps) and a 5x5 feature detector.\n",
    "\n",
    "**Key hyperparameters**\n",
    "1. Learning Rate = 0.01\n",
    "2. Activation = **Sigmoid** for Neural Network layers and **Softmax** for output layer\n",
    "3. Optimizer = Stochastic Gradient Descent (SGD)\n",
    "4. Epochs = 5\n",
    "5. Batch Size = 128\n",
    "6. Metrics = Accuracy\n",
    "7. Loss Function = Categorical Cross Entropy\n",
    "\n",
    "Assumption - The dataset will be split into Train, Validation and Test. However for the task 1, validation data will not be used."
   ]
  },
  {
   "cell_type": "markdown",
   "metadata": {},
   "source": [
    "**Hypothesis 1 - The CNNs model should still result in a high accuracy even with basic hyperparameters**"
   ]
  },
  {
   "cell_type": "code",
   "execution_count": 1,
   "metadata": {},
   "outputs": [
    {
     "name": "stdout",
     "output_type": "stream",
     "text": [
      "2.3.0\n"
     ]
    }
   ],
   "source": [
    "import numpy as np\n",
    "import random as python_random\n",
    "import os\n",
    "import tensorflow as tf\n",
    "print(tf.__version__)\n",
    "os.environ[\"PYTHONHASHSEED\"] = \"0\"\n",
    "np.random.seed(123)\n",
    "python_random.seed(123)\n",
    "tf.random.set_seed(123)\n",
    "\n",
    "\n",
    "import matplotlib.pyplot as plt\n",
    "import pandas as pd\n",
    "import seaborn as sns\n",
    "from mlxtend.evaluate import confusion_matrix\n",
    "from sklearn.metrics import classification_report\n",
    "from sklearn.model_selection import train_test_split\n",
    "from sklearn.preprocessing import LabelBinarizer\n",
    "from sklearn.metrics import auc, roc_auc_score, roc_curve, accuracy_score\n",
    "\n",
    "\n",
    "from tensorflow.keras.datasets import mnist\n",
    "from tensorflow.keras.optimizers import SGD\n",
    "from tensorflow.keras.layers import Activation\n",
    "from tensorflow.keras.layers import Conv2D\n",
    "from tensorflow.keras.layers import Dense\n",
    "from tensorflow.keras.layers import Flatten\n",
    "from tensorflow.keras.models import Sequential\n",
    "\n",
    "import warnings\n",
    "warnings.filterwarnings('ignore')\n",
    "tf.get_logger().setLevel('ERROR')\n",
    "\n"
   ]
  },
  {
   "cell_type": "markdown",
   "metadata": {},
   "source": [
    "#### Data Capture and preprocessing"
   ]
  },
  {
   "cell_type": "code",
   "execution_count": 2,
   "metadata": {},
   "outputs": [],
   "source": [
    "# utility function to build any model\n",
    "def build_model(build_fn, activation, n_classes, filter_size, hidden_dense_units=None):\n",
    "    if hidden_dense_units is None:\n",
    "        model = build_fn(activation, n_classes, filter_size)\n",
    "    else:\n",
    "        model = build_fn(activation, n_classes, filter_size, hidden_dense_units)\n",
    "        \n",
    "    return model"
   ]
  },
  {
   "cell_type": "code",
   "execution_count": 3,
   "metadata": {},
   "outputs": [],
   "source": [
    "# utility function to run any model\n",
    "def run_model(model, loss, opt, metrics, n_epochs, batch_size, validation_data=None):\n",
    "    \n",
    "    model.compile(loss=loss, optimizer=opt,\n",
    "            metrics=metrics)\n",
    "    if validation_data is not None:\n",
    "        model_training_history = model.fit(trainX, trainY, \n",
    "                                           validation_data=(valX, valY),\n",
    "                                            epochs=n_epochs, \n",
    "                                           batch_size=batch_size)\n",
    "    else:\n",
    "        model_training_history = model.fit(trainX, trainY, \n",
    "                                           epochs=n_epochs, \n",
    "                                           batch_size=batch_size)\n",
    "        \n",
    "    \n",
    "    \n",
    "    \n",
    "       \n",
    "    return model_training_history, model\n"
   ]
  },
  {
   "cell_type": "code",
   "execution_count": 4,
   "metadata": {},
   "outputs": [],
   "source": [
    "def plot_summary(model_training_history, n_epochs, valid=False):\n",
    "    H = model_training_history\n",
    "    # plot the training loss and accuracy\n",
    "    plt.style.use(\"seaborn\")\n",
    "    plt.figure(figsize=(8, 6))\n",
    "    plt.plot(np.arange(0, n_epochs), H.history[\"loss\"], label=\"train_loss\")\n",
    "    plt.plot(np.arange(0, n_epochs), H.history[\"accuracy\"], label=\"train_acc\")\n",
    "    if valid:\n",
    "        plt.plot(np.arange(0, n_epochs), H.history[\"val_loss\"], label=\"val_loss\")\n",
    "        plt.plot(np.arange(0, n_epochs), H.history[\"val_accuracy\"], label=\"val_acc\")\n",
    "        \n",
    "    plt.title(\"Training Loss and Accuracy\")\n",
    "    plt.xlabel(\"Epoch #\")\n",
    "    plt.ylabel(\"Loss/Accuracy\")\n",
    "    plt.legend()\n"
   ]
  },
  {
   "cell_type": "code",
   "execution_count": 5,
   "metadata": {},
   "outputs": [
    {
     "name": "stdout",
     "output_type": "stream",
     "text": [
      "[INFO] Reading MNIST...\n"
     ]
    }
   ],
   "source": [
    "print(\"[INFO] Reading MNIST...\")\n",
    "((train_images, train_labels), (testX, testY)) = mnist.load_data()\n"
   ]
  },
  {
   "cell_type": "code",
   "execution_count": 6,
   "metadata": {},
   "outputs": [],
   "source": [
    "class_types = [\"0\", \"1\", \"2\", \"3\", \"4\", \"5\", \"6\", \"7\", \"8\", \"9\"]"
   ]
  },
  {
   "cell_type": "code",
   "execution_count": 7,
   "metadata": {},
   "outputs": [],
   "source": [
    "# scale data to the range of [0, 1]\n",
    "train_images = train_images.astype(\"float32\") / 255.0\n",
    "testX = testX.astype(\"float32\") / 255.0"
   ]
  },
  {
   "cell_type": "code",
   "execution_count": 8,
   "metadata": {},
   "outputs": [],
   "source": [
    "# sample out validation data from trainX\n",
    "(trainX, valX, trainY, valY) = train_test_split(train_images, train_labels,\n",
    "                                                test_size=0.2, stratify=train_labels, random_state=42)"
   ]
  },
  {
   "cell_type": "code",
   "execution_count": 9,
   "metadata": {},
   "outputs": [],
   "source": [
    "# reshape data for input to the convolutional models\n",
    "trainX = trainX.reshape((trainX.shape[0], 28, 28, 1))\n",
    "valX = valX.reshape((valX.shape[0], 28, 28, 1))\n",
    "testX = testX.reshape((testX.shape[0], 28, 28 , 1))"
   ]
  },
  {
   "cell_type": "code",
   "execution_count": 10,
   "metadata": {},
   "outputs": [],
   "source": [
    "# convert the labels from integers to vectors\n",
    "lb = LabelBinarizer()\n",
    "trainY = lb.fit_transform(trainY)\n",
    "valY = lb.transform(valY)\n",
    "testY = lb.transform(testY)"
   ]
  },
  {
   "cell_type": "code",
   "execution_count": 11,
   "metadata": {},
   "outputs": [],
   "source": [
    "def build_task1_model(activation, n_classes, filter_size):\n",
    "    # Task 1\n",
    "    model = Sequential()\n",
    "    model.add(Conv2D(32, filter_size, input_shape=(28, 28, 1), activation=activation))\n",
    "    model.add(Flatten())\n",
    "    model.add(Dense(n_classes,activation=\"softmax\"))\n",
    "    return model"
   ]
  },
  {
   "cell_type": "code",
   "execution_count": 12,
   "metadata": {},
   "outputs": [],
   "source": [
    "filter_size =(5, 5)\n",
    "activation = \"sigmoid\"\n",
    "learning_rate = 0.01\n",
    "opt = SGD(learning_rate)\n",
    "batch_size = 128\n",
    "n_epochs = 5\n",
    "n_classes = len(class_types)\n",
    "metrics = [\"accuracy\"]\n",
    "loss = \"categorical_crossentropy\""
   ]
  },
  {
   "cell_type": "code",
   "execution_count": 13,
   "metadata": {},
   "outputs": [
    {
     "name": "stdout",
     "output_type": "stream",
     "text": [
      "(48000, 28, 28, 1) (48000, 10)\n"
     ]
    }
   ],
   "source": [
    "print(trainX.shape, trainY.shape)"
   ]
  },
  {
   "cell_type": "code",
   "execution_count": 14,
   "metadata": {},
   "outputs": [
    {
     "name": "stdout",
     "output_type": "stream",
     "text": [
      "------------------------------------------------------------------------------------\n",
      "Epoch 1/5\n",
      "375/375 [==============================] - 1s 3ms/step - loss: 4.4999 - accuracy: 0.3514\n",
      "Epoch 2/5\n",
      "375/375 [==============================] - 1s 3ms/step - loss: 0.6625 - accuracy: 0.8024\n",
      "Epoch 3/5\n",
      "375/375 [==============================] - 1s 3ms/step - loss: 0.4810 - accuracy: 0.8586\n",
      "Epoch 4/5\n",
      "375/375 [==============================] - 1s 3ms/step - loss: 0.4286 - accuracy: 0.8722\n",
      "Epoch 5/5\n",
      "375/375 [==============================] - 1s 3ms/step - loss: 0.3984 - accuracy: 0.8825\n",
      "------------------------------------------------------------------------------------\n",
      "Epoch 1/5\n",
      "375/375 [==============================] - 1s 3ms/step - loss: 4.5454 - accuracy: 0.3532\n",
      "Epoch 2/5\n",
      "375/375 [==============================] - 1s 3ms/step - loss: 0.6652 - accuracy: 0.8023\n",
      "Epoch 3/5\n",
      "375/375 [==============================] - 1s 3ms/step - loss: 0.4815 - accuracy: 0.8586\n",
      "Epoch 4/5\n",
      "375/375 [==============================] - 1s 3ms/step - loss: 0.4291 - accuracy: 0.8719\n",
      "Epoch 5/5\n",
      "375/375 [==============================] - 1s 3ms/step - loss: 0.3988 - accuracy: 0.8822\n",
      "------------------------------------------------------------------------------------\n",
      "Epoch 1/5\n",
      "375/375 [==============================] - 1s 3ms/step - loss: 4.5931 - accuracy: 0.3506\n",
      "Epoch 2/5\n",
      "375/375 [==============================] - 1s 3ms/step - loss: 0.6578 - accuracy: 0.8045\n",
      "Epoch 3/5\n",
      "375/375 [==============================] - 1s 3ms/step - loss: 0.4790 - accuracy: 0.8590\n",
      "Epoch 4/5\n",
      "375/375 [==============================] - 1s 3ms/step - loss: 0.4275 - accuracy: 0.8721\n",
      "Epoch 5/5\n",
      "375/375 [==============================] - 1s 3ms/step - loss: 0.3975 - accuracy: 0.8828\n",
      "------------------------------------------------------------------------------------\n",
      "Epoch 1/5\n",
      "375/375 [==============================] - 1s 3ms/step - loss: 4.4886 - accuracy: 0.3682\n",
      "Epoch 2/5\n",
      "375/375 [==============================] - 1s 3ms/step - loss: 0.6563 - accuracy: 0.8041\n",
      "Epoch 3/5\n",
      "375/375 [==============================] - 1s 3ms/step - loss: 0.4800 - accuracy: 0.8585\n",
      "Epoch 4/5\n",
      "375/375 [==============================] - 1s 3ms/step - loss: 0.4286 - accuracy: 0.8714\n",
      "Epoch 5/5\n",
      "375/375 [==============================] - 1s 3ms/step - loss: 0.3987 - accuracy: 0.8824\n",
      "------------------------------------------------------------------------------------\n",
      "Epoch 1/5\n",
      "375/375 [==============================] - 1s 3ms/step - loss: 4.5487 - accuracy: 0.3510\n",
      "Epoch 2/5\n",
      "375/375 [==============================] - 1s 3ms/step - loss: 0.6652 - accuracy: 0.8015\n",
      "Epoch 3/5\n",
      "375/375 [==============================] - 1s 3ms/step - loss: 0.4822 - accuracy: 0.8580\n",
      "Epoch 4/5\n",
      "375/375 [==============================] - 1s 3ms/step - loss: 0.4296 - accuracy: 0.8716\n",
      "Epoch 5/5\n",
      "375/375 [==============================] - 1s 3ms/step - loss: 0.3989 - accuracy: 0.8822\n",
      "------------------------------------------------------------------------------------\n",
      "Epoch 1/5\n",
      "375/375 [==============================] - 1s 3ms/step - loss: 4.5167 - accuracy: 0.3603\n",
      "Epoch 2/5\n",
      "375/375 [==============================] - 1s 3ms/step - loss: 0.6679 - accuracy: 0.8007\n",
      "Epoch 3/5\n",
      "375/375 [==============================] - 1s 3ms/step - loss: 0.4822 - accuracy: 0.8580\n",
      "Epoch 4/5\n",
      "375/375 [==============================] - 1s 3ms/step - loss: 0.4292 - accuracy: 0.8717\n",
      "Epoch 5/5\n",
      "375/375 [==============================] - 1s 3ms/step - loss: 0.3984 - accuracy: 0.8827\n",
      "------------------------------------------------------------------------------------\n",
      "Epoch 1/5\n",
      "375/375 [==============================] - 1s 3ms/step - loss: 4.5117 - accuracy: 0.3533\n",
      "Epoch 2/5\n",
      "375/375 [==============================] - 1s 3ms/step - loss: 0.6692 - accuracy: 0.8009\n",
      "Epoch 3/5\n",
      "375/375 [==============================] - 1s 3ms/step - loss: 0.4817 - accuracy: 0.8578\n",
      "Epoch 4/5\n",
      "375/375 [==============================] - 1s 3ms/step - loss: 0.4286 - accuracy: 0.8719\n",
      "Epoch 5/5\n",
      "375/375 [==============================] - 1s 3ms/step - loss: 0.3980 - accuracy: 0.8828\n",
      "------------------------------------------------------------------------------------\n",
      "Epoch 1/5\n",
      "375/375 [==============================] - 1s 3ms/step - loss: 4.4884 - accuracy: 0.3564\n",
      "Epoch 2/5\n",
      "375/375 [==============================] - 1s 3ms/step - loss: 0.6557 - accuracy: 0.8045\n",
      "Epoch 3/5\n",
      "375/375 [==============================] - 1s 3ms/step - loss: 0.4804 - accuracy: 0.8580\n",
      "Epoch 4/5\n",
      "375/375 [==============================] - 1s 3ms/step - loss: 0.4289 - accuracy: 0.8719\n",
      "Epoch 5/5\n",
      "375/375 [==============================] - 1s 3ms/step - loss: 0.3989 - accuracy: 0.8826\n",
      "5.12 s ± 118 ms per loop (mean ± std. dev. of 7 runs, 1 loop each)\n"
     ]
    }
   ],
   "source": [
    "%%timeit\n",
    "\n",
    "print(\"------------------------------------------------------------------------------------\")\n",
    "t1_model = build_model(build_task1_model, activation, n_classes, filter_size)\n",
    "t1_model_hist, t1_model = run_model(t1_model, loss, \n",
    "                                              opt, metrics, n_epochs, \n",
    "                                              batch_size, validation_data=None)\n",
    "\n"
   ]
  },
  {
   "cell_type": "code",
   "execution_count": 15,
   "metadata": {},
   "outputs": [
    {
     "name": "stdout",
     "output_type": "stream",
     "text": [
      "Epoch 1/5\n",
      "375/375 [==============================] - 1s 3ms/step - loss: 4.3292 - accuracy: 0.3624\n",
      "Epoch 2/5\n",
      "375/375 [==============================] - 1s 3ms/step - loss: 0.6554 - accuracy: 0.8050\n",
      "Epoch 3/5\n",
      "375/375 [==============================] - 1s 3ms/step - loss: 0.4774 - accuracy: 0.8596\n",
      "Epoch 4/5\n",
      "375/375 [==============================] - 1s 3ms/step - loss: 0.4263 - accuracy: 0.8727\n",
      "Epoch 5/5\n",
      "375/375 [==============================] - 1s 3ms/step - loss: 0.3965 - accuracy: 0.8826\n"
     ]
    }
   ],
   "source": [
    "t1_model = build_model(build_task1_model, activation, n_classes, filter_size)\n",
    "t1_model_hist, t1_model = run_model(t1_model, loss, \n",
    "                                              opt, metrics, n_epochs, \n",
    "                                              batch_size, validation_data=None)\n",
    "\n"
   ]
  },
  {
   "cell_type": "code",
   "execution_count": 16,
   "metadata": {},
   "outputs": [
    {
     "name": "stdout",
     "output_type": "stream",
     "text": [
      "Model: \"sequential_8\"\n",
      "_________________________________________________________________\n",
      "Layer (type)                 Output Shape              Param #   \n",
      "=================================================================\n",
      "conv2d_8 (Conv2D)            (None, 24, 24, 32)        832       \n",
      "_________________________________________________________________\n",
      "flatten_8 (Flatten)          (None, 18432)             0         \n",
      "_________________________________________________________________\n",
      "dense_8 (Dense)              (None, 10)                184330    \n",
      "=================================================================\n",
      "Total params: 185,162\n",
      "Trainable params: 185,162\n",
      "Non-trainable params: 0\n",
      "_________________________________________________________________\n"
     ]
    }
   ],
   "source": [
    "t1_model.summary()"
   ]
  },
  {
   "cell_type": "code",
   "execution_count": 17,
   "metadata": {},
   "outputs": [
    {
     "name": "stdout",
     "output_type": "stream",
     "text": [
      "Model Accuracy 0.8926\n"
     ]
    }
   ],
   "source": [
    "# evaluate the network\n",
    "predictions = t1_model.predict(testX, batch_size=batch_size)\n",
    "acc_score = accuracy_score(testY.argmax(axis=1),\n",
    "                           predictions.argmax(axis=1))\n",
    "print(f\"Model Accuracy {acc_score}\")"
   ]
  },
  {
   "cell_type": "code",
   "execution_count": 19,
   "metadata": {},
   "outputs": [
    {
     "data": {
      "image/png": "[encoded data removed]",
      "text/plain": [
       "<Figure size 576x432 with 1 Axes>"
      ]
     },
     "metadata": {},
     "output_type": "display_data"
    }
   ],
   "source": [
    "plot_summary(t1_model_hist, n_epochs)"
   ]
  },
  {
   "cell_type": "markdown",
   "metadata": {},
   "source": [
    "#### Task 1 Findings\n",
    "\n",
    "1. Model Accuracy is 89.26%\n",
    "2. The average time taken to train the model is - 5.12 s on MNIST data"
   ]
  },
  {
   "cell_type": "markdown",
   "metadata": {},
   "source": [
    "### Task 2\n",
    "- Increase the complexity of the CNN by adding multiple convolution and dense layers. \n",
    "- Add one more convolutional layer with 32 neurons (feature maps) and a 5x5 feature detector. \n",
    "- Add a dense layer with 128 nodes.\n",
    "\n",
    "**Key hyperparameters**\n",
    "1. Learning Rate = 0.01\n",
    "2. Activation = **Sigmoid** for Neural Network layers and **Softmax** for output layer\n",
    "3. Optimizer = Stochastic Gradient Descent (SGD)\n",
    "4. Epochs = 5\n",
    "5. Batch Size = 128\n",
    "6. Metrics = Accuracy\n",
    "7. Loss Function = Categorical Cross Entropy\n",
    "\n",
    "Assumption - The dataset will be split into Train, Validation and Test. However for the task 1, validation data will not be used."
   ]
  },
  {
   "cell_type": "markdown",
   "metadata": {},
   "source": [
    "**Hypothesis 2 - When we increase the complexity of the Convolutional Neural Network, the time to train increases but the accuracy improves.**"
   ]
  },
  {
   "cell_type": "code",
   "execution_count": 20,
   "metadata": {},
   "outputs": [],
   "source": [
    "def build_task2_model(activation, n_classes, filter_size, hidden_dense_units):\n",
    "    # Task 2\n",
    "    model = Sequential()\n",
    "    model.add(Conv2D(32, filter_size, input_shape=(28, 28, 1), activation=activation))\n",
    "    model.add(Conv2D(32, filter_size, activation=activation))\n",
    "    model.add(Flatten())\n",
    "    model.add(Dense(units=hidden_dense_units, activation=activation))\n",
    "    model.add(Flatten())\n",
    "    model.add(Dense(n_classes))\n",
    "    model.add(Activation(\"softmax\"))\n",
    "    return model"
   ]
  },
  {
   "cell_type": "code",
   "execution_count": 21,
   "metadata": {},
   "outputs": [],
   "source": [
    "filter_size = (5, 5)\n",
    "activation = \"sigmoid\"\n",
    "learning_rate = 0.01\n",
    "opt = SGD(learning_rate)\n",
    "hidden_dense_units = 128\n",
    "batch_size = 128\n",
    "n_epochs = 5\n",
    "n_classes = len(class_types)\n",
    "metrics = [\"accuracy\"]\n",
    "loss = \"categorical_crossentropy\""
   ]
  },
  {
   "cell_type": "code",
   "execution_count": 23,
   "metadata": {},
   "outputs": [
    {
     "name": "stdout",
     "output_type": "stream",
     "text": [
      "------------------------------------------------------------------------------------\n",
      "Epoch 1/5\n",
      "375/375 [==============================] - 2s 5ms/step - loss: 2.3065 - accuracy: 0.1033\n",
      "Epoch 2/5\n",
      "375/375 [==============================] - 2s 5ms/step - loss: 2.3005 - accuracy: 0.1135\n",
      "Epoch 3/5\n",
      "375/375 [==============================] - 2s 5ms/step - loss: 2.2916 - accuracy: 0.1239\n",
      "Epoch 4/5\n",
      "375/375 [==============================] - 2s 5ms/step - loss: 2.2589 - accuracy: 0.1938\n",
      "Epoch 5/5\n",
      "375/375 [==============================] - 2s 5ms/step - loss: 1.9907 - accuracy: 0.4934\n",
      "------------------------------------------------------------------------------------\n",
      "Epoch 1/5\n",
      "375/375 [==============================] - 2s 5ms/step - loss: 2.3079 - accuracy: 0.1051\n",
      "Epoch 2/5\n",
      "375/375 [==============================] - 2s 5ms/step - loss: 2.3020 - accuracy: 0.1112\n",
      "Epoch 3/5\n",
      "375/375 [==============================] - 2s 5ms/step - loss: 2.2962 - accuracy: 0.1208\n",
      "Epoch 4/5\n",
      "375/375 [==============================] - 2s 5ms/step - loss: 2.2815 - accuracy: 0.1521\n",
      "Epoch 5/5\n",
      "375/375 [==============================] - 2s 5ms/step - loss: 2.1951 - accuracy: 0.3136\n",
      "------------------------------------------------------------------------------------\n",
      "Epoch 1/5\n",
      "375/375 [==============================] - 2s 5ms/step - loss: 2.3086 - accuracy: 0.1040\n",
      "Epoch 2/5\n",
      "375/375 [==============================] - 2s 5ms/step - loss: 2.3023 - accuracy: 0.1125\n",
      "Epoch 3/5\n",
      "375/375 [==============================] - 2s 5ms/step - loss: 2.2964 - accuracy: 0.1198\n",
      "Epoch 4/5\n",
      "375/375 [==============================] - 2s 5ms/step - loss: 2.2821 - accuracy: 0.1496\n",
      "Epoch 5/5\n",
      "375/375 [==============================] - 2s 5ms/step - loss: 2.2037 - accuracy: 0.3211\n",
      "------------------------------------------------------------------------------------\n",
      "Epoch 1/5\n",
      "375/375 [==============================] - 2s 5ms/step - loss: 2.3088 - accuracy: 0.1069\n",
      "Epoch 2/5\n",
      "375/375 [==============================] - 2s 5ms/step - loss: 2.3022 - accuracy: 0.1124\n",
      "Epoch 3/5\n",
      "375/375 [==============================] - 2s 5ms/step - loss: 2.2980 - accuracy: 0.1169\n",
      "Epoch 4/5\n",
      "375/375 [==============================] - 2s 5ms/step - loss: 2.2893 - accuracy: 0.1383\n",
      "Epoch 5/5\n",
      "375/375 [==============================] - 2s 5ms/step - loss: 2.2559 - accuracy: 0.2120\n",
      "------------------------------------------------------------------------------------\n",
      "Epoch 1/5\n",
      "375/375 [==============================] - 2s 5ms/step - loss: 2.3064 - accuracy: 0.1060\n",
      "Epoch 2/5\n",
      "375/375 [==============================] - 2s 5ms/step - loss: 2.3015 - accuracy: 0.1131\n",
      "Epoch 3/5\n",
      "375/375 [==============================] - 2s 5ms/step - loss: 2.2952 - accuracy: 0.1257\n",
      "Epoch 4/5\n",
      "375/375 [==============================] - 2s 5ms/step - loss: 2.2793 - accuracy: 0.1604\n",
      "Epoch 5/5\n",
      "375/375 [==============================] - 2s 5ms/step - loss: 2.1933 - accuracy: 0.3187\n",
      "------------------------------------------------------------------------------------\n",
      "Epoch 1/5\n",
      "375/375 [==============================] - 2s 5ms/step - loss: 2.3065 - accuracy: 0.1080\n",
      "Epoch 2/5\n",
      "375/375 [==============================] - 2s 5ms/step - loss: 2.3001 - accuracy: 0.1145\n",
      "Epoch 3/5\n",
      "375/375 [==============================] - 2s 5ms/step - loss: 2.2911 - accuracy: 0.1281\n",
      "Epoch 4/5\n",
      "375/375 [==============================] - 2s 5ms/step - loss: 2.2578 - accuracy: 0.1995\n",
      "Epoch 5/5\n",
      "375/375 [==============================] - 2s 5ms/step - loss: 1.9898 - accuracy: 0.4830\n",
      "------------------------------------------------------------------------------------\n",
      "Epoch 1/5\n",
      "375/375 [==============================] - 2s 5ms/step - loss: 2.3084 - accuracy: 0.1051\n",
      "Epoch 2/5\n",
      "375/375 [==============================] - 2s 5ms/step - loss: 2.3026 - accuracy: 0.1096\n",
      "Epoch 3/5\n",
      "375/375 [==============================] - 2s 5ms/step - loss: 2.2982 - accuracy: 0.1173\n",
      "Epoch 4/5\n",
      "375/375 [==============================] - 2s 5ms/step - loss: 2.2896 - accuracy: 0.1359\n",
      "Epoch 5/5\n",
      "375/375 [==============================] - 2s 5ms/step - loss: 2.2556 - accuracy: 0.2198\n",
      "------------------------------------------------------------------------------------\n",
      "Epoch 1/5\n",
      "375/375 [==============================] - 2s 5ms/step - loss: 2.3074 - accuracy: 0.1052\n",
      "Epoch 2/5\n",
      "375/375 [==============================] - 2s 5ms/step - loss: 2.3021 - accuracy: 0.1133\n",
      "Epoch 3/5\n",
      "375/375 [==============================] - 2s 5ms/step - loss: 2.2961 - accuracy: 0.1254\n",
      "Epoch 4/5\n",
      "375/375 [==============================] - 2s 5ms/step - loss: 2.2818 - accuracy: 0.1552\n",
      "Epoch 5/5\n",
      "375/375 [==============================] - 2s 5ms/step - loss: 2.2093 - accuracy: 0.2992\n",
      "10 s ± 94.8 ms per loop (mean ± std. dev. of 7 runs, 1 loop each)\n"
     ]
    }
   ],
   "source": [
    "%%timeit\n",
    "\n",
    "print(\"------------------------------------------------------------------------------------\")\n",
    "t2_model = build_model(build_task2_model, activation, n_classes, filter_size, hidden_dense_units)\n",
    "t2_model_hist, t2_model = run_model(t2_model, loss, \n",
    "                                              opt, metrics, n_epochs, \n",
    "                                              batch_size, validation_data=None)"
   ]
  },
  {
   "cell_type": "code",
   "execution_count": 24,
   "metadata": {},
   "outputs": [
    {
     "name": "stdout",
     "output_type": "stream",
     "text": [
      "Epoch 1/5\n",
      "375/375 [==============================] - 2s 5ms/step - loss: 2.3070 - accuracy: 0.1051\n",
      "Epoch 2/5\n",
      "375/375 [==============================] - 2s 5ms/step - loss: 2.3013 - accuracy: 0.1124\n",
      "Epoch 3/5\n",
      "375/375 [==============================] - 2s 5ms/step - loss: 2.2944 - accuracy: 0.1274\n",
      "Epoch 4/5\n",
      "375/375 [==============================] - 2s 5ms/step - loss: 2.2750 - accuracy: 0.1666\n",
      "Epoch 5/5\n",
      "375/375 [==============================] - 2s 5ms/step - loss: 2.1582 - accuracy: 0.3544\n"
     ]
    }
   ],
   "source": [
    "# recompile the model for training at epoch = 5\n",
    "t2_model = build_model(build_task2_model, activation, n_classes, filter_size, hidden_dense_units)\n",
    "t2_model_hist, t2_model = run_model(t2_model, loss, \n",
    "                                              opt, metrics, n_epochs, \n",
    "                                              batch_size, validation_data=None)"
   ]
  },
  {
   "cell_type": "code",
   "execution_count": 25,
   "metadata": {},
   "outputs": [
    {
     "name": "stdout",
     "output_type": "stream",
     "text": [
      "Model: \"sequential_25\"\n",
      "_________________________________________________________________\n",
      "Layer (type)                 Output Shape              Param #   \n",
      "=================================================================\n",
      "conv2d_41 (Conv2D)           (None, 24, 24, 32)        832       \n",
      "_________________________________________________________________\n",
      "conv2d_42 (Conv2D)           (None, 20, 20, 32)        25632     \n",
      "_________________________________________________________________\n",
      "flatten_41 (Flatten)         (None, 12800)             0         \n",
      "_________________________________________________________________\n",
      "dense_41 (Dense)             (None, 128)               1638528   \n",
      "_________________________________________________________________\n",
      "flatten_42 (Flatten)         (None, 128)               0         \n",
      "_________________________________________________________________\n",
      "dense_42 (Dense)             (None, 10)                1290      \n",
      "_________________________________________________________________\n",
      "activation_16 (Activation)   (None, 10)                0         \n",
      "=================================================================\n",
      "Total params: 1,666,282\n",
      "Trainable params: 1,666,282\n",
      "Non-trainable params: 0\n",
      "_________________________________________________________________\n"
     ]
    }
   ],
   "source": [
    "t2_model.summary()"
   ]
  },
  {
   "cell_type": "code",
   "execution_count": 26,
   "metadata": {},
   "outputs": [
    {
     "name": "stdout",
     "output_type": "stream",
     "text": [
      "Model Accuracy 0.521\n"
     ]
    }
   ],
   "source": [
    "# evaluate the network\n",
    "predictions = t2_model.predict(testX, batch_size=batch_size)\n",
    "acc_score = accuracy_score(testY.argmax(axis=1),\n",
    "                           predictions.argmax(axis=1))\n",
    "print(f\"Model Accuracy {acc_score}\")"
   ]
  },
  {
   "cell_type": "code",
   "execution_count": 27,
   "metadata": {},
   "outputs": [
    {
     "data": {
      "image/png": "[encoded data removed]",
      "text/plain": [
       "<Figure size 576x432 with 1 Axes>"
      ]
     },
     "metadata": {},
     "output_type": "display_data"
    }
   ],
   "source": [
    "plot_summary(t2_model_hist, n_epochs)"
   ]
  },
  {
   "cell_type": "markdown",
   "metadata": {},
   "source": [
    "#### Task 2 Findings\n",
    "\n",
    "1. Model Accuracy is 52.1% - This prove the hypothesis to be **False** as the prediction performance has degraded drastically.\n",
    "2. The average time taken to train the model is - 10 s on MNIST data which 2 times more than the Task 1 training time."
   ]
  },
  {
   "cell_type": "markdown",
   "metadata": {},
   "source": [
    "#### Task 3 "
   ]
  },
  {
   "cell_type": "markdown",
   "metadata": {},
   "source": [
    "#### Improving the models built in Task 1 and Task 2\n",
    "**Hypothesis T3_H1 - Increasing number of epochs can increase accuracy?**"
   ]
  },
  {
   "cell_type": "code",
   "execution_count": 28,
   "metadata": {},
   "outputs": [],
   "source": [
    "# Hyperparameters for Hypothesis T3_H1\n",
    "filter_size = (5, 5)\n",
    "activation = \"sigmoid\"\n",
    "learning_rate = 0.01\n",
    "opt = SGD(learning_rate)\n",
    "hidden_dense_units = 128\n",
    "batch_size = 128\n",
    "n_epochs = 5\n",
    "n_classes = len(class_types)\n",
    "metrics = [\"accuracy\"]\n",
    "loss = \"categorical_crossentropy\"\n",
    "# n_epochs = 5 initial number of epochs\n",
    "# all other hyperparameters remaining the same , number of epochs is increased to 10\n",
    "n_epochs = 10"
   ]
  },
  {
   "cell_type": "code",
   "execution_count": 29,
   "metadata": {},
   "outputs": [
    {
     "name": "stdout",
     "output_type": "stream",
     "text": [
      "Epoch 1/10\n",
      "375/375 [==============================] - 1s 3ms/step - loss: 4.4208 - accuracy: 0.3496\n",
      "Epoch 2/10\n",
      "375/375 [==============================] - 1s 3ms/step - loss: 0.6559 - accuracy: 0.8046\n",
      "Epoch 3/10\n",
      "375/375 [==============================] - 1s 3ms/step - loss: 0.4799 - accuracy: 0.8590\n",
      "Epoch 4/10\n",
      "375/375 [==============================] - 1s 3ms/step - loss: 0.4287 - accuracy: 0.8720\n",
      "Epoch 5/10\n",
      "375/375 [==============================] - 1s 3ms/step - loss: 0.3988 - accuracy: 0.8824\n",
      "Epoch 6/10\n",
      "375/375 [==============================] - 1s 3ms/step - loss: 0.3812 - accuracy: 0.8868\n",
      "Epoch 7/10\n",
      "375/375 [==============================] - 1s 3ms/step - loss: 0.3696 - accuracy: 0.8896\n",
      "Epoch 8/10\n",
      "375/375 [==============================] - 1s 3ms/step - loss: 0.3577 - accuracy: 0.8931\n",
      "Epoch 9/10\n",
      "375/375 [==============================] - 1s 3ms/step - loss: 0.3516 - accuracy: 0.8958\n",
      "Epoch 10/10\n",
      "375/375 [==============================] - 1s 3ms/step - loss: 0.3435 - accuracy: 0.8985\n"
     ]
    }
   ],
   "source": [
    "# train the task 1 model for the epoch = 10\n",
    "t1_model = build_model(build_task1_model, activation, n_classes, filter_size)\n",
    "t1_model_hist, t1_model = run_model(t1_model, loss, \n",
    "                                              opt, metrics, n_epochs, \n",
    "                                              batch_size, validation_data=None)"
   ]
  },
  {
   "cell_type": "code",
   "execution_count": 30,
   "metadata": {},
   "outputs": [
    {
     "name": "stdout",
     "output_type": "stream",
     "text": [
      "Model Accuracy 0.9064\n"
     ]
    }
   ],
   "source": [
    "# evaluate the network\n",
    "predictions = t1_model.predict(testX, batch_size=batch_size)\n",
    "acc_score = accuracy_score(testY.argmax(axis=1),\n",
    "                           predictions.argmax(axis=1))\n",
    "print(f\"Model Accuracy {acc_score}\")"
   ]
  },
  {
   "cell_type": "code",
   "execution_count": 31,
   "metadata": {},
   "outputs": [
    {
     "name": "stdout",
     "output_type": "stream",
     "text": [
      "Epoch 1/10\n",
      "375/375 [==============================] - 2s 5ms/step - loss: 2.3065 - accuracy: 0.1067\n",
      "Epoch 2/10\n",
      "375/375 [==============================] - 2s 5ms/step - loss: 2.3006 - accuracy: 0.1172\n",
      "Epoch 3/10\n",
      "375/375 [==============================] - 2s 5ms/step - loss: 2.2931 - accuracy: 0.1252\n",
      "Epoch 4/10\n",
      "375/375 [==============================] - 2s 5ms/step - loss: 2.2720 - accuracy: 0.1685\n",
      "Epoch 5/10\n",
      "375/375 [==============================] - 2s 5ms/step - loss: 2.1389 - accuracy: 0.3916\n",
      "Epoch 6/10\n",
      "375/375 [==============================] - 2s 5ms/step - loss: 1.4016 - accuracy: 0.7122\n",
      "Epoch 7/10\n",
      "375/375 [==============================] - 2s 5ms/step - loss: 0.7985 - accuracy: 0.8154\n",
      "Epoch 8/10\n",
      "375/375 [==============================] - 2s 5ms/step - loss: 0.6058 - accuracy: 0.8473\n",
      "Epoch 9/10\n",
      "375/375 [==============================] - 2s 5ms/step - loss: 0.5184 - accuracy: 0.8625\n",
      "Epoch 10/10\n",
      "375/375 [==============================] - 2s 5ms/step - loss: 0.4667 - accuracy: 0.8734\n"
     ]
    }
   ],
   "source": [
    "# train the task 2 model for epoch = 10\n",
    "t2_model = build_model(build_task2_model, activation, n_classes, filter_size, hidden_dense_units)\n",
    "t2_model_hist, t2_model = run_model(t2_model, loss, \n",
    "                                              opt, metrics, n_epochs, \n",
    "                                              batch_size, validation_data=None)"
   ]
  },
  {
   "cell_type": "code",
   "execution_count": 32,
   "metadata": {},
   "outputs": [
    {
     "name": "stdout",
     "output_type": "stream",
     "text": [
      "Model Accuracy 0.8836\n"
     ]
    }
   ],
   "source": [
    "# evaluate the network\n",
    "predictions = t2_model.predict(testX, batch_size=batch_size)\n",
    "acc_score = accuracy_score(testY.argmax(axis=1),\n",
    "                           predictions.argmax(axis=1))\n",
    "print(f\"Model Accuracy {acc_score}\")"
   ]
  },
  {
   "cell_type": "markdown",
   "metadata": {},
   "source": [
    "Number of epochs = 10\n",
    "\n",
    "Task 1 model Accuracy : 90.64%\n",
    "\n",
    "Task 2 model Accuracy : 88.36% "
   ]
  },
  {
   "cell_type": "markdown",
   "metadata": {},
   "source": [
    "#### Improving the models built in Task 1 and Task 2\n",
    "**Hypothesis T3_H2 - Reducing the number of batches can increase accuracy?**"
   ]
  },
  {
   "cell_type": "code",
   "execution_count": 33,
   "metadata": {},
   "outputs": [],
   "source": [
    "# Hyperparameters for Hypothesis T3_H2 - switching back the number of epochs to 5\n",
    "filter_size = (5, 5)\n",
    "activation = \"sigmoid\"\n",
    "learning_rate = 0.01\n",
    "opt = SGD(learning_rate)\n",
    "hidden_dense_units = 128\n",
    "# reducing the number of batches to 64\n",
    "batch_size = 64\n",
    "n_epochs = 5\n",
    "n_classes = len(class_types)\n",
    "metrics = [\"accuracy\"]\n",
    "loss = \"categorical_crossentropy\"\n",
    "n_epochs = 5"
   ]
  },
  {
   "cell_type": "code",
   "execution_count": 34,
   "metadata": {},
   "outputs": [
    {
     "name": "stdout",
     "output_type": "stream",
     "text": [
      "Epoch 1/5\n",
      "750/750 [==============================] - 1s 2ms/step - loss: 2.8557 - accuracy: 0.5869\n",
      "Epoch 2/5\n",
      "750/750 [==============================] - 1s 2ms/step - loss: 0.4612 - accuracy: 0.8608\n",
      "Epoch 3/5\n",
      "750/750 [==============================] - 1s 2ms/step - loss: 0.3964 - accuracy: 0.8809\n",
      "Epoch 4/5\n",
      "750/750 [==============================] - 1s 2ms/step - loss: 0.3718 - accuracy: 0.8885\n",
      "Epoch 5/5\n",
      "750/750 [==============================] - 1s 2ms/step - loss: 0.3567 - accuracy: 0.8933\n"
     ]
    }
   ],
   "source": [
    "# train the task 1 model for the batch_size = 64\n",
    "t1_model = build_model(build_task1_model, activation, n_classes, filter_size)\n",
    "t1_model_hist, t1_model = run_model(t1_model, loss, \n",
    "                                              opt, metrics, n_epochs, \n",
    "                                              batch_size, validation_data=None)"
   ]
  },
  {
   "cell_type": "code",
   "execution_count": 35,
   "metadata": {},
   "outputs": [
    {
     "name": "stdout",
     "output_type": "stream",
     "text": [
      "Model Accuracy 0.8993\n"
     ]
    }
   ],
   "source": [
    "# evaluate the network\n",
    "predictions = t1_model.predict(testX, batch_size=batch_size)\n",
    "acc_score = accuracy_score(testY.argmax(axis=1),\n",
    "                           predictions.argmax(axis=1))\n",
    "print(f\"Model Accuracy {acc_score}\")"
   ]
  },
  {
   "cell_type": "code",
   "execution_count": 36,
   "metadata": {
    "scrolled": true
   },
   "outputs": [
    {
     "name": "stdout",
     "output_type": "stream",
     "text": [
      "Epoch 1/5\n",
      "750/750 [==============================] - 3s 4ms/step - loss: 2.3105 - accuracy: 0.1037\n",
      "Epoch 2/5\n",
      "750/750 [==============================] - 3s 4ms/step - loss: 2.3022 - accuracy: 0.1096\n",
      "Epoch 3/5\n",
      "750/750 [==============================] - 3s 4ms/step - loss: 2.2897 - accuracy: 0.1331\n",
      "Epoch 4/5\n",
      "750/750 [==============================] - 3s 4ms/step - loss: 1.9981 - accuracy: 0.4044\n",
      "Epoch 5/5\n",
      "750/750 [==============================] - 3s 4ms/step - loss: 0.8406 - accuracy: 0.7965\n"
     ]
    }
   ],
   "source": [
    "# train the task 2 model for epoch = 10\n",
    "t2_model = build_model(build_task2_model, activation, n_classes, filter_size, hidden_dense_units)\n",
    "t2_model_hist, t2_model = run_model(t2_model, loss, \n",
    "                                              opt, metrics, n_epochs, \n",
    "                                              batch_size, validation_data=None)"
   ]
  },
  {
   "cell_type": "code",
   "execution_count": 37,
   "metadata": {},
   "outputs": [
    {
     "name": "stdout",
     "output_type": "stream",
     "text": [
      "Model Accuracy 0.8561\n"
     ]
    }
   ],
   "source": [
    "# evaluate the network\n",
    "predictions = t2_model.predict(testX, batch_size=batch_size)\n",
    "acc_score = accuracy_score(testY.argmax(axis=1),\n",
    "                           predictions.argmax(axis=1))\n",
    "print(f\"Model Accuracy {acc_score}\")"
   ]
  },
  {
   "cell_type": "markdown",
   "metadata": {},
   "source": [
    "**Reducing the batch size also shows improvements in the Accuracy of the model.**\n",
    "\n",
    "\n",
    "Task 1 model (Baseline) Accuracy - 89.3%\n",
    "Task 1 model Accuracy after reducing the batch size to 64 - 89.93%\n",
    "\n",
    "**There is a slight improvement in T1 Model**\n",
    "\n",
    "Task 2 model (Baseline) Accuracy - 69.27%\n",
    "Task 2 model Accuracy after reducing the batch size to 64 - 85.61%\n",
    "\n",
    "**There is a big improvement in T2 Model**"
   ]
  },
  {
   "cell_type": "markdown",
   "metadata": {},
   "source": [
    "Q2 - Using only convolutional layers will hyperparameter optimization have any impact help in increasing the accuracy?\n",
    "- Number of layers\n",
    "- Number of nodes\n",
    "- learning rate\n"
   ]
  },
  {
   "cell_type": "markdown",
   "metadata": {},
   "source": [
    "#### Improving the models built in Task 1 and Task 2\n",
    "**Hypothesis T3_H3 - Increasing one more Conv2D layer can increase accuracy?**"
   ]
  },
  {
   "cell_type": "code",
   "execution_count": 38,
   "metadata": {},
   "outputs": [],
   "source": [
    "def build_task3h3_model(activation, n_classes, filter_size, hidden_dense_units):\n",
    "    # Task 2\n",
    "    model = Sequential()\n",
    "    model.add(Conv2D(32, filter_size, input_shape=(28, 28, 1), activation=activation))\n",
    "    model.add(Conv2D(32, filter_size, activation=activation))\n",
    "    \n",
    "    # add one more Conv2D layer\n",
    "    model.add(Conv2D(32, filter_size, activation=activation))\n",
    "    \n",
    "    model.add(Flatten())\n",
    "    model.add(Dense(units=hidden_dense_units, activation=activation))\n",
    "    model.add(Flatten())\n",
    "    model.add(Dense(n_classes))\n",
    "    model.add(Activation(\"softmax\"))\n",
    "    return model"
   ]
  },
  {
   "cell_type": "code",
   "execution_count": 39,
   "metadata": {},
   "outputs": [],
   "source": [
    "# Hyperparameters for Hypothesis T3_H3\n",
    "filter_size = (5, 5)\n",
    "activation = \"sigmoid\"\n",
    "learning_rate = 0.01\n",
    "opt = SGD(learning_rate)\n",
    "hidden_dense_units = 128\n",
    "batch_size = 128\n",
    "n_epochs = 5\n",
    "n_classes = len(class_types)\n",
    "metrics = [\"accuracy\"]\n",
    "loss = \"categorical_crossentropy\"\n",
    "n_epochs = 5"
   ]
  },
  {
   "cell_type": "code",
   "execution_count": 40,
   "metadata": {},
   "outputs": [
    {
     "name": "stdout",
     "output_type": "stream",
     "text": [
      "Epoch 1/5\n",
      "375/375 [==============================] - 3s 7ms/step - loss: 2.3071 - accuracy: 0.1035\n",
      "Epoch 2/5\n",
      "375/375 [==============================] - 3s 7ms/step - loss: 2.3044 - accuracy: 0.1060\n",
      "Epoch 3/5\n",
      "375/375 [==============================] - 2s 7ms/step - loss: 2.3039 - accuracy: 0.1079\n",
      "Epoch 4/5\n",
      "375/375 [==============================] - 2s 7ms/step - loss: 2.3039 - accuracy: 0.1085\n",
      "Epoch 5/5\n",
      "375/375 [==============================] - 2s 7ms/step - loss: 2.3035 - accuracy: 0.1068\n"
     ]
    }
   ],
   "source": [
    "t3h3_model = build_model(build_task3h3_model, activation, n_classes, filter_size, hidden_dense_units)\n",
    "t3h3_model_hist, t3h3_model = run_model(t3h3_model, loss, \n",
    "                                              opt, metrics, n_epochs, \n",
    "                                              batch_size, validation_data=None)"
   ]
  },
  {
   "cell_type": "code",
   "execution_count": 41,
   "metadata": {},
   "outputs": [
    {
     "name": "stdout",
     "output_type": "stream",
     "text": [
      "Model: \"sequential_30\"\n",
      "_________________________________________________________________\n",
      "Layer (type)                 Output Shape              Param #   \n",
      "=================================================================\n",
      "conv2d_49 (Conv2D)           (None, 24, 24, 32)        832       \n",
      "_________________________________________________________________\n",
      "conv2d_50 (Conv2D)           (None, 20, 20, 32)        25632     \n",
      "_________________________________________________________________\n",
      "conv2d_51 (Conv2D)           (None, 16, 16, 32)        25632     \n",
      "_________________________________________________________________\n",
      "flatten_49 (Flatten)         (None, 8192)              0         \n",
      "_________________________________________________________________\n",
      "dense_49 (Dense)             (None, 128)               1048704   \n",
      "_________________________________________________________________\n",
      "flatten_50 (Flatten)         (None, 128)               0         \n",
      "_________________________________________________________________\n",
      "dense_50 (Dense)             (None, 10)                1290      \n",
      "_________________________________________________________________\n",
      "activation_19 (Activation)   (None, 10)                0         \n",
      "=================================================================\n",
      "Total params: 1,102,090\n",
      "Trainable params: 1,102,090\n",
      "Non-trainable params: 0\n",
      "_________________________________________________________________\n"
     ]
    }
   ],
   "source": [
    "t3h3_model.summary()"
   ]
  },
  {
   "cell_type": "code",
   "execution_count": 42,
   "metadata": {},
   "outputs": [
    {
     "name": "stdout",
     "output_type": "stream",
     "text": [
      "Model Accuracy 0.0958\n"
     ]
    }
   ],
   "source": [
    "# evaluate the network\n",
    "predictions = t3h3_model.predict(testX, batch_size=batch_size)\n",
    "acc_score = accuracy_score(testY.argmax(axis=1),\n",
    "                           predictions.argmax(axis=1))\n",
    "print(f\"Model Accuracy {acc_score}\")"
   ]
  },
  {
   "cell_type": "markdown",
   "metadata": {},
   "source": [
    "**Hypothesis T3H3 is not true.**\n",
    "We can see that adding one more Conv2D layer has actually degraded the accuracy drastically. It needs to be tested if adding a pooling layers would improve the accuracy."
   ]
  },
  {
   "cell_type": "markdown",
   "metadata": {},
   "source": [
    "#### Improving the models built in Task 1 and Task 2\n",
    "**Hypothesis T3_H4 - Increasing the number of Dense Layers in Conv2D can increase accuracy?**"
   ]
  },
  {
   "cell_type": "code",
   "execution_count": 43,
   "metadata": {},
   "outputs": [],
   "source": [
    "def build_task3h4_model(activation, n_classes, filter_size, hidden_dense_units):\n",
    "    # Task 2\n",
    "    model = Sequential()\n",
    "    model.add(Conv2D(32, filter_size, input_shape=(28, 28, 1), activation=activation))\n",
    "    model.add(Conv2D(32, filter_size, activation=activation))\n",
    "    \n",
    "    #Dense layer 1\n",
    "    model.add(Flatten())\n",
    "    model.add(Dense(units=hidden_dense_units, activation=activation))\n",
    "    \n",
    "    #Dense layer 2\n",
    "    model.add(Flatten())\n",
    "    model.add(Dense(units=hidden_dense_units, activation=activation))\n",
    "    model.add(Flatten())\n",
    "    model.add(Dense(n_classes))\n",
    "    model.add(Activation(\"softmax\"))\n",
    "    return model"
   ]
  },
  {
   "cell_type": "code",
   "execution_count": 44,
   "metadata": {},
   "outputs": [],
   "source": [
    "# Hyperparameters for Hypothesis T3_H4\n",
    "filter_size = (5, 5)\n",
    "activation = \"sigmoid\"\n",
    "learning_rate = 0.01\n",
    "opt = SGD(learning_rate)\n",
    "hidden_dense_units = 128\n",
    "batch_size = 128\n",
    "n_epochs = 5\n",
    "n_classes = len(class_types)\n",
    "metrics = [\"accuracy\"]\n",
    "loss = \"categorical_crossentropy\"\n",
    "n_epochs = 5"
   ]
  },
  {
   "cell_type": "code",
   "execution_count": 45,
   "metadata": {},
   "outputs": [
    {
     "name": "stdout",
     "output_type": "stream",
     "text": [
      "Epoch 1/5\n",
      "375/375 [==============================] - 2s 5ms/step - loss: 2.3077 - accuracy: 0.1082\n",
      "Epoch 2/5\n",
      "375/375 [==============================] - 2s 5ms/step - loss: 2.3018 - accuracy: 0.1106\n",
      "Epoch 3/5\n",
      "375/375 [==============================] - 2s 5ms/step - loss: 2.3018 - accuracy: 0.1124\n",
      "Epoch 4/5\n",
      "375/375 [==============================] - 2s 5ms/step - loss: 2.3017 - accuracy: 0.1126\n",
      "Epoch 5/5\n",
      "375/375 [==============================] - 2s 5ms/step - loss: 2.3015 - accuracy: 0.1106\n"
     ]
    }
   ],
   "source": [
    "t3h4_model = build_model(build_task3h4_model, activation, n_classes, filter_size, hidden_dense_units)\n",
    "t3h4_model_hist, t3h4_model = run_model(t3h4_model, loss, \n",
    "                                              opt, metrics, n_epochs, \n",
    "                                              batch_size, validation_data=None)"
   ]
  },
  {
   "cell_type": "code",
   "execution_count": 46,
   "metadata": {},
   "outputs": [
    {
     "name": "stdout",
     "output_type": "stream",
     "text": [
      "Model: \"sequential_31\"\n",
      "_________________________________________________________________\n",
      "Layer (type)                 Output Shape              Param #   \n",
      "=================================================================\n",
      "conv2d_52 (Conv2D)           (None, 24, 24, 32)        832       \n",
      "_________________________________________________________________\n",
      "conv2d_53 (Conv2D)           (None, 20, 20, 32)        25632     \n",
      "_________________________________________________________________\n",
      "flatten_51 (Flatten)         (None, 12800)             0         \n",
      "_________________________________________________________________\n",
      "dense_51 (Dense)             (None, 128)               1638528   \n",
      "_________________________________________________________________\n",
      "flatten_52 (Flatten)         (None, 128)               0         \n",
      "_________________________________________________________________\n",
      "dense_52 (Dense)             (None, 128)               16512     \n",
      "_________________________________________________________________\n",
      "flatten_53 (Flatten)         (None, 128)               0         \n",
      "_________________________________________________________________\n",
      "dense_53 (Dense)             (None, 10)                1290      \n",
      "_________________________________________________________________\n",
      "activation_20 (Activation)   (None, 10)                0         \n",
      "=================================================================\n",
      "Total params: 1,682,794\n",
      "Trainable params: 1,682,794\n",
      "Non-trainable params: 0\n",
      "_________________________________________________________________\n"
     ]
    }
   ],
   "source": [
    "t3h4_model.summary()"
   ]
  },
  {
   "cell_type": "code",
   "execution_count": 48,
   "metadata": {},
   "outputs": [
    {
     "name": "stdout",
     "output_type": "stream",
     "text": [
      "Model Accuracy 0.1135\n"
     ]
    }
   ],
   "source": [
    "# evaluate the network\n",
    "predictions = t3h4_model.predict(testX, batch_size=batch_size)\n",
    "acc_score = accuracy_score(testY.argmax(axis=1),\n",
    "                           predictions.argmax(axis=1))\n",
    "print(f\"Model Accuracy {acc_score}\")"
   ]
  },
  {
   "cell_type": "markdown",
   "metadata": {},
   "source": [
    "**Hypothesis T3H4 is not true.**\n",
    "We can see that adding one more dense layer has actually degraded the accuracy drastically. It needs to be tested if adding a pooling layers would improve the accuracy."
   ]
  },
  {
   "cell_type": "markdown",
   "metadata": {},
   "source": [
    "#### Improving the models built in Task 1 and Task 2\n",
    "**Hypothesis T3_H5 - Increasing the number of nodes in the Conv2D layer can increase accuracy?**\n",
    "1. Only the first Conv2D layer nodes are doubled\n",
    "2. Only the second Conv2D layer nodes are doubled\n",
    "3. Both Conv2D layer nodes are doubled\n",
    "4. Explore the impacts of different node sizes on all the three conditions (stretch goal - not implemented yet)"
   ]
  },
  {
   "cell_type": "markdown",
   "metadata": {},
   "source": [
    "**Hypothesis T3_H5_1 - Only the first Conv2D layer nodes are doubled**"
   ]
  },
  {
   "cell_type": "code",
   "execution_count": 49,
   "metadata": {},
   "outputs": [],
   "source": [
    "def build_task3h5_1_model(activation, n_classes, filter_size, hidden_dense_units):\n",
    "    # Task 2\n",
    "    model = Sequential()\n",
    "    \n",
    "    # Conv 2D layer 1\n",
    "    # chaning the number of nodes for layer 1 = 64 only to the first Conv2D layer\n",
    "    model.add(Conv2D(64, filter_size, input_shape=(28, 28, 1), activation=activation))\n",
    "    model.add(Conv2D(32, filter_size, activation=activation))\n",
    "    \n",
    "      \n",
    "    #Dense layer 1\n",
    "    model.add(Flatten())\n",
    "    model.add(Dense(units=hidden_dense_units, activation=activation))\n",
    "    model.add(Flatten())\n",
    "    model.add(Dense(n_classes))\n",
    "    model.add(Activation(\"softmax\"))\n",
    "    return model"
   ]
  },
  {
   "cell_type": "code",
   "execution_count": 50,
   "metadata": {},
   "outputs": [],
   "source": [
    "# Hyperparameters for Hypothesis T3_H5_1\n",
    "filter_size = (5, 5)\n",
    "activation = \"sigmoid\"\n",
    "learning_rate = 0.01\n",
    "opt = SGD(learning_rate)\n",
    "hidden_dense_units = 128\n",
    "batch_size = 128\n",
    "n_epochs = 5\n",
    "n_classes = len(class_types)\n",
    "metrics = [\"accuracy\"]\n",
    "loss = \"categorical_crossentropy\"\n",
    "n_epochs = 5"
   ]
  },
  {
   "cell_type": "code",
   "execution_count": 51,
   "metadata": {},
   "outputs": [
    {
     "name": "stdout",
     "output_type": "stream",
     "text": [
      "Epoch 1/5\n",
      "375/375 [==============================] - 3s 7ms/step - loss: 2.3077 - accuracy: 0.1050\n",
      "Epoch 2/5\n",
      "375/375 [==============================] - 3s 7ms/step - loss: 2.3028 - accuracy: 0.1098\n",
      "Epoch 3/5\n",
      "375/375 [==============================] - 3s 7ms/step - loss: 2.2976 - accuracy: 0.1204\n",
      "Epoch 4/5\n",
      "375/375 [==============================] - 2s 7ms/step - loss: 2.2856 - accuracy: 0.1431\n",
      "Epoch 5/5\n",
      "375/375 [==============================] - 3s 7ms/step - loss: 2.2242 - accuracy: 0.2779\n"
     ]
    }
   ],
   "source": [
    "t3h5_1_model = build_model(build_task3h5_1_model, activation, n_classes, filter_size, hidden_dense_units)\n",
    "t3h5_1_model_hist, t3h5_1_model = run_model(t3h5_1_model, loss, \n",
    "                                              opt, metrics, n_epochs, \n",
    "                                              batch_size, validation_data=None)"
   ]
  },
  {
   "cell_type": "code",
   "execution_count": 52,
   "metadata": {},
   "outputs": [
    {
     "name": "stdout",
     "output_type": "stream",
     "text": [
      "Model: \"sequential_32\"\n",
      "_________________________________________________________________\n",
      "Layer (type)                 Output Shape              Param #   \n",
      "=================================================================\n",
      "conv2d_54 (Conv2D)           (None, 24, 24, 64)        1664      \n",
      "_________________________________________________________________\n",
      "conv2d_55 (Conv2D)           (None, 20, 20, 32)        51232     \n",
      "_________________________________________________________________\n",
      "flatten_54 (Flatten)         (None, 12800)             0         \n",
      "_________________________________________________________________\n",
      "dense_54 (Dense)             (None, 128)               1638528   \n",
      "_________________________________________________________________\n",
      "flatten_55 (Flatten)         (None, 128)               0         \n",
      "_________________________________________________________________\n",
      "dense_55 (Dense)             (None, 10)                1290      \n",
      "_________________________________________________________________\n",
      "activation_21 (Activation)   (None, 10)                0         \n",
      "=================================================================\n",
      "Total params: 1,692,714\n",
      "Trainable params: 1,692,714\n",
      "Non-trainable params: 0\n",
      "_________________________________________________________________\n"
     ]
    }
   ],
   "source": [
    "t3h5_1_model.summary()"
   ]
  },
  {
   "cell_type": "code",
   "execution_count": 53,
   "metadata": {},
   "outputs": [
    {
     "name": "stdout",
     "output_type": "stream",
     "text": [
      "Model Accuracy 0.336\n"
     ]
    }
   ],
   "source": [
    "# evaluate the network\n",
    "predictions = t3h5_1_model.predict(testX, batch_size=batch_size)\n",
    "acc_score = accuracy_score(testY.argmax(axis=1),\n",
    "                           predictions.argmax(axis=1))\n",
    "print(f\"Model Accuracy {acc_score}\")"
   ]
  },
  {
   "cell_type": "markdown",
   "metadata": {},
   "source": [
    "**Hypothesis T3_H5_2 - Only the second Conv2D layer nodes are doubled**"
   ]
  },
  {
   "cell_type": "code",
   "execution_count": 54,
   "metadata": {},
   "outputs": [],
   "source": [
    "def build_task3h5_2_model(activation, n_classes, filter_size, hidden_dense_units):\n",
    "    # Task 2\n",
    "    model = Sequential()\n",
    "    \n",
    "    # Conv 2D layer 1\n",
    "    # chaning the number of nodes for layer 2 = 64 only to the first Conv2D layer\n",
    "    model.add(Conv2D(32, filter_size, input_shape=(28, 28, 1), activation=activation))\n",
    "    model.add(Conv2D(64, filter_size, activation=activation))\n",
    "    \n",
    "      \n",
    "    #Dense layer 1\n",
    "    model.add(Flatten())\n",
    "    model.add(Dense(units=hidden_dense_units, activation=activation))\n",
    "    model.add(Flatten())\n",
    "    model.add(Dense(n_classes))\n",
    "    model.add(Activation(\"softmax\"))\n",
    "    return model"
   ]
  },
  {
   "cell_type": "code",
   "execution_count": 55,
   "metadata": {},
   "outputs": [],
   "source": [
    "# Hyperparameters for Hypothesis T3_H5_2\n",
    "filter_size = (5, 5)\n",
    "activation = \"sigmoid\"\n",
    "learning_rate = 0.01\n",
    "opt = SGD(learning_rate)\n",
    "hidden_dense_units = 128\n",
    "batch_size = 128\n",
    "n_epochs = 5\n",
    "n_classes = len(class_types)\n",
    "metrics = [\"accuracy\"]\n",
    "loss = \"categorical_crossentropy\"\n",
    "n_epochs = 5"
   ]
  },
  {
   "cell_type": "code",
   "execution_count": 56,
   "metadata": {},
   "outputs": [
    {
     "name": "stdout",
     "output_type": "stream",
     "text": [
      "Epoch 1/5\n",
      "375/375 [==============================] - 3s 7ms/step - loss: 2.3107 - accuracy: 0.1042\n",
      "Epoch 2/5\n",
      "375/375 [==============================] - 3s 7ms/step - loss: 2.3029 - accuracy: 0.1092\n",
      "Epoch 3/5\n",
      "375/375 [==============================] - 3s 7ms/step - loss: 2.3002 - accuracy: 0.1147\n",
      "Epoch 4/5\n",
      "375/375 [==============================] - 3s 7ms/step - loss: 2.2972 - accuracy: 0.1219\n",
      "Epoch 5/5\n",
      "375/375 [==============================] - 3s 7ms/step - loss: 2.2869 - accuracy: 0.1354\n"
     ]
    }
   ],
   "source": [
    "t3h5_2_model = build_model(build_task3h5_2_model, activation, n_classes, filter_size, hidden_dense_units)\n",
    "t3h5_2_model_hist, t3h5_2_model = run_model(t3h5_2_model, loss, \n",
    "                                              opt, metrics, n_epochs, \n",
    "                                              batch_size, validation_data=None)"
   ]
  },
  {
   "cell_type": "code",
   "execution_count": 57,
   "metadata": {},
   "outputs": [
    {
     "name": "stdout",
     "output_type": "stream",
     "text": [
      "Model Accuracy 0.0959\n"
     ]
    }
   ],
   "source": [
    "# evaluate the network\n",
    "predictions = t3h5_2_model.predict(testX, batch_size=batch_size)\n",
    "acc_score = accuracy_score(testY.argmax(axis=1),\n",
    "                           predictions.argmax(axis=1))\n",
    "print(f\"Model Accuracy {acc_score}\")"
   ]
  },
  {
   "cell_type": "markdown",
   "metadata": {},
   "source": [
    "Hypothesis T3H5 is not true.\n",
    "We can see that adding one more nodes to Dense layer has actually degraded the performances. It needs to be tested if adding a pooling layers would improve the accuracy or it may require more epochs"
   ]
  },
  {
   "cell_type": "markdown",
   "metadata": {},
   "source": [
    "**Hypothesis T3_H5_3 - Both Conv2D layer nodes are doubled**"
   ]
  },
  {
   "cell_type": "code",
   "execution_count": 58,
   "metadata": {},
   "outputs": [],
   "source": [
    "def build_task3h5_3_model(activation, n_classes, filter_size, hidden_dense_units):\n",
    "    \n",
    "    model = Sequential()\n",
    "    \n",
    "    # Conv 2D layer 1\n",
    "    # changing the number of nodes for both layers to 64 \n",
    "    model.add(Conv2D(64, filter_size, input_shape=(28, 28, 1), activation=activation))\n",
    "    model.add(Conv2D(64, filter_size, activation=activation))\n",
    "    \n",
    "      \n",
    "    #Dense layer 1\n",
    "    model.add(Flatten())\n",
    "    model.add(Dense(units=hidden_dense_units, activation=activation))\n",
    "    model.add(Flatten())\n",
    "    model.add(Dense(n_classes))\n",
    "    model.add(Activation(\"softmax\"))\n",
    "    return model"
   ]
  },
  {
   "cell_type": "code",
   "execution_count": 59,
   "metadata": {},
   "outputs": [],
   "source": [
    "# Hyperparameters for Hypothesis T3_H5_3\n",
    "filter_size = (5, 5)\n",
    "activation = \"sigmoid\"\n",
    "learning_rate = 0.01\n",
    "opt = SGD(learning_rate)\n",
    "hidden_dense_units = 128\n",
    "batch_size = 128\n",
    "n_epochs = 5\n",
    "n_classes = len(class_types)\n",
    "metrics = [\"accuracy\"]\n",
    "loss = \"categorical_crossentropy\"\n",
    "n_epochs = 5"
   ]
  },
  {
   "cell_type": "code",
   "execution_count": 60,
   "metadata": {},
   "outputs": [
    {
     "name": "stdout",
     "output_type": "stream",
     "text": [
      "Epoch 1/5\n",
      "375/375 [==============================] - 3s 9ms/step - loss: 2.3092 - accuracy: 0.1032\n",
      "Epoch 2/5\n",
      "375/375 [==============================] - 3s 9ms/step - loss: 2.3030 - accuracy: 0.1091\n",
      "Epoch 3/5\n",
      "375/375 [==============================] - 3s 9ms/step - loss: 2.3013 - accuracy: 0.1120\n",
      "Epoch 4/5\n",
      "375/375 [==============================] - 3s 9ms/step - loss: 2.2997 - accuracy: 0.1147\n",
      "Epoch 5/5\n",
      "375/375 [==============================] - 3s 9ms/step - loss: 2.2963 - accuracy: 0.1238\n"
     ]
    }
   ],
   "source": [
    "t3h5_3_model = build_model(build_task3h5_3_model, activation, n_classes, filter_size, hidden_dense_units)\n",
    "t3h5_3_model_hist, t3h5_3_model = run_model(t3h5_3_model, loss, \n",
    "                                              opt, metrics, n_epochs, \n",
    "                                              batch_size, validation_data=None)"
   ]
  },
  {
   "cell_type": "code",
   "execution_count": 61,
   "metadata": {},
   "outputs": [
    {
     "name": "stdout",
     "output_type": "stream",
     "text": [
      "Model Accuracy 0.0958\n"
     ]
    }
   ],
   "source": [
    "# evaluate the network\n",
    "predictions = t3h5_3_model.predict(testX, batch_size=batch_size)\n",
    "acc_score = accuracy_score(testY.argmax(axis=1),\n",
    "                           predictions.argmax(axis=1))\n",
    "print(f\"Model Accuracy {acc_score}\")"
   ]
  },
  {
   "cell_type": "markdown",
   "metadata": {},
   "source": [
    "#### Improving the models built in Task 1 and Task 2\n",
    "**Hypothesis T3_H6 - Increasing the number of nodes in the Dense layer can increase accuracy?**"
   ]
  },
  {
   "cell_type": "code",
   "execution_count": 63,
   "metadata": {},
   "outputs": [],
   "source": [
    "# Hyperparameters for Hypothesis T3_H6\n",
    "filter_size = (5, 5)\n",
    "activation = \"sigmoid\"\n",
    "learning_rate = 0.01\n",
    "opt = SGD(learning_rate)\n",
    "# reducing the hidden_dense_units to 256\n",
    "hidden_dense_units = 256\n",
    "batch_size = 128\n",
    "n_epochs = 5\n",
    "n_classes = len(class_types)\n",
    "metrics = [\"accuracy\"]\n",
    "loss = \"categorical_crossentropy\"\n",
    "n_epochs = 5"
   ]
  },
  {
   "cell_type": "code",
   "execution_count": 64,
   "metadata": {},
   "outputs": [],
   "source": [
    "def build_task3h6_model(activation, n_classes, filter_size, hidden_dense_units):\n",
    "    # Task 2\n",
    "    model = Sequential()\n",
    "    \n",
    "    # Conv 2D layer 1\n",
    "    model.add(Conv2D(32, filter_size, input_shape=(28, 28, 1), activation=activation))\n",
    "    model.add(Conv2D(32, filter_size, activation=activation))\n",
    "    \n",
    "      \n",
    "    #Dense layer 1\n",
    "    model.add(Flatten())\n",
    "    model.add(Dense(units=hidden_dense_units, activation=activation))\n",
    "    model.add(Flatten())\n",
    "    model.add(Dense(n_classes))\n",
    "    model.add(Activation(\"softmax\"))\n",
    "    return model"
   ]
  },
  {
   "cell_type": "code",
   "execution_count": 65,
   "metadata": {},
   "outputs": [
    {
     "name": "stdout",
     "output_type": "stream",
     "text": [
      "Epoch 1/5\n",
      "375/375 [==============================] - 2s 5ms/step - loss: 2.3091 - accuracy: 0.1053\n",
      "Epoch 2/5\n",
      "375/375 [==============================] - 2s 6ms/step - loss: 2.3030 - accuracy: 0.1095\n",
      "Epoch 3/5\n",
      "375/375 [==============================] - 2s 5ms/step - loss: 2.2961 - accuracy: 0.1180\n",
      "Epoch 4/5\n",
      "375/375 [==============================] - 2s 5ms/step - loss: 2.2804 - accuracy: 0.1521\n",
      "Epoch 5/5\n",
      "375/375 [==============================] - 2s 6ms/step - loss: 2.2067 - accuracy: 0.2963\n"
     ]
    }
   ],
   "source": [
    "t3h6_model = build_model(build_task3h6_model, activation, n_classes, filter_size, hidden_dense_units)\n",
    "t3h6_model_hist, t3h6_model = run_model(t3h6_model, loss, \n",
    "                                              opt, metrics, n_epochs, \n",
    "                                              batch_size, validation_data=None)"
   ]
  },
  {
   "cell_type": "code",
   "execution_count": 66,
   "metadata": {},
   "outputs": [
    {
     "name": "stdout",
     "output_type": "stream",
     "text": [
      "Model: \"sequential_35\"\n",
      "_________________________________________________________________\n",
      "Layer (type)                 Output Shape              Param #   \n",
      "=================================================================\n",
      "conv2d_60 (Conv2D)           (None, 24, 24, 32)        832       \n",
      "_________________________________________________________________\n",
      "conv2d_61 (Conv2D)           (None, 20, 20, 32)        25632     \n",
      "_________________________________________________________________\n",
      "flatten_60 (Flatten)         (None, 12800)             0         \n",
      "_________________________________________________________________\n",
      "dense_60 (Dense)             (None, 256)               3277056   \n",
      "_________________________________________________________________\n",
      "flatten_61 (Flatten)         (None, 256)               0         \n",
      "_________________________________________________________________\n",
      "dense_61 (Dense)             (None, 10)                2570      \n",
      "_________________________________________________________________\n",
      "activation_24 (Activation)   (None, 10)                0         \n",
      "=================================================================\n",
      "Total params: 3,306,090\n",
      "Trainable params: 3,306,090\n",
      "Non-trainable params: 0\n",
      "_________________________________________________________________\n"
     ]
    }
   ],
   "source": [
    "t3h6_model.summary()"
   ]
  },
  {
   "cell_type": "code",
   "execution_count": 67,
   "metadata": {},
   "outputs": [
    {
     "name": "stdout",
     "output_type": "stream",
     "text": [
      "Model Accuracy 0.3698\n"
     ]
    }
   ],
   "source": [
    "# evaluate the network\n",
    "predictions = t3h6_model.predict(testX, batch_size=128)\n",
    "acc_score = accuracy_score(testY.argmax(axis=1),\n",
    "                           predictions.argmax(axis=1))\n",
    "print(f\"Model Accuracy {acc_score}\")"
   ]
  },
  {
   "cell_type": "markdown",
   "metadata": {},
   "source": [
    "#### Improving the models built in Task 1 and Task 2\n",
    "**Hypothesis T3_H7_1 - Reducing the learning rate can improve accuracy?**\n",
    "\n",
    "The model built for Task 2 will be used for checking this"
   ]
  },
  {
   "cell_type": "code",
   "execution_count": 68,
   "metadata": {},
   "outputs": [],
   "source": [
    "# Hyperparameters for Hypothesis T3_H7\n",
    "filter_size = (5, 5)\n",
    "activation = \"sigmoid\"\n",
    "# reducing the learning rate to 0.001\n",
    "learning_rate = 0.001\n",
    "opt = SGD(learning_rate)\n",
    "hidden_dense_units = 128\n",
    "batch_size = 128\n",
    "n_epochs = 5\n",
    "n_classes = len(class_types)\n",
    "metrics = [\"accuracy\"]\n",
    "loss = \"categorical_crossentropy\"\n",
    "n_epochs = 5"
   ]
  },
  {
   "cell_type": "code",
   "execution_count": 69,
   "metadata": {},
   "outputs": [
    {
     "name": "stdout",
     "output_type": "stream",
     "text": [
      "Epoch 1/5\n",
      "375/375 [==============================] - 2s 5ms/step - loss: 2.3099 - accuracy: 0.1073\n",
      "Epoch 2/5\n",
      "375/375 [==============================] - 2s 5ms/step - loss: 2.3016 - accuracy: 0.1101\n",
      "Epoch 3/5\n",
      "375/375 [==============================] - 2s 5ms/step - loss: 2.3014 - accuracy: 0.1112\n",
      "Epoch 4/5\n",
      "375/375 [==============================] - 2s 5ms/step - loss: 2.3012 - accuracy: 0.1127\n",
      "Epoch 5/5\n",
      "375/375 [==============================] - 2s 5ms/step - loss: 2.3008 - accuracy: 0.1116\n"
     ]
    }
   ],
   "source": [
    "# train the task 2 model for learning rate = 0.001\n",
    "t2_model = build_model(build_task2_model, activation, n_classes, filter_size, hidden_dense_units)\n",
    "t2_model_hist, t2_model = run_model(t2_model, loss, \n",
    "                                              opt, metrics, n_epochs, \n",
    "                                              batch_size, validation_data=None)"
   ]
  },
  {
   "cell_type": "code",
   "execution_count": 70,
   "metadata": {},
   "outputs": [
    {
     "name": "stdout",
     "output_type": "stream",
     "text": [
      "Model Accuracy 0.1135\n"
     ]
    }
   ],
   "source": [
    "# evaluate the network\n",
    "predictions = t2_model.predict(testX, batch_size=128)\n",
    "acc_score = accuracy_score(testY.argmax(axis=1),\n",
    "                           predictions.argmax(axis=1))\n",
    "print(f\"Model Accuracy {acc_score}\")"
   ]
  },
  {
   "cell_type": "markdown",
   "metadata": {},
   "source": [
    "Hypothesis T3H6 is not true.\n",
    "We can see that reducing learning rate has actually degraded the performances. It needs to be tested if adding a pooling layers would improve the accuracy or it may require more epochs"
   ]
  },
  {
   "cell_type": "markdown",
   "metadata": {},
   "source": [
    "#### Improving the models built in Task 1 and Task 2\n",
    "**Hypothesis T3_H7_2 - Increasing the learning rate can improve accuracy?**"
   ]
  },
  {
   "cell_type": "code",
   "execution_count": 71,
   "metadata": {},
   "outputs": [],
   "source": [
    "# Hyperparameters for Hypothesis T3_H7\n",
    "filter_size = (5, 5)\n",
    "activation = \"sigmoid\"\n",
    "# change the learning rate to 0.1\n",
    "learning_rate = 0.1\n",
    "opt = SGD(learning_rate)\n",
    "hidden_dense_units = 128\n",
    "batch_size = 128\n",
    "n_epochs = 5\n",
    "n_classes = len(class_types)\n",
    "metrics = [\"accuracy\"]\n",
    "loss = \"categorical_crossentropy\"\n",
    "n_epochs = 5\n"
   ]
  },
  {
   "cell_type": "code",
   "execution_count": 72,
   "metadata": {},
   "outputs": [
    {
     "name": "stdout",
     "output_type": "stream",
     "text": [
      "Epoch 1/5\n",
      "375/375 [==============================] - 2s 5ms/step - loss: 2.3151 - accuracy: 0.1040\n",
      "Epoch 2/5\n",
      "375/375 [==============================] - 2s 5ms/step - loss: 1.3143 - accuracy: 0.5578\n",
      "Epoch 3/5\n",
      "375/375 [==============================] - 2s 5ms/step - loss: 0.3762 - accuracy: 0.8894\n",
      "Epoch 4/5\n",
      "375/375 [==============================] - 2s 5ms/step - loss: 0.2881 - accuracy: 0.9146\n",
      "Epoch 5/5\n",
      "375/375 [==============================] - 2s 5ms/step - loss: 0.2400 - accuracy: 0.9286\n"
     ]
    }
   ],
   "source": [
    "# train the task 2 model for learning rate = 0.001\n",
    "t2_model = build_model(build_task2_model, activation, n_classes, filter_size, hidden_dense_units)\n",
    "t2_model_hist, t2_model = run_model(t2_model, loss, \n",
    "                                              opt, metrics, n_epochs, \n",
    "                                              batch_size, validation_data=None)"
   ]
  },
  {
   "cell_type": "code",
   "execution_count": 73,
   "metadata": {},
   "outputs": [
    {
     "name": "stdout",
     "output_type": "stream",
     "text": [
      "Model Accuracy 0.9357\n"
     ]
    }
   ],
   "source": [
    "# evaluate the network\n",
    "predictions = t2_model.predict(testX, batch_size=128)\n",
    "acc_score = accuracy_score(testY.argmax(axis=1),\n",
    "                           predictions.argmax(axis=1))\n",
    "print(f\"Model Accuracy {acc_score}\")"
   ]
  },
  {
   "cell_type": "markdown",
   "metadata": {},
   "source": [
    "Hypothesis T3H7 is not true.\n",
    "We can see that reducing learning rate has actually degraded the performances. It needs to be tested if adding a pooling layers would improve the accuracy or it may require more epochs"
   ]
  },
  {
   "cell_type": "markdown",
   "metadata": {},
   "source": [
    "#### Improving the models built in Task 1 and Task 2\n",
    "**Hypothesis T3_H8 - Training with the holdout Validation set can improve accuracy?**"
   ]
  },
  {
   "cell_type": "code",
   "execution_count": 74,
   "metadata": {},
   "outputs": [],
   "source": [
    "# Hyperparameters for Hypothesis T3_H7\n",
    "filter_size = (5, 5)\n",
    "activation = \"sigmoid\"\n",
    "learning_rate = 0.01\n",
    "opt = SGD(learning_rate)\n",
    "hidden_dense_units = 128\n",
    "batch_size = 128\n",
    "n_epochs = 5\n",
    "n_classes = len(class_types)\n",
    "metrics = [\"accuracy\"]\n",
    "loss = \"categorical_crossentropy\"\n",
    "n_epochs = 5"
   ]
  },
  {
   "cell_type": "code",
   "execution_count": 75,
   "metadata": {},
   "outputs": [
    {
     "name": "stdout",
     "output_type": "stream",
     "text": [
      "Epoch 1/5\n",
      "375/375 [==============================] - 2s 6ms/step - loss: 2.3071 - accuracy: 0.1049 - val_loss: 2.3045 - val_accuracy: 0.1044\n",
      "Epoch 2/5\n",
      "375/375 [==============================] - 2s 6ms/step - loss: 2.3021 - accuracy: 0.1105 - val_loss: 2.3023 - val_accuracy: 0.0988\n",
      "Epoch 3/5\n",
      "375/375 [==============================] - 2s 6ms/step - loss: 2.2969 - accuracy: 0.1220 - val_loss: 2.2937 - val_accuracy: 0.1123\n",
      "Epoch 4/5\n",
      "375/375 [==============================] - 2s 6ms/step - loss: 2.2872 - accuracy: 0.1403 - val_loss: 2.2784 - val_accuracy: 0.1047\n",
      "Epoch 5/5\n",
      "375/375 [==============================] - 2s 6ms/step - loss: 2.2544 - accuracy: 0.2225 - val_loss: 2.2191 - val_accuracy: 0.1799\n"
     ]
    }
   ],
   "source": [
    "# train the task 2 model with Validation Data\n",
    "t2_model = build_model(build_task2_model, activation, n_classes, filter_size, hidden_dense_units)\n",
    "t2_model_hist, t2_model = run_model(t2_model, loss, \n",
    "                                              opt, metrics, n_epochs, \n",
    "                                              batch_size, validation_data=(valX, valY))"
   ]
  },
  {
   "cell_type": "code",
   "execution_count": 76,
   "metadata": {},
   "outputs": [
    {
     "name": "stdout",
     "output_type": "stream",
     "text": [
      "Model Accuracy 0.1759\n"
     ]
    }
   ],
   "source": [
    "# evaluate the network\n",
    "predictions = t2_model.predict(testX, batch_size=128)\n",
    "acc_score = accuracy_score(testY.argmax(axis=1),\n",
    "                           predictions.argmax(axis=1))\n",
    "print(f\"Model Accuracy {acc_score}\")"
   ]
  },
  {
   "cell_type": "code",
   "execution_count": 78,
   "metadata": {},
   "outputs": [
    {
     "data": {
      "image/png": "[encoded data removed]",
      "text/plain": [
       "<Figure size 576x432 with 1 Axes>"
      ]
     },
     "metadata": {},
     "output_type": "display_data"
    }
   ],
   "source": [
    "plot_summary(t2_model_hist, n_epochs, valid=True)"
   ]
  },
  {
   "cell_type": "markdown",
   "metadata": {},
   "source": [
    "There is not much improvement the accuracy - however it seems like the training curve is close to the validation curve - which means lesser overfitting if more epochs are run or more hypertuning is performed. The Task 4 will use Validation data all the time."
   ]
  },
  {
   "cell_type": "code",
   "execution_count": null,
   "metadata": {},
   "outputs": [],
   "source": []
  }
 ],
 "metadata": {
  "kernelspec": {
   "display_name": "ml",
   "language": "python",
   "name": "ml"
  },
  "language_info": {
   "codemirror_mode": {
    "name": "ipython",
    "version": 3
   },
   "file_extension": ".py",
   "mimetype": "text/x-python",
   "name": "python",
   "nbconvert_exporter": "python",
   "pygments_lexer": "ipython3",
   "version": "3.7.8"
  }
 },
 "nbformat": 4,
 "nbformat_minor": 4
}
